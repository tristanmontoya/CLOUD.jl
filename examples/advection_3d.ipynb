{
 "cells": [
  {
   "cell_type": "markdown",
   "metadata": {},
   "source": [
    "# `CLOUD.jl` - 3D linear advection example"
   ]
  },
  {
   "cell_type": "code",
   "execution_count": 8,
   "metadata": {
    "scrolled": false
   },
   "outputs": [],
   "source": [
    "using CLOUD, OrdinaryDiffEq"
   ]
  },
  {
   "cell_type": "markdown",
   "metadata": {},
   "source": [
    "## Define the physical problem"
   ]
  },
  {
   "cell_type": "code",
   "execution_count": 9,
   "metadata": {
    "scrolled": true
   },
   "outputs": [],
   "source": [
    "θ = π/4 # wave angle\n",
    "a = sqrt(2) # wave speed\n",
    "A = 1.0  # amplitude\n",
    "L = 1.0  # domain length\n",
    "k = (2*π/L, 2*π/L, 2*π/L)  # wave number\n",
    "T = 1.0/(a*max(abs(cos(θ)),abs(sin(θ)))) # end time for one period\n",
    "\n",
    "conservation_law = LinearAdvectionEquation((a*cos(θ),a*sin(θ),0.0))\n",
    "initial_data = InitialDataCosine(A,k)\n",
    "exact_solution = ExactSolution(conservation_law,initial_data);"
   ]
  },
  {
   "cell_type": "markdown",
   "metadata": {},
   "source": [
    "## Set discretization parameters (standard DG)"
   ]
  },
  {
   "cell_type": "code",
   "execution_count": 10,
   "metadata": {
    "scrolled": false
   },
   "outputs": [],
   "source": [
    "M = 4\n",
    "p = 4\n",
    "p_map = 2\n",
    "form = WeakConservationForm(mapping_form=StandardMapping(), \n",
    "    inviscid_numerical_flux=LaxFriedrichsNumericalFlux(1.0))\n",
    "strategy = PhysicalOperator()\n",
    "\n",
    "ode_algorithm = CarpenterKennedy2N54()\n",
    "dt = 0.25*(L/M)/(a*(2*p+1));\n",
    "write_interval = floor(Int, T/(dt*50));"
   ]
  },
  {
   "cell_type": "markdown",
   "metadata": {},
   "source": [
    "## Set up a `ModalMulti` scheme of degree `p` with `M` edges in each direction"
   ]
  },
  {
   "cell_type": "code",
   "execution_count": 11,
   "metadata": {},
   "outputs": [],
   "source": [
    "reference_approximation = ReferenceApproximation(\n",
    "    ModalMulti(p), Tet(), mapping_degree=p_map)\n",
    "\n",
    "mesh = warp_mesh(uniform_periodic_mesh(\n",
    "    reference_approximation.reference_element, \n",
    "    ((0.0,L),(0.0,L),(0.0,L)), (M,M,M)), \n",
    "    reference_approximation.reference_element, 0.1) \n",
    "\n",
    "spatial_discretization = SpatialDiscretization(mesh, \n",
    "    reference_approximation)\n",
    "\n",
    "results_path = save_project(conservation_law,\n",
    "     spatial_discretization, initial_data, form, (0.0, T), strategy,\n",
    "     \"results/advection_3d/\", overwrite=true, clear=true);"
   ]
  },
  {
   "cell_type": "markdown",
   "metadata": {},
   "source": [
    "## Run the solver"
   ]
  },
  {
   "cell_type": "code",
   "execution_count": 12,
   "metadata": {},
   "outputs": [
    {
     "name": "stdout",
     "output_type": "stream",
     "text": [
      "\u001b[0m\u001b[1m ────────────────────────────────────────────────────────────────────────────────\u001b[22m\n",
      "\u001b[0m\u001b[1m            Thread 1           \u001b[22m         Time                    Allocations      \n",
      "                               ───────────────────────   ────────────────────────\n",
      "       Tot / % measured:            19.4s /  95.9%           80.8GiB /  99.7%    \n",
      "\n",
      " Section               ncalls     time    %tot     avg     alloc    %tot      avg\n",
      " ────────────────────────────────────────────────────────────────────────────────\n",
      " local residual          392k    17.7s   94.8%  45.0μs   79.9GiB   99.2%   214KiB\n",
      "   gather ext state      392k    9.60s   51.5%  24.5μs   72.3GiB   89.8%   193KiB\n",
      "   apply operators       392k    3.94s   21.1%  10.0μs   2.63GiB    3.3%  7.03KiB\n",
      "     volume terms        392k    2.23s   11.9%  5.68μs   1.67GiB    2.1%  4.45KiB\n",
      "     facet terms         392k    868ms    4.7%  2.21μs    604MiB    0.7%  1.58KiB\n",
      "   eval num flux         392k    1.18s    6.4%  3.02μs   2.97GiB    3.7%  7.95KiB\n",
      "   eval nodal solution   392k    1.02s    5.5%  2.61μs    473MiB    0.6%  1.23KiB\n",
      "   eval flux             392k    260ms    1.4%   664ns    544MiB    0.7%  1.42KiB\n",
      " extrap solution         392k    960ms    5.2%  2.45μs    492MiB    0.6%  1.29KiB\n",
      " unpack/allocations     1.02k   15.0ms    0.1%  14.7μs    192MiB    0.2%   192KiB\n",
      "\u001b[0m\u001b[1m ────────────────────────────────────────────────────────────────────────────────\u001b[22m\n"
     ]
    }
   ],
   "source": [
    "ode_problem_1 = semidiscretize(conservation_law,\n",
    "    spatial_discretization,\n",
    "    initial_data, \n",
    "    form,\n",
    "    (0.0, T),\n",
    "    strategy);\n",
    "\n",
    "save_solution(ode_problem_1.u0, 0.0, results_path, 0)\n",
    "\n",
    "CLOUD_reset_timer!()\n",
    "sol = solve(ode_problem_1, ode_algorithm, adaptive=false, dt=dt,\n",
    "    save_everystep=false, \n",
    "    callback=save_callback(results_path, write_interval))\n",
    "CLOUD_print_timer()\n",
    "\n",
    "save_solution(last(sol.u), last(sol.t), results_path, \"final\")"
   ]
  },
  {
   "cell_type": "markdown",
   "metadata": {},
   "source": [
    "## Calculate the integral L<sup>2</sup> error norm and conservation/energy error"
   ]
  },
  {
   "cell_type": "code",
   "execution_count": 13,
   "metadata": {
    "scrolled": true
   },
   "outputs": [
    {
     "name": "stdout",
     "output_type": "stream",
     "text": [
      "L2 error:\n",
      "0.0044161318102064655\n",
      "Conservation (initial/final/diff):\n",
      "[-4.743384504624082e-19][1.0640089070229619e-16][1.068752291527586e-16]\n",
      "Energy (initial/final/diff):\n",
      "[0.062499251276950024][0.062375030258773674][-0.00012422101817635006]\n"
     ]
    }
   ],
   "source": [
    "error_analysis = ErrorAnalysis(results_path, conservation_law, \n",
    "    spatial_discretization)\n",
    "conservation_analysis = PrimaryConservationAnalysis(results_path, \n",
    "    conservation_law, spatial_discretization)\n",
    "energy_analysis = EnergyConservationAnalysis(results_path, \n",
    "    conservation_law, spatial_discretization)\n",
    "\n",
    "println(\"L2 error:\")\n",
    "println(analyze(error_analysis, last(sol.u), exact_solution, T)...)\n",
    "println(\"Conservation (initial/final/diff):\")\n",
    "println(analyze(conservation_analysis)...)\n",
    "println(\"Energy (initial/final/diff):\")\n",
    "println(analyze(energy_analysis)...)"
   ]
  },
  {
   "cell_type": "markdown",
   "metadata": {},
   "source": [
    "## Write output to VTK file"
   ]
  },
  {
   "cell_type": "code",
   "execution_count": 14,
   "metadata": {},
   "outputs": [],
   "source": [
    "for i in eachindex(sol.u)\n",
    "    postprocess_vtk(spatial_discretization, \n",
    "        string(results_path,\"vis_\", lpad(i,3,\"0\"), \".vtu\"),\n",
    "            sol.u[i],p_map=p_map,p_vis=p)\n",
    "end"
   ]
  }
 ],
 "metadata": {
  "kernelspec": {
   "display_name": "Julia 1.7.3",
   "language": "julia",
   "name": "julia-1.7"
  },
  "language_info": {
   "file_extension": ".jl",
   "mimetype": "application/julia",
   "name": "julia",
   "version": "1.7.3"
  }
 },
 "nbformat": 4,
 "nbformat_minor": 2
}
