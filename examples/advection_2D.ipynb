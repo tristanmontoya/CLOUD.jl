{
 "cells": [
  {
   "cell_type": "markdown",
   "metadata": {},
   "source": [
    "# `CLOUD.jl` - 2D linear advection example"
   ]
  },
  {
   "cell_type": "code",
   "execution_count": 59,
   "metadata": {
    "scrolled": true
   },
   "outputs": [],
   "source": [
    "using OrdinaryDiffEq\n",
    "using LinearAlgebra\n",
    "using TimerOutputs\n",
    "using CLOUD;"
   ]
  },
  {
   "cell_type": "markdown",
   "metadata": {},
   "source": [
    "Define the physical problem"
   ]
  },
  {
   "cell_type": "code",
   "execution_count": 60,
   "metadata": {
    "scrolled": true
   },
   "outputs": [],
   "source": [
    "θ = π/4 # wave angle\n",
    "a = sqrt(2) # wave speed\n",
    "A = 1.0  # amplitude\n",
    "L = 1.0  # domain length\n",
    "k = (2*π/L, 2*π/L)  # wave number\n",
    "T = 1.0/(a*max(abs(cos(θ)),abs(cos(θ)))) # end time for one period\n",
    "initial_data = InitialDataSine(A,k)\n",
    "conservation_law = linear_advection_equation((a*cos(θ),a*sin(θ)),λ=1.0);"
   ]
  },
  {
   "cell_type": "markdown",
   "metadata": {},
   "source": [
    "Set discretization parameters"
   ]
  },
  {
   "cell_type": "code",
   "execution_count": 61,
   "metadata": {
    "scrolled": false
   },
   "outputs": [],
   "source": [
    "M = 4\n",
    "p = 4\n",
    "p_map = 4\n",
    "form = SplitConservationForm()\n",
    "integrator = CarpenterKennedy2N54()\n",
    "n_s = 10\n",
    "dt_scale=0.05\n",
    "dt = dt_scale*(L/M)/(norm(a)*(2*p+1));"
   ]
  },
  {
   "cell_type": "markdown",
   "metadata": {},
   "source": [
    "Set up a `DGSEM` scheme with LG quadrature on quadrilaterals of degree `p` with `M` edges in each direction"
   ]
  },
  {
   "cell_type": "code",
   "execution_count": 62,
   "metadata": {},
   "outputs": [],
   "source": [
    "reference_approximation =ReferenceApproximation(\n",
    "    DGSEM(p), Quad(),\n",
    "    volume_quadrature_rule=LGQuadrature(),\n",
    "    facet_quadrature_rule=LGQuadrature(),\n",
    "    mapping_degree=p_map,\n",
    "    N_plot=ceil(Int,50/M))\n",
    "\n",
    "mesh = warp_mesh(uniform_periodic_mesh(\n",
    "    reference_approximation.reference_element, \n",
    "    ((0.0,L),(0.0,L)), (M,M)), \n",
    "    reference_approximation.reference_element, 0.1)\n",
    "\n",
    "spatial_discretization = SpatialDiscretization(mesh, \n",
    "    reference_approximation)\n",
    "\n",
    "results_path = save_project(conservation_law,\n",
    "     spatial_discretization, initial_data, form, (0.0, T), Lazy(),\n",
    "     \"results/advection_2d_dgsem/\", overwrite=true, clear=true)\n",
    "\n",
    "visualize(spatial_discretization, results_path, \"mesh.pdf\", \n",
    "    plot_volume_nodes=false, grid_lines=true)"
   ]
  },
  {
   "cell_type": "markdown",
   "metadata": {},
   "source": [
    "Run the solver and plot the solution"
   ]
  },
  {
   "cell_type": "code",
   "execution_count": 63,
   "metadata": {
    "scrolled": true
   },
   "outputs": [
    {
     "name": "stdout",
     "output_type": "stream",
     "text": [
      "\u001b[0m\u001b[1m ────────────────────────────────────────────────────────────────────────────────\u001b[22m\n",
      "\u001b[0m\u001b[1m                               \u001b[22m         Time                    Allocations      \n",
      "                               ───────────────────────   ────────────────────────\n",
      "       Tot / % measured:          223μs / 1151273.7%      14.0KiB / 18288549.7%  \n",
      "\n",
      " Section               ncalls     time    %tot     avg     alloc    %tot      avg\n",
      " ────────────────────────────────────────────────────────────────────────────────\n",
      " eval residual          81.5k    1.12s   43.4%  13.7μs    774MiB   31.1%  9.72KiB\n",
      "   volume terms         81.5k    681ms   26.5%  8.35μs    500MiB   20.1%  6.28KiB\n",
      "   facet terms          81.5k    209ms    8.1%  2.56μs    173MiB    6.9%  2.17KiB\n",
      "   mass matrix solve    81.5k   94.0ms    3.7%  1.15μs   39.8MiB    1.6%     512B\n",
      " eval flux diff         81.5k    959ms   37.3%  11.8μs   0.99GiB   40.7%  12.7KiB\n",
      " extrapolate solution   81.5k    182ms    7.1%  2.23μs    142MiB    5.7%  1.78KiB\n",
      " eval numerical flux    81.5k    121ms    4.7%  1.48μs    212MiB    8.5%  2.66KiB\n",
      " eval flux              81.5k    118ms    4.6%  1.45μs   89.6MiB    3.6%  1.12KiB\n",
      " gather external state  81.5k   73.3ms    2.9%   899ns    261MiB   10.5%  3.28KiB\n",
      "\u001b[0m\u001b[1m ────────────────────────────────────────────────────────────────────────────────\u001b[22m\n"
     ]
    }
   ],
   "source": [
    "ode_problem = semidiscretize(load_project(results_path)...)\n",
    "save_solution(ode_problem.u0, 0.0, results_path, 0)\n",
    "\n",
    "for t in 1:Threads.nthreads()\n",
    "    reset_timer!(get_timer(string(\"thread_timer_\",t)))\n",
    "end\n",
    "\n",
    "sol = solve(ode_problem, integrator, adaptive=false,\n",
    "    dt=dt, save_everystep=false,\n",
    "    callback=save_callback(results_path, ceil(Int, T/(dt*n_s))))\n",
    "\n",
    "to = merge(Tuple(get_timer(string(\"thread_timer_\",t)) \n",
    "    for t in 1:Threads.nthreads())...)\n",
    "print_timer(to)\n",
    "\n",
    "save_solution(last(sol.u), last(sol.t), results_path, \"final\")\n",
    "plotter = Plotter(spatial_discretization, results_path)\n",
    "visualize(last(sol.u), plotter, \"approx.pdf\", u_range=[-1.0,1.0], contours=25,\n",
    "    label=\"U^h(\\\\mathbf{x},t)\")"
   ]
  },
  {
   "cell_type": "markdown",
   "metadata": {},
   "source": [
    "Calculate the integral L<sup>2</sup> error norm and conservation/energy error"
   ]
  },
  {
   "cell_type": "code",
   "execution_count": 64,
   "metadata": {
    "scrolled": true
   },
   "outputs": [
    {
     "name": "stdout",
     "output_type": "stream",
     "text": [
      "L2 error\n",
      "0.000683954884588324\n",
      "Conservation (initial/final/diff):\n",
      "[-1.108594540819019e-8][-1.1085945919933615e-8][-5.117434254131581e-16]\n",
      "Energy (initial/final/diff):\n",
      "[0.12499998811286066][0.12497956180878655][-2.0426304074103174e-5]\n"
     ]
    }
   ],
   "source": [
    "error_analysis = ErrorAnalysis(results_path, conservation_law, \n",
    "    spatial_discretization)\n",
    "conservation_analysis = PrimaryConservationAnalysis(results_path, \n",
    "    conservation_law, spatial_discretization)\n",
    "energy_analysis = EnergyConservationAnalysis(results_path, \n",
    "    conservation_law, spatial_discretization)\n",
    "\n",
    "println(\"L2 error\")\n",
    "println(analyze(error_analysis, last(sol.u), initial_data)...)\n",
    "println(\"Conservation (initial/final/diff):\")\n",
    "println(analyze(conservation_analysis)...)\n",
    "println(\"Energy (initial/final/diff):\")\n",
    "println(analyze(energy_analysis)...)"
   ]
  },
  {
   "cell_type": "markdown",
   "metadata": {},
   "source": [
    "Set up a `DGMulti` scheme on triangles of degree `p` with `M` edges in each direction"
   ]
  },
  {
   "cell_type": "code",
   "execution_count": 65,
   "metadata": {},
   "outputs": [],
   "source": [
    "reference_approximation = ReferenceApproximation(\n",
    "    DGMulti(p), Tri(),\n",
    "    mapping_degree=p_map,\n",
    "    N_plot=ceil(Int,50/M))\n",
    "\n",
    "mesh = warp_mesh(uniform_periodic_mesh(\n",
    "    reference_approximation.reference_element, \n",
    "    ((0.0,L),(0.0,L)), (M,M)), \n",
    "    reference_approximation.reference_element, 0.1)\n",
    "\n",
    "spatial_discretization = SpatialDiscretization(mesh, \n",
    "    reference_approximation)\n",
    "\n",
    "results_path = save_project(conservation_law,\n",
    "     spatial_discretization, initial_data, form, (0.0, T), Lazy(),\n",
    "     \"results/advection_2d_dgmulti/\", overwrite=true, clear=true)\n",
    "\n",
    "visualize(spatial_discretization, results_path, \"mesh.pdf\", \n",
    "    plot_volume_nodes=true, grid_lines=false)"
   ]
  },
  {
   "cell_type": "markdown",
   "metadata": {},
   "source": [
    "Run the solver and plot the solution"
   ]
  },
  {
   "cell_type": "code",
   "execution_count": 66,
   "metadata": {
    "scrolled": true
   },
   "outputs": [
    {
     "name": "stdout",
     "output_type": "stream",
     "text": [
      "\u001b[0m\u001b[1m ────────────────────────────────────────────────────────────────────────────────\u001b[22m\n",
      "\u001b[0m\u001b[1m                               \u001b[22m         Time                    Allocations      \n",
      "                               ───────────────────────   ────────────────────────\n",
      "       Tot / % measured:          244μs / 2188837.1%      14.0KiB / 37088395.6%  \n",
      "\n",
      " Section               ncalls     time    %tot     avg     alloc    %tot      avg\n",
      " ────────────────────────────────────────────────────────────────────────────────\n",
      " eval residual           163k    2.64s   49.5%  16.2μs   2.40GiB   48.6%  15.4KiB\n",
      "   volume terms          163k    1.88s   35.2%  11.5μs   1.92GiB   38.8%  12.3KiB\n",
      "   mass matrix solve     163k    466ms    8.7%  2.86μs    371MiB    7.3%  2.33KiB\n",
      "   facet terms           163k   80.5ms    1.5%   494ns   27.4MiB    0.5%     176B\n",
      " eval flux diff          163k    1.61s   30.1%  9.86μs   1.33GiB   26.9%  8.55KiB\n",
      " eval flux               163k    336ms    6.3%  2.06μs    139MiB    2.8%     896B\n",
      " eval numerical flux     163k    312ms    5.8%  1.91μs    333MiB    6.6%  2.09KiB\n",
      " gather external state   163k    251ms    4.7%  1.54μs    699MiB   13.8%  4.39KiB\n",
      " extrapolate solution    163k    186ms    3.5%  1.14μs   62.2MiB    1.2%     400B\n",
      "\u001b[0m\u001b[1m ────────────────────────────────────────────────────────────────────────────────\u001b[22m\n"
     ]
    }
   ],
   "source": [
    "ode_problem = semidiscretize(load_project(results_path)...)\n",
    "save_solution(ode_problem.u0, 0.0, results_path, 0)\n",
    "\n",
    "for t in 1:Threads.nthreads()\n",
    "    reset_timer!(get_timer(string(\"thread_timer_\",t)))\n",
    "end\n",
    "\n",
    "sol = solve(ode_problem, integrator, adaptive=false,\n",
    "    dt=dt, save_everystep=false,\n",
    "    callback=save_callback(results_path, ceil(Int, T/(dt*n_s))))\n",
    "\n",
    "to = merge(Tuple(get_timer(string(\"thread_timer_\",t)) \n",
    "    for t in 1:Threads.nthreads())...)\n",
    "print_timer(to)\n",
    "\n",
    "save_solution(last(sol.u), last(sol.t), results_path, \"final\")\n",
    "plotter = Plotter(spatial_discretization, results_path)\n",
    "visualize(last(sol.u), plotter, \"approx.pdf\", u_range=[-1.0,1.0], contours=25,\n",
    "    label=\"U^h(\\\\mathbf{x},t)\")"
   ]
  },
  {
   "cell_type": "markdown",
   "metadata": {},
   "source": [
    "Calculate the integral L<sup>2</sup> error norm and conservation/energy error"
   ]
  },
  {
   "cell_type": "code",
   "execution_count": 67,
   "metadata": {
    "scrolled": true
   },
   "outputs": [
    {
     "name": "stdout",
     "output_type": "stream",
     "text": [
      "L2 error\n",
      "0.0034367122388651375\n",
      "Conservation (initial/final/diff):\n",
      "[-1.4530229013823975e-7][-1.4530229025620095e-7][-1.1796119636642288e-16]\n",
      "Energy (initial/final/diff):\n",
      "[0.12499475017905026][0.12485504074741147][-0.0001397094316387959]\n"
     ]
    }
   ],
   "source": [
    "error_analysis = ErrorAnalysis(results_path, conservation_law, \n",
    "    spatial_discretization)\n",
    "conservation_analysis = PrimaryConservationAnalysis(results_path, \n",
    "    conservation_law, spatial_discretization)\n",
    "energy_analysis = EnergyConservationAnalysis(results_path, \n",
    "    conservation_law, spatial_discretization)\n",
    "\n",
    "println(\"L2 error\")\n",
    "println(analyze(error_analysis, last(sol.u), initial_data)...)\n",
    "println(\"Conservation (initial/final/diff):\")\n",
    "println(analyze(conservation_analysis)...)\n",
    "println(\"Energy (initial/final/diff):\")\n",
    "println(analyze(energy_analysis)...)"
   ]
  }
 ],
 "metadata": {
  "kernelspec": {
   "display_name": "Julia 1.7.3",
   "language": "julia",
   "name": "julia-1.7"
  },
  "language_info": {
   "file_extension": ".jl",
   "mimetype": "application/julia",
   "name": "julia",
   "version": "1.7.3"
  }
 },
 "nbformat": 4,
 "nbformat_minor": 2
}
