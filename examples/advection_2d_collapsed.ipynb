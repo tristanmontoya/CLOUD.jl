{
 "cells": [
  {
   "cell_type": "markdown",
   "metadata": {},
   "source": [
    "# `CLOUD.jl` - 2D linear advection example - energy-conservative scheme in collapsed coordinates"
   ]
  },
  {
   "cell_type": "code",
   "execution_count": 1,
   "metadata": {
    "scrolled": false
   },
   "outputs": [
    {
     "name": "stderr",
     "output_type": "stream",
     "text": [
      "┌ Info: Precompiling CLOUD [fb992021-99c7-4c2d-a14b-5e48ac4045b2]\n",
      "└ @ Base loading.jl:1423\n"
     ]
    }
   ],
   "source": [
    "using CLOUD, OrdinaryDiffEq"
   ]
  },
  {
   "cell_type": "markdown",
   "metadata": {},
   "source": [
    "Define the physical problem"
   ]
  },
  {
   "cell_type": "code",
   "execution_count": 2,
   "metadata": {
    "scrolled": true
   },
   "outputs": [],
   "source": [
    "θ = π/4 # wave angle\n",
    "a = sqrt(2) # wave speed\n",
    "A = 1.0  # amplitude\n",
    "L = 1.0  # domain length\n",
    "k = (2*π/L, 2*π/L)  # wave number\n",
    "T = 1.0/(a*max(abs(cos(θ)),abs(cos(θ)))) # end time for one period\n",
    "\n",
    "conservation_law = LinearAdvectionEquation((a*cos(θ),a*sin(θ)))\n",
    "initial_data = InitialDataSine(A,k)\n",
    "exact_solution = ExactSolution(conservation_law,initial_data);"
   ]
  },
  {
   "cell_type": "markdown",
   "metadata": {},
   "source": [
    "Set discretization parameters"
   ]
  },
  {
   "cell_type": "code",
   "execution_count": 3,
   "metadata": {
    "scrolled": false
   },
   "outputs": [],
   "source": [
    "M = 2\n",
    "p = 8\n",
    "p_map = 8\n",
    "form = WeakConservationForm(mapping_form=SkewSymmetricMapping(),\n",
    "    inviscid_numerical_flux=LaxFriedrichsNumericalFlux(0.0))\n",
    "strategy = Lazy()\n",
    "\n",
    "ode_algorithm = CarpenterKennedy2N54()\n",
    "dt = 0.01*(L/M)/(a*(2*p+1));\n",
    "write_interval = floor(Int, T/(dt*10));"
   ]
  },
  {
   "cell_type": "markdown",
   "metadata": {},
   "source": [
    "Set up a `CollapsedSEM` scheme of degree `p` with `M` edges in each direction"
   ]
  },
  {
   "cell_type": "code",
   "execution_count": 4,
   "metadata": {},
   "outputs": [
    {
     "data": {
      "text/plain": [
       "\"results/advection_2d_dgsem/\""
      ]
     },
     "execution_count": 4,
     "metadata": {},
     "output_type": "execute_result"
    }
   ],
   "source": [
    "reference_approximation =ReferenceApproximation(\n",
    "    CollapsedSEM(p), Tri(),\n",
    "    mapping_degree=p_map, N_plot=50)\n",
    "\n",
    "mesh = warp_mesh(uniform_periodic_mesh(\n",
    "    reference_approximation.reference_element, \n",
    "    ((0.0,L),(0.0,L)), (M,M)), \n",
    "    reference_approximation.reference_element, 0.1)\n",
    "\n",
    "spatial_discretization = SpatialDiscretization(mesh, \n",
    "    reference_approximation)\n",
    "\n",
    "results_path = save_project(conservation_law,\n",
    "     spatial_discretization, initial_data, form, (0.0, T), Lazy(),\n",
    "     \"results/advection_2d_dgsem/\", overwrite=true, clear=true)"
   ]
  },
  {
   "cell_type": "markdown",
   "metadata": {},
   "source": [
    "Run the solver"
   ]
  },
  {
   "cell_type": "code",
   "execution_count": 5,
   "metadata": {},
   "outputs": [
    {
     "name": "stdout",
     "output_type": "stream",
     "text": [
      "\u001b[0m\u001b[1m ────────────────────────────────────────────────────────────────────────────────\u001b[22m\n",
      "\u001b[0m\u001b[1m                               \u001b[22m         Time                    Allocations      \n",
      "                               ───────────────────────   ────────────────────────\n",
      "       Tot / % measured:           501ms / 2738.2%          57.3MiB / 16773.7%   \n",
      "\n",
      " Section               ncalls     time    %tot     avg     alloc    %tot      avg\n",
      " ────────────────────────────────────────────────────────────────────────────────\n",
      " eval residual           192k    11.6s   84.5%  60.2μs   7.09GiB   75.4%  38.6KiB\n",
      "   volume terms          192k    8.90s   64.9%  46.2μs   5.89GiB   62.7%  32.1KiB\n",
      "   mass matrix solve     192k    1.64s   11.9%  8.51μs    270MiB    2.8%  1.44KiB\n",
      "   facet terms           192k    649ms    4.7%  3.37μs    620MiB    6.4%  3.30KiB\n",
      " extrap solution         192k    1.22s    8.9%  6.32μs    682MiB    7.1%  3.63KiB\n",
      " eval flux               192k    440ms    3.2%  2.29μs    596MiB    6.2%  3.17KiB\n",
      " eval num flux           192k    297ms    2.2%  1.55μs    605MiB    6.3%  3.22KiB\n",
      " gather ext state        192k    177ms    1.3%   918ns    481MiB    5.0%  2.56KiB\n",
      "\u001b[0m\u001b[1m ────────────────────────────────────────────────────────────────────────────────\u001b[22m\n"
     ]
    }
   ],
   "source": [
    "ode_problem = semidiscretize(conservation_law,\n",
    "    spatial_discretization,\n",
    "    initial_data, \n",
    "    form,\n",
    "    (0.0, T),\n",
    "    strategy)\n",
    "\n",
    "save_solution(ode_problem.u0, 0.0, results_path, 0)\n",
    "\n",
    "CLOUD_reset_timer()\n",
    "sol = solve(ode_problem, ode_algorithm, adaptive=false, dt=dt,\n",
    "    save_everystep=false, callback=save_callback(results_path, write_interval))\n",
    "CLOUD_print_timer()\n",
    "\n",
    "save_solution(last(sol.u), last(sol.t), results_path, \"final\")"
   ]
  },
  {
   "cell_type": "markdown",
   "metadata": {},
   "source": [
    "Calculate the integral L<sup>2</sup> error norm and conservation/energy error"
   ]
  },
  {
   "cell_type": "code",
   "execution_count": 6,
   "metadata": {
    "scrolled": true
   },
   "outputs": [
    {
     "name": "stdout",
     "output_type": "stream",
     "text": [
      "L2 error:\n",
      "0.0030761191433130676\n",
      "Conservation (initial/final/diff):\n"
     ]
    },
    {
     "ename": "LoadError",
     "evalue": "DimensionMismatch(\"second dimension of left factor, 81, does not match first dimension of right factor, 36\")",
     "output_type": "error",
     "traceback": [
      "DimensionMismatch(\"second dimension of left factor, 81, does not match first dimension of right factor, 36\")",
      "",
      "Stacktrace:",
      "  [1] check_dim_mul(A::LinearMaps.ScaledMap{Float64, Bool, LinearMaps.WrappedMap{Float64, Matrix{Float64}}}, B::Vector{Float64})",
      "    @ LinearMaps ~/.julia/packages/LinearMaps/BT89E/src/LinearMaps.jl:67",
      "  [2] *",
      "    @ ~/.julia/packages/LinearMaps/BT89E/src/LinearMaps.jl:132 [inlined]",
      "  [3] *",
      "    @ ./operators.jl:655 [inlined]",
      "  [4] (::CLOUD.Analysis.var\"#90#92\"{Int64, Array{Float64, 3}, LinearMaps.UniformScalingMap{Bool}, Vector{Matrix{Float64}}})(k::Int64)",
      "    @ CLOUD.Analysis ./none:0",
      "  [5] MappingRF",
      "    @ ./reduce.jl:95 [inlined]",
      "  [6] _foldl_impl",
      "    @ ./reduce.jl:58 [inlined]",
      "  [7] foldl_impl",
      "    @ ./reduce.jl:48 [inlined]",
      "  [8] mapfoldl_impl",
      "    @ ./reduce.jl:44 [inlined]",
      "  [9] #mapfoldl#244",
      "    @ ./reduce.jl:162 [inlined]",
      " [10] mapfoldl",
      "    @ ./reduce.jl:162 [inlined]",
      " [11] #mapreduce#248",
      "    @ ./reduce.jl:289 [inlined]",
      " [12] mapreduce",
      "    @ ./reduce.jl:289 [inlined]",
      " [13] #sum#251",
      "    @ ./reduce.jl:503 [inlined]",
      " [14] sum",
      "    @ ./reduce.jl:503 [inlined]",
      " [15] #sum#252",
      "    @ ./reduce.jl:532 [inlined]",
      " [16] sum",
      "    @ ./reduce.jl:532 [inlined]",
      " [17] #89",
      "    @ ./none:0 [inlined]",
      " [18] iterate",
      "    @ ./generator.jl:47 [inlined]",
      " [19] collect(itr::Base.Generator{UnitRange{Int64}, CLOUD.Analysis.var\"#89#91\"{Array{Float64, 3}, LinearMaps.UniformScalingMap{Bool}, Int64, Vector{Matrix{Float64}}}})",
      "    @ Base ./array.jl:724",
      " [20] evaluate_conservation(analysis::PrimaryConservationAnalysis, sol::Array{Float64, 3})",
      "    @ CLOUD.Analysis ~/Research/CLOUD.jl/src/Analysis/conservation.jl:72",
      " [21] analyze(analysis::PrimaryConservationAnalysis, initial_time_step::Int64, final_time_step::String)",
      "    @ CLOUD.Analysis ~/Research/CLOUD.jl/src/Analysis/conservation.jl:94",
      " [22] analyze(analysis::PrimaryConservationAnalysis)",
      "    @ CLOUD.Analysis ~/Research/CLOUD.jl/src/Analysis/conservation.jl:89",
      " [23] top-level scope",
      "    @ In[6]:11",
      " [24] eval",
      "    @ ./boot.jl:373 [inlined]",
      " [25] include_string(mapexpr::typeof(REPL.softscope), mod::Module, code::String, filename::String)",
      "    @ Base ./loading.jl:1196"
     ]
    }
   ],
   "source": [
    "error_analysis = ErrorAnalysis(results_path, conservation_law, \n",
    "    spatial_discretization)\n",
    "conservation_analysis = PrimaryConservationAnalysis(results_path, \n",
    "    conservation_law, spatial_discretization)\n",
    "energy_analysis = EnergyConservationAnalysis(results_path, \n",
    "    conservation_law, spatial_discretization)\n",
    "\n",
    "println(\"L2 error:\")\n",
    "println(analyze(error_analysis, last(sol.u), initial_data, T)...)\n",
    "println(\"Conservation (initial/final/diff):\")\n",
    "println(analyze(conservation_analysis)...)\n",
    "println(\"Energy (initial/final/diff):\")\n",
    "println(analyze(energy_analysis)...)"
   ]
  }
 ],
 "metadata": {
  "kernelspec": {
   "display_name": "Julia 1.7.3",
   "language": "julia",
   "name": "julia-1.7"
  },
  "language_info": {
   "file_extension": ".jl",
   "mimetype": "application/julia",
   "name": "julia",
   "version": "1.7.3"
  }
 },
 "nbformat": 4,
 "nbformat_minor": 2
}
