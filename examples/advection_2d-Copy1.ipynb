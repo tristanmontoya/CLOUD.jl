{
 "cells": [
  {
   "cell_type": "markdown",
   "metadata": {},
   "source": [
    "# `CLOUD.jl` - 2D linear advection example"
   ]
  },
  {
   "cell_type": "code",
   "execution_count": null,
   "metadata": {
    "scrolled": false
   },
   "outputs": [],
   "source": [
    "using CLOUD, OrdinaryDiffEq"
   ]
  },
  {
   "cell_type": "markdown",
   "metadata": {},
   "source": [
    "Define the physical problem"
   ]
  },
  {
   "cell_type": "code",
   "execution_count": null,
   "metadata": {
    "scrolled": true
   },
   "outputs": [],
   "source": [
    "θ = π/4 # wave angle\n",
    "a = sqrt(2) # wave speed\n",
    "A = 1.0  # amplitude\n",
    "L = 1.0  # domain length\n",
    "k = (2*π/L, 2*π/L)  # wave number\n",
    "T = 1.0/(a*max(abs(cos(θ)),abs(cos(θ)))) # end time for one period\n",
    "\n",
    "conservation_law = LinearAdvectionEquation((a*cos(θ),a*sin(θ)))\n",
    "initial_data = InitialDataSine(A,k)\n",
    "exact_solution = ExactSolution(conservation_law,initial_data);"
   ]
  },
  {
   "cell_type": "markdown",
   "metadata": {},
   "source": [
    "Set discretization parameters"
   ]
  },
  {
   "cell_type": "code",
   "execution_count": null,
   "metadata": {
    "scrolled": false
   },
   "outputs": [],
   "source": [
    "M = 4\n",
    "p = 4\n",
    "p_map = 4\n",
    "form = WeakConservationForm()\n",
    "strategy = Lazy()\n",
    "\n",
    "ode_algorithm = CarpenterKennedy2N54()\n",
    "dt = 0.1*(L/M)/(a*(2*p+1));\n",
    "write_interval = floor(Int, T/(dt*10));"
   ]
  },
  {
   "cell_type": "markdown",
   "metadata": {},
   "source": [
    "Set up a `DGSEM` scheme with LG quadrature on quadrilaterals of degree `p` with `M` edges in each direction"
   ]
  },
  {
   "cell_type": "code",
   "execution_count": null,
   "metadata": {},
   "outputs": [],
   "source": [
    "reference_approximation =ReferenceApproximation(\n",
    "    DGSEM(p), Quad(),\n",
    "    volume_quadrature_rule=LGQuadrature(),\n",
    "    facet_quadrature_rule=LGQuadrature(),\n",
    "    mapping_degree=p_map, N_plot=50)\n",
    "\n",
    "mesh = warp_mesh(uniform_periodic_mesh(\n",
    "    reference_approximation.reference_element, \n",
    "    ((0.0,L),(0.0,L)), (M,M)), \n",
    "    reference_approximation.reference_element, 0.2)\n",
    "\n",
    "spatial_discretization = SpatialDiscretization(mesh, \n",
    "    reference_approximation)\n",
    "\n",
    "results_path = save_project(conservation_law,\n",
    "     spatial_discretization, initial_data, form, (0.0, T), Lazy(),\n",
    "     \"results/advection_2d_dgsem/\", overwrite=true, clear=true)"
   ]
  },
  {
   "cell_type": "markdown",
   "metadata": {},
   "source": [
    "Run the solver"
   ]
  },
  {
   "cell_type": "code",
   "execution_count": null,
   "metadata": {},
   "outputs": [],
   "source": [
    "ode_problem_1 = semidiscretize(conservation_law,\n",
    "    spatial_discretization,\n",
    "    initial_data, \n",
    "    form,\n",
    "    (0.0, T),\n",
    "    strategy)\n",
    "\n",
    "save_solution(ode_problem_1.u0, 0.0, results_path, 0)\n",
    "\n",
    "CLOUD_reset_timer()\n",
    "sol = solve(ode_problem_1, ode_algorithm, adaptive=false, dt=dt,\n",
    "    save_everystep=false, callback=save_callback(results_path, write_interval))\n",
    "CLOUD_print_timer()\n",
    "\n",
    "save_solution(last(sol.u), last(sol.t), results_path, \"final\")"
   ]
  },
  {
   "cell_type": "markdown",
   "metadata": {},
   "source": [
    "Calculate the integral L<sup>2</sup> error norm and conservation/energy error"
   ]
  },
  {
   "cell_type": "code",
   "execution_count": null,
   "metadata": {
    "scrolled": true
   },
   "outputs": [],
   "source": [
    "error_analysis = ErrorAnalysis(results_path, conservation_law, \n",
    "    spatial_discretization)\n",
    "conservation_analysis = PrimaryConservationAnalysis(results_path, \n",
    "    conservation_law, spatial_discretization)\n",
    "energy_analysis = EnergyConservationAnalysis(results_path, \n",
    "    conservation_law, spatial_discretization)\n",
    "\n",
    "println(\"L2 error:\")\n",
    "println(analyze(error_analysis, last(sol.u), initial_data, T)...)\n",
    "println(\"Conservation (initial/final/diff):\")\n",
    "println(analyze(conservation_analysis)...)\n",
    "println(\"Energy (initial/final/diff):\")\n",
    "println(analyze(energy_analysis)...)"
   ]
  },
  {
   "cell_type": "markdown",
   "metadata": {},
   "source": [
    "Write output to VTK file"
   ]
  },
  {
   "cell_type": "code",
   "execution_count": null,
   "metadata": {},
   "outputs": [],
   "source": [
    "postprocess_vtk(spatial_discretization, string(results_path,\"solution.vtu\"), last(sol.u));"
   ]
  }
 ],
 "metadata": {
  "kernelspec": {
   "display_name": "Julia 1.7.3",
   "language": "julia",
   "name": "julia-1.7"
  },
  "language_info": {
   "file_extension": ".jl",
   "mimetype": "application/julia",
   "name": "julia",
   "version": "1.7.3"
  }
 },
 "nbformat": 4,
 "nbformat_minor": 2
}
