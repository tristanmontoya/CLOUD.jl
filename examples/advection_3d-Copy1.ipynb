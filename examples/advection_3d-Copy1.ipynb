{
 "cells": [
  {
   "cell_type": "markdown",
   "metadata": {},
   "source": [
    "# `StableSpectralElements.jl` - 3D linear advection example\n",
    "\n",
    "First, let's load the required packages."
   ]
  },
  {
   "cell_type": "code",
   "execution_count": 1,
   "metadata": {
    "scrolled": false
   },
   "outputs": [
    {
     "name": "stderr",
     "output_type": "stream",
     "text": [
      "\u001b[32m\u001b[1m    Updating\u001b[22m\u001b[39m registry at `~/.julia/registries/General.toml`\n",
      "\u001b[32m\u001b[1m   Resolving\u001b[22m\u001b[39m package versions...\n",
      "\u001b[32m\u001b[1m   Installed\u001b[22m\u001b[39m TypedSyntax ─ v1.2.3\n",
      "\u001b[32m\u001b[1m   Installed\u001b[22m\u001b[39m Cthulhu ───── v2.9.3\n",
      "\u001b[32m\u001b[1m    Updating\u001b[22m\u001b[39m `~/Research/StableSpectralElements.jl/Project.toml`\n",
      "  \u001b[90m[aa65fe97] \u001b[39m\u001b[92m+ SnoopCompile v2.10.8\u001b[39m\n",
      "\u001b[32m\u001b[1m    Updating\u001b[22m\u001b[39m `~/Research/StableSpectralElements.jl/Manifest.toml`\n",
      "  \u001b[90m[f68482b8] \u001b[39m\u001b[92m+ Cthulhu v2.9.3\u001b[39m\n",
      "  \u001b[90m[08572546] \u001b[39m\u001b[92m+ FlameGraphs v1.0.0\u001b[39m\n",
      "  \u001b[90m[1eca21be] \u001b[39m\u001b[92m+ FoldingTrees v1.2.1\u001b[39m\n",
      "  \u001b[90m[9b13fd28] \u001b[39m\u001b[92m+ IndirectArrays v1.0.0\u001b[39m\n",
      "  \u001b[90m[c3a54625] \u001b[39m\u001b[92m+ JET v0.8.13\u001b[39m\n",
      "  \u001b[90m[70703baa] \u001b[39m\u001b[92m+ JuliaSyntax v0.4.6\u001b[39m\n",
      "  \u001b[90m[1d6d02ad] \u001b[39m\u001b[92m+ LeftChildRightSiblingTrees v0.2.0\u001b[39m\n",
      "  \u001b[90m[aa65fe97] \u001b[39m\u001b[92m+ SnoopCompile v2.10.8\u001b[39m\n",
      "  \u001b[90m[e2b509da] \u001b[39m\u001b[92m+ SnoopCompileCore v2.10.0\u001b[39m\n",
      "  \u001b[90m[69024149] \u001b[39m\u001b[92m+ StringEncodings v0.3.7\u001b[39m\n",
      "  \u001b[90m[d265eb64] \u001b[39m\u001b[92m+ TypedSyntax v1.2.3\u001b[39m\n",
      "  \u001b[90m[b8c1c048] \u001b[39m\u001b[92m+ WidthLimitedIO v1.0.1\u001b[39m\n",
      "  \u001b[90m[ddb6d928] \u001b[39m\u001b[92m+ YAML v0.4.9\u001b[39m\n",
      "\u001b[32m\u001b[1mPrecompiling\u001b[22m\u001b[39m project...\n",
      "\u001b[32m  ✓ \u001b[39m\u001b[90mTypedSyntax\u001b[39m\n",
      "\u001b[32m  ✓ \u001b[39m\u001b[90mCthulhu\u001b[39m\n",
      "\u001b[32m  ✓ \u001b[39mSnoopCompile\n",
      "\u001b[32m  ✓ \u001b[39mStableSpectralElements\n",
      "  4 dependencies successfully precompiled in 36 seconds. 335 already precompiled.\n"
     ]
    }
   ],
   "source": [
    "using Pkg; Pkg.add(\"SnoopCompile\")\n",
    "using StableSpectralElements, BenchmarkTools, OrdinaryDiffEq, SnoopCompile"
   ]
  },
  {
   "cell_type": "markdown",
   "metadata": {},
   "source": [
    "We will solve the three-dimensional linear advection equation\n",
    "$$\n",
    "\\partial_t U(\\boldsymbol{x},t) + \\nabla_{\\boldsymbol{x}} \\cdot (\\boldsymbol{a} U(\\boldsymbol{x},t)) = 0,  \\quad \\forall\\, (\\boldsymbol{x}, t) \\in \\Omega \\times (0,T),\n",
    "$$\n",
    "with $a = [1,1,1]^{\\mathrm{T}}$ and $\\Omega = (0,L)^3$, where we take $L = 1$, and $T = 1$, and impose periodic boundary conditions as well as the initial condition\n",
    "$$\n",
    "U(\\boldsymbol{x},0) = \\cos(2\\pi x_1 / L)\\cos(2\\pi x_2 / L)\\cos(2\\pi x_3 / L), \\quad \\forall \\, \\boldsymbol{x} \\in \\Omega.\n",
    "$$"
   ]
  },
  {
   "cell_type": "code",
   "execution_count": 2,
   "metadata": {
    "scrolled": true
   },
   "outputs": [],
   "source": [
    "a = (1.0,1.0,1.0)  # advection velocity\n",
    "L = 1.0  # domain length\n",
    "T = 1.0  # end time\n",
    "\n",
    "conservation_law = LinearAdvectionEquation(a)\n",
    "exact_solution = InitialDataCosine(1.0,(2π/L, 2π/L, 2π/L));"
   ]
  },
  {
   "cell_type": "markdown",
   "metadata": {},
   "source": [
    "We'll discretize the above problem using a `ModalTensor` discretization of degree $p = 7$, on a curved (i.e. using a mapping of degree $p_{\\mathrm{map}} = 3$) tetrahedral mesh with $M = 2$ edges in each direction. A skew-symmetric split form will be used to treat the curvilinear coordinate transformation in a provably stable manner, and we will use an upwind (i.e. Lax-Friedrichs) numerical flux."
   ]
  },
  {
   "cell_type": "code",
   "execution_count": 3,
   "metadata": {},
   "outputs": [],
   "source": [
    "M = 4\n",
    "p = 4\n",
    "\n",
    "reference_approximation = ReferenceApproximation(ModalTensor(p), Tet(), mapping_degree=3);"
   ]
  },
  {
   "cell_type": "code",
   "execution_count": 4,
   "metadata": {},
   "outputs": [
    {
     "data": {
      "text/plain": [
       "StandardForm{SkewSymmetricMapping, LaxFriedrichsNumericalFlux, BR1}(SkewSymmetricMapping(), LaxFriedrichsNumericalFlux(0.5), BR1())"
      ]
     },
     "execution_count": 4,
     "metadata": {},
     "output_type": "execute_result"
    }
   ],
   "source": [
    "form = StandardForm(mapping_form=SkewSymmetricMapping(), \n",
    "    inviscid_numerical_flux=LaxFriedrichsNumericalFlux())"
   ]
  },
  {
   "cell_type": "code",
   "execution_count": 5,
   "metadata": {},
   "outputs": [
    {
     "data": {
      "text/plain": [
       "MeshData of dimension 3 with 384 elements with periodicity = (true, true, true)."
      ]
     },
     "execution_count": 5,
     "metadata": {},
     "output_type": "execute_result"
    }
   ],
   "source": [
    "uniform_mesh = uniform_periodic_mesh(reference_approximation,\n",
    "    ((0.0,L),(0.0,L),(0.0,L)), (M,M,M))"
   ]
  },
  {
   "cell_type": "code",
   "execution_count": 6,
   "metadata": {},
   "outputs": [
    {
     "data": {
      "text/plain": [
       "MeshData of dimension 3 with 384 elements with periodicity = (true, true, true)."
      ]
     },
     "execution_count": 6,
     "metadata": {},
     "output_type": "execute_result"
    }
   ],
   "source": [
    "mesh = warp_mesh(uniform_mesh, reference_approximation, 0.1, L) "
   ]
  },
  {
   "cell_type": "code",
   "execution_count": 7,
   "metadata": {
    "scrolled": true
   },
   "outputs": [
    {
     "name": "stdout",
     "output_type": "stream",
     "text": [
      "  2.275349 seconds (4.66 M allocations: 309.740 MiB, 3.18% gc time, 85.91% compilation time)\n"
     ]
    }
   ],
   "source": [
    "@time spatial_discretization = SpatialDiscretization(mesh, \n",
    "    reference_approximation);"
   ]
  },
  {
   "cell_type": "code",
   "execution_count": 8,
   "metadata": {
    "scrolled": false
   },
   "outputs": [
    {
     "name": "stdout",
     "output_type": "stream",
     "text": [
      "  5.434095 seconds (14.76 M allocations: 928.601 MiB, 3.61% gc time, 99.20% compilation time: <1% of which was recompilation)\n"
     ]
    }
   ],
   "source": [
    "@time results_path = save_project(conservation_law,\n",
    "     spatial_discretization, exact_solution, form, (0.0, T),\n",
    "     \"results/advection_3d/\", overwrite=true, clear=true);"
   ]
  },
  {
   "cell_type": "markdown",
   "metadata": {},
   "source": [
    "Using the `semidiscretize` function, we can create an `ODEProblem` object for use with OrdinaryDiffEq.jl's `solve` function. Here we've chosen the option for a weight-adjusted approximation of the mass matrix inverse from [Chan et al. (SISC 2017)](https://arxiv.org/abs/1608.03836), which allows for modal schemes to be applied efficiently at high order with explicit time-marching methods."
   ]
  },
  {
   "cell_type": "code",
   "execution_count": 9,
   "metadata": {
    "scrolled": true
   },
   "outputs": [
    {
     "name": "stdout",
     "output_type": "stream",
     "text": [
      " 10.666794 seconds (5.35 M allocations: 490.579 MiB, 1.82% gc time, 98.06% compilation time: <1% of which was recompilation)\n"
     ]
    },
    {
     "data": {
      "text/plain": [
       "\u001b[38;2;86;182;194mODEProblem\u001b[0m with uType \u001b[38;2;86;182;194mArray{Float64, 3}\u001b[0m and tType \u001b[38;2;86;182;194mFloat64\u001b[0m. In-place: \u001b[38;2;86;182;194mtrue\u001b[0m\n",
       "timespan: (0.0, 1.0)\n",
       "u0: 35×1×384 Array{Float64, 3}:\n",
       "[:, :, 1] =\n",
       "  0.526841280496322\n",
       "  0.23005944467759418\n",
       " -0.009290914470701711\n",
       " -0.012478658346043935\n",
       "  0.0011386319281426142\n",
       "  0.016956034917536326\n",
       "  0.013327760319501633\n",
       " -0.006896153054356678\n",
       "  0.0003458885535326595\n",
       " -0.03386825432222411\n",
       " -0.004124640875220375\n",
       " -0.0002157548364756823\n",
       " -0.00018607447383010376\n",
       "  ⋮\n",
       "  0.0008722770526677527\n",
       "  0.001653483518393314\n",
       " -0.048480602708067935\n",
       " -0.02481140650378145\n",
       "  0.0015031143912520525\n",
       " -0.0008232717452017709\n",
       " -0.0011703990564559778\n",
       "  0.0004881093707532717\n",
       "  0.032020378406276195\n",
       " -0.0022121807477622963\n",
       "  0.0034048185582440708\n",
       "  0.007831187284208134\n",
       "\n",
       "[:, :, 2] =\n",
       "  0.15469373738386977\n",
       "  0.012677207600159956\n",
       " -0.02558718216154592\n",
       "  0.0005493979794464938\n",
       "  0.000771973567071769\n",
       " -0.0609469373541721\n",
       " -0.043071934900802814\n",
       "  0.0012813045742525414\n",
       "  0.0010511762058713436\n",
       " -0.0206785229748985\n",
       "  0.002072454251621025\n",
       "  0.00010827816370991114\n",
       "  0.026296899790118424\n",
       "  ⋮\n",
       " -0.0023090471024151938\n",
       " -0.004703092317928655\n",
       " -0.003988515257818235\n",
       " -0.0020351196372220145\n",
       "  0.0006044237102806881\n",
       "  0.0021594978304263876\n",
       "  0.0007718202869595354\n",
       "  0.0019534513483023116\n",
       " -0.0009061394155480119\n",
       " -0.00045417004978928304\n",
       " -0.0003262129350207673\n",
       "  5.823103285901703e-6\n",
       "\n",
       "[:, :, 3] =\n",
       "  0.0410491739841475\n",
       "  0.008841968660582126\n",
       " -0.01262261149667385\n",
       "  0.015730392922308812\n",
       "  0.000696930207191027\n",
       "  0.04154963248633228\n",
       "  0.017563886372298453\n",
       " -0.024225047166881036\n",
       " -0.003865308834512661\n",
       "  0.01274306709225729\n",
       "  0.012590976918188806\n",
       "  0.0038322810963732487\n",
       " -0.0009625553804454148\n",
       "  ⋮\n",
       " -0.0016014934949014044\n",
       " -0.0014723156684547276\n",
       "  0.0024740110813081034\n",
       "  0.00206393986967636\n",
       "  2.073487477060831e-5\n",
       "  0.0012903365141330994\n",
       " -0.0006353486397532494\n",
       " -0.0007844330152379243\n",
       "  0.00048769559776328577\n",
       "  7.880115604504445e-5\n",
       " -0.0001952044516603234\n",
       "  4.24963680773752e-5\n",
       "\n",
       ";;; … \n",
       "\n",
       "[:, :, 382] =\n",
       "  0.6464986628812192\n",
       " -0.0071802443125288445\n",
       " -0.07012448114095474\n",
       " -0.0024720080230987884\n",
       "  0.0022664605724823142\n",
       " -0.11615822377238269\n",
       "  0.005898399234749855\n",
       "  0.006268508257378164\n",
       " -0.000434016007005056\n",
       " -0.010447553034858385\n",
       " -0.0040451574332535985\n",
       "  0.00044145207088412675\n",
       "  0.004651507442458875\n",
       "  ⋮\n",
       " -0.00028118848243211203\n",
       "  0.0007742754868614951\n",
       " -0.02583906059566602\n",
       " -0.0006144328430668125\n",
       "  0.0009186192910246349\n",
       "  0.0022759506262534637\n",
       "  0.00019013118734096364\n",
       " -0.0002922162854954161\n",
       " -0.002415714758267717\n",
       "  0.0002476259225724337\n",
       "  0.00013118891640767716\n",
       "  0.0002188529471162714\n",
       "\n",
       "[:, :, 383] =\n",
       "  0.26150767572939043\n",
       " -0.0957744372158727\n",
       "  0.0051773035815701855\n",
       "  0.004067552547570295\n",
       " -0.0002630067744730447\n",
       "  0.0411109891788003\n",
       " -0.00989819319603548\n",
       "  0.0009964458103030943\n",
       "  9.37975659587289e-6\n",
       " -0.07438354166285607\n",
       " -0.0027767673692715633\n",
       "  0.00030551785258352797\n",
       " -0.0054940947228810325\n",
       "  ⋮\n",
       "  0.0003876970663479139\n",
       " -0.0006196334049622298\n",
       " -0.010764937346523428\n",
       "  0.001566264935253006\n",
       "  1.1231915986966749e-5\n",
       " -0.0006369069252107168\n",
       "  0.00026629245911123043\n",
       "  0.000575509262510967\n",
       "  0.000689767649591718\n",
       "  2.173249502746893e-5\n",
       " -0.00022998198948099454\n",
       "  0.00012522713828169244\n",
       "\n",
       "[:, :, 384] =\n",
       "  0.11303969500368088\n",
       " -0.05750722202445134\n",
       "  0.009135301143035679\n",
       "  0.0007577467382830197\n",
       " -0.00033713569377878644\n",
       " -0.0613787904974962\n",
       "  0.009608083896425097\n",
       " -2.9191338897728418e-5\n",
       " -0.00030112713092785985\n",
       "  0.0032335874509343823\n",
       "  0.000936624114065207\n",
       " -0.00018373123310817615\n",
       "  0.00399766925760831\n",
       "  ⋮\n",
       " -0.00017314335242770156\n",
       "  8.925370606515579e-5\n",
       " -0.04491992603397253\n",
       "  0.0021153823471477167\n",
       " -0.00021486134310234054\n",
       " -0.0011394224402870193\n",
       " -0.00013582565071713882\n",
       "  0.0002822813299274931\n",
       "  0.00486893287121778\n",
       " -0.0002643815639028262\n",
       " -0.0005931439238288242\n",
       "  0.0013031970308717247"
      ]
     },
     "execution_count": 9,
     "metadata": {},
     "output_type": "execute_result"
    }
   ],
   "source": [
    "CFL = 0.1\n",
    "h = L/(reference_approximation.N_p * spatial_discretization.N_e)^(1/3)\n",
    "dt = CFL * h / sqrt(a[1]^2 + a[2]^2 + a[3]^2)\n",
    "\n",
    "@time ode_problem = semidiscretize(conservation_law, spatial_discretization, exact_solution, form, (0.0, T))"
   ]
  },
  {
   "cell_type": "code",
   "execution_count": null,
   "metadata": {},
   "outputs": [],
   "source": [
    "times = @snoopi_deep solve(ode_problem, CarpenterKennedy2N54(), adaptive=false, dt=dt,\n",
    "    save_everystep=false)"
   ]
  },
  {
   "cell_type": "code",
   "execution_count": null,
   "metadata": {},
   "outputs": [],
   "source": []
  }
 ],
 "metadata": {
  "kernelspec": {
   "display_name": "Julia 1.9.3",
   "language": "julia",
   "name": "julia-1.9"
  },
  "language_info": {
   "file_extension": ".jl",
   "mimetype": "application/julia",
   "name": "julia",
   "version": "1.9.3"
  }
 },
 "nbformat": 4,
 "nbformat_minor": 2
}
