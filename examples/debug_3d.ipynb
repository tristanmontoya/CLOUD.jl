{
 "cells": [
  {
   "cell_type": "code",
   "execution_count": 44,
   "metadata": {
    "scrolled": false
   },
   "outputs": [],
   "source": [
    "using StableSpectralElements, OrdinaryDiffEq, LinearAlgebra, StartUpDG\n",
    "using Plots, Plots.PlotMeasures, Printf, TimerOutputs, BenchmarkTools, PrettyTables"
   ]
  },
  {
   "cell_type": "code",
   "execution_count": 29,
   "metadata": {
    "scrolled": true
   },
   "outputs": [],
   "source": [
    "a = (1.0,1.0,1.0)  # advection velocity\n",
    "L = 1.0  # domain length\n",
    "T = 1.0  # end time\n",
    "\n",
    "conservation_law = LinearAdvectionEquation(a)\n",
    "exact_solution = InitialDataSine(1.0,(2π/L, 2π/L, 2π/L));"
   ]
  },
  {
   "cell_type": "code",
   "execution_count": 65,
   "metadata": {},
   "outputs": [],
   "source": [
    "M = 2\n",
    "p = 1\n",
    "\n",
    "reference_approximation_tensor = ReferenceApproximation(\n",
    "    ModalTensor(p), Tet(), mapping_degree=1, \n",
    "    volume_quadrature_rule=(LGQuadrature(p),\n",
    "        LGQuadrature(p), GaussQuadrature(p,1,0)), \n",
    "    facet_quadrature_rule=(LGQuadrature(p), GaussQuadrature(p,1,0)))\n",
    "\n",
    "reference_approximation_multi = ReferenceApproximation(\n",
    "    ModalMulti(p), Tet(), mapping_degree=1, \n",
    "    volume_quadrature_rule=(LGQuadrature(p),\n",
    "        LGQuadrature(p), GaussQuadrature(p,1,0)), \n",
    "    facet_quadrature_rule=(LGQuadrature(p), GaussQuadrature(p,1,0)))\n",
    "\n",
    "form = StandardForm(mapping_form=StandardMapping(), \n",
    "    inviscid_numerical_flux=LaxFriedrichsNumericalFlux())\n",
    "\n",
    "uniform_mesh = uniform_periodic_mesh(\n",
    "            reference_approximation.reference_element, \n",
    "            Tuple((0.0,L) for m in 1:3), Tuple(M for m in 1:3),\n",
    "            collapsed_orientation=true, tol=1.0e-10)\n",
    "\n",
    "mesh = warp_mesh(uniform_mesh, reference_approximation, \n",
    "    ChanWarping(1.0/16.0,Tuple(L for m in 1:3)))\n",
    "\n",
    "spatial_discretization_tensor = SpatialDiscretization(mesh, \n",
    "    reference_approximation_tensor, ExactMetrics())\n",
    "\n",
    "spatial_discretization_multi = SpatialDiscretization(mesh, \n",
    "    reference_approximation_multi, ExactMetrics());"
   ]
  },
  {
   "cell_type": "code",
   "execution_count": 66,
   "metadata": {},
   "outputs": [],
   "source": [
    "C_t = 0.05\n",
    "h = L/M\n",
    "dt = C_t*h/(norm(a)*p^2)\n",
    "\n",
    "ode_problem_tensor = semidiscretize(conservation_law, spatial_discretization_tensor,\n",
    "    exact_solution, form, (0.0, T), PhysicalOperator());\n",
    "ode_problem_multi = semidiscretize(conservation_law, spatial_discretization_multi,\n",
    "    exact_solution, form, (0.0, T), PhysicalOperator());"
   ]
  },
  {
   "cell_type": "code",
   "execution_count": 67,
   "metadata": {},
   "outputs": [
    {
     "name": "stdout",
     "output_type": "stream",
     "text": [
      "[0.0 -0.0 -0.0 -0.0 -0.0 0.0 -0.0 0.0; -0.0 -0.0 -0.0 -0.0 -0.0 -0.0 -0.0 -0.0; 0.0 -0.0 0.0 -0.0 0.0 -0.0 0.0 0.0; -0.0 -0.0 -0.0 -0.0 0.0 -0.0 -0.0 -0.0]\n"
     ]
    }
   ],
   "source": [
    "println(round.(Matrix(ode_problem_tensor.p.operators.VOL[1][1]) \n",
    "        .- Matrix(ode_problem_multi.p.operators.VOL[1][1]); digits=3))"
   ]
  },
  {
   "cell_type": "code",
   "execution_count": 68,
   "metadata": {},
   "outputs": [
    {
     "name": "stdout",
     "output_type": "stream",
     "text": [
      "[0.0 -0.0 0.0 0.0 -0.0 -0.0 0.0 -0.0 -0.0 -0.0 -0.0 -0.0 0.0 -0.0 0.0 0.0; -0.0 -0.0 -0.0 -0.0 5.818 -2.376 0.267 -3.71 0.0 0.0 0.0 -0.0 0.0 0.0 -0.0 0.0; -0.0 0.0 -0.0 0.0 1.773 3.095 -6.077 1.208 -0.0 -0.0 -0.0 -0.0 -0.0 0.0 -0.0 0.0; -0.0 -0.0 0.0 0.0 -3.399 -0.817 3.399 0.817 -0.0 -0.0 -0.0 -0.0 -0.0 -0.0 0.0 0.0]\n"
     ]
    }
   ],
   "source": [
    "println(round.(Matrix(ode_problem_tensor.p.operators.FAC[1]) \n",
    "        .- Matrix(ode_problem_multi.p.operators.FAC[1]); digits=3))"
   ]
  },
  {
   "cell_type": "code",
   "execution_count": 75,
   "metadata": {},
   "outputs": [
    {
     "name": "stdout",
     "output_type": "stream",
     "text": [
      "[0.0 0.0 0.0 0.0; 0.0 0.0 0.0 0.0; 0.0 0.0 0.0 0.0; 0.0 0.0 0.0 0.0; 0.0 0.0 0.0 0.0; 0.0 0.0 0.0 0.0; 0.0 0.0 0.0 0.0; 0.0 0.0 0.0 0.0; 0.0 0.0 0.0 0.0; 0.0 0.0 0.0 0.0; 0.0 0.0 0.0 0.0; 0.0 0.0 0.0 0.0; 0.0 0.0 0.0 0.0; 0.0 0.0 0.0 0.0; 0.0 0.0 0.0 0.0; 0.0 0.0 0.0 0.0]\n"
     ]
    }
   ],
   "source": [
    "println(round.(Matrix(reference_approximation_tensor.R * reference_approximation_tensor.V) \n",
    "        .- Matrix(reference_approximation_tensor.Vf); digits=3))"
   ]
  },
  {
   "cell_type": "code",
   "execution_count": 82,
   "metadata": {},
   "outputs": [
    {
     "name": "stdout",
     "output_type": "stream",
     "text": [
      "[0.0 -0.0 0.0 -0.0; 0.0 0.0 0.0 0.0; 0.0 0.0 0.0 -0.0; 0.0 0.0 0.0 0.0; 0.0 0.0 0.0 0.0; 0.0 -0.0 0.0 0.0; 0.0 0.0 0.0 0.0; 0.0 -0.0 -0.0 0.0; -0.0 0.0 -0.0 0.0; -0.0 0.0 0.0 0.0; 0.0 0.0 -0.0 0.0; 0.0 0.0 0.0 0.0; -0.0 0.0 0.0 0.0; -0.0 -0.0 0.0 0.0; 0.0 0.0 0.0 0.0; 0.0 0.0 0.0 0.0]\n"
     ]
    }
   ],
   "source": [
    "println(round.(Matrix(reference_approximation_multi.R * reference_approximation_multi.V) \n",
    "        .- Matrix(reference_approximation_multi.Vf); digits=3))"
   ]
  },
  {
   "cell_type": "code",
   "execution_count": 83,
   "metadata": {},
   "outputs": [
    {
     "data": {
      "text/plain": [
       "16-element Vector{Float64}:\n",
       "  0.0\n",
       "  0.0\n",
       "  0.0\n",
       "  0.0\n",
       " -0.9756630355021699\n",
       " -0.4099776105529319\n",
       "  0.9756630355021702\n",
       "  0.4099776105529319\n",
       "  0.0\n",
       "  0.0\n",
       "  0.0\n",
       "  0.0\n",
       "  0.0\n",
       "  0.0\n",
       "  0.0\n",
       "  0.0"
      ]
     },
     "execution_count": 83,
     "metadata": {},
     "output_type": "execute_result"
    }
   ],
   "source": [
    "reference_approximation_multi.reference_element.rf .- reference_approximation_tensor.reference_element.rf"
   ]
  }
 ],
 "metadata": {
  "kernelspec": {
   "display_name": "Julia 1.9.3",
   "language": "julia",
   "name": "julia-1.9"
  },
  "language_info": {
   "file_extension": ".jl",
   "mimetype": "application/julia",
   "name": "julia",
   "version": "1.9.3"
  }
 },
 "nbformat": 4,
 "nbformat_minor": 2
}
