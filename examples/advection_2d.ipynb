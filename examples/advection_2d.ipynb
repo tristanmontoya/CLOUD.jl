{
 "cells": [
  {
   "cell_type": "markdown",
   "metadata": {},
   "source": [
    "# `CLOUD.jl` - 2D linear advection example"
   ]
  },
  {
   "cell_type": "code",
   "execution_count": 1,
   "metadata": {
    "scrolled": true
   },
   "outputs": [
    {
     "name": "stderr",
     "output_type": "stream",
     "text": [
      "\u001b[36m\u001b[1m[ \u001b[22m\u001b[39m\u001b[36m\u001b[1mInfo: \u001b[22m\u001b[39mInstalling pyqt package to avoid buggy tkagg backend.\n",
      "\u001b[33m\u001b[1m┌ \u001b[22m\u001b[39m\u001b[33m\u001b[1mWarning: \u001b[22m\u001b[39mNo working GUI backend found for matplotlib\n",
      "\u001b[33m\u001b[1m└ \u001b[22m\u001b[39m\u001b[90m@ PyPlot ~/.julia/packages/PyPlot/XaELc/src/init.jl:165\u001b[39m\n"
     ]
    },
    {
     "name": "stderr",
     "output_type": "stream",
     "text": [
      "┌ Info: Installing pyqt package to avoid buggy tkagg backend.\n",
      "└ @ PyPlot /Users/tristanmontoya/.julia/packages/PyPlot/XaELc/src/init.jl:118\n"
     ]
    }
   ],
   "source": [
    "using OrdinaryDiffEq\n",
    "using CLOUD;"
   ]
  },
  {
   "cell_type": "markdown",
   "metadata": {},
   "source": [
    "Define the physical problem"
   ]
  },
  {
   "cell_type": "code",
   "execution_count": 2,
   "metadata": {
    "scrolled": true
   },
   "outputs": [],
   "source": [
    "θ = π/4 # wave angle\n",
    "a = sqrt(2) # wave speed\n",
    "A = 1.0  # amplitude\n",
    "L = 1.0  # domain length\n",
    "k = (2*π/L, 2*π/L)  # wave number\n",
    "T = 1.0/(a*max(abs(cos(θ)),abs(cos(θ)))) # end time for one period\n",
    "initial_data = InitialDataSine(A,k)\n",
    "conservation_law = linear_advection_equation((a*cos(θ),a*sin(θ)),λ=1.0);"
   ]
  },
  {
   "cell_type": "markdown",
   "metadata": {},
   "source": [
    "Set discretization parameters"
   ]
  },
  {
   "cell_type": "code",
   "execution_count": 3,
   "metadata": {
    "scrolled": false
   },
   "outputs": [],
   "source": [
    "M = 4\n",
    "p = 4\n",
    "p_map = 4\n",
    "form = SplitConservationForm()\n",
    "integrator = CarpenterKennedy2N54()\n",
    "dt_scale=0.05\n",
    "dt = dt_scale*(L/M)/(a*(2*p+1));\n",
    "write_interval = floor(Int, T/(dt*10));"
   ]
  },
  {
   "cell_type": "markdown",
   "metadata": {},
   "source": [
    "Set up a `DGSEM` scheme with LG quadrature on quadrilaterals of degree `p` with `M` edges in each direction"
   ]
  },
  {
   "cell_type": "code",
   "execution_count": 4,
   "metadata": {},
   "outputs": [],
   "source": [
    "reference_approximation =ReferenceApproximation(\n",
    "    DGSEM(p), Quad(),\n",
    "    volume_quadrature_rule=LGQuadrature(),\n",
    "    facet_quadrature_rule=LGQuadrature(),\n",
    "    mapping_degree=p_map, N_plot=50)\n",
    "\n",
    "mesh = warp_mesh(uniform_periodic_mesh(\n",
    "    reference_approximation.reference_element, \n",
    "    ((0.0,L),(0.0,L)), (M,M)), \n",
    "    reference_approximation.reference_element, 0.1)\n",
    "\n",
    "spatial_discretization = SpatialDiscretization(mesh, \n",
    "    reference_approximation)\n",
    "\n",
    "results_path = save_project(conservation_law,\n",
    "     spatial_discretization, initial_data, form, (0.0, T), Lazy(),\n",
    "     \"results/advection_2d_dgsem/\", overwrite=true, clear=true)\n",
    "\n",
    "visualize(spatial_discretization, results_path, \"mesh.pdf\", \n",
    "    plot_volume_nodes=false, grid_lines=true)"
   ]
  },
  {
   "cell_type": "markdown",
   "metadata": {},
   "source": [
    "Run the solver and plot the solution"
   ]
  },
  {
   "cell_type": "code",
   "execution_count": 5,
   "metadata": {
    "scrolled": true
   },
   "outputs": [
    {
     "name": "stdout",
     "output_type": "stream",
     "text": [
      "\u001b[0m\u001b[1m ────────────────────────────────────────────────────────────────────────────────\u001b[22m\n",
      "\u001b[0m\u001b[1m                               \u001b[22m         Time                    Allocations      \n",
      "                               ───────────────────────   ────────────────────────\n",
      "       Tot / % measured:           451ms / 1091.2%          57.4MiB / 5287.5%    \n",
      "\n",
      " Section               ncalls     time    %tot     avg     alloc    %tot      avg\n",
      " ────────────────────────────────────────────────────────────────────────────────\n",
      " eval residual          81.5k    2.16s   43.9%  26.5μs   0.98GiB   32.9%  12.6KiB\n",
      "   volume terms         81.5k    1.37s   27.9%  16.8μs    674MiB   22.2%  8.47KiB\n",
      "   facet terms          81.5k    503ms   10.2%  6.16μs    212MiB    7.0%  2.66KiB\n",
      "   mass matrix solve    81.5k   94.9ms    1.9%  1.16μs   39.8MiB    1.3%     512B\n",
      " eval flux diff         81.5k    1.41s   28.5%  17.2μs   1.11GiB   37.6%  14.3KiB\n",
      " extrapolate solution   81.5k    681ms   13.8%  8.35μs    269MiB    8.9%  3.38KiB\n",
      " eval numerical flux    81.5k    303ms    6.1%  3.71μs    241MiB    7.9%  3.02KiB\n",
      " eval flux              81.5k    217ms    4.4%  2.67μs    124MiB    4.1%  1.56KiB\n",
      " gather external state  81.5k    156ms    3.2%  1.91μs    261MiB    8.6%  3.28KiB\n",
      "\u001b[0m\u001b[1m ────────────────────────────────────────────────────────────────────────────────\u001b[22m\n"
     ]
    }
   ],
   "source": [
    "ode_problem = semidiscretize(load_project(results_path)...)\n",
    "save_solution(ode_problem.u0, 0.0, results_path, 0)\n",
    "\n",
    "CLOUD_reset_timer()\n",
    "sol = solve(ode_problem, integrator, adaptive=false, dt=dt,\n",
    "    save_everystep=false, callback=save_callback(results_path, write_interval))\n",
    "CLOUD_print_timer()\n",
    "\n",
    "save_solution(last(sol.u), last(sol.t), results_path, \"final\")\n",
    "plotter = Plotter(spatial_discretization, results_path)\n",
    "visualize(last(sol.u), plotter, \"approx.pdf\", u_range=[-1.0,1.0], contours=25,\n",
    "    label=\"U^h(\\\\mathbf{x},t)\")\n"
   ]
  },
  {
   "cell_type": "code",
   "execution_count": 6,
   "metadata": {},
   "outputs": [],
   "source": [
    "visualize(initial_data, plotter, \"exact.pdf\", u_range=[-1.0,1.0], contours=17, label=\"U^0(\\\\mathbf{x})\")"
   ]
  },
  {
   "cell_type": "markdown",
   "metadata": {},
   "source": [
    "Calculate the integral L<sup>2</sup> error norm and conservation/energy error"
   ]
  },
  {
   "cell_type": "code",
   "execution_count": 7,
   "metadata": {
    "scrolled": true
   },
   "outputs": [
    {
     "name": "stdout",
     "output_type": "stream",
     "text": [
      "L2 error:\n"
     ]
    },
    {
     "name": "stdout",
     "output_type": "stream",
     "text": [
      "0.000683954884588324\n",
      "Conservation (initial/final/diff):\n"
     ]
    },
    {
     "name": "stdout",
     "output_type": "stream",
     "text": [
      "[-1.108594540819019e-8][-1.1085945919933615e-8][-5.117434254131581e-16]\n",
      "Energy (initial/final/diff):\n"
     ]
    },
    {
     "name": "stdout",
     "output_type": "stream",
     "text": [
      "[0.12499998811286066][0.12497956180878655][-2.0426304074103174e-5]\n"
     ]
    }
   ],
   "source": [
    "error_analysis = ErrorAnalysis(results_path, conservation_law, \n",
    "    spatial_discretization)\n",
    "conservation_analysis = PrimaryConservationAnalysis(results_path, \n",
    "    conservation_law, spatial_discretization)\n",
    "energy_analysis = EnergyConservationAnalysis(results_path, \n",
    "    conservation_law, spatial_discretization)\n",
    "\n",
    "println(\"L2 error:\")\n",
    "println(analyze(error_analysis, last(sol.u), initial_data)...)\n",
    "println(\"Conservation (initial/final/diff):\")\n",
    "println(analyze(conservation_analysis)...)\n",
    "println(\"Energy (initial/final/diff):\")\n",
    "println(analyze(energy_analysis)...)"
   ]
  },
  {
   "cell_type": "markdown",
   "metadata": {},
   "source": [
    "Set up a `DGMulti` scheme on triangles of degree `p` with `M` edges in each direction"
   ]
  },
  {
   "cell_type": "code",
   "execution_count": 8,
   "metadata": {},
   "outputs": [],
   "source": [
    "reference_approximation = ReferenceApproximation(\n",
    "    DGMulti(p), Tri(), mapping_degree=p_map, N_plot=10)\n",
    "\n",
    "mesh = warp_mesh(uniform_periodic_mesh(\n",
    "    reference_approximation.reference_element, \n",
    "    ((0.0,L),(0.0,L)), (M,M)), \n",
    "    reference_approximation.reference_element, 0.1)\n",
    "\n",
    "spatial_discretization = SpatialDiscretization(mesh, \n",
    "    reference_approximation)\n",
    "\n",
    "results_path = save_project(conservation_law,\n",
    "     spatial_discretization, initial_data, form, (0.0, T), Lazy(),\n",
    "     \"results/advection_2d_dgmulti/\", overwrite=true, clear=true)\n",
    "\n",
    "visualize(spatial_discretization, results_path, \"mesh.pdf\", \n",
    "    plot_volume_nodes=true, grid_lines=false)"
   ]
  },
  {
   "cell_type": "markdown",
   "metadata": {},
   "source": [
    "Run the solver and plot the solution"
   ]
  },
  {
   "cell_type": "code",
   "execution_count": 9,
   "metadata": {
    "scrolled": true
   },
   "outputs": [
    {
     "name": "stdout",
     "output_type": "stream",
     "text": [
      "\u001b[0m\u001b[1m ────────────────────────────────────────────────────────────────────────────────\u001b[22m\n",
      "\u001b[0m\u001b[1m                               \u001b[22m         Time                    Allocations      \n",
      "                               ───────────────────────   ────────────────────────\n",
      "       Tot / % measured:         97.4μs / 5841714.9%      12.9KiB / 40468359.8%  \n",
      "\n",
      " Section               ncalls     time    %tot     avg     alloc    %tot      avg\n",
      " ────────────────────────────────────────────────────────────────────────────────\n",
      " eval residual           163k    3.00s   52.7%  18.4μs   2.44GiB   49.0%  15.7KiB\n",
      "   volume terms          163k    2.16s   37.9%  13.2μs   1.95GiB   39.0%  12.5KiB\n",
      "   mass matrix solve     163k    443ms    7.8%  2.72μs    371MiB    7.3%  2.33KiB\n",
      "   facet terms           163k    152ms    2.7%   933ns   39.0MiB    0.8%     251B\n",
      " eval flux diff          163k    1.67s   29.3%  10.2μs   1.34GiB   26.9%  8.61KiB\n",
      " eval flux               163k    322ms    5.7%  1.97μs    139MiB    2.7%     896B\n",
      " eval numerical flux     163k    261ms    4.6%  1.60μs    333MiB    6.5%  2.09KiB\n",
      " gather external state   163k    255ms    4.5%  1.56μs    699MiB   13.7%  4.39KiB\n",
      " extrapolate solution    163k    190ms    3.3%  1.17μs   62.2MiB    1.2%     400B\n",
      "\u001b[0m\u001b[1m ────────────────────────────────────────────────────────────────────────────────\u001b[22m\n"
     ]
    }
   ],
   "source": [
    "ode_problem = semidiscretize(load_project(results_path)...)\n",
    "\n",
    "save_solution(ode_problem.u0, 0.0, results_path, 0)\n",
    "\n",
    "CLOUD_reset_timer()\n",
    "sol = solve(ode_problem, integrator, adaptive=false, dt=dt,\n",
    "    save_everystep=false, callback=save_callback(results_path, write_interval))\n",
    "CLOUD_print_timer()\n",
    "\n",
    "save_solution(last(sol.u), last(sol.t), results_path, \"final\")\n",
    "\n",
    "plotter = Plotter(spatial_discretization, results_path)\n",
    "visualize(last(sol.u), plotter, \"approx.pdf\", u_range=[-1.0,1.0], contours=25,\n",
    "    label=\"U^h(\\\\mathbf{x},t)\")"
   ]
  },
  {
   "cell_type": "markdown",
   "metadata": {},
   "source": [
    "Calculate the integral L<sup>2</sup> error norm and conservation/energy error"
   ]
  },
  {
   "cell_type": "code",
   "execution_count": 11,
   "metadata": {
    "scrolled": true
   },
   "outputs": [
    {
     "name": "stdout",
     "output_type": "stream",
     "text": [
      "L2 error:\n",
      "0.0034367122388651375\n",
      "Conservation (initial/final/diff):\n"
     ]
    },
    {
     "name": "stdout",
     "output_type": "stream",
     "text": [
      "[-1.4530229013823975e-7][-1.4530229025620095e-7][-1.1796119636642288e-16]\n",
      "Energy (initial/final/diff):\n",
      "[0.12499475017905026][0.12485504074741147][-0.0001397094316387959]\n"
     ]
    }
   ],
   "source": [
    "error_analysis = ErrorAnalysis(results_path, conservation_law, \n",
    "    spatial_discretization)\n",
    "conservation_analysis = PrimaryConservationAnalysis(results_path, \n",
    "    conservation_law, spatial_discretization)\n",
    "energy_analysis = EnergyConservationAnalysis(results_path, \n",
    "    conservation_law, spatial_discretization)\n",
    "\n",
    "println(\"L2 error:\")\n",
    "println(analyze(error_analysis, last(sol.u), initial_data)...)\n",
    "println(\"Conservation (initial/final/diff):\")\n",
    "println(analyze(conservation_analysis)...)\n",
    "println(\"Energy (initial/final/diff):\")\n",
    "println(analyze(energy_analysis)...)"
   ]
  }
 ],
 "metadata": {
  "kernelspec": {
   "display_name": "Julia 1.7.3",
   "language": "julia",
   "name": "julia-1.7"
  },
  "language_info": {
   "file_extension": ".jl",
   "mimetype": "application/julia",
   "name": "julia",
   "version": "1.7.3"
  }
 },
 "nbformat": 4,
 "nbformat_minor": 2
}
