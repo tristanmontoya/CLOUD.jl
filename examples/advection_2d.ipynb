{
 "cells": [
  {
   "cell_type": "markdown",
   "metadata": {},
   "source": [
    "# `CLOUD.jl` - 2D linear advection example"
   ]
  },
  {
   "cell_type": "code",
   "execution_count": 1,
   "metadata": {
    "scrolled": false
   },
   "outputs": [
    {
     "name": "stderr",
     "output_type": "stream",
     "text": [
      "┌ Info: Precompiling CLOUD [fb992021-99c7-4c2d-a14b-5e48ac4045b2]\n",
      "└ @ Base loading.jl:1423\n"
     ]
    }
   ],
   "source": [
    "using CLOUD, OrdinaryDiffEq"
   ]
  },
  {
   "cell_type": "markdown",
   "metadata": {},
   "source": [
    "Define the physical problem"
   ]
  },
  {
   "cell_type": "code",
   "execution_count": 2,
   "metadata": {
    "scrolled": true
   },
   "outputs": [],
   "source": [
    "θ = π/4 # wave angle\n",
    "a = sqrt(2) # wave speed\n",
    "A = 1.0  # amplitude\n",
    "L = 1.0  # domain length\n",
    "k = (2*π/L, 2*π/L)  # wave number\n",
    "T = 1.0/(a*max(abs(cos(θ)),abs(cos(θ)))) # end time for one period\n",
    "\n",
    "conservation_law = LinearAdvectionEquation((a*cos(θ),a*sin(θ)))\n",
    "initial_data = InitialDataSine(A,k)\n",
    "exact_solution = ExactSolution(conservation_law,initial_data);"
   ]
  },
  {
   "cell_type": "markdown",
   "metadata": {},
   "source": [
    "Set discretization parameters"
   ]
  },
  {
   "cell_type": "code",
   "execution_count": 3,
   "metadata": {
    "scrolled": false
   },
   "outputs": [],
   "source": [
    "M = 4\n",
    "p = 5\n",
    "p_map = 5\n",
    "form = WeakConservationForm()\n",
    "strategy = Lazy()\n",
    "\n",
    "ode_algorithm = CarpenterKennedy2N54()\n",
    "dt = 0.1*(L/M)/(a*(2*p+1));\n",
    "write_interval = floor(Int, T/(dt*10));"
   ]
  },
  {
   "cell_type": "markdown",
   "metadata": {},
   "source": [
    "## Collocated DGSEM on quadrilaterals"
   ]
  },
  {
   "cell_type": "markdown",
   "metadata": {},
   "source": [
    "Set up a `DGSEM` scheme with LG quadrature on quadrilaterals of degree `p` with `M` edges in each direction"
   ]
  },
  {
   "cell_type": "code",
   "execution_count": 4,
   "metadata": {},
   "outputs": [
    {
     "data": {
      "text/plain": [
       "\"results/advection_2d_dgsem/\""
      ]
     },
     "execution_count": 4,
     "metadata": {},
     "output_type": "execute_result"
    }
   ],
   "source": [
    "reference_approximation =ReferenceApproximation(\n",
    "    DGSEM(p), Quad(),\n",
    "    volume_quadrature_rule=LGQuadrature(),\n",
    "    facet_quadrature_rule=LGQuadrature(),\n",
    "    mapping_degree=p_map, N_plot=50)\n",
    "\n",
    "mesh = warp_mesh(uniform_periodic_mesh(\n",
    "    reference_approximation.reference_element, \n",
    "    ((0.0,L),(0.0,L)), (M,M)), \n",
    "    reference_approximation.reference_element, 0.2)\n",
    "\n",
    "spatial_discretization = SpatialDiscretization(mesh, \n",
    "    reference_approximation)\n",
    "\n",
    "results_path = save_project(conservation_law,\n",
    "     spatial_discretization, initial_data, form, (0.0, T), Lazy(),\n",
    "     \"results/advection_2d_dgsem/\", overwrite=true, clear=true)"
   ]
  },
  {
   "cell_type": "markdown",
   "metadata": {},
   "source": [
    "Run the solver"
   ]
  },
  {
   "cell_type": "code",
   "execution_count": 5,
   "metadata": {},
   "outputs": [
    {
     "name": "stdout",
     "output_type": "stream",
     "text": [
      "\u001b[0m\u001b[1m ────────────────────────────────────────────────────────────────────────────────\u001b[22m\n",
      "\u001b[0m\u001b[1m                               \u001b[22m         Time                    Allocations      \n",
      "                               ───────────────────────   ────────────────────────\n",
      "       Tot / % measured:            487ms / 532.5%          57.3MiB / 2353.9%    \n",
      "\n",
      " Section               ncalls     time    %tot     avg     alloc    %tot      avg\n",
      " ────────────────────────────────────────────────────────────────────────────────\n",
      " eval residual          49.9k    1.60s   61.7%  32.1μs    683MiB   50.6%  14.0KiB\n",
      "   volume terms         49.9k    707ms   27.3%  14.2μs    328MiB   24.3%  6.73KiB\n",
      "   facet terms          49.9k    641ms   24.7%  12.9μs    260MiB   19.3%  5.34KiB\n",
      "   mass matrix solve    49.9k    103ms    4.0%  2.07μs   35.0MiB    2.6%     736B\n",
      " extrap solution        49.9k    649ms   25.0%  13.0μs    222MiB   16.4%  4.56KiB\n",
      " eval flux              49.9k    192ms    7.4%  3.84μs    109MiB    8.1%  2.24KiB\n",
      " eval num flux          49.9k   81.1ms    3.1%  1.63μs    148MiB   10.9%  3.03KiB\n",
      " gather ext state       49.9k   70.6ms    2.7%  1.42μs    189MiB   14.0%  3.88KiB\n",
      "\u001b[0m\u001b[1m ────────────────────────────────────────────────────────────────────────────────\u001b[22m\n"
     ]
    }
   ],
   "source": [
    "ode_problem_1 = semidiscretize(conservation_law,\n",
    "    spatial_discretization,\n",
    "    initial_data, \n",
    "    form,\n",
    "    (0.0, T),\n",
    "    strategy)\n",
    "\n",
    "save_solution(ode_problem_1.u0, 0.0, results_path, 0)\n",
    "\n",
    "CLOUD_reset_timer()\n",
    "sol = solve(ode_problem_1, ode_algorithm, adaptive=false, dt=dt,\n",
    "    save_everystep=false, callback=save_callback(results_path, write_interval))\n",
    "CLOUD_print_timer()\n",
    "\n",
    "save_solution(last(sol.u), last(sol.t), results_path, \"final\")"
   ]
  },
  {
   "cell_type": "markdown",
   "metadata": {},
   "source": [
    "Calculate the integral L<sup>2</sup> error norm and conservation/energy error"
   ]
  },
  {
   "cell_type": "code",
   "execution_count": 6,
   "metadata": {
    "scrolled": true
   },
   "outputs": [
    {
     "name": "stdout",
     "output_type": "stream",
     "text": [
      "L2 error:\n",
      "0.0011999302847437096\n",
      "Conservation (initial/final/diff):\n"
     ]
    },
    {
     "ename": "LoadError",
     "evalue": "DimensionMismatch(\"second dimension of left factor, 36, does not match first dimension of right factor, 81\")",
     "output_type": "error",
     "traceback": [
      "DimensionMismatch(\"second dimension of left factor, 36, does not match first dimension of right factor, 81\")",
      "",
      "Stacktrace:",
      "  [1] check_dim_mul(A::LinearMaps.ScaledMap{Float64, Bool, LinearMaps.WrappedMap{Float64, Matrix{Float64}}}, B::Vector{Float64})",
      "    @ LinearMaps ~/.julia/packages/LinearMaps/BT89E/src/LinearMaps.jl:67",
      "  [2] *",
      "    @ ~/.julia/packages/LinearMaps/BT89E/src/LinearMaps.jl:132 [inlined]",
      "  [3] *",
      "    @ ./operators.jl:655 [inlined]",
      "  [4] (::CLOUD.Analysis.var\"#90#92\"{Int64, Array{Float64, 3}, LinearMaps.UniformScalingMap{Bool}, Vector{Matrix{Float64}}})(k::Int64)",
      "    @ CLOUD.Analysis ./none:0",
      "  [5] MappingRF",
      "    @ ./reduce.jl:95 [inlined]",
      "  [6] _foldl_impl",
      "    @ ./reduce.jl:58 [inlined]",
      "  [7] foldl_impl",
      "    @ ./reduce.jl:48 [inlined]",
      "  [8] mapfoldl_impl",
      "    @ ./reduce.jl:44 [inlined]",
      "  [9] #mapfoldl#244",
      "    @ ./reduce.jl:162 [inlined]",
      " [10] mapfoldl",
      "    @ ./reduce.jl:162 [inlined]",
      " [11] #mapreduce#248",
      "    @ ./reduce.jl:289 [inlined]",
      " [12] mapreduce",
      "    @ ./reduce.jl:289 [inlined]",
      " [13] #sum#251",
      "    @ ./reduce.jl:503 [inlined]",
      " [14] sum",
      "    @ ./reduce.jl:503 [inlined]",
      " [15] #sum#252",
      "    @ ./reduce.jl:532 [inlined]",
      " [16] sum",
      "    @ ./reduce.jl:532 [inlined]",
      " [17] #89",
      "    @ ./none:0 [inlined]",
      " [18] iterate",
      "    @ ./generator.jl:47 [inlined]",
      " [19] collect(itr::Base.Generator{UnitRange{Int64}, CLOUD.Analysis.var\"#89#91\"{Array{Float64, 3}, LinearMaps.UniformScalingMap{Bool}, Int64, Vector{Matrix{Float64}}}})",
      "    @ Base ./array.jl:724",
      " [20] evaluate_conservation(analysis::PrimaryConservationAnalysis, sol::Array{Float64, 3})",
      "    @ CLOUD.Analysis ~/Research/CLOUD.jl/src/Analysis/conservation.jl:72",
      " [21] analyze(analysis::PrimaryConservationAnalysis, initial_time_step::Int64, final_time_step::String)",
      "    @ CLOUD.Analysis ~/Research/CLOUD.jl/src/Analysis/conservation.jl:95",
      " [22] analyze(analysis::PrimaryConservationAnalysis)",
      "    @ CLOUD.Analysis ~/Research/CLOUD.jl/src/Analysis/conservation.jl:89",
      " [23] top-level scope",
      "    @ In[6]:11",
      " [24] eval",
      "    @ ./boot.jl:373 [inlined]",
      " [25] include_string(mapexpr::typeof(REPL.softscope), mod::Module, code::String, filename::String)",
      "    @ Base ./loading.jl:1196"
     ]
    }
   ],
   "source": [
    "error_analysis = ErrorAnalysis(results_path, conservation_law, \n",
    "    spatial_discretization)\n",
    "conservation_analysis = PrimaryConservationAnalysis(results_path, \n",
    "    conservation_law, spatial_discretization)\n",
    "energy_analysis = EnergyConservationAnalysis(results_path, \n",
    "    conservation_law, spatial_discretization)\n",
    "\n",
    "println(\"L2 error:\")\n",
    "println(analyze(error_analysis, last(sol.u), initial_data, T)...)\n",
    "println(\"Conservation (initial/final/diff):\")\n",
    "println(analyze(conservation_analysis)...)\n",
    "println(\"Energy (initial/final/diff):\")\n",
    "println(analyze(energy_analysis)...)"
   ]
  },
  {
   "cell_type": "markdown",
   "metadata": {},
   "source": [
    "## Modal DG scheme on triangles"
   ]
  },
  {
   "cell_type": "markdown",
   "metadata": {},
   "source": [
    "Set up a `DGMulti` scheme on triangles of degree `p` with `M` edges in each direction"
   ]
  },
  {
   "cell_type": "code",
   "execution_count": 7,
   "metadata": {},
   "outputs": [
    {
     "data": {
      "text/plain": [
       "\"results/advection_2d_dgmulti/\""
      ]
     },
     "execution_count": 7,
     "metadata": {},
     "output_type": "execute_result"
    }
   ],
   "source": [
    "reference_approximation = ReferenceApproximation(\n",
    "    DGMulti(p), Tri(), mapping_degree=p_map, N_plot=10)\n",
    "\n",
    "mesh = warp_mesh(uniform_periodic_mesh(\n",
    "    reference_approximation.reference_element, \n",
    "    ((0.0,L),(0.0,L)), (M,M)), \n",
    "    reference_approximation.reference_element, 0.1)\n",
    "\n",
    "spatial_discretization = SpatialDiscretization(mesh, \n",
    "    reference_approximation)\n",
    "\n",
    "results_path = save_project(conservation_law,\n",
    "     spatial_discretization, initial_data, form, (0.0, T), Lazy(),\n",
    "     \"results/advection_2d_dgmulti/\", overwrite=true, clear=true)"
   ]
  },
  {
   "cell_type": "markdown",
   "metadata": {},
   "source": [
    "Run the solver"
   ]
  },
  {
   "cell_type": "code",
   "execution_count": 8,
   "metadata": {},
   "outputs": [
    {
     "name": "stdout",
     "output_type": "stream",
     "text": [
      "\u001b[0m\u001b[1m ────────────────────────────────────────────────────────────────────────────────\u001b[22m\n",
      "\u001b[0m\u001b[1m                               \u001b[22m         Time                    Allocations      \n",
      "                               ───────────────────────   ────────────────────────\n",
      "       Tot / % measured:          178μs / 3285712.2%      10.6KiB / 16794359.2%  \n",
      "\n",
      " Section               ncalls     time    %tot     avg     alloc    %tot      avg\n",
      " ────────────────────────────────────────────────────────────────────────────────\n",
      " eval residual           100k    4.66s   79.7%  46.7μs    824MiB   47.6%  8.46KiB\n",
      "   mass matrix solve     100k    3.62s   62.0%  36.3μs    396MiB   22.8%  4.06KiB\n",
      "   volume terms          100k    639ms   10.9%  6.41μs    329MiB   19.0%  3.38KiB\n",
      "   facet terms           100k    169ms    2.9%  1.70μs   31.4MiB    1.8%     330B\n",
      " eval flux               100k    430ms    7.4%  4.32μs    108MiB    6.2%  1.11KiB\n",
      " gather ext state        100k    292ms    5.0%  2.92μs    510MiB   29.4%  5.23KiB\n",
      " eval num flux           100k    262ms    4.5%  2.63μs    240MiB   13.9%  2.47KiB\n",
      " extrap solution         100k    205ms    3.5%  2.06μs   50.0MiB    2.9%     525B\n",
      "\u001b[0m\u001b[1m ────────────────────────────────────────────────────────────────────────────────\u001b[22m\n"
     ]
    }
   ],
   "source": [
    "ode_problem_2 = semidiscretize(conservation_law,\n",
    "    spatial_discretization,\n",
    "    initial_data, \n",
    "    form,\n",
    "    (0.0, T),\n",
    "    strategy)\n",
    "\n",
    "save_solution(ode_problem_2.u0, 0.0, results_path, 0)\n",
    "\n",
    "CLOUD_reset_timer()\n",
    "sol = solve(ode_problem_2, ode_algorithm, adaptive=false, dt=dt,\n",
    "    save_everystep=false, callback=save_callback(results_path, write_interval))\n",
    "CLOUD_print_timer()\n",
    "\n",
    "save_solution(last(sol.u), last(sol.t), results_path, \"final\")"
   ]
  },
  {
   "cell_type": "markdown",
   "metadata": {},
   "source": [
    "Calculate the integral L<sup>2</sup> error norm and conservation/energy error"
   ]
  },
  {
   "cell_type": "code",
   "execution_count": 9,
   "metadata": {
    "scrolled": true
   },
   "outputs": [
    {
     "name": "stdout",
     "output_type": "stream",
     "text": [
      "L2 error:\n",
      "0.00048784850808591414\n",
      "Conservation (initial/final/diff):\n",
      "[-6.5217300401244904e-9][-6.521728651044667e-9][1.3890798233884283e-15]\n",
      "Energy (initial/final/diff):\n",
      "[0.12499978051190094][0.12498968050064548][-1.0100011255467778e-5]\n"
     ]
    }
   ],
   "source": [
    "error_analysis = ErrorAnalysis(results_path, conservation_law, \n",
    "    spatial_discretization)\n",
    "conservation_analysis = PrimaryConservationAnalysis(results_path, \n",
    "    conservation_law, spatial_discretization)\n",
    "energy_analysis = EnergyConservationAnalysis(results_path, \n",
    "    conservation_law, spatial_discretization)\n",
    "\n",
    "println(\"L2 error:\")\n",
    "println(analyze(error_analysis, last(sol.u), exact_solution, T)...)\n",
    "println(\"Conservation (initial/final/diff):\")\n",
    "println(analyze(conservation_analysis)...)\n",
    "println(\"Energy (initial/final/diff):\")\n",
    "println(analyze(energy_analysis)...)"
   ]
  }
 ],
 "metadata": {
  "kernelspec": {
   "display_name": "Julia 1.7.3",
   "language": "julia",
   "name": "julia-1.7"
  },
  "language_info": {
   "file_extension": ".jl",
   "mimetype": "application/julia",
   "name": "julia",
   "version": "1.7.3"
  }
 },
 "nbformat": 4,
 "nbformat_minor": 2
}
