{
 "cells": [
  {
   "cell_type": "markdown",
   "metadata": {},
   "source": [
    "# `CLOUD.jl` - 2D linear advection example"
   ]
  },
  {
   "cell_type": "code",
   "execution_count": 2,
   "metadata": {
    "scrolled": false
   },
   "outputs": [
    {
     "name": "stderr",
     "output_type": "stream",
     "text": [
      "┌ Info: Precompiling CLOUD [fb992021-99c7-4c2d-a14b-5e48ac4045b2]\n",
      "└ @ Base loading.jl:1423\n"
     ]
    }
   ],
   "source": [
    "using CLOUD, OrdinaryDiffEq"
   ]
  },
  {
   "cell_type": "markdown",
   "metadata": {},
   "source": [
    "## Define the physical problem"
   ]
  },
  {
   "cell_type": "code",
   "execution_count": 3,
   "metadata": {
    "scrolled": true
   },
   "outputs": [],
   "source": [
    "θ = π/4 # wave angle\n",
    "a = sqrt(2) # wave speed\n",
    "A = 1.0  # amplitude\n",
    "L = 1.0  # domain length\n",
    "k = (2*π/L, 2*π/L)  # wave number\n",
    "T = 0.1/(a*max(abs(cos(θ)),abs(sin(θ)))) # end time for one period\n",
    "\n",
    "conservation_law = LinearAdvectionEquation((a*cos(θ),a*sin(θ)))\n",
    "initial_data = InitialDataSine(A,k)\n",
    "exact_solution = ExactSolution(conservation_law,initial_data);"
   ]
  },
  {
   "cell_type": "markdown",
   "metadata": {},
   "source": [
    "## Set discretization parameters"
   ]
  },
  {
   "cell_type": "code",
   "execution_count": 4,
   "metadata": {
    "scrolled": false
   },
   "outputs": [],
   "source": [
    "M = 4\n",
    "p = 4\n",
    "p_map = 4\n",
    "form = WeakConservationForm(mapping_form=SkewSymmetricMapping(), \n",
    "    inviscid_numerical_flux=LaxFriedrichsNumericalFlux(0.0))\n",
    "strategy = ReferenceOperator()\n",
    "\n",
    "ode_algorithm = CarpenterKennedy2N54()\n",
    "dt = 0.01*(L/M)/(a*(2*p+1));\n",
    "write_interval = floor(Int, T/(dt*10));"
   ]
  },
  {
   "cell_type": "markdown",
   "metadata": {},
   "source": [
    "## Set up a `DGSEM` scheme with LG quadrature on quadrilaterals of degree `p` with `M` edges in each direction"
   ]
  },
  {
   "cell_type": "code",
   "execution_count": 5,
   "metadata": {},
   "outputs": [
    {
     "data": {
      "text/plain": [
       "\"results/advection_2d_dgsem/\""
      ]
     },
     "execution_count": 5,
     "metadata": {},
     "output_type": "execute_result"
    }
   ],
   "source": [
    "#reference_approximation = ReferenceApproximation(\n",
    "#    DGSEM(p), Quad(), mapping_degree=p_map, N_plot=5)\n",
    "\n",
    "reference_approximation = ReferenceApproximation(\n",
    "    DGMulti(p), Tri(), mapping_degree=p_map, N_plot=2)\n",
    "\n",
    "mesh = warp_mesh(uniform_periodic_mesh(\n",
    "    reference_approximation.reference_element, \n",
    "    ((0.0,L),(0.0,L)), (M,M)), \n",
    "    reference_approximation.reference_element, 0.2)\n",
    "\n",
    "spatial_discretization = SpatialDiscretization(mesh, \n",
    "    reference_approximation)\n",
    "\n",
    "results_path = save_project(conservation_law,\n",
    "     spatial_discretization, initial_data, form, (0.0, T), strategy,\n",
    "     \"results/advection_2d_dgsem/\", overwrite=true, clear=true)"
   ]
  },
  {
   "cell_type": "markdown",
   "metadata": {},
   "source": [
    "## Run the solver"
   ]
  },
  {
   "cell_type": "code",
   "execution_count": 6,
   "metadata": {},
   "outputs": [
    {
     "name": "stdout",
     "output_type": "stream",
     "text": [
      "\u001b[0m\u001b[1m ────────────────────────────────────────────────────────────────────────────────\u001b[22m\n",
      "\u001b[0m\u001b[1m            Thread 1           \u001b[22m         Time                    Allocations      \n",
      "                               ───────────────────────   ────────────────────────\n",
      "       Tot / % measured:            8.04s /  33.1%           3.39GiB /  55.0%    \n",
      "\n",
      " Section               ncalls     time    %tot     avg     alloc    %tot      avg\n",
      " ────────────────────────────────────────────────────────────────────────────────\n",
      " local residual         81.6k    2.45s   92.3%  30.1μs   1.79GiB   96.1%  23.0KiB\n",
      "   apply operators      81.6k    1.39s   52.3%  17.0μs   0.99GiB   53.0%  12.7KiB\n",
      "     volume terms       81.6k    667ms   25.1%  8.17μs    575MiB   30.1%  7.21KiB\n",
      "     mass matrix solve  81.6k    194ms    7.3%  2.38μs    186MiB    9.7%  2.33KiB\n",
      "     facet terms        81.6k    112ms    4.2%  1.37μs   94.2MiB    4.9%  1.18KiB\n",
      "     mul test function  81.6k   58.2ms    2.2%   713ns   33.9MiB    1.8%     436B\n",
      "   gather ext state     81.6k    260ms    9.8%  3.19μs    384MiB   20.1%  4.81KiB\n",
      "   eval num flux        81.6k    257ms    9.7%  3.15μs    188MiB    9.8%  2.35KiB\n",
      "   eval nodal solution  81.6k    154ms    5.8%  1.89μs   66.0MiB    3.5%     848B\n",
      "   eval flux            81.6k   59.8ms    2.2%   732ns   43.9MiB    2.3%     564B\n",
      " extrap solution        81.6k    190ms    7.2%  2.33μs   63.7MiB    3.3%     819B\n",
      " unpack/allocations     2.55k   14.2ms    0.5%  5.56μs   10.3MiB    0.5%  4.14KiB\n",
      "\u001b[0m\u001b[1m ────────────────────────────────────────────────────────────────────────────────\u001b[22m\n"
     ]
    }
   ],
   "source": [
    "ode_problem_1 = semidiscretize(conservation_law,\n",
    "    spatial_discretization,\n",
    "    initial_data, \n",
    "    form,\n",
    "    (0.0, T),\n",
    "    strategy);\n",
    "\n",
    "save_solution(ode_problem_1.u0, 0.0, results_path, 0)\n",
    "\n",
    "CLOUD_reset_timer!()\n",
    "sol = solve(ode_problem_1, ode_algorithm, adaptive=false, dt=dt,\n",
    "    save_everystep=false, callback=save_callback(results_path, write_interval))\n",
    "CLOUD_print_timer()\n",
    "\n",
    "save_solution(last(sol.u), last(sol.t), results_path, \"final\")"
   ]
  },
  {
   "cell_type": "markdown",
   "metadata": {},
   "source": [
    "## Calculate the integral L<sup>2</sup> error norm and conservation/energy error"
   ]
  },
  {
   "cell_type": "code",
   "execution_count": 7,
   "metadata": {
    "scrolled": true
   },
   "outputs": [
    {
     "name": "stdout",
     "output_type": "stream",
     "text": [
      "L2 error:\n",
      "0.41575516319051786\n",
      "Conservation (initial/final/diff):\n",
      "[-1.8792023555769862e-5][-1.8792023555948972e-5][-1.7911019889460533e-16]\n",
      "Energy (initial/final/diff):\n",
      "[0.12490255166391541][0.1249025516639116][-3.802513859341161e-15]\n"
     ]
    }
   ],
   "source": [
    "error_analysis = ErrorAnalysis(results_path, conservation_law, \n",
    "    spatial_discretization)\n",
    "conservation_analysis = PrimaryConservationAnalysis(results_path, \n",
    "    conservation_law, spatial_discretization)\n",
    "energy_analysis = EnergyConservationAnalysis(results_path, \n",
    "    conservation_law, spatial_discretization)\n",
    "\n",
    "println(\"L2 error:\")\n",
    "println(analyze(error_analysis, last(sol.u), initial_data, T)...)\n",
    "println(\"Conservation (initial/final/diff):\")\n",
    "println(analyze(conservation_analysis)...)\n",
    "println(\"Energy (initial/final/diff):\")\n",
    "println(analyze(energy_analysis)...)"
   ]
  },
  {
   "cell_type": "markdown",
   "metadata": {},
   "source": [
    "## Write output to VTK file"
   ]
  },
  {
   "cell_type": "code",
   "execution_count": 8,
   "metadata": {},
   "outputs": [],
   "source": [
    "postprocess_vtk(spatial_discretization, string(results_path,\"solution.vtu\"), last(sol.u));"
   ]
  }
 ],
 "metadata": {
  "kernelspec": {
   "display_name": "Julia 1.7.3",
   "language": "julia",
   "name": "julia-1.7"
  },
  "language_info": {
   "file_extension": ".jl",
   "mimetype": "application/julia",
   "name": "julia",
   "version": "1.7.3"
  }
 },
 "nbformat": 4,
 "nbformat_minor": 2
}
