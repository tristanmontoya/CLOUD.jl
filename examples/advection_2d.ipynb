{
 "cells": [
  {
   "cell_type": "markdown",
   "metadata": {},
   "source": [
    "# `CLOUD.jl` - 2D linear advection example"
   ]
  },
  {
   "cell_type": "code",
   "execution_count": 1,
   "metadata": {
    "scrolled": false
   },
   "outputs": [],
   "source": [
    "using CLOUD, OrdinaryDiffEq, TimerOutputs"
   ]
  },
  {
   "cell_type": "markdown",
   "metadata": {},
   "source": [
    "Define the physical problem"
   ]
  },
  {
   "cell_type": "code",
   "execution_count": 2,
   "metadata": {
    "scrolled": true
   },
   "outputs": [],
   "source": [
    "θ = π/4 # wave angle\n",
    "a = sqrt(2) # wave speed\n",
    "A = 1.0  # amplitude\n",
    "L = 1.0  # domain length\n",
    "k = (2*π/L, 2*π/L)  # wave number\n",
    "T = 1.0/(a*max(abs(cos(θ)),abs(cos(θ)))) # end time for one period\n",
    "\n",
    "conservation_law = LinearAdvectionEquation((a*cos(θ),a*sin(θ)))\n",
    "initial_data = InitialDataSine(A,k)\n",
    "exact_solution = ExactSolution(conservation_law,initial_data);"
   ]
  },
  {
   "cell_type": "markdown",
   "metadata": {},
   "source": [
    "Set discretization parameters"
   ]
  },
  {
   "cell_type": "code",
   "execution_count": 3,
   "metadata": {
    "scrolled": false
   },
   "outputs": [],
   "source": [
    "M = 4\n",
    "p = 8\n",
    "p_map = 4\n",
    "form = WeakConservationForm()\n",
    "strategy = ReferenceOperator()\n",
    "\n",
    "ode_algorithm = CarpenterKennedy2N54()\n",
    "dt = 0.1*(L/M)/(a*(2*p+1));\n",
    "write_interval = floor(Int, T/(dt*10));"
   ]
  },
  {
   "cell_type": "markdown",
   "metadata": {},
   "source": [
    "Set up a `DGSEM` scheme with LG quadrature on quadrilaterals of degree `p` with `M` edges in each direction"
   ]
  },
  {
   "cell_type": "code",
   "execution_count": 4,
   "metadata": {},
   "outputs": [
    {
     "data": {
      "text/plain": [
       "\"results/advection_2d_dgsem/\""
      ]
     },
     "execution_count": 4,
     "metadata": {},
     "output_type": "execute_result"
    }
   ],
   "source": [
    "reference_approximation = ReferenceApproximation(\n",
    "    DGSEM(p), Quad(),\n",
    "    volume_quadrature_rule=LGLQuadrature(),\n",
    "    facet_quadrature_rule=LGLQuadrature(),\n",
    "    mapping_degree=p_map, N_plot=50,\n",
    "    operator_algorithm=DefaultOperatorAlgorithm())\n",
    "\n",
    "mesh = warp_mesh(uniform_periodic_mesh(\n",
    "    reference_approximation.reference_element, \n",
    "    ((0.0,L),(0.0,L)), (M,M)), \n",
    "    reference_approximation.reference_element, 0.2)\n",
    "\n",
    "spatial_discretization = SpatialDiscretization(mesh, \n",
    "    reference_approximation)\n",
    "\n",
    "results_path = save_project(conservation_law,\n",
    "     spatial_discretization, initial_data, form, (0.0, T), strategy,\n",
    "     \"results/advection_2d_dgsem/\", overwrite=true, clear=true)"
   ]
  },
  {
   "cell_type": "markdown",
   "metadata": {},
   "source": [
    "Run the solver"
   ]
  },
  {
   "cell_type": "code",
   "execution_count": 5,
   "metadata": {},
   "outputs": [
    {
     "name": "stdout",
     "output_type": "stream",
     "text": [
      "Thread 1\n",
      "\u001b[0m\u001b[1m ────────────────────────────────────────────────────────────────────────────────\u001b[22m\n",
      "\u001b[0m\u001b[1m                               \u001b[22m         Time                    Allocations      \n",
      "                               ───────────────────────   ────────────────────────\n",
      "       Tot / % measured:            16.9s /  69.8%           5.06GiB /  74.0%    \n",
      "\n",
      " Section               ncalls     time    %tot     avg     alloc    %tot      avg\n",
      " ────────────────────────────────────────────────────────────────────────────────\n",
      " rhs!                   4.81k    11.8s  100.0%  2.45ms   3.74GiB  100.0%   816KiB\n",
      "   apply operators      77.0k    10.4s   88.4%   135μs   2.40GiB   64.2%  32.7KiB\n",
      "     volume terms       77.0k    9.16s   77.7%   119μs   1.98GiB   52.8%  26.9KiB\n",
      "     mass matrix solve  77.0k    649ms    5.5%  8.43μs    108MiB    2.8%  1.44KiB\n",
      "     facet terms        77.0k    307ms    2.6%  3.99μs    147MiB    3.8%  1.96KiB\n",
      "   gather ext state     77.0k    100ms    0.8%  1.30μs    402MiB   10.5%  5.34KiB\n",
      "   extrap solution      77.0k    100ms    0.8%  1.30μs    116MiB    3.0%  1.54KiB\n",
      "   eval num flux        77.0k   97.6ms    0.8%  1.27μs    324MiB    8.5%  4.31KiB\n",
      "   eval nodal solution  77.0k   67.3ms    0.6%   874ns    112MiB    2.9%  1.49KiB\n",
      "   eval flux            77.0k   46.6ms    0.4%   605ns    115MiB    3.0%  1.53KiB\n",
      "\u001b[0m\u001b[1m ────────────────────────────────────────────────────────────────────────────────\u001b[22m\n"
     ]
    }
   ],
   "source": [
    "ode_problem_1 = semidiscretize(conservation_law,\n",
    "    spatial_discretization,\n",
    "    initial_data, \n",
    "    form,\n",
    "    (0.0, T),\n",
    "    strategy);\n",
    "\n",
    "save_solution(ode_problem_1.u0, 0.0, results_path, 0)\n",
    "\n",
    "CLOUD_reset_timer!()\n",
    "sol = solve(ode_problem_1, ode_algorithm, adaptive=false, dt=dt,\n",
    "    save_everystep=false, callback=save_callback(results_path, write_interval))\n",
    "CLOUD_print_timer()\n",
    "\n",
    "save_solution(last(sol.u), last(sol.t), results_path, \"final\")"
   ]
  },
  {
   "cell_type": "markdown",
   "metadata": {},
   "source": [
    "Calculate the integral L<sup>2</sup> error norm and conservation/energy error"
   ]
  },
  {
   "cell_type": "code",
   "execution_count": 6,
   "metadata": {
    "scrolled": true
   },
   "outputs": [
    {
     "name": "stdout",
     "output_type": "stream",
     "text": [
      "L2 error:\n",
      "4.0524482426575444e-17\n",
      "Conservation (initial/final/diff):\n",
      "[2.9456931685545307e-11][2.9456931685545307e-11][0.0]\n",
      "Energy (initial/final/diff):\n",
      "[0.12499999985776973][0.12499999985776973][0.0]\n"
     ]
    }
   ],
   "source": [
    "error_analysis = ErrorAnalysis(results_path, conservation_law, \n",
    "    spatial_discretization)\n",
    "conservation_analysis = PrimaryConservationAnalysis(results_path, \n",
    "    conservation_law, spatial_discretization)\n",
    "energy_analysis = EnergyConservationAnalysis(results_path, \n",
    "    conservation_law, spatial_discretization)\n",
    "\n",
    "println(\"L2 error:\")\n",
    "println(analyze(error_analysis, last(sol.u), initial_data, T)...)\n",
    "println(\"Conservation (initial/final/diff):\")\n",
    "println(analyze(conservation_analysis)...)\n",
    "println(\"Energy (initial/final/diff):\")\n",
    "println(analyze(energy_analysis)...)"
   ]
  },
  {
   "cell_type": "markdown",
   "metadata": {},
   "source": [
    "Write output to VTK file"
   ]
  },
  {
   "cell_type": "code",
   "execution_count": 7,
   "metadata": {},
   "outputs": [],
   "source": [
    "postprocess_vtk(spatial_discretization, string(results_path,\"solution.vtu\"), last(sol.u));"
   ]
  }
 ],
 "metadata": {
  "kernelspec": {
   "display_name": "Julia 1.7.3",
   "language": "julia",
   "name": "julia-1.7"
  },
  "language_info": {
   "file_extension": ".jl",
   "mimetype": "application/julia",
   "name": "julia",
   "version": "1.7.3"
  }
 },
 "nbformat": 4,
 "nbformat_minor": 2
}
