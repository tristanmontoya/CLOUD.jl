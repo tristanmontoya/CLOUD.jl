{
 "cells": [
  {
   "cell_type": "markdown",
   "metadata": {},
   "source": [
    "# `CLOUD.jl` - 2D linear advection example"
   ]
  },
  {
   "cell_type": "code",
   "execution_count": 20,
   "metadata": {
    "scrolled": true
   },
   "outputs": [],
   "source": [
    "using CLOUD, OrdinaryDiffEq"
   ]
  },
  {
   "cell_type": "markdown",
   "metadata": {},
   "source": [
    "Define the physical problem"
   ]
  },
  {
   "cell_type": "code",
   "execution_count": 21,
   "metadata": {
    "scrolled": true
   },
   "outputs": [],
   "source": [
    "θ = π/4 # wave angle\n",
    "a = sqrt(2) # wave speed\n",
    "A = 1.0  # amplitude\n",
    "L = 1.0  # domain length\n",
    "k = (2*π/L, 2*π/L)  # wave number\n",
    "T = 1.0/(a*max(abs(cos(θ)),abs(cos(θ)))) # end time for one period\n",
    "\n",
    "initial_data = InitialDataSine(A,k)\n",
    "conservation_law = LinearAdvectionEquation((a*cos(θ),a*sin(θ)));"
   ]
  },
  {
   "cell_type": "markdown",
   "metadata": {},
   "source": [
    "Set discretization parameters"
   ]
  },
  {
   "cell_type": "code",
   "execution_count": 22,
   "metadata": {
    "scrolled": false
   },
   "outputs": [],
   "source": [
    "M = 4\n",
    "p = 4\n",
    "p_map = 4\n",
    "form = WeakConservationForm(StandardMapping(),LaxFriedrichsNumericalFlux())\n",
    "strategy = Lazy()\n",
    "\n",
    "ode_algorithm = CarpenterKennedy2N54()\n",
    "dt = 0.1*(L/M)/(a*(2*p+1));\n",
    "write_interval = floor(Int, T/(dt*10));"
   ]
  },
  {
   "cell_type": "markdown",
   "metadata": {},
   "source": [
    "## Collocated DGSEM on quadrilaterals"
   ]
  },
  {
   "cell_type": "markdown",
   "metadata": {},
   "source": [
    "Set up a `DGSEM` scheme with LG quadrature on quadrilaterals of degree `p` with `M` edges in each direction"
   ]
  },
  {
   "cell_type": "code",
   "execution_count": 23,
   "metadata": {},
   "outputs": [
    {
     "data": {
      "text/plain": [
       "\"results/advection_2d_dgsem/\""
      ]
     },
     "execution_count": 23,
     "metadata": {},
     "output_type": "execute_result"
    }
   ],
   "source": [
    "reference_approximation =ReferenceApproximation(\n",
    "    DGSEM(p), Quad(),\n",
    "    volume_quadrature_rule=LGQuadrature(),\n",
    "    facet_quadrature_rule=LGQuadrature(),\n",
    "    mapping_degree=p_map, N_plot=50)\n",
    "\n",
    "mesh = warp_mesh(uniform_periodic_mesh(\n",
    "    reference_approximation.reference_element, \n",
    "    ((0.0,L),(0.0,L)), (M,M)), \n",
    "    reference_approximation.reference_element, 0.1)\n",
    "\n",
    "spatial_discretization = SpatialDiscretization(mesh, \n",
    "    reference_approximation)\n",
    "\n",
    "results_path = save_project(conservation_law,\n",
    "     spatial_discretization, initial_data, form, (0.0, T), Lazy(),\n",
    "     \"results/advection_2d_dgsem/\", overwrite=true, clear=true)"
   ]
  },
  {
   "cell_type": "markdown",
   "metadata": {},
   "source": [
    "Run the solver"
   ]
  },
  {
   "cell_type": "code",
   "execution_count": 24,
   "metadata": {},
   "outputs": [
    {
     "name": "stdout",
     "output_type": "stream",
     "text": [
      "\u001b[0m\u001b[1m ────────────────────────────────────────────────────────────────────────────────\u001b[22m\n",
      "\u001b[0m\u001b[1m                               \u001b[22m         Time                    Allocations      \n",
      "                               ───────────────────────   ────────────────────────\n",
      "       Tot / % measured:         78.1μs / 717362.7%        10.6KiB / 6255254.0%  \n",
      "\n",
      " Section               ncalls     time    %tot     avg     alloc    %tot      avg\n",
      " ────────────────────────────────────────────────────────────────────────────────\n",
      " eval residual          40.8k    371ms   66.2%  9.09μs    293MiB   45.4%  7.34KiB\n",
      "   volume terms         40.8k    181ms   32.3%  4.44μs    156MiB   24.1%  3.91KiB\n",
      "   facet terms          40.8k   95.0ms   16.9%  2.33μs   86.6MiB   13.4%  2.17KiB\n",
      "   mass matrix solve    40.8k   42.9ms    7.6%  1.05μs   19.9MiB    3.1%     512B\n",
      " extrap solution        40.8k   88.2ms   15.7%  2.16μs   71.0MiB   11.0%  1.78KiB\n",
      " eval num flux          40.8k   40.5ms    7.2%   993ns    106MiB   16.4%  2.66KiB\n",
      " eval flux              40.8k   30.4ms    5.4%   745ns   44.8MiB    6.9%  1.12KiB\n",
      " gather ext state       40.8k   30.3ms    5.4%   743ns    131MiB   20.3%  3.28KiB\n",
      "\u001b[0m\u001b[1m ────────────────────────────────────────────────────────────────────────────────\u001b[22m\n"
     ]
    }
   ],
   "source": [
    "ode_problem = semidiscretize(conservation_law,\n",
    "    spatial_discretization,\n",
    "    initial_data, \n",
    "    form,\n",
    "    (0.0, T),\n",
    "    strategy)\n",
    "\n",
    "save_solution(ode_problem.u0, 0.0, results_path, 0)\n",
    "\n",
    "CLOUD_reset_timer()\n",
    "sol = solve(ode_problem, ode_algorithm, adaptive=false, dt=dt,\n",
    "    save_everystep=false, callback=save_callback(results_path, write_interval))\n",
    "CLOUD_print_timer()\n",
    "\n",
    "save_solution(last(sol.u), last(sol.t), results_path, \"final\")"
   ]
  },
  {
   "cell_type": "markdown",
   "metadata": {},
   "source": [
    "Calculate the integral L<sup>2</sup> error norm and conservation/energy error"
   ]
  },
  {
   "cell_type": "code",
   "execution_count": 25,
   "metadata": {
    "scrolled": true
   },
   "outputs": [
    {
     "name": "stdout",
     "output_type": "stream",
     "text": [
      "L2 error:\n",
      "0.00068216127441316\n",
      "Conservation (initial/final/diff):\n",
      "[-1.108594540819019e-8][-1.1085946192285201e-8][-7.840950111415168e-16]\n",
      "Energy (initial/final/diff):\n",
      "[0.12499998811286066][0.12497973419588697][-2.025391697368928e-5]\n"
     ]
    }
   ],
   "source": [
    "error_analysis = ErrorAnalysis(results_path, conservation_law, \n",
    "    spatial_discretization)\n",
    "conservation_analysis = PrimaryConservationAnalysis(results_path, \n",
    "    conservation_law, spatial_discretization)\n",
    "energy_analysis = EnergyConservationAnalysis(results_path, \n",
    "    conservation_law, spatial_discretization)\n",
    "\n",
    "println(\"L2 error:\")\n",
    "println(analyze(error_analysis, last(sol.u), initial_data)...)\n",
    "println(\"Conservation (initial/final/diff):\")\n",
    "println(analyze(conservation_analysis)...)\n",
    "println(\"Energy (initial/final/diff):\")\n",
    "println(analyze(energy_analysis)...)"
   ]
  },
  {
   "cell_type": "markdown",
   "metadata": {},
   "source": [
    "## Modal DG scheme on triangles"
   ]
  },
  {
   "cell_type": "markdown",
   "metadata": {},
   "source": [
    "Set up a `DGMulti` scheme on triangles of degree `p` with `M` edges in each direction"
   ]
  },
  {
   "cell_type": "code",
   "execution_count": 26,
   "metadata": {},
   "outputs": [
    {
     "data": {
      "text/plain": [
       "\"results/advection_2d_dgmulti/\""
      ]
     },
     "execution_count": 26,
     "metadata": {},
     "output_type": "execute_result"
    }
   ],
   "source": [
    "reference_approximation = ReferenceApproximation(\n",
    "    DGMulti(p), Tri(), mapping_degree=p_map, N_plot=10)\n",
    "\n",
    "mesh = warp_mesh(uniform_periodic_mesh(\n",
    "    reference_approximation.reference_element, \n",
    "    ((0.0,L),(0.0,L)), (M,M)), \n",
    "    reference_approximation.reference_element, 0.1)\n",
    "\n",
    "spatial_discretization = SpatialDiscretization(mesh, \n",
    "    reference_approximation)\n",
    "\n",
    "results_path = save_project(conservation_law,\n",
    "     spatial_discretization, initial_data, form, (0.0, T), Lazy(),\n",
    "     \"results/advection_2d_dgmulti/\", overwrite=true, clear=true)"
   ]
  },
  {
   "cell_type": "markdown",
   "metadata": {},
   "source": [
    "Run the solver"
   ]
  },
  {
   "cell_type": "code",
   "execution_count": 27,
   "metadata": {},
   "outputs": [
    {
     "name": "stdout",
     "output_type": "stream",
     "text": [
      "\u001b[0m\u001b[1m ────────────────────────────────────────────────────────────────────────────────\u001b[22m\n",
      "\u001b[0m\u001b[1m                               \u001b[22m         Time                    Allocations      \n",
      "                               ───────────────────────   ────────────────────────\n",
      "       Tot / % measured:         78.7μs / 1186905.3%      10.6KiB / 10385157.0%  \n",
      "\n",
      " Section               ncalls     time    %tot     avg     alloc    %tot      avg\n",
      " ────────────────────────────────────────────────────────────────────────────────\n",
      " eval residual          81.6k    521ms   55.8%  6.39μs    453MiB   42.3%  5.69KiB\n",
      "   volume terms         81.6k    193ms   20.7%  2.37μs    206MiB   19.2%  2.58KiB\n",
      "   mass matrix solve    81.6k    187ms   20.0%  2.29μs    186MiB   17.3%  2.33KiB\n",
      "   facet terms          81.6k   29.4ms    3.2%   361ns   13.7MiB    1.3%     176B\n",
      " eval flux              81.6k    132ms   14.2%  1.62μs   69.8MiB    6.5%     896B\n",
      " gather ext state       81.6k   96.7ms   10.4%  1.19μs    350MiB   32.7%  4.39KiB\n",
      " extrap solution        81.6k   94.7ms   10.1%  1.16μs   31.1MiB    2.9%     400B\n",
      " eval num flux          81.6k   88.7ms    9.5%  1.09μs    167MiB   15.6%  2.09KiB\n",
      "\u001b[0m\u001b[1m ────────────────────────────────────────────────────────────────────────────────\u001b[22m\n"
     ]
    }
   ],
   "source": [
    "ode_problem = semidiscretize(conservation_law,\n",
    "    spatial_discretization,\n",
    "    initial_data, \n",
    "    form,\n",
    "    (0.0, T),\n",
    "    strategy)\n",
    "\n",
    "save_solution(ode_problem.u0, 0.0, results_path, 0)\n",
    "\n",
    "CLOUD_reset_timer()\n",
    "sol = solve(ode_problem, ode_algorithm, adaptive=false, dt=dt,\n",
    "    save_everystep=false, callback=save_callback(results_path, write_interval))\n",
    "CLOUD_print_timer()\n",
    "\n",
    "save_solution(last(sol.u), last(sol.t), results_path, \"final\")"
   ]
  },
  {
   "cell_type": "markdown",
   "metadata": {},
   "source": [
    "Calculate the integral L<sup>2</sup> error norm and conservation/energy error"
   ]
  },
  {
   "cell_type": "code",
   "execution_count": 28,
   "metadata": {
    "scrolled": true
   },
   "outputs": [
    {
     "name": "stdout",
     "output_type": "stream",
     "text": [
      "L2 error:\n",
      "0.0034594895345242908\n",
      "Conservation (initial/final/diff):\n",
      "[-1.4530229013823975e-7][-1.4530229063480435e-7][-4.96564594998361e-16]\n",
      "Energy (initial/final/diff):\n",
      "[0.12499475017905026][0.12485531367220426][-0.0001394365068460024]\n"
     ]
    }
   ],
   "source": [
    "error_analysis = ErrorAnalysis(results_path, conservation_law, \n",
    "    spatial_discretization)\n",
    "conservation_analysis = PrimaryConservationAnalysis(results_path, \n",
    "    conservation_law, spatial_discretization)\n",
    "energy_analysis = EnergyConservationAnalysis(results_path, \n",
    "    conservation_law, spatial_discretization)\n",
    "\n",
    "println(\"L2 error:\")\n",
    "println(analyze(error_analysis, last(sol.u), initial_data)...)\n",
    "println(\"Conservation (initial/final/diff):\")\n",
    "println(analyze(conservation_analysis)...)\n",
    "println(\"Energy (initial/final/diff):\")\n",
    "println(analyze(energy_analysis)...)"
   ]
  }
 ],
 "metadata": {
  "kernelspec": {
   "display_name": "Julia 1.7.3",
   "language": "julia",
   "name": "julia-1.7"
  },
  "language_info": {
   "file_extension": ".jl",
   "mimetype": "application/julia",
   "name": "julia",
   "version": "1.7.3"
  }
 },
 "nbformat": 4,
 "nbformat_minor": 2
}
