{
 "cells": [
  {
   "cell_type": "markdown",
   "metadata": {},
   "source": [
    "# `CLOUD.jl` - 2D linear advection example"
   ]
  },
  {
   "cell_type": "code",
   "execution_count": 1,
   "metadata": {
    "scrolled": true
   },
   "outputs": [
    {
     "name": "stderr",
     "output_type": "stream",
     "text": [
      "┌ Info: Installing pyqt package to avoid buggy tkagg backend.\n",
      "└ @ PyPlot /Users/tristanmontoya/.julia/packages/PyPlot/XaELc/src/init.jl:118\n"
     ]
    }
   ],
   "source": [
    "using OrdinaryDiffEq\n",
    "using CLOUD;"
   ]
  },
  {
   "cell_type": "markdown",
   "metadata": {},
   "source": [
    "Define the physical problem"
   ]
  },
  {
   "cell_type": "code",
   "execution_count": 2,
   "metadata": {
    "scrolled": true
   },
   "outputs": [
    {
     "ename": "UndefVarError",
     "evalue": "UndefVarError: linear_advection_equation not defined",
     "output_type": "error",
     "traceback": [
      "UndefVarError: linear_advection_equation not defined\n",
      "\n",
      "Stacktrace:\n",
      " [1] top-level scope\n",
      "   @ ~/Research/CLOUD.jl/examples/advection_2d.ipynb:8"
     ]
    }
   ],
   "source": [
    "θ = π/4 # wave angle\n",
    "a = sqrt(2) # wave speed\n",
    "A = 1.0  # amplitude\n",
    "L = 1.0  # domain length\n",
    "k = (2*π/L, 2*π/L)  # wave number\n",
    "T = 1.0/(a*max(abs(cos(θ)),abs(cos(θ)))) # end time for one period\n",
    "initial_data = InitialDataSine(A,k)\n",
    "conservation_law = linear_advection_equation((a*cos(θ),a*sin(θ)),λ=1.0);"
   ]
  },
  {
   "cell_type": "markdown",
   "metadata": {},
   "source": [
    "Set discretization parameters"
   ]
  },
  {
   "cell_type": "code",
   "execution_count": 3,
   "metadata": {
    "scrolled": false
   },
   "outputs": [
    {
     "ename": "MethodError",
     "evalue": "MethodError: no method matching SplitConservationForm()\nClosest candidates are:\n  SplitConservationForm(!Matched::AbstractFirstOrderNumericalFlux) at ~/Research/CLOUD.jl/src/Solvers/conservation_form.jl:31\n  SplitConservationForm(!Matched::AbstractMappingForm, !Matched::AbstractFirstOrderNumericalFlux, !Matched::AbstractSecondOrderNumericalFlux) at ~/Research/CLOUD.jl/src/Solvers/conservation_form.jl:14\n  SplitConservationForm(!Matched::Any, !Matched::Any, !Matched::Any) at ~/Research/CLOUD.jl/src/Solvers/conservation_form.jl:14",
     "output_type": "error",
     "traceback": [
      "MethodError: no method matching SplitConservationForm()\n",
      "Closest candidates are:\n",
      "  SplitConservationForm(!Matched::AbstractFirstOrderNumericalFlux) at ~/Research/CLOUD.jl/src/Solvers/conservation_form.jl:31\n",
      "  SplitConservationForm(!Matched::AbstractMappingForm, !Matched::AbstractFirstOrderNumericalFlux, !Matched::AbstractSecondOrderNumericalFlux) at ~/Research/CLOUD.jl/src/Solvers/conservation_form.jl:14\n",
      "  SplitConservationForm(!Matched::Any, !Matched::Any, !Matched::Any) at ~/Research/CLOUD.jl/src/Solvers/conservation_form.jl:14\n",
      "\n",
      "Stacktrace:\n",
      " [1] top-level scope\n",
      "   @ ~/Research/CLOUD.jl/examples/advection_2d.ipynb:4"
     ]
    }
   ],
   "source": [
    "M = 4\n",
    "p = 4\n",
    "p_map = 4\n",
    "form = SplitConservationForm()\n",
    "integrator = CarpenterKennedy2N54()\n",
    "dt_scale=0.05\n",
    "dt = dt_scale*(L/M)/(a*(2*p+1));\n",
    "write_interval = floor(Int, T/(dt*10));"
   ]
  },
  {
   "cell_type": "markdown",
   "metadata": {},
   "source": [
    "Set up a `DGSEM` scheme with LG quadrature on quadrilaterals of degree `p` with `M` edges in each direction"
   ]
  },
  {
   "cell_type": "code",
   "execution_count": 4,
   "metadata": {},
   "outputs": [
    {
     "ename": "UndefVarError",
     "evalue": "UndefVarError: conservation_law not defined",
     "output_type": "error",
     "traceback": [
      "UndefVarError: conservation_law not defined\n",
      "\n",
      "Stacktrace:\n",
      " [1] top-level scope\n",
      "   @ ~/Research/CLOUD.jl/examples/advection_2d.ipynb:15"
     ]
    }
   ],
   "source": [
    "reference_approximation =ReferenceApproximation(\n",
    "    DGSEM(p), Quad(),\n",
    "    volume_quadrature_rule=LGQuadrature(),\n",
    "    facet_quadrature_rule=LGQuadrature(),\n",
    "    mapping_degree=p_map, N_plot=50)\n",
    "\n",
    "mesh = warp_mesh(uniform_periodic_mesh(\n",
    "    reference_approximation.reference_element, \n",
    "    ((0.0,L),(0.0,L)), (M,M)), \n",
    "    reference_approximation.reference_element, 0.1)\n",
    "\n",
    "spatial_discretization = SpatialDiscretization(mesh, \n",
    "    reference_approximation)\n",
    "\n",
    "results_path = save_project(conservation_law,\n",
    "     spatial_discretization, initial_data, form, (0.0, T), Lazy(),\n",
    "     \"results/advection_2d_dgsem/\", overwrite=true, clear=true)\n",
    "\n",
    "visualize(spatial_discretization, results_path, \"mesh.pdf\", \n",
    "    plot_volume_nodes=false, grid_lines=true)"
   ]
  },
  {
   "cell_type": "markdown",
   "metadata": {},
   "source": [
    "Run the solver and plot the solution"
   ]
  },
  {
   "cell_type": "code",
   "execution_count": 5,
   "metadata": {
    "scrolled": true
   },
   "outputs": [
    {
     "ename": "UndefVarError",
     "evalue": "UndefVarError: results_path not defined",
     "output_type": "error",
     "traceback": [
      "UndefVarError: results_path not defined\n",
      "\n",
      "Stacktrace:\n",
      " [1] top-level scope\n",
      "   @ ~/Research/CLOUD.jl/examples/advection_2d.ipynb:1"
     ]
    }
   ],
   "source": [
    "ode_problem = semidiscretize(load_project(results_path)...)\n",
    "save_solution(ode_problem.u0, 0.0, results_path, 0)\n",
    "\n",
    "CLOUD_reset_timer()\n",
    "sol = solve(ode_problem, integrator, adaptive=false, dt=dt,\n",
    "    save_everystep=false, callback=save_callback(results_path, write_interval))\n",
    "CLOUD_print_timer()\n",
    "\n",
    "save_solution(last(sol.u), last(sol.t), results_path, \"final\")\n",
    "plotter = Plotter(spatial_discretization, results_path)\n",
    "visualize(last(sol.u), plotter, \"approx.pdf\", u_range=[-1.0,1.0], contours=25,\n",
    "    label=\"U^h(\\\\mathbf{x},t)\")\n"
   ]
  },
  {
   "cell_type": "code",
   "execution_count": 6,
   "metadata": {},
   "outputs": [
    {
     "ename": "UndefVarError",
     "evalue": "UndefVarError: plotter not defined",
     "output_type": "error",
     "traceback": [
      "UndefVarError: plotter not defined\n",
      "\n",
      "Stacktrace:\n",
      " [1] top-level scope\n",
      "   @ ~/Research/CLOUD.jl/examples/advection_2d.ipynb:1"
     ]
    }
   ],
   "source": [
    "visualize(initial_data, plotter, \"exact.pdf\", u_range=[-1.0,1.0], contours=17, label=\"U^0(\\\\mathbf{x})\")"
   ]
  },
  {
   "cell_type": "markdown",
   "metadata": {},
   "source": [
    "Calculate the integral L<sup>2</sup> error norm and conservation/energy error"
   ]
  },
  {
   "cell_type": "code",
   "execution_count": 7,
   "metadata": {
    "scrolled": true
   },
   "outputs": [
    {
     "ename": "UndefVarError",
     "evalue": "UndefVarError: results_path not defined",
     "output_type": "error",
     "traceback": [
      "UndefVarError: results_path not defined\n",
      "\n",
      "Stacktrace:\n",
      " [1] top-level scope\n",
      "   @ ~/Research/CLOUD.jl/examples/advection_2d.ipynb:1"
     ]
    }
   ],
   "source": [
    "error_analysis = ErrorAnalysis(results_path, conservation_law, \n",
    "    spatial_discretization)\n",
    "conservation_analysis = PrimaryConservationAnalysis(results_path, \n",
    "    conservation_law, spatial_discretization)\n",
    "energy_analysis = EnergyConservationAnalysis(results_path, \n",
    "    conservation_law, spatial_discretization)\n",
    "\n",
    "println(\"L2 error:\")\n",
    "println(analyze(error_analysis, last(sol.u), initial_data)...)\n",
    "println(\"Conservation (initial/final/diff):\")\n",
    "println(analyze(conservation_analysis)...)\n",
    "println(\"Energy (initial/final/diff):\")\n",
    "println(analyze(energy_analysis)...)"
   ]
  },
  {
   "cell_type": "markdown",
   "metadata": {},
   "source": [
    "Set up a `DGMulti` scheme on triangles of degree `p` with `M` edges in each direction"
   ]
  },
  {
   "cell_type": "code",
   "execution_count": 8,
   "metadata": {},
   "outputs": [
    {
     "ename": "UndefVarError",
     "evalue": "UndefVarError: conservation_law not defined",
     "output_type": "error",
     "traceback": [
      "UndefVarError: conservation_law not defined\n",
      "\n",
      "Stacktrace:\n",
      " [1] top-level scope\n",
      "   @ ~/Research/CLOUD.jl/examples/advection_2d.ipynb:12"
     ]
    }
   ],
   "source": [
    "reference_approximation = ReferenceApproximation(\n",
    "    DGMulti(p), Tri(), mapping_degree=p_map, N_plot=10)\n",
    "\n",
    "mesh = warp_mesh(uniform_periodic_mesh(\n",
    "    reference_approximation.reference_element, \n",
    "    ((0.0,L),(0.0,L)), (M,M)), \n",
    "    reference_approximation.reference_element, 0.1)\n",
    "\n",
    "spatial_discretization = SpatialDiscretization(mesh, \n",
    "    reference_approximation)\n",
    "\n",
    "results_path = save_project(conservation_law,\n",
    "     spatial_discretization, initial_data, form, (0.0, T), Lazy(),\n",
    "     \"results/advection_2d_dgmulti/\", overwrite=true, clear=true)\n",
    "\n",
    "visualize(spatial_discretization, results_path, \"mesh.pdf\", \n",
    "    plot_volume_nodes=true, grid_lines=false)"
   ]
  },
  {
   "cell_type": "markdown",
   "metadata": {},
   "source": [
    "Run the solver and plot the solution"
   ]
  },
  {
   "cell_type": "code",
   "execution_count": 9,
   "metadata": {
    "scrolled": true
   },
   "outputs": [
    {
     "ename": "UndefVarError",
     "evalue": "UndefVarError: results_path not defined",
     "output_type": "error",
     "traceback": [
      "UndefVarError: results_path not defined\n",
      "\n",
      "Stacktrace:\n",
      " [1] top-level scope\n",
      "   @ ~/Research/CLOUD.jl/examples/advection_2d.ipynb:1"
     ]
    }
   ],
   "source": [
    "ode_problem = semidiscretize(load_project(results_path)...)\n",
    "\n",
    "save_solution(ode_problem.u0, 0.0, results_path, 0)\n",
    "\n",
    "CLOUD_reset_timer()\n",
    "sol = solve(ode_problem, integrator, adaptive=false, dt=dt,\n",
    "    save_everystep=false, callback=save_callback(results_path, write_interval))\n",
    "CLOUD_print_timer()\n",
    "\n",
    "save_solution(last(sol.u), last(sol.t), results_path, \"final\")\n",
    "\n",
    "plotter = Plotter(spatial_discretization, results_path)\n",
    "visualize(last(sol.u), plotter, \"approx.pdf\", u_range=[-1.0,1.0], contours=25,\n",
    "    label=\"U^h(\\\\mathbf{x},t)\")"
   ]
  },
  {
   "cell_type": "markdown",
   "metadata": {},
   "source": [
    "Calculate the integral L<sup>2</sup> error norm and conservation/energy error"
   ]
  },
  {
   "cell_type": "code",
   "execution_count": 10,
   "metadata": {
    "scrolled": true
   },
   "outputs": [
    {
     "ename": "UndefVarError",
     "evalue": "UndefVarError: results_path not defined",
     "output_type": "error",
     "traceback": [
      "UndefVarError: results_path not defined\n",
      "\n",
      "Stacktrace:\n",
      " [1] top-level scope\n",
      "   @ ~/Research/CLOUD.jl/examples/advection_2d.ipynb:1"
     ]
    }
   ],
   "source": [
    "error_analysis = ErrorAnalysis(results_path, conservation_law, \n",
    "    spatial_discretization)\n",
    "conservation_analysis = PrimaryConservationAnalysis(results_path, \n",
    "    conservation_law, spatial_discretization)\n",
    "energy_analysis = EnergyConservationAnalysis(results_path, \n",
    "    conservation_law, spatial_discretization)\n",
    "\n",
    "println(\"L2 error:\")\n",
    "println(analyze(error_analysis, last(sol.u), initial_data)...)\n",
    "println(\"Conservation (initial/final/diff):\")\n",
    "println(analyze(conservation_analysis)...)\n",
    "println(\"Energy (initial/final/diff):\")\n",
    "println(analyze(energy_analysis)...)"
   ]
  }
 ],
 "metadata": {
  "kernelspec": {
   "display_name": "Julia 1.7.3",
   "language": "julia",
   "name": "julia-1.7"
  },
  "language_info": {
   "file_extension": ".jl",
   "mimetype": "application/julia",
   "name": "julia",
   "version": "1.7.3"
  }
 },
 "nbformat": 4,
 "nbformat_minor": 2
}
