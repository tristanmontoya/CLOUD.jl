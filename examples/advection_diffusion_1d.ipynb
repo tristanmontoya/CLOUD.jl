{
 "cells": [
  {
   "cell_type": "markdown",
   "id": "57e01ba9",
   "metadata": {},
   "source": [
    "# `CLOUD.jl` - 1D linear advection-diffusion example"
   ]
  },
  {
   "cell_type": "code",
   "execution_count": 1,
   "id": "445c3c9f",
   "metadata": {},
   "outputs": [],
   "source": [
    "using OrdinaryDiffEq, CLOUD\n",
    "ENV[\"MPLBACKEND\"]=\"agg\"\n",
    "using Plots; pyplot();"
   ]
  },
  {
   "cell_type": "markdown",
   "id": "a4be55d2",
   "metadata": {},
   "source": [
    "Define the physical problem"
   ]
  },
  {
   "cell_type": "code",
   "execution_count": 2,
   "id": "581e4cca",
   "metadata": {},
   "outputs": [],
   "source": [
    "a = 1.0  # wave speed\n",
    "b = 1.0e-3  # diffusion coefficient\n",
    "\n",
    "A = 1.0  # amplitude\n",
    "L = 1.0  # domain length\n",
    "σ = 0.1  # width of Gaussian pulse\n",
    "x₀ = 0.5  # centre of Gaussian pulse\n",
    "T = 1.0  # end time for one period\n",
    "\n",
    "initial_data = InitialDataGaussian(A,σ,x₀)\n",
    "conservation_law = LinearAdvectionDiffusionEquation(a,b);"
   ]
  },
  {
   "cell_type": "markdown",
   "id": "46f7dc9a",
   "metadata": {},
   "source": [
    "Set discretization parameters"
   ]
  },
  {
   "cell_type": "code",
   "execution_count": 3,
   "id": "5091f80f",
   "metadata": {},
   "outputs": [],
   "source": [
    "M = 4\n",
    "p = 6\n",
    "form = WeakConservationForm(StandardMapping(),LaxFriedrichsNumericalFlux())\n",
    "strategy = Lazy()\n",
    "\n",
    "ode_algorithm = CarpenterKennedy2N54()\n",
    "dt = 0.1*(L/M)/(a*(2*p+1));\n",
    "write_interval = floor(Int, T/(dt*10));"
   ]
  },
  {
   "cell_type": "markdown",
   "id": "71d60198",
   "metadata": {},
   "source": [
    "Set up a `DGSEM` scheme with LGL quadrature of degree `p` with `M` elements"
   ]
  },
  {
   "cell_type": "code",
   "execution_count": 4,
   "id": "c6d7c6cc",
   "metadata": {},
   "outputs": [],
   "source": [
    "reference_approximation =ReferenceApproximation(\n",
    "    DGSEM(p), Line(), volume_quadrature_rule=LGLQuadrature())\n",
    "\n",
    "mesh = uniform_periodic_mesh(\n",
    "    reference_approximation.reference_element, (0.0,L), M)\n",
    "\n",
    "spatial_discretization = SpatialDiscretization(mesh, \n",
    "    reference_approximation)\n",
    "\n",
    "results_path = save_project(conservation_law,\n",
    "     spatial_discretization, initial_data, form, (0.0, T), Lazy(),\n",
    "     \"results/advection_diffusion_1d_dgsem/\", overwrite=true, clear=true);"
   ]
  },
  {
   "cell_type": "markdown",
   "id": "3b76ea45",
   "metadata": {},
   "source": [
    "Run the solver and plot the solution"
   ]
  },
  {
   "cell_type": "code",
   "execution_count": 7,
   "id": "a05f366d",
   "metadata": {},
   "outputs": [
    {
     "name": "stdout",
     "output_type": "stream",
     "text": [
      "\u001b[0m\u001b[1m ────────────────────────────────────────────────────────────────────────────────\u001b[22m\n",
      "\u001b[0m\u001b[1m                               \u001b[22m         Time                    Allocations      \n",
      "                               ───────────────────────   ────────────────────────\n",
      "       Tot / % measured:          177μs / 144086.9%        25.5KiB / 322375.8%   \n",
      "\n",
      " Section               ncalls     time    %tot     avg     alloc    %tot      avg\n",
      " ────────────────────────────────────────────────────────────────────────────────\n",
      " primary variable       10.4k    112ms   43.8%  10.7μs   49.5MiB   61.8%  4.88KiB\n",
      "   apply operators      10.4k   33.4ms   13.1%  3.21μs   12.5MiB   15.6%  1.23KiB\n",
      "     volume terms       10.4k   8.48ms    3.3%   815ns   3.81MiB    4.8%     384B\n",
      "     mass matrix solve  10.4k   4.98ms    2.0%   479ns   2.22MiB    2.8%     224B\n",
      "     facet terms        10.4k   3.11ms    1.2%   299ns    813KiB    1.0%    80.0B\n",
      "   eval visc num flux   10.4k   22.5ms    8.8%  2.16μs   9.68MiB   12.1%     976B\n",
      "   eval flux            10.4k   19.5ms    7.7%  1.87μs   10.6MiB   13.3%  1.05KiB\n",
      "   gather extern state  10.4k   16.0ms    6.3%  1.54μs   8.26MiB   10.3%     832B\n",
      "   eval inv num flux    10.4k   10.5ms    4.1%  1.01μs   8.10MiB   10.1%     816B\n",
      " auxiliary variable     10.4k    110ms   43.3%  10.6μs   22.4MiB   27.9%  2.20KiB\n",
      "   eval solution        10.4k   60.6ms   23.8%  5.82μs   2.54MiB    3.2%     256B\n",
      "   apply operators      10.4k   31.5ms   12.4%  3.02μs   12.1MiB   15.1%  1.19KiB\n",
      "     volume terms       10.4k   6.69ms    2.6%   643ns   2.70MiB    3.4%     272B\n",
      "     mass matrix solve  10.4k   6.46ms    2.5%   621ns   3.33MiB    4.2%     336B\n",
      "     facet terms        10.4k   4.13ms    1.6%   397ns   1.91MiB    2.4%     192B\n",
      "   eval num trace       10.4k   6.86ms    2.7%   660ns   4.13MiB    5.1%     416B\n",
      "   gather extern state  10.4k   4.31ms    1.7%   414ns   3.65MiB    4.6%     368B\n",
      " extrap aux variable    10.4k   19.3ms    7.6%  1.86μs   4.29MiB    5.3%     432B\n",
      " extrap solution        10.4k   13.5ms    5.3%  1.30μs   3.97MiB    4.9%     400B\n",
      "\u001b[0m\u001b[1m ────────────────────────────────────────────────────────────────────────────────\u001b[22m\n"
     ]
    },
    {
     "data": {
      "image/png": "[encoded data removed]",
      "text/plain": [
       "PyPlot.Figure(PyObject <Figure size 600x400 with 1 Axes>)"
      ]
     },
     "metadata": {},
     "output_type": "display_data"
    }
   ],
   "source": [
    "ode_problem = semidiscretize(conservation_law,\n",
    "    spatial_discretization,\n",
    "    initial_data, \n",
    "    form,\n",
    "    (0.0, T),\n",
    "    strategy)\n",
    "save_solution(ode_problem.u0, 0.0, results_path, 0)\n",
    "CLOUD_reset_timer()\n",
    "sol = solve(ode_problem, ode_algorithm, adaptive=false, dt=dt,\n",
    "    save_everystep=false, callback=save_callback(results_path, write_interval))\n",
    "CLOUD_print_timer()\n",
    "\n",
    "save_solution(last(sol.u), last(sol.t), results_path, \"final\")\n",
    "plotter = Plotter(spatial_discretization, results_path)\n",
    "visualize(last(sol.u), plotter, \"approx.pdf\");"
   ]
  },
  {
   "cell_type": "markdown",
   "id": "5ab75c1a",
   "metadata": {},
   "source": [
    "Calculate the integral L<sup>2</sup> error norm and conservation/energy error"
   ]
  },
  {
   "cell_type": "code",
   "execution_count": 8,
   "id": "79a4802b",
   "metadata": {},
   "outputs": [
    {
     "name": "stdout",
     "output_type": "stream",
     "text": [
      "L2 error:\n",
      "0.03248649764825698\n",
      "Conservation (initial/final/diff):\n",
      "[0.2506626716404719][0.2506626716404735][1.609823385706477e-15]\n",
      "Energy (initial/final/diff):\n",
      "[0.0886231795493749][0.08090045567521623][-0.007722723874158677]\n"
     ]
    }
   ],
   "source": [
    "error_analysis = ErrorAnalysis(results_path, conservation_law, \n",
    "    spatial_discretization)\n",
    "conservation_analysis = PrimaryConservationAnalysis(results_path, \n",
    "    conservation_law, spatial_discretization)\n",
    "energy_analysis = EnergyConservationAnalysis(results_path, \n",
    "    conservation_law, spatial_discretization)\n",
    "\n",
    "println(\"L2 error:\")\n",
    "println(analyze(error_analysis, last(sol.u), initial_data)...)\n",
    "println(\"Conservation (initial/final/diff):\")\n",
    "println(analyze(conservation_analysis)...)\n",
    "println(\"Energy (initial/final/diff):\")\n",
    "println(analyze(energy_analysis)...)"
   ]
  }
 ],
 "metadata": {
  "kernelspec": {
   "display_name": "Julia 1.7.3",
   "language": "julia",
   "name": "julia-1.7"
  },
  "language_info": {
   "file_extension": ".jl",
   "mimetype": "application/julia",
   "name": "julia",
   "version": "1.7.3"
  }
 },
 "nbformat": 4,
 "nbformat_minor": 5
}
