{
 "cells": [
  {
   "cell_type": "markdown",
   "id": "57e01ba9",
   "metadata": {},
   "source": [
    "# `StableSpectralElements.jl` - 1D linear advection-diffusion example\n",
    "\n",
    "We first need to load StableSpectralElements.jl and OrdinaryDiffEq, which handle the spatial and temporal components of the discretization, respectively. The packages on the second line are used in this example for visualization and displaying timing information."
   ]
  },
  {
   "cell_type": "code",
   "execution_count": 1,
   "id": "445c3c9f",
   "metadata": {},
   "outputs": [
    {
     "name": "stderr",
     "output_type": "stream",
     "text": [
      "\u001b[36m\u001b[1m[ \u001b[22m\u001b[39m\u001b[36m\u001b[1mInfo: \u001b[22m\u001b[39mPrecompiling StableSpectralElements [fb992021-99c7-4c2d-a14b-5e48ac4045b2]\n"
     ]
    }
   ],
   "source": [
    "using StableSpectralElements, OrdinaryDiffEq\n",
    "using Plots, Plots.PlotMeasures, Printf, TimerOutputs"
   ]
  },
  {
   "cell_type": "markdown",
   "id": "a4be55d2",
   "metadata": {},
   "source": [
    "We will solve the one-dimensional linear advection-diffusion equation\n",
    "$$\n",
    "\\partial_t U(x,t) + \\partial_x (a U(x,t) - b \\partial_x U(x,t)) = 0,  \\quad \\forall\\, (x, t) \\in (0,L) \\times (0,T),\n",
    "$$\n",
    "with $a = 1$, $b = 5 \\times 10^{-2}$, $L = 1$, and $T = 1$, imposing periodic boundary conditions as well as the initial condition\n",
    "$$\n",
    "U(x,0) = \\sin(2\\pi x/L), \\quad \\forall \\, x \\in (0,L).\n",
    "$$"
   ]
  },
  {
   "cell_type": "code",
   "execution_count": 2,
   "id": "581e4cca",
   "metadata": {},
   "outputs": [],
   "source": [
    "a = 1.0  # wave speed\n",
    "b = 5.0e-2  # diffusion coefficient\n",
    "L = 1.0  # domain length\n",
    "T = 1.0  # end time for one period\n",
    "\n",
    "conservation_law = LinearAdvectionDiffusionEquation(a,b)\n",
    "initial_data = InitialDataSine(1.0,2π/L)\n",
    "exact_solution = ExactSolution(conservation_law,initial_data);"
   ]
  },
  {
   "cell_type": "markdown",
   "id": "46f7dc9a",
   "metadata": {},
   "source": [
    "The problem described above will be discretized using a standard weak-form DG method of `NodalTensor` type on a uniform mesh with $M = 4$ elements of degree $p = 4$. The default options `inviscid_numerical_flux=LaxFriedrichsNumericalFlux()` and `viscous_numerical_flux=BR1()` are used."
   ]
  },
  {
   "cell_type": "code",
   "execution_count": 3,
   "id": "5091f80f",
   "metadata": {},
   "outputs": [],
   "source": [
    "M = 4\n",
    "p = 4\n",
    "form = StandardForm()\n",
    "\n",
    "reference_approximation = ReferenceApproximation(\n",
    "    NodalTensor(p), Line())\n",
    "\n",
    "mesh = uniform_periodic_mesh(reference_approximation, (0.0,L), M)\n",
    "\n",
    "spatial_discretization = SpatialDiscretization(mesh, \n",
    "    reference_approximation);"
   ]
  },
  {
   "cell_type": "markdown",
   "id": "d6c4a536",
   "metadata": {},
   "source": [
    "We'll now save the project. This sets up a directory where intermediate solution files are saved, and allows the simulation to be resumed from a previous state."
   ]
  },
  {
   "cell_type": "code",
   "execution_count": 4,
   "id": "8ce8c014",
   "metadata": {},
   "outputs": [],
   "source": [
    "results_path = save_project(conservation_law,\n",
    "     spatial_discretization, initial_data, form, (0.0, T),\n",
    "     \"results/advection_diffusion_1d/\", clear=true, overwrite=true);"
   ]
  },
  {
   "cell_type": "markdown",
   "id": "71d60198",
   "metadata": {},
   "source": [
    "The function `semidiscretize` sets up the solver using the above parameters and uses it to construct an `ODEProblem` object. We can then use `solve` from OrdinaryDiffEq.jl to integrate in time. The five-stage, fourth-order low-storage explicit Runge-Kutta method from Carpenter and Kennedy is used for such a purpose. We use `save_callback` to write the solution to file 50 times during the course of the simulation."
   ]
  },
  {
   "cell_type": "code",
   "execution_count": 5,
   "id": "a05f366d",
   "metadata": {},
   "outputs": [
    {
     "ename": "LoadError",
     "evalue": "TaskFailedException\n\n\u001b[91m    nested task error: \u001b[39mMethodError: no method matching +(::Nothing, ::Float64)\n    \n    \u001b[0mClosest candidates are:\n    \u001b[0m  +(::Any, ::Any, \u001b[91m::Any\u001b[39m, \u001b[91m::Any...\u001b[39m)\n    \u001b[0m\u001b[90m   @\u001b[39m \u001b[90mBase\u001b[39m \u001b[90m\u001b[4moperators.jl:578\u001b[24m\u001b[39m\n    \u001b[0m  +(\u001b[91m::T\u001b[39m, ::T) where T<:Union{Float16, Float32, Float64}\n    \u001b[0m\u001b[90m   @\u001b[39m \u001b[90mBase\u001b[39m \u001b[90m\u001b[4mfloat.jl:408\u001b[24m\u001b[39m\n    \u001b[0m  +(\u001b[91m::ForwardDiff.Dual{Tx}\u001b[39m, ::AbstractFloat) where Tx\n    \u001b[0m\u001b[90m   @\u001b[39m \u001b[35mForwardDiff\u001b[39m \u001b[90m~/.julia/packages/ForwardDiff/vXysl/src/\u001b[39m\u001b[90m\u001b[4mdual.jl:144\u001b[24m\u001b[39m\n    \u001b[0m  ...\n    \n    Stacktrace:\n     [1] \u001b[0m\u001b[1m_broadcast_getindex_evalf\u001b[22m\n    \u001b[90m   @\u001b[39m \u001b[90m./\u001b[39m\u001b[90m\u001b[4mbroadcast.jl:683\u001b[24m\u001b[39m\u001b[90m [inlined]\u001b[39m\n     [2] \u001b[0m\u001b[1m_broadcast_getindex\u001b[22m\n    \u001b[90m   @\u001b[39m \u001b[90m./\u001b[39m\u001b[90m\u001b[4mbroadcast.jl:656\u001b[24m\u001b[39m\u001b[90m [inlined]\u001b[39m\n     [3] \u001b[0m\u001b[1mgetindex\u001b[22m\n    \u001b[90m   @\u001b[39m \u001b[90m./\u001b[39m\u001b[90m\u001b[4mbroadcast.jl:610\u001b[24m\u001b[39m\u001b[90m [inlined]\u001b[39m\n     [4] \u001b[0m\u001b[1mcopy\u001b[22m\n    \u001b[90m   @\u001b[39m \u001b[90m./\u001b[39m\u001b[90m\u001b[4mbroadcast.jl:912\u001b[24m\u001b[39m\u001b[90m [inlined]\u001b[39m\n     [5] \u001b[0m\u001b[1mmaterialize\u001b[22m\n    \u001b[90m   @\u001b[39m \u001b[90m./\u001b[39m\u001b[90m\u001b[4mbroadcast.jl:873\u001b[24m\u001b[39m\u001b[90m [inlined]\u001b[39m\n     [6] \u001b[0m\u001b[1mmacro expansion\u001b[22m\n    \u001b[90m   @\u001b[39m \u001b[90m~/Research/StableSpectralElements.jl/src/Solvers/\u001b[39m\u001b[90m\u001b[4mstandard_form_second_order.jl:40\u001b[24m\u001b[39m\u001b[90m [inlined]\u001b[39m\n     [7] \u001b[0m\u001b[1m(::StableSpectralElements.Solvers.var\"#709#threadsfor_fun#84\"{StableSpectralElements.Solvers.var\"#709#threadsfor_fun#79#85\"{1, Array{Float64, 3}, Array{Float64, 4}, Array{Float64, 4}, CartesianIndices{2, Tuple{Base.OneTo{Int64}, Base.OneTo{Int64}}}, Array{Float64, 3}, Array{Float64, 3}, Array{Float64, 3}, Array{Float64, 3}, Array{Float64, 4}, BR1, LaxFriedrichsNumericalFlux, Matrix{Int64}, PhysicalOperators{1}, LinearAdvectionDiffusionEquation{1}, UnitRange{Int64}}})\u001b[22m\u001b[0m\u001b[1m(\u001b[22m\u001b[90mtid\u001b[39m::\u001b[0mInt64; \u001b[90monethread\u001b[39m::\u001b[0mBool\u001b[0m\u001b[1m)\u001b[22m\n    \u001b[90m   @\u001b[39m \u001b[35mStableSpectralElements.Solvers\u001b[39m \u001b[90m./\u001b[39m\u001b[90m\u001b[4mthreadingconstructs.jl:194\u001b[24m\u001b[39m\n     [8] \u001b[0m\u001b[1m#709#threadsfor_fun\u001b[22m\n    \u001b[90m   @\u001b[39m \u001b[90m./\u001b[39m\u001b[90m\u001b[4mthreadingconstructs.jl:161\u001b[24m\u001b[39m\u001b[90m [inlined]\u001b[39m\n     [9] \u001b[0m\u001b[1m(::Base.Threads.var\"#1#2\"{StableSpectralElements.Solvers.var\"#709#threadsfor_fun#84\"{StableSpectralElements.Solvers.var\"#709#threadsfor_fun#79#85\"{1, Array{Float64, 3}, Array{Float64, 4}, Array{Float64, 4}, CartesianIndices{2, Tuple{Base.OneTo{Int64}, Base.OneTo{Int64}}}, Array{Float64, 3}, Array{Float64, 3}, Array{Float64, 3}, Array{Float64, 3}, Array{Float64, 4}, BR1, LaxFriedrichsNumericalFlux, Matrix{Int64}, PhysicalOperators{1}, LinearAdvectionDiffusionEquation{1}, UnitRange{Int64}}}, Int64})\u001b[22m\u001b[0m\u001b[1m(\u001b[22m\u001b[0m\u001b[1m)\u001b[22m\n    \u001b[90m   @\u001b[39m \u001b[90mBase.Threads\u001b[39m \u001b[90m./\u001b[39m\u001b[90m\u001b[4mthreadingconstructs.jl:139\u001b[24m\u001b[39m",
     "output_type": "error",
     "traceback": [
      "TaskFailedException\n\n\u001b[91m    nested task error: \u001b[39mMethodError: no method matching +(::Nothing, ::Float64)\n    \n    \u001b[0mClosest candidates are:\n    \u001b[0m  +(::Any, ::Any, \u001b[91m::Any\u001b[39m, \u001b[91m::Any...\u001b[39m)\n    \u001b[0m\u001b[90m   @\u001b[39m \u001b[90mBase\u001b[39m \u001b[90m\u001b[4moperators.jl:578\u001b[24m\u001b[39m\n    \u001b[0m  +(\u001b[91m::T\u001b[39m, ::T) where T<:Union{Float16, Float32, Float64}\n    \u001b[0m\u001b[90m   @\u001b[39m \u001b[90mBase\u001b[39m \u001b[90m\u001b[4mfloat.jl:408\u001b[24m\u001b[39m\n    \u001b[0m  +(\u001b[91m::ForwardDiff.Dual{Tx}\u001b[39m, ::AbstractFloat) where Tx\n    \u001b[0m\u001b[90m   @\u001b[39m \u001b[35mForwardDiff\u001b[39m \u001b[90m~/.julia/packages/ForwardDiff/vXysl/src/\u001b[39m\u001b[90m\u001b[4mdual.jl:144\u001b[24m\u001b[39m\n    \u001b[0m  ...\n    \n    Stacktrace:\n     [1] \u001b[0m\u001b[1m_broadcast_getindex_evalf\u001b[22m\n    \u001b[90m   @\u001b[39m \u001b[90m./\u001b[39m\u001b[90m\u001b[4mbroadcast.jl:683\u001b[24m\u001b[39m\u001b[90m [inlined]\u001b[39m\n     [2] \u001b[0m\u001b[1m_broadcast_getindex\u001b[22m\n    \u001b[90m   @\u001b[39m \u001b[90m./\u001b[39m\u001b[90m\u001b[4mbroadcast.jl:656\u001b[24m\u001b[39m\u001b[90m [inlined]\u001b[39m\n     [3] \u001b[0m\u001b[1mgetindex\u001b[22m\n    \u001b[90m   @\u001b[39m \u001b[90m./\u001b[39m\u001b[90m\u001b[4mbroadcast.jl:610\u001b[24m\u001b[39m\u001b[90m [inlined]\u001b[39m\n     [4] \u001b[0m\u001b[1mcopy\u001b[22m\n    \u001b[90m   @\u001b[39m \u001b[90m./\u001b[39m\u001b[90m\u001b[4mbroadcast.jl:912\u001b[24m\u001b[39m\u001b[90m [inlined]\u001b[39m\n     [5] \u001b[0m\u001b[1mmaterialize\u001b[22m\n    \u001b[90m   @\u001b[39m \u001b[90m./\u001b[39m\u001b[90m\u001b[4mbroadcast.jl:873\u001b[24m\u001b[39m\u001b[90m [inlined]\u001b[39m\n     [6] \u001b[0m\u001b[1mmacro expansion\u001b[22m\n    \u001b[90m   @\u001b[39m \u001b[90m~/Research/StableSpectralElements.jl/src/Solvers/\u001b[39m\u001b[90m\u001b[4mstandard_form_second_order.jl:40\u001b[24m\u001b[39m\u001b[90m [inlined]\u001b[39m\n     [7] \u001b[0m\u001b[1m(::StableSpectralElements.Solvers.var\"#709#threadsfor_fun#84\"{StableSpectralElements.Solvers.var\"#709#threadsfor_fun#79#85\"{1, Array{Float64, 3}, Array{Float64, 4}, Array{Float64, 4}, CartesianIndices{2, Tuple{Base.OneTo{Int64}, Base.OneTo{Int64}}}, Array{Float64, 3}, Array{Float64, 3}, Array{Float64, 3}, Array{Float64, 3}, Array{Float64, 4}, BR1, LaxFriedrichsNumericalFlux, Matrix{Int64}, PhysicalOperators{1}, LinearAdvectionDiffusionEquation{1}, UnitRange{Int64}}})\u001b[22m\u001b[0m\u001b[1m(\u001b[22m\u001b[90mtid\u001b[39m::\u001b[0mInt64; \u001b[90monethread\u001b[39m::\u001b[0mBool\u001b[0m\u001b[1m)\u001b[22m\n    \u001b[90m   @\u001b[39m \u001b[35mStableSpectralElements.Solvers\u001b[39m \u001b[90m./\u001b[39m\u001b[90m\u001b[4mthreadingconstructs.jl:194\u001b[24m\u001b[39m\n     [8] \u001b[0m\u001b[1m#709#threadsfor_fun\u001b[22m\n    \u001b[90m   @\u001b[39m \u001b[90m./\u001b[39m\u001b[90m\u001b[4mthreadingconstructs.jl:161\u001b[24m\u001b[39m\u001b[90m [inlined]\u001b[39m\n     [9] \u001b[0m\u001b[1m(::Base.Threads.var\"#1#2\"{StableSpectralElements.Solvers.var\"#709#threadsfor_fun#84\"{StableSpectralElements.Solvers.var\"#709#threadsfor_fun#79#85\"{1, Array{Float64, 3}, Array{Float64, 4}, Array{Float64, 4}, CartesianIndices{2, Tuple{Base.OneTo{Int64}, Base.OneTo{Int64}}}, Array{Float64, 3}, Array{Float64, 3}, Array{Float64, 3}, Array{Float64, 3}, Array{Float64, 4}, BR1, LaxFriedrichsNumericalFlux, Matrix{Int64}, PhysicalOperators{1}, LinearAdvectionDiffusionEquation{1}, UnitRange{Int64}}}, Int64})\u001b[22m\u001b[0m\u001b[1m(\u001b[22m\u001b[0m\u001b[1m)\u001b[22m\n    \u001b[90m   @\u001b[39m \u001b[90mBase.Threads\u001b[39m \u001b[90m./\u001b[39m\u001b[90m\u001b[4mthreadingconstructs.jl:139\u001b[24m\u001b[39m",
      "",
      "Stacktrace:",
      "  [1] threading_run(fun::StableSpectralElements.Solvers.var\"#709#threadsfor_fun#84\"{StableSpectralElements.Solvers.var\"#709#threadsfor_fun#79#85\"{1, Array{Float64, 3}, Array{Float64, 4}, Array{Float64, 4}, CartesianIndices{2, Tuple{Base.OneTo{Int64}, Base.OneTo{Int64}}}, Array{Float64, 3}, Array{Float64, 3}, Array{Float64, 3}, Array{Float64, 3}, Array{Float64, 4}, BR1, LaxFriedrichsNumericalFlux, Matrix{Int64}, PhysicalOperators{1}, LinearAdvectionDiffusionEquation{1}, UnitRange{Int64}}}, static::Bool)",
      "    @ Base.Threads ./threadingconstructs.jl:151",
      "  [2] macro expansion",
      "    @ ./threadingconstructs.jl:199 [inlined]",
      "  [3] macro expansion",
      "    @ ~/Research/StableSpectralElements.jl/src/Solvers/standard_form_second_order.jl:37 [inlined]",
      "  [4] rhs!(dudt::Array{Float64, 3}, u::Array{Float64, 3}, solver::Solver{1, StandardForm{SkewSymmetricMapping}, SecondOrder, PhysicalOperators{1}, 5, 5, 2, 1, 4}, t::Float64)",
      "    @ StableSpectralElements.Solvers ~/.julia/packages/TimerOutputs/RsWnF/src/TimerOutput.jl:237",
      "  [5] save_solution(integrator::OrdinaryDiffEq.ODEIntegrator{CarpenterKennedy2N54{typeof(OrdinaryDiffEq.trivial_limiter!), typeof(OrdinaryDiffEq.trivial_limiter!), Static.False}, true, Array{Float64, 3}, Nothing, Float64, Solver{1, StandardForm{SkewSymmetricMapping}, SecondOrder, PhysicalOperators{1}, 5, 5, 2, 1, 4}, Float64, Float64, Float64, Float64, Vector{Array{Float64, 3}}, ODESolution{Float64, 4, Vector{Array{Float64, 3}}, Nothing, Nothing, Vector{Float64}, Vector{Vector{Array{Float64, 3}}}, ODEProblem{Array{Float64, 3}, Tuple{Float64, Float64}, true, Solver{1, StandardForm{SkewSymmetricMapping}, SecondOrder, PhysicalOperators{1}, 5, 5, 2, 1, 4}, ODEFunction{true, SciMLBase.AutoSpecialize, FunctionWrappersWrappers.FunctionWrappersWrapper{Tuple{FunctionWrappers.FunctionWrapper{Nothing, Tuple{Array{Float64, 3}, Array{Float64, 3}, Solver{1, StandardForm{SkewSymmetricMapping}, SecondOrder, PhysicalOperators{1}, 5, 5, 2, 1, 4}, Float64}}, FunctionWrappers.FunctionWrapper{Nothing, Tuple{Array{ForwardDiff.Dual{ForwardDiff.Tag{DiffEqBase.OrdinaryDiffEqTag, Float64}, Float64, 1}, 3}, Array{ForwardDiff.Dual{ForwardDiff.Tag{DiffEqBase.OrdinaryDiffEqTag, Float64}, Float64, 1}, 3}, Solver{1, StandardForm{SkewSymmetricMapping}, SecondOrder, PhysicalOperators{1}, 5, 5, 2, 1, 4}, Float64}}, FunctionWrappers.FunctionWrapper{Nothing, Tuple{Array{ForwardDiff.Dual{ForwardDiff.Tag{DiffEqBase.OrdinaryDiffEqTag, Float64}, Float64, 1}, 3}, Array{Float64, 3}, Solver{1, StandardForm{SkewSymmetricMapping}, SecondOrder, PhysicalOperators{1}, 5, 5, 2, 1, 4}, ForwardDiff.Dual{ForwardDiff.Tag{DiffEqBase.OrdinaryDiffEqTag, Float64}, Float64, 1}}}, FunctionWrappers.FunctionWrapper{Nothing, Tuple{Array{ForwardDiff.Dual{ForwardDiff.Tag{DiffEqBase.OrdinaryDiffEqTag, Float64}, Float64, 1}, 3}, Array{ForwardDiff.Dual{ForwardDiff.Tag{DiffEqBase.OrdinaryDiffEqTag, Float64}, Float64, 1}, 3}, Solver{1, StandardForm{SkewSymmetricMapping}, SecondOrder, PhysicalOperators{1}, 5, 5, 2, 1, 4}, ForwardDiff.Dual{ForwardDiff.Tag{DiffEqBase.OrdinaryDiffEqTag, Float64}, Float64, 1}}}}, false}, LinearAlgebra.UniformScaling{Bool}, Nothing, Nothing, Nothing, Nothing, Nothing, Nothing, Nothing, Nothing, Nothing, Nothing, Nothing, Nothing, Nothing, typeof(SciMLBase.DEFAULT_OBSERVED), Nothing, Nothing}, Base.Pairs{Symbol, Union{}, Tuple{}, NamedTuple{(), Tuple{}}}, SciMLBase.StandardODEProblem}, CarpenterKennedy2N54{typeof(OrdinaryDiffEq.trivial_limiter!), typeof(OrdinaryDiffEq.trivial_limiter!), Static.False}, OrdinaryDiffEq.InterpolationData{ODEFunction{true, SciMLBase.AutoSpecialize, FunctionWrappersWrappers.FunctionWrappersWrapper{Tuple{FunctionWrappers.FunctionWrapper{Nothing, Tuple{Array{Float64, 3}, Array{Float64, 3}, Solver{1, StandardForm{SkewSymmetricMapping}, SecondOrder, PhysicalOperators{1}, 5, 5, 2, 1, 4}, Float64}}, FunctionWrappers.FunctionWrapper{Nothing, Tuple{Array{ForwardDiff.Dual{ForwardDiff.Tag{DiffEqBase.OrdinaryDiffEqTag, Float64}, Float64, 1}, 3}, Array{ForwardDiff.Dual{ForwardDiff.Tag{DiffEqBase.OrdinaryDiffEqTag, Float64}, Float64, 1}, 3}, Solver{1, StandardForm{SkewSymmetricMapping}, SecondOrder, PhysicalOperators{1}, 5, 5, 2, 1, 4}, Float64}}, FunctionWrappers.FunctionWrapper{Nothing, Tuple{Array{ForwardDiff.Dual{ForwardDiff.Tag{DiffEqBase.OrdinaryDiffEqTag, Float64}, Float64, 1}, 3}, Array{Float64, 3}, Solver{1, StandardForm{SkewSymmetricMapping}, SecondOrder, PhysicalOperators{1}, 5, 5, 2, 1, 4}, ForwardDiff.Dual{ForwardDiff.Tag{DiffEqBase.OrdinaryDiffEqTag, Float64}, Float64, 1}}}, FunctionWrappers.FunctionWrapper{Nothing, Tuple{Array{ForwardDiff.Dual{ForwardDiff.Tag{DiffEqBase.OrdinaryDiffEqTag, Float64}, Float64, 1}, 3}, Array{ForwardDiff.Dual{ForwardDiff.Tag{DiffEqBase.OrdinaryDiffEqTag, Float64}, Float64, 1}, 3}, Solver{1, StandardForm{SkewSymmetricMapping}, SecondOrder, PhysicalOperators{1}, 5, 5, 2, 1, 4}, ForwardDiff.Dual{ForwardDiff.Tag{DiffEqBase.OrdinaryDiffEqTag, Float64}, Float64, 1}}}}, false}, LinearAlgebra.UniformScaling{Bool}, Nothing, Nothing, Nothing, Nothing, Nothing, Nothing, Nothing, Nothing, Nothing, Nothing, Nothing, Nothing, Nothing, typeof(SciMLBase.DEFAULT_OBSERVED), Nothing, Nothing}, Vector{Array{Float64, 3}}, Vector{Float64}, Vector{Vector{Array{Float64, 3}}}, OrdinaryDiffEq.LowStorageRK2NCache{Array{Float64, 3}, Array{Float64, 3}, OrdinaryDiffEq.LowStorageRK2NConstantCache{4, Float64, Float64}, typeof(OrdinaryDiffEq.trivial_limiter!), typeof(OrdinaryDiffEq.trivial_limiter!), Static.False}}, DiffEqBase.Stats, Nothing}, ODEFunction{true, SciMLBase.AutoSpecialize, FunctionWrappersWrappers.FunctionWrappersWrapper{Tuple{FunctionWrappers.FunctionWrapper{Nothing, Tuple{Array{Float64, 3}, Array{Float64, 3}, Solver{1, StandardForm{SkewSymmetricMapping}, SecondOrder, PhysicalOperators{1}, 5, 5, 2, 1, 4}, Float64}}, FunctionWrappers.FunctionWrapper{Nothing, Tuple{Array{ForwardDiff.Dual{ForwardDiff.Tag{DiffEqBase.OrdinaryDiffEqTag, Float64}, Float64, 1}, 3}, Array{ForwardDiff.Dual{ForwardDiff.Tag{DiffEqBase.OrdinaryDiffEqTag, Float64}, Float64, 1}, 3}, Solver{1, StandardForm{SkewSymmetricMapping}, SecondOrder, PhysicalOperators{1}, 5, 5, 2, 1, 4}, Float64}}, FunctionWrappers.FunctionWrapper{Nothing, Tuple{Array{ForwardDiff.Dual{ForwardDiff.Tag{DiffEqBase.OrdinaryDiffEqTag, Float64}, Float64, 1}, 3}, Array{Float64, 3}, Solver{1, StandardForm{SkewSymmetricMapping}, SecondOrder, PhysicalOperators{1}, 5, 5, 2, 1, 4}, ForwardDiff.Dual{ForwardDiff.Tag{DiffEqBase.OrdinaryDiffEqTag, Float64}, Float64, 1}}}, FunctionWrappers.FunctionWrapper{Nothing, Tuple{Array{ForwardDiff.Dual{ForwardDiff.Tag{DiffEqBase.OrdinaryDiffEqTag, Float64}, Float64, 1}, 3}, Array{ForwardDiff.Dual{ForwardDiff.Tag{DiffEqBase.OrdinaryDiffEqTag, Float64}, Float64, 1}, 3}, Solver{1, StandardForm{SkewSymmetricMapping}, SecondOrder, PhysicalOperators{1}, 5, 5, 2, 1, 4}, ForwardDiff.Dual{ForwardDiff.Tag{DiffEqBase.OrdinaryDiffEqTag, Float64}, Float64, 1}}}}, false}, LinearAlgebra.UniformScaling{Bool}, Nothing, Nothing, Nothing, Nothing, Nothing, Nothing, Nothing, Nothing, Nothing, Nothing, Nothing, Nothing, Nothing, typeof(SciMLBase.DEFAULT_OBSERVED), Nothing, Nothing}, OrdinaryDiffEq.LowStorageRK2NCache{Array{Float64, 3}, Array{Float64, 3}, OrdinaryDiffEq.LowStorageRK2NConstantCache{4, Float64, Float64}, typeof(OrdinaryDiffEq.trivial_limiter!), typeof(OrdinaryDiffEq.trivial_limiter!), Static.False}, OrdinaryDiffEq.DEOptions{Float64, Float64, Float64, Float64, PIController{Int64}, typeof(DiffEqBase.ODE_DEFAULT_NORM), typeof(LinearAlgebra.opnorm), Nothing, CallbackSet{Tuple{}, Tuple{DiscreteCallback{StableSpectralElements.File.var\"#condition#4\"{Int64, Int64}, StableSpectralElements.File.var\"#affect!#5\"{String, Int64}, typeof(SciMLBase.INITIALIZE_DEFAULT), typeof(SciMLBase.FINALIZE_DEFAULT)}, DiscreteCallback{DiffEqCallbacks.var\"#60#63\"{Vector{Float64}}, DiffEqCallbacks.var\"#61#64\"{StableSpectralElements.File.var\"#affect!#5\"{String, Int64}}, DiffEqCallbacks.var\"#62#65\"{typeof(SciMLBase.INITIALIZE_DEFAULT), Bool, Vector{Float64}, StableSpectralElements.File.var\"#affect!#5\"{String, Int64}}, typeof(SciMLBase.FINALIZE_DEFAULT)}}}, typeof(DiffEqBase.ODE_DEFAULT_ISOUTOFDOMAIN), typeof(DiffEqBase.ODE_DEFAULT_PROG_MESSAGE), typeof(DiffEqBase.ODE_DEFAULT_UNSTABLE_CHECK), DataStructures.BinaryHeap{Float64, DataStructures.FasterForward}, DataStructures.BinaryHeap{Float64, DataStructures.FasterForward}, Nothing, Nothing, Int64, Tuple{}, Tuple{}, Tuple{}}, Array{Float64, 3}, Float64, Nothing, OrdinaryDiffEq.DefaultInit}, results_path::String, restart_step::Int64)",
      "    @ StableSpectralElements.File ~/Research/StableSpectralElements.jl/src/File/save.jl:58",
      "  [6] affect!",
      "    @ ~/Research/StableSpectralElements.jl/src/File/save.jl:85 [inlined]",
      "  [7] (::DiffEqCallbacks.var\"#62#65\"{typeof(SciMLBase.INITIALIZE_DEFAULT), Bool, Vector{Float64}, StableSpectralElements.File.var\"#affect!#5\"{String, Int64}})(c::DiscreteCallback{DiffEqCallbacks.var\"#60#63\"{Vector{Float64}}, DiffEqCallbacks.var\"#61#64\"{StableSpectralElements.File.var\"#affect!#5\"{String, Int64}}, DiffEqCallbacks.var\"#62#65\"{typeof(SciMLBase.INITIALIZE_DEFAULT), Bool, Vector{Float64}, StableSpectralElements.File.var\"#affect!#5\"{String, Int64}}, typeof(SciMLBase.FINALIZE_DEFAULT)}, u::Array{Float64, 3}, t::Float64, integrator::OrdinaryDiffEq.ODEIntegrator{CarpenterKennedy2N54{typeof(OrdinaryDiffEq.trivial_limiter!), typeof(OrdinaryDiffEq.trivial_limiter!), Static.False}, true, Array{Float64, 3}, Nothing, Float64, Solver{1, StandardForm{SkewSymmetricMapping}, SecondOrder, PhysicalOperators{1}, 5, 5, 2, 1, 4}, Float64, Float64, Float64, Float64, Vector{Array{Float64, 3}}, ODESolution{Float64, 4, Vector{Array{Float64, 3}}, Nothing, Nothing, Vector{Float64}, Vector{Vector{Array{Float64, 3}}}, ODEProblem{Array{Float64, 3}, Tuple{Float64, Float64}, true, Solver{1, StandardForm{SkewSymmetricMapping}, SecondOrder, PhysicalOperators{1}, 5, 5, 2, 1, 4}, ODEFunction{true, SciMLBase.AutoSpecialize, FunctionWrappersWrappers.FunctionWrappersWrapper{Tuple{FunctionWrappers.FunctionWrapper{Nothing, Tuple{Array{Float64, 3}, Array{Float64, 3}, Solver{1, StandardForm{SkewSymmetricMapping}, SecondOrder, PhysicalOperators{1}, 5, 5, 2, 1, 4}, Float64}}, FunctionWrappers.FunctionWrapper{Nothing, Tuple{Array{ForwardDiff.Dual{ForwardDiff.Tag{DiffEqBase.OrdinaryDiffEqTag, Float64}, Float64, 1}, 3}, Array{ForwardDiff.Dual{ForwardDiff.Tag{DiffEqBase.OrdinaryDiffEqTag, Float64}, Float64, 1}, 3}, Solver{1, StandardForm{SkewSymmetricMapping}, SecondOrder, PhysicalOperators{1}, 5, 5, 2, 1, 4}, Float64}}, FunctionWrappers.FunctionWrapper{Nothing, Tuple{Array{ForwardDiff.Dual{ForwardDiff.Tag{DiffEqBase.OrdinaryDiffEqTag, Float64}, Float64, 1}, 3}, Array{Float64, 3}, Solver{1, StandardForm{SkewSymmetricMapping}, SecondOrder, PhysicalOperators{1}, 5, 5, 2, 1, 4}, ForwardDiff.Dual{ForwardDiff.Tag{DiffEqBase.OrdinaryDiffEqTag, Float64}, Float64, 1}}}, FunctionWrappers.FunctionWrapper{Nothing, Tuple{Array{ForwardDiff.Dual{ForwardDiff.Tag{DiffEqBase.OrdinaryDiffEqTag, Float64}, Float64, 1}, 3}, Array{ForwardDiff.Dual{ForwardDiff.Tag{DiffEqBase.OrdinaryDiffEqTag, Float64}, Float64, 1}, 3}, Solver{1, StandardForm{SkewSymmetricMapping}, SecondOrder, PhysicalOperators{1}, 5, 5, 2, 1, 4}, ForwardDiff.Dual{ForwardDiff.Tag{DiffEqBase.OrdinaryDiffEqTag, Float64}, Float64, 1}}}}, false}, LinearAlgebra.UniformScaling{Bool}, Nothing, Nothing, Nothing, Nothing, Nothing, Nothing, Nothing, Nothing, Nothing, Nothing, Nothing, Nothing, Nothing, typeof(SciMLBase.DEFAULT_OBSERVED), Nothing, Nothing}, Base.Pairs{Symbol, Union{}, Tuple{}, NamedTuple{(), Tuple{}}}, SciMLBase.StandardODEProblem}, CarpenterKennedy2N54{typeof(OrdinaryDiffEq.trivial_limiter!), typeof(OrdinaryDiffEq.trivial_limiter!), Static.False}, OrdinaryDiffEq.InterpolationData{ODEFunction{true, SciMLBase.AutoSpecialize, FunctionWrappersWrappers.FunctionWrappersWrapper{Tuple{FunctionWrappers.FunctionWrapper{Nothing, Tuple{Array{Float64, 3}, Array{Float64, 3}, Solver{1, StandardForm{SkewSymmetricMapping}, SecondOrder, PhysicalOperators{1}, 5, 5, 2, 1, 4}, Float64}}, FunctionWrappers.FunctionWrapper{Nothing, Tuple{Array{ForwardDiff.Dual{ForwardDiff.Tag{DiffEqBase.OrdinaryDiffEqTag, Float64}, Float64, 1}, 3}, Array{ForwardDiff.Dual{ForwardDiff.Tag{DiffEqBase.OrdinaryDiffEqTag, Float64}, Float64, 1}, 3}, Solver{1, StandardForm{SkewSymmetricMapping}, SecondOrder, PhysicalOperators{1}, 5, 5, 2, 1, 4}, Float64}}, FunctionWrappers.FunctionWrapper{Nothing, Tuple{Array{ForwardDiff.Dual{ForwardDiff.Tag{DiffEqBase.OrdinaryDiffEqTag, Float64}, Float64, 1}, 3}, Array{Float64, 3}, Solver{1, StandardForm{SkewSymmetricMapping}, SecondOrder, PhysicalOperators{1}, 5, 5, 2, 1, 4}, ForwardDiff.Dual{ForwardDiff.Tag{DiffEqBase.OrdinaryDiffEqTag, Float64}, Float64, 1}}}, FunctionWrappers.FunctionWrapper{Nothing, Tuple{Array{ForwardDiff.Dual{ForwardDiff.Tag{DiffEqBase.OrdinaryDiffEqTag, Float64}, Float64, 1}, 3}, Array{ForwardDiff.Dual{ForwardDiff.Tag{DiffEqBase.OrdinaryDiffEqTag, Float64}, Float64, 1}, 3}, Solver{1, StandardForm{SkewSymmetricMapping}, SecondOrder, PhysicalOperators{1}, 5, 5, 2, 1, 4}, ForwardDiff.Dual{ForwardDiff.Tag{DiffEqBase.OrdinaryDiffEqTag, Float64}, Float64, 1}}}}, false}, LinearAlgebra.UniformScaling{Bool}, Nothing, Nothing, Nothing, Nothing, Nothing, Nothing, Nothing, Nothing, Nothing, Nothing, Nothing, Nothing, Nothing, typeof(SciMLBase.DEFAULT_OBSERVED), Nothing, Nothing}, Vector{Array{Float64, 3}}, Vector{Float64}, Vector{Vector{Array{Float64, 3}}}, OrdinaryDiffEq.LowStorageRK2NCache{Array{Float64, 3}, Array{Float64, 3}, OrdinaryDiffEq.LowStorageRK2NConstantCache{4, Float64, Float64}, typeof(OrdinaryDiffEq.trivial_limiter!), typeof(OrdinaryDiffEq.trivial_limiter!), Static.False}}, DiffEqBase.Stats, Nothing}, ODEFunction{true, SciMLBase.AutoSpecialize, FunctionWrappersWrappers.FunctionWrappersWrapper{Tuple{FunctionWrappers.FunctionWrapper{Nothing, Tuple{Array{Float64, 3}, Array{Float64, 3}, Solver{1, StandardForm{SkewSymmetricMapping}, SecondOrder, PhysicalOperators{1}, 5, 5, 2, 1, 4}, Float64}}, FunctionWrappers.FunctionWrapper{Nothing, Tuple{Array{ForwardDiff.Dual{ForwardDiff.Tag{DiffEqBase.OrdinaryDiffEqTag, Float64}, Float64, 1}, 3}, Array{ForwardDiff.Dual{ForwardDiff.Tag{DiffEqBase.OrdinaryDiffEqTag, Float64}, Float64, 1}, 3}, Solver{1, StandardForm{SkewSymmetricMapping}, SecondOrder, PhysicalOperators{1}, 5, 5, 2, 1, 4}, Float64}}, FunctionWrappers.FunctionWrapper{Nothing, Tuple{Array{ForwardDiff.Dual{ForwardDiff.Tag{DiffEqBase.OrdinaryDiffEqTag, Float64}, Float64, 1}, 3}, Array{Float64, 3}, Solver{1, StandardForm{SkewSymmetricMapping}, SecondOrder, PhysicalOperators{1}, 5, 5, 2, 1, 4}, ForwardDiff.Dual{ForwardDiff.Tag{DiffEqBase.OrdinaryDiffEqTag, Float64}, Float64, 1}}}, FunctionWrappers.FunctionWrapper{Nothing, Tuple{Array{ForwardDiff.Dual{ForwardDiff.Tag{DiffEqBase.OrdinaryDiffEqTag, Float64}, Float64, 1}, 3}, Array{ForwardDiff.Dual{ForwardDiff.Tag{DiffEqBase.OrdinaryDiffEqTag, Float64}, Float64, 1}, 3}, Solver{1, StandardForm{SkewSymmetricMapping}, SecondOrder, PhysicalOperators{1}, 5, 5, 2, 1, 4}, ForwardDiff.Dual{ForwardDiff.Tag{DiffEqBase.OrdinaryDiffEqTag, Float64}, Float64, 1}}}}, false}, LinearAlgebra.UniformScaling{Bool}, Nothing, Nothing, Nothing, Nothing, Nothing, Nothing, Nothing, Nothing, Nothing, Nothing, Nothing, Nothing, Nothing, typeof(SciMLBase.DEFAULT_OBSERVED), Nothing, Nothing}, OrdinaryDiffEq.LowStorageRK2NCache{Array{Float64, 3}, Array{Float64, 3}, OrdinaryDiffEq.LowStorageRK2NConstantCache{4, Float64, Float64}, typeof(OrdinaryDiffEq.trivial_limiter!), typeof(OrdinaryDiffEq.trivial_limiter!), Static.False}, OrdinaryDiffEq.DEOptions{Float64, Float64, Float64, Float64, PIController{Int64}, typeof(DiffEqBase.ODE_DEFAULT_NORM), typeof(LinearAlgebra.opnorm), Nothing, CallbackSet{Tuple{}, Tuple{DiscreteCallback{StableSpectralElements.File.var\"#condition#4\"{Int64, Int64}, StableSpectralElements.File.var\"#affect!#5\"{String, Int64}, typeof(SciMLBase.INITIALIZE_DEFAULT), typeof(SciMLBase.FINALIZE_DEFAULT)}, DiscreteCallback{DiffEqCallbacks.var\"#60#63\"{Vector{Float64}}, DiffEqCallbacks.var\"#61#64\"{StableSpectralElements.File.var\"#affect!#5\"{String, Int64}}, DiffEqCallbacks.var\"#62#65\"{typeof(SciMLBase.INITIALIZE_DEFAULT), Bool, Vector{Float64}, StableSpectralElements.File.var\"#affect!#5\"{String, Int64}}, typeof(SciMLBase.FINALIZE_DEFAULT)}}}, typeof(DiffEqBase.ODE_DEFAULT_ISOUTOFDOMAIN), typeof(DiffEqBase.ODE_DEFAULT_PROG_MESSAGE), typeof(DiffEqBase.ODE_DEFAULT_UNSTABLE_CHECK), DataStructures.BinaryHeap{Float64, DataStructures.FasterForward}, DataStructures.BinaryHeap{Float64, DataStructures.FasterForward}, Nothing, Nothing, Int64, Tuple{}, Tuple{}, Tuple{}}, Array{Float64, 3}, Float64, Nothing, OrdinaryDiffEq.DefaultInit})",
      "    @ DiffEqCallbacks ~/.julia/packages/DiffEqCallbacks/il04Z/src/preset_time.jl:50",
      "  [8] initialize!",
      "    @ ~/.julia/packages/DiffEqBase/tVuJP/src/callbacks.jl:18 [inlined]",
      "  [9] initialize!",
      "    @ ~/.julia/packages/DiffEqBase/tVuJP/src/callbacks.jl:14 [inlined]",
      " [10] initialize!",
      "    @ ~/.julia/packages/DiffEqBase/tVuJP/src/callbacks.jl:7 [inlined]",
      " [11] initialize_callbacks!(integrator::OrdinaryDiffEq.ODEIntegrator{CarpenterKennedy2N54{typeof(OrdinaryDiffEq.trivial_limiter!), typeof(OrdinaryDiffEq.trivial_limiter!), Static.False}, true, Array{Float64, 3}, Nothing, Float64, Solver{1, StandardForm{SkewSymmetricMapping}, SecondOrder, PhysicalOperators{1}, 5, 5, 2, 1, 4}, Float64, Float64, Float64, Float64, Vector{Array{Float64, 3}}, ODESolution{Float64, 4, Vector{Array{Float64, 3}}, Nothing, Nothing, Vector{Float64}, Vector{Vector{Array{Float64, 3}}}, ODEProblem{Array{Float64, 3}, Tuple{Float64, Float64}, true, Solver{1, StandardForm{SkewSymmetricMapping}, SecondOrder, PhysicalOperators{1}, 5, 5, 2, 1, 4}, ODEFunction{true, SciMLBase.AutoSpecialize, FunctionWrappersWrappers.FunctionWrappersWrapper{Tuple{FunctionWrappers.FunctionWrapper{Nothing, Tuple{Array{Float64, 3}, Array{Float64, 3}, Solver{1, StandardForm{SkewSymmetricMapping}, SecondOrder, PhysicalOperators{1}, 5, 5, 2, 1, 4}, Float64}}, FunctionWrappers.FunctionWrapper{Nothing, Tuple{Array{ForwardDiff.Dual{ForwardDiff.Tag{DiffEqBase.OrdinaryDiffEqTag, Float64}, Float64, 1}, 3}, Array{ForwardDiff.Dual{ForwardDiff.Tag{DiffEqBase.OrdinaryDiffEqTag, Float64}, Float64, 1}, 3}, Solver{1, StandardForm{SkewSymmetricMapping}, SecondOrder, PhysicalOperators{1}, 5, 5, 2, 1, 4}, Float64}}, FunctionWrappers.FunctionWrapper{Nothing, Tuple{Array{ForwardDiff.Dual{ForwardDiff.Tag{DiffEqBase.OrdinaryDiffEqTag, Float64}, Float64, 1}, 3}, Array{Float64, 3}, Solver{1, StandardForm{SkewSymmetricMapping}, SecondOrder, PhysicalOperators{1}, 5, 5, 2, 1, 4}, ForwardDiff.Dual{ForwardDiff.Tag{DiffEqBase.OrdinaryDiffEqTag, Float64}, Float64, 1}}}, FunctionWrappers.FunctionWrapper{Nothing, Tuple{Array{ForwardDiff.Dual{ForwardDiff.Tag{DiffEqBase.OrdinaryDiffEqTag, Float64}, Float64, 1}, 3}, Array{ForwardDiff.Dual{ForwardDiff.Tag{DiffEqBase.OrdinaryDiffEqTag, Float64}, Float64, 1}, 3}, Solver{1, StandardForm{SkewSymmetricMapping}, SecondOrder, PhysicalOperators{1}, 5, 5, 2, 1, 4}, ForwardDiff.Dual{ForwardDiff.Tag{DiffEqBase.OrdinaryDiffEqTag, Float64}, Float64, 1}}}}, false}, LinearAlgebra.UniformScaling{Bool}, Nothing, Nothing, Nothing, Nothing, Nothing, Nothing, Nothing, Nothing, Nothing, Nothing, Nothing, Nothing, Nothing, typeof(SciMLBase.DEFAULT_OBSERVED), Nothing, Nothing}, Base.Pairs{Symbol, Union{}, Tuple{}, NamedTuple{(), Tuple{}}}, SciMLBase.StandardODEProblem}, CarpenterKennedy2N54{typeof(OrdinaryDiffEq.trivial_limiter!), typeof(OrdinaryDiffEq.trivial_limiter!), Static.False}, OrdinaryDiffEq.InterpolationData{ODEFunction{true, SciMLBase.AutoSpecialize, FunctionWrappersWrappers.FunctionWrappersWrapper{Tuple{FunctionWrappers.FunctionWrapper{Nothing, Tuple{Array{Float64, 3}, Array{Float64, 3}, Solver{1, StandardForm{SkewSymmetricMapping}, SecondOrder, PhysicalOperators{1}, 5, 5, 2, 1, 4}, Float64}}, FunctionWrappers.FunctionWrapper{Nothing, Tuple{Array{ForwardDiff.Dual{ForwardDiff.Tag{DiffEqBase.OrdinaryDiffEqTag, Float64}, Float64, 1}, 3}, Array{ForwardDiff.Dual{ForwardDiff.Tag{DiffEqBase.OrdinaryDiffEqTag, Float64}, Float64, 1}, 3}, Solver{1, StandardForm{SkewSymmetricMapping}, SecondOrder, PhysicalOperators{1}, 5, 5, 2, 1, 4}, Float64}}, FunctionWrappers.FunctionWrapper{Nothing, Tuple{Array{ForwardDiff.Dual{ForwardDiff.Tag{DiffEqBase.OrdinaryDiffEqTag, Float64}, Float64, 1}, 3}, Array{Float64, 3}, Solver{1, StandardForm{SkewSymmetricMapping}, SecondOrder, PhysicalOperators{1}, 5, 5, 2, 1, 4}, ForwardDiff.Dual{ForwardDiff.Tag{DiffEqBase.OrdinaryDiffEqTag, Float64}, Float64, 1}}}, FunctionWrappers.FunctionWrapper{Nothing, Tuple{Array{ForwardDiff.Dual{ForwardDiff.Tag{DiffEqBase.OrdinaryDiffEqTag, Float64}, Float64, 1}, 3}, Array{ForwardDiff.Dual{ForwardDiff.Tag{DiffEqBase.OrdinaryDiffEqTag, Float64}, Float64, 1}, 3}, Solver{1, StandardForm{SkewSymmetricMapping}, SecondOrder, PhysicalOperators{1}, 5, 5, 2, 1, 4}, ForwardDiff.Dual{ForwardDiff.Tag{DiffEqBase.OrdinaryDiffEqTag, Float64}, Float64, 1}}}}, false}, LinearAlgebra.UniformScaling{Bool}, Nothing, Nothing, Nothing, Nothing, Nothing, Nothing, Nothing, Nothing, Nothing, Nothing, Nothing, Nothing, Nothing, typeof(SciMLBase.DEFAULT_OBSERVED), Nothing, Nothing}, Vector{Array{Float64, 3}}, Vector{Float64}, Vector{Vector{Array{Float64, 3}}}, OrdinaryDiffEq.LowStorageRK2NCache{Array{Float64, 3}, Array{Float64, 3}, OrdinaryDiffEq.LowStorageRK2NConstantCache{4, Float64, Float64}, typeof(OrdinaryDiffEq.trivial_limiter!), typeof(OrdinaryDiffEq.trivial_limiter!), Static.False}}, DiffEqBase.Stats, Nothing}, ODEFunction{true, SciMLBase.AutoSpecialize, FunctionWrappersWrappers.FunctionWrappersWrapper{Tuple{FunctionWrappers.FunctionWrapper{Nothing, Tuple{Array{Float64, 3}, Array{Float64, 3}, Solver{1, StandardForm{SkewSymmetricMapping}, SecondOrder, PhysicalOperators{1}, 5, 5, 2, 1, 4}, Float64}}, FunctionWrappers.FunctionWrapper{Nothing, Tuple{Array{ForwardDiff.Dual{ForwardDiff.Tag{DiffEqBase.OrdinaryDiffEqTag, Float64}, Float64, 1}, 3}, Array{ForwardDiff.Dual{ForwardDiff.Tag{DiffEqBase.OrdinaryDiffEqTag, Float64}, Float64, 1}, 3}, Solver{1, StandardForm{SkewSymmetricMapping}, SecondOrder, PhysicalOperators{1}, 5, 5, 2, 1, 4}, Float64}}, FunctionWrappers.FunctionWrapper{Nothing, Tuple{Array{ForwardDiff.Dual{ForwardDiff.Tag{DiffEqBase.OrdinaryDiffEqTag, Float64}, Float64, 1}, 3}, Array{Float64, 3}, Solver{1, StandardForm{SkewSymmetricMapping}, SecondOrder, PhysicalOperators{1}, 5, 5, 2, 1, 4}, ForwardDiff.Dual{ForwardDiff.Tag{DiffEqBase.OrdinaryDiffEqTag, Float64}, Float64, 1}}}, FunctionWrappers.FunctionWrapper{Nothing, Tuple{Array{ForwardDiff.Dual{ForwardDiff.Tag{DiffEqBase.OrdinaryDiffEqTag, Float64}, Float64, 1}, 3}, Array{ForwardDiff.Dual{ForwardDiff.Tag{DiffEqBase.OrdinaryDiffEqTag, Float64}, Float64, 1}, 3}, Solver{1, StandardForm{SkewSymmetricMapping}, SecondOrder, PhysicalOperators{1}, 5, 5, 2, 1, 4}, ForwardDiff.Dual{ForwardDiff.Tag{DiffEqBase.OrdinaryDiffEqTag, Float64}, Float64, 1}}}}, false}, LinearAlgebra.UniformScaling{Bool}, Nothing, Nothing, Nothing, Nothing, Nothing, Nothing, Nothing, Nothing, Nothing, Nothing, Nothing, Nothing, Nothing, typeof(SciMLBase.DEFAULT_OBSERVED), Nothing, Nothing}, OrdinaryDiffEq.LowStorageRK2NCache{Array{Float64, 3}, Array{Float64, 3}, OrdinaryDiffEq.LowStorageRK2NConstantCache{4, Float64, Float64}, typeof(OrdinaryDiffEq.trivial_limiter!), typeof(OrdinaryDiffEq.trivial_limiter!), Static.False}, OrdinaryDiffEq.DEOptions{Float64, Float64, Float64, Float64, PIController{Int64}, typeof(DiffEqBase.ODE_DEFAULT_NORM), typeof(LinearAlgebra.opnorm), Nothing, CallbackSet{Tuple{}, Tuple{DiscreteCallback{StableSpectralElements.File.var\"#condition#4\"{Int64, Int64}, StableSpectralElements.File.var\"#affect!#5\"{String, Int64}, typeof(SciMLBase.INITIALIZE_DEFAULT), typeof(SciMLBase.FINALIZE_DEFAULT)}, DiscreteCallback{DiffEqCallbacks.var\"#60#63\"{Vector{Float64}}, DiffEqCallbacks.var\"#61#64\"{StableSpectralElements.File.var\"#affect!#5\"{String, Int64}}, DiffEqCallbacks.var\"#62#65\"{typeof(SciMLBase.INITIALIZE_DEFAULT), Bool, Vector{Float64}, StableSpectralElements.File.var\"#affect!#5\"{String, Int64}}, typeof(SciMLBase.FINALIZE_DEFAULT)}}}, typeof(DiffEqBase.ODE_DEFAULT_ISOUTOFDOMAIN), typeof(DiffEqBase.ODE_DEFAULT_PROG_MESSAGE), typeof(DiffEqBase.ODE_DEFAULT_UNSTABLE_CHECK), DataStructures.BinaryHeap{Float64, DataStructures.FasterForward}, DataStructures.BinaryHeap{Float64, DataStructures.FasterForward}, Nothing, Nothing, Int64, Tuple{}, Tuple{}, Tuple{}}, Array{Float64, 3}, Float64, Nothing, OrdinaryDiffEq.DefaultInit}, initialize_save::Bool)",
      "    @ OrdinaryDiffEq ~/.julia/packages/OrdinaryDiffEq/SPwv1/src/solve.jl:636",
      " [12] __init(prob::ODEProblem{Array{Float64, 3}, Tuple{Float64, Float64}, true, Solver{1, StandardForm{SkewSymmetricMapping}, SecondOrder, PhysicalOperators{1}, 5, 5, 2, 1, 4}, ODEFunction{true, SciMLBase.AutoSpecialize, FunctionWrappersWrappers.FunctionWrappersWrapper{Tuple{FunctionWrappers.FunctionWrapper{Nothing, Tuple{Array{Float64, 3}, Array{Float64, 3}, Solver{1, StandardForm{SkewSymmetricMapping}, SecondOrder, PhysicalOperators{1}, 5, 5, 2, 1, 4}, Float64}}, FunctionWrappers.FunctionWrapper{Nothing, Tuple{Array{ForwardDiff.Dual{ForwardDiff.Tag{DiffEqBase.OrdinaryDiffEqTag, Float64}, Float64, 1}, 3}, Array{ForwardDiff.Dual{ForwardDiff.Tag{DiffEqBase.OrdinaryDiffEqTag, Float64}, Float64, 1}, 3}, Solver{1, StandardForm{SkewSymmetricMapping}, SecondOrder, PhysicalOperators{1}, 5, 5, 2, 1, 4}, Float64}}, FunctionWrappers.FunctionWrapper{Nothing, Tuple{Array{ForwardDiff.Dual{ForwardDiff.Tag{DiffEqBase.OrdinaryDiffEqTag, Float64}, Float64, 1}, 3}, Array{Float64, 3}, Solver{1, StandardForm{SkewSymmetricMapping}, SecondOrder, PhysicalOperators{1}, 5, 5, 2, 1, 4}, ForwardDiff.Dual{ForwardDiff.Tag{DiffEqBase.OrdinaryDiffEqTag, Float64}, Float64, 1}}}, FunctionWrappers.FunctionWrapper{Nothing, Tuple{Array{ForwardDiff.Dual{ForwardDiff.Tag{DiffEqBase.OrdinaryDiffEqTag, Float64}, Float64, 1}, 3}, Array{ForwardDiff.Dual{ForwardDiff.Tag{DiffEqBase.OrdinaryDiffEqTag, Float64}, Float64, 1}, 3}, Solver{1, StandardForm{SkewSymmetricMapping}, SecondOrder, PhysicalOperators{1}, 5, 5, 2, 1, 4}, ForwardDiff.Dual{ForwardDiff.Tag{DiffEqBase.OrdinaryDiffEqTag, Float64}, Float64, 1}}}}, false}, LinearAlgebra.UniformScaling{Bool}, Nothing, Nothing, Nothing, Nothing, Nothing, Nothing, Nothing, Nothing, Nothing, Nothing, Nothing, Nothing, Nothing, typeof(SciMLBase.DEFAULT_OBSERVED), Nothing, Nothing}, Base.Pairs{Symbol, Union{}, Tuple{}, NamedTuple{(), Tuple{}}}, SciMLBase.StandardODEProblem}, alg::CarpenterKennedy2N54{typeof(OrdinaryDiffEq.trivial_limiter!), typeof(OrdinaryDiffEq.trivial_limiter!), Static.False}, timeseries_init::Tuple{}, ts_init::Tuple{}, ks_init::Tuple{}, recompile::Type{Val{true}}; saveat::Tuple{}, tstops::Tuple{}, d_discontinuities::Tuple{}, save_idxs::Nothing, save_everystep::Bool, save_on::Bool, save_start::Bool, save_end::Nothing, callback::CallbackSet{Tuple{}, Tuple{DiscreteCallback{StableSpectralElements.File.var\"#condition#4\"{Int64, Int64}, StableSpectralElements.File.var\"#affect!#5\"{String, Int64}, typeof(SciMLBase.INITIALIZE_DEFAULT), typeof(SciMLBase.FINALIZE_DEFAULT)}, DiscreteCallback{DiffEqCallbacks.var\"#60#63\"{Vector{Float64}}, DiffEqCallbacks.var\"#61#64\"{StableSpectralElements.File.var\"#affect!#5\"{String, Int64}}, DiffEqCallbacks.var\"#62#65\"{typeof(SciMLBase.INITIALIZE_DEFAULT), Bool, Vector{Float64}, StableSpectralElements.File.var\"#affect!#5\"{String, Int64}}, typeof(SciMLBase.FINALIZE_DEFAULT)}}}, dense::Bool, calck::Bool, dt::Float64, dtmin::Nothing, dtmax::Float64, force_dtmin::Bool, adaptive::Bool, gamma::Int64, abstol::Nothing, reltol::Nothing, qmin::Int64, qmax::Int64, qsteady_min::Int64, qsteady_max::Int64, beta1::Nothing, beta2::Nothing, qoldinit::Int64, controller::Nothing, fullnormalize::Bool, failfactor::Int64, maxiters::Int64, internalnorm::typeof(DiffEqBase.ODE_DEFAULT_NORM), internalopnorm::typeof(LinearAlgebra.opnorm), isoutofdomain::typeof(DiffEqBase.ODE_DEFAULT_ISOUTOFDOMAIN), unstable_check::typeof(DiffEqBase.ODE_DEFAULT_UNSTABLE_CHECK), verbose::Bool, timeseries_errors::Bool, dense_errors::Bool, advance_to_tstop::Bool, stop_at_next_tstop::Bool, initialize_save::Bool, progress::Bool, progress_steps::Int64, progress_name::String, progress_message::typeof(DiffEqBase.ODE_DEFAULT_PROG_MESSAGE), userdata::Nothing, allow_extrapolation::Bool, initialize_integrator::Bool, alias_u0::Bool, alias_du0::Bool, initializealg::OrdinaryDiffEq.DefaultInit, kwargs::Base.Pairs{Symbol, Union{}, Tuple{}, NamedTuple{(), Tuple{}}})",
      "    @ OrdinaryDiffEq ~/.julia/packages/OrdinaryDiffEq/SPwv1/src/solve.jl:498",
      " [13] __init (repeats 5 times)",
      "    @ ~/.julia/packages/OrdinaryDiffEq/SPwv1/src/solve.jl:10 [inlined]",
      " [14] #__solve#640",
      "    @ ~/.julia/packages/OrdinaryDiffEq/SPwv1/src/solve.jl:5 [inlined]",
      " [15] __solve",
      "    @ ~/.julia/packages/OrdinaryDiffEq/SPwv1/src/solve.jl:1 [inlined]",
      " [16] #solve_call#22",
      "    @ ~/.julia/packages/DiffEqBase/tVuJP/src/solve.jl:511 [inlined]",
      " [17] solve_up(prob::ODEProblem{Array{Float64, 3}, Tuple{Float64, Float64}, true, Solver{1, StandardForm{SkewSymmetricMapping}, SecondOrder, PhysicalOperators{1}, 5, 5, 2, 1, 4}, ODEFunction{true, SciMLBase.AutoSpecialize, typeof(rhs!), LinearAlgebra.UniformScaling{Bool}, Nothing, Nothing, Nothing, Nothing, Nothing, Nothing, Nothing, Nothing, Nothing, Nothing, Nothing, Nothing, Nothing, typeof(SciMLBase.DEFAULT_OBSERVED), Nothing, Nothing}, Base.Pairs{Symbol, Union{}, Tuple{}, NamedTuple{(), Tuple{}}}, SciMLBase.StandardODEProblem}, sensealg::Nothing, u0::Array{Float64, 3}, p::Solver{1, StandardForm{SkewSymmetricMapping}, SecondOrder, PhysicalOperators{1}, 5, 5, 2, 1, 4}, args::CarpenterKennedy2N54{typeof(OrdinaryDiffEq.trivial_limiter!), typeof(OrdinaryDiffEq.trivial_limiter!), Static.False}; kwargs::Base.Pairs{Symbol, Any, NTuple{4, Symbol}, NamedTuple{(:adaptive, :dt, :save_everystep, :callback), Tuple{Bool, Float64, Bool, CallbackSet{Tuple{}, Tuple{DiscreteCallback{StableSpectralElements.File.var\"#condition#4\"{Int64, Int64}, StableSpectralElements.File.var\"#affect!#5\"{String, Int64}, typeof(SciMLBase.INITIALIZE_DEFAULT), typeof(SciMLBase.FINALIZE_DEFAULT)}, DiscreteCallback{DiffEqCallbacks.var\"#60#63\"{Vector{Float64}}, DiffEqCallbacks.var\"#61#64\"{StableSpectralElements.File.var\"#affect!#5\"{String, Int64}}, DiffEqCallbacks.var\"#62#65\"{typeof(SciMLBase.INITIALIZE_DEFAULT), Bool, Vector{Float64}, StableSpectralElements.File.var\"#affect!#5\"{String, Int64}}, typeof(SciMLBase.FINALIZE_DEFAULT)}}}}}})",
      "    @ DiffEqBase ~/.julia/packages/DiffEqBase/tVuJP/src/solve.jl:972",
      " [18] solve_up",
      "    @ ~/.julia/packages/DiffEqBase/tVuJP/src/solve.jl:945 [inlined]",
      " [19] solve(prob::ODEProblem{Array{Float64, 3}, Tuple{Float64, Float64}, true, Solver{1, StandardForm{SkewSymmetricMapping}, SecondOrder, PhysicalOperators{1}, 5, 5, 2, 1, 4}, ODEFunction{true, SciMLBase.AutoSpecialize, typeof(rhs!), LinearAlgebra.UniformScaling{Bool}, Nothing, Nothing, Nothing, Nothing, Nothing, Nothing, Nothing, Nothing, Nothing, Nothing, Nothing, Nothing, Nothing, typeof(SciMLBase.DEFAULT_OBSERVED), Nothing, Nothing}, Base.Pairs{Symbol, Union{}, Tuple{}, NamedTuple{(), Tuple{}}}, SciMLBase.StandardODEProblem}, args::CarpenterKennedy2N54{typeof(OrdinaryDiffEq.trivial_limiter!), typeof(OrdinaryDiffEq.trivial_limiter!), Static.False}; sensealg::Nothing, u0::Nothing, p::Nothing, wrap::Val{true}, kwargs::Base.Pairs{Symbol, Any, NTuple{4, Symbol}, NamedTuple{(:adaptive, :dt, :save_everystep, :callback), Tuple{Bool, Float64, Bool, CallbackSet{Tuple{}, Tuple{DiscreteCallback{StableSpectralElements.File.var\"#condition#4\"{Int64, Int64}, StableSpectralElements.File.var\"#affect!#5\"{String, Int64}, typeof(SciMLBase.INITIALIZE_DEFAULT), typeof(SciMLBase.FINALIZE_DEFAULT)}, DiscreteCallback{DiffEqCallbacks.var\"#60#63\"{Vector{Float64}}, DiffEqCallbacks.var\"#61#64\"{StableSpectralElements.File.var\"#affect!#5\"{String, Int64}}, DiffEqCallbacks.var\"#62#65\"{typeof(SciMLBase.INITIALIZE_DEFAULT), Bool, Vector{Float64}, StableSpectralElements.File.var\"#affect!#5\"{String, Int64}}, typeof(SciMLBase.FINALIZE_DEFAULT)}}}}}})",
      "    @ DiffEqBase ~/.julia/packages/DiffEqBase/tVuJP/src/solve.jl:882",
      " [20] top-level scope",
      "    @ In[5]:13"
     ]
    }
   ],
   "source": [
    "ode_problem = semidiscretize(conservation_law,\n",
    "    spatial_discretization,\n",
    "    initial_data, \n",
    "    form,\n",
    "    (0.0, T), \n",
    "    PhysicalOperator())\n",
    "\n",
    "CFL = 0.1\n",
    "h = L / (reference_approximation.N_p * spatial_discretization.N_e)\n",
    "dt = CFL * h / a\n",
    "\n",
    "reset_timer!()\n",
    "sol = solve(ode_problem, CarpenterKennedy2N54(), adaptive=false, dt=dt,\n",
    "    save_everystep=false, callback=save_callback(results_path, (0.0,T),  \n",
    "        floor(Int, T/(dt*50))))\n",
    "print_timer()"
   ]
  },
  {
   "cell_type": "markdown",
   "id": "a728e690",
   "metadata": {},
   "source": [
    "The $L^2$ norm of the error in the numerical solution can now be approximated, where we use an over-integrated quadrature rule in this case."
   ]
  },
  {
   "cell_type": "code",
   "execution_count": 6,
   "id": "2d5e69cf",
   "metadata": {
    "scrolled": true
   },
   "outputs": [
    {
     "name": "stdout",
     "output_type": "stream",
     "text": [
      "L2 error:\n"
     ]
    },
    {
     "ename": "LoadError",
     "evalue": "UndefVarError: `sol` not defined",
     "output_type": "error",
     "traceback": [
      "UndefVarError: `sol` not defined",
      "",
      "Stacktrace:",
      " [1] top-level scope",
      "   @ In[6]:4"
     ]
    }
   ],
   "source": [
    "error_analysis = ErrorAnalysis(results_path, conservation_law, \n",
    "    spatial_discretization, LGQuadrature(p+2))\n",
    "println(\"L2 error:\")\n",
    "println(analyze(error_analysis, last(sol.u), exact_solution, T)...)"
   ]
  },
  {
   "cell_type": "markdown",
   "id": "bf950dfb",
   "metadata": {},
   "source": [
    "Using the snapshots taken during the simulation, the discrete conservation and energy functionals can be evaluated, corresponding to the discrete approximations of $\\int_0^L U(x,t) \\, \\mathrm{d} x$ and $\\tfrac{1}{2}\\int_0^L U(x,t)^2 \\, \\mathrm{d} x$, respectively. Note that the conservation functional remains constant up to machine precision, while the energy functional is nonincreasing for all time."
   ]
  },
  {
   "cell_type": "code",
   "execution_count": 7,
   "id": "99bcfa76",
   "metadata": {
    "scrolled": false
   },
   "outputs": [
    {
     "ename": "LoadError",
     "evalue": "BoundsError: attempt to access 0-element Vector{Float64} at index [1]",
     "output_type": "error",
     "traceback": [
      "BoundsError: attempt to access 0-element Vector{Float64} at index [1]",
      "",
      "Stacktrace:",
      "  [1] getindex",
      "    @ ./essentials.jl:13 [inlined]",
      "  [2] first",
      "    @ ./abstractarray.jl:445 [inlined]",
      "  [3] macro expansion",
      "    @ ~/Research/StableSpectralElements.jl/src/Analysis/conservation.jl:242 [inlined]",
      "  [4] macro expansion",
      "    @ ~/.julia/packages/RecipesBase/BRe07/src/RecipesBase.jl:340 [inlined]",
      "  [5] macro expansion",
      "    @ ~/Research/StableSpectralElements.jl/src/Analysis/conservation.jl:239 [inlined]",
      "  [6] apply_recipe(plotattributes::AbstractDict{Symbol, Any}, results::ConservationAnalysisResultsWithDerivative, e::Int64)",
      "    @ StableSpectralElements.Analysis ~/.julia/packages/RecipesBase/BRe07/src/RecipesBase.jl:300",
      "  [7] apply_recipe(plotattributes::AbstractDict{Symbol, Any}, results::ConservationAnalysisResultsWithDerivative)",
      "    @ StableSpectralElements.Analysis ~/.julia/packages/RecipesBase/BRe07/src/RecipesBase.jl:297",
      "  [8] _process_userrecipes!(plt::Any, plotattributes::Any, args::Any)",
      "    @ RecipesPipeline ~/.julia/packages/RecipesPipeline/BGM3l/src/user_recipe.jl:38",
      "  [9] recipe_pipeline!(plt::Any, plotattributes::Any, args::Any)",
      "    @ RecipesPipeline ~/.julia/packages/RecipesPipeline/BGM3l/src/RecipesPipeline.jl:72",
      " [10] _plot!(plt::Plots.Plot, plotattributes::Any, args::Any)",
      "    @ Plots ~/.julia/packages/Plots/rz1WP/src/plot.jl:223",
      " [11] plot(args::Any; kw::Base.Pairs{Symbol, V, Tuple{Vararg{Symbol, N}}, NamedTuple{names, T}} where {V, N, names, T<:Tuple{Vararg{Any, N}}})",
      "    @ Plots ~/.julia/packages/Plots/rz1WP/src/plot.jl:102",
      " [12] top-level scope",
      "    @ In[7]:5"
     ]
    }
   ],
   "source": [
    "conservation_analysis = PrimaryConservationAnalysis(results_path, \n",
    "    conservation_law, spatial_discretization)\n",
    "energy_analysis = EnergyConservationAnalysis(results_path, \n",
    "    conservation_law, spatial_discretization)\n",
    "p1 = plot(analyze(conservation_analysis, load_time_steps(results_path)), \n",
    "    ylabel=\"Conservation functional\")\n",
    "p2 = plot(analyze(energy_analysis, load_time_steps(results_path)), \n",
    "    ylabel=\"Energy functional\");\n",
    "plot(p1,p2, size=(600,300),margin=5mm, fmt=:png)"
   ]
  },
  {
   "cell_type": "markdown",
   "id": "3eb179db",
   "metadata": {},
   "source": [
    "We can plot the numerical solution at time $t = T$ and compare it to the analytical solution."
   ]
  },
  {
   "cell_type": "code",
   "execution_count": 8,
   "id": "1f9d3095",
   "metadata": {},
   "outputs": [
    {
     "ename": "LoadError",
     "evalue": "UndefVarError: `sol` not defined",
     "output_type": "error",
     "traceback": [
      "UndefVarError: `sol` not defined",
      "",
      "Stacktrace:",
      " [1] top-level scope",
      "   @ In[8]:1"
     ]
    }
   ],
   "source": [
    "plot(spatial_discretization, last(sol.u), \n",
    "    exact_solution=exact_solution, time=T, ylims=[-1.0,1.0], fmt=:png)"
   ]
  },
  {
   "cell_type": "markdown",
   "id": "a48706fb",
   "metadata": {},
   "source": [
    "Such plots can then be used to create an animation as shown below. We'll save it as a `.gif` file."
   ]
  },
  {
   "cell_type": "code",
   "execution_count": 9,
   "id": "1b132982",
   "metadata": {},
   "outputs": [
    {
     "ename": "LoadError",
     "evalue": "UndefVarError: `sol` not defined",
     "output_type": "error",
     "traceback": [
      "UndefVarError: `sol` not defined",
      "",
      "Stacktrace:",
      " [1] top-level scope",
      "   @ ~/.julia/packages/Plots/rz1WP/src/animation.jl:251"
     ]
    }
   ],
   "source": [
    "anim = @animate for i ∈ eachindex(sol.u)\n",
    "    plot(spatial_discretization, sol.u[i], \n",
    "        ylims=[-1.0,1.0], ylabel=\"\\$U^h(x,t)\\$\",\n",
    "        label=string(\"\\$t = \\$\", @sprintf \"\\$%.2f\\$\" sol.t[i]))\n",
    "end\n",
    "gif(anim, \"advection_diffusion_solution.gif\", fps = 10)"
   ]
  }
 ],
 "metadata": {
  "kernelspec": {
   "display_name": "Julia 1.9.2",
   "language": "julia",
   "name": "julia-1.9"
  },
  "language_info": {
   "file_extension": ".jl",
   "mimetype": "application/julia",
   "name": "julia",
   "version": "1.9.2"
  }
 },
 "nbformat": 4,
 "nbformat_minor": 5
}
