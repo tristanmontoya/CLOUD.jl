{
 "cells": [
  {
   "cell_type": "markdown",
   "id": "57e01ba9",
   "metadata": {},
   "source": [
    "# `CLOUD.jl` - 1D linear advection-diffusion example"
   ]
  },
  {
   "cell_type": "code",
   "execution_count": 1,
   "id": "445c3c9f",
   "metadata": {},
   "outputs": [
    {
     "name": "stderr",
     "output_type": "stream",
     "text": [
      "┌ Info: Precompiling CLOUD [fb992021-99c7-4c2d-a14b-5e48ac4045b2]\n",
      "└ @ Base loading.jl:1423\n"
     ]
    }
   ],
   "source": [
    "using CLOUD, OrdinaryDiffEq"
   ]
  },
  {
   "cell_type": "markdown",
   "id": "a4be55d2",
   "metadata": {},
   "source": [
    "Define the physical problem"
   ]
  },
  {
   "cell_type": "code",
   "execution_count": 2,
   "id": "581e4cca",
   "metadata": {},
   "outputs": [],
   "source": [
    "a = 1.0  # wave speed\n",
    "b = 1.0e-3  # diffusion coefficient\n",
    "\n",
    "A = 1.0  # amplitude\n",
    "L = 1.0  # domain length\n",
    "σ = 0.1  # width of Gaussian pulse\n",
    "x₀ = 0.5  # centre of Gaussian pulse\n",
    "T = 1.0  # end time for one period\n",
    "\n",
    "initial_data = InitialDataGaussian(A,σ,x₀)\n",
    "conservation_law = LinearAdvectionDiffusionEquation(a,b);"
   ]
  },
  {
   "cell_type": "markdown",
   "id": "46f7dc9a",
   "metadata": {},
   "source": [
    "Set discretization parameters"
   ]
  },
  {
   "cell_type": "code",
   "execution_count": 3,
   "id": "5091f80f",
   "metadata": {},
   "outputs": [],
   "source": [
    "M = 4\n",
    "p = 6\n",
    "form = WeakConservationForm(StandardMapping(),LaxFriedrichsNumericalFlux())\n",
    "strategy = Lazy()\n",
    "\n",
    "ode_algorithm = CarpenterKennedy2N54()\n",
    "dt = 0.1*(L/M)/(a*(2*p+1));\n",
    "write_interval = floor(Int, T/(dt*10));"
   ]
  },
  {
   "cell_type": "markdown",
   "id": "71d60198",
   "metadata": {},
   "source": [
    "Set up a `DGSEM` scheme with LGL quadrature of degree `p` with `M` elements"
   ]
  },
  {
   "cell_type": "code",
   "execution_count": 4,
   "id": "c6d7c6cc",
   "metadata": {},
   "outputs": [],
   "source": [
    "reference_approximation =ReferenceApproximation(\n",
    "    DGSEM(p), Line(), volume_quadrature_rule=LGLQuadrature())\n",
    "\n",
    "mesh = uniform_periodic_mesh(\n",
    "    reference_approximation.reference_element, (0.0,L), M)\n",
    "\n",
    "spatial_discretization = SpatialDiscretization(mesh, \n",
    "    reference_approximation)\n",
    "\n",
    "results_path = save_project(conservation_law,\n",
    "     spatial_discretization, initial_data, form, (0.0, T), Lazy(),\n",
    "     \"results/advection_diffusion_1d_dgsem/\", overwrite=true, clear=true);"
   ]
  },
  {
   "cell_type": "markdown",
   "id": "3b76ea45",
   "metadata": {},
   "source": [
    "Run the solver and plot the solution"
   ]
  },
  {
   "cell_type": "code",
   "execution_count": 5,
   "id": "a05f366d",
   "metadata": {},
   "outputs": [
    {
     "name": "stdout",
     "output_type": "stream",
     "text": [
      "\u001b[0m\u001b[1m ────────────────────────────────────────────────────────────────────────────────\u001b[22m\n",
      "\u001b[0m\u001b[1m                               \u001b[22m         Time                    Allocations      \n",
      "                               ───────────────────────   ────────────────────────\n",
      "       Tot / % measured:            486ms / 206.7%           57.4MiB / 475.3%    \n",
      "\n",
      " Section               ncalls     time    %tot     avg     alloc    %tot      avg\n",
      " ────────────────────────────────────────────────────────────────────────────────\n",
      " auxiliary variable     10.4k    614ms   61.1%  59.0μs    180MiB   66.2%  17.8KiB\n",
      "   apply operators      10.4k    459ms   45.6%  44.1μs    135MiB   49.5%  13.3KiB\n",
      "     facet terms        10.4k    257ms   25.6%  24.7μs   70.3MiB   25.8%  6.92KiB\n",
      "     volume terms       10.4k    114ms   11.3%  11.0μs   45.4MiB   16.7%  4.47KiB\n",
      "     mass matrix solve  10.4k   5.08ms    0.5%   488ns   3.33MiB    1.2%     336B\n",
      "   eval solution        10.4k    139ms   13.8%  13.4μs   37.7MiB   13.8%  3.71KiB\n",
      "   eval num trace       10.4k   6.33ms    0.6%   608ns   4.13MiB    1.5%     416B\n",
      "   gather extern state  10.4k   3.61ms    0.4%   347ns   3.65MiB    1.3%     368B\n",
      " primary variable       10.4k    282ms   28.0%  27.1μs   67.1MiB   24.6%  6.60KiB\n",
      "   apply operators      10.4k    106ms   10.5%  10.2μs   24.3MiB    8.9%  2.39KiB\n",
      "     volume terms       10.4k   7.57ms    0.8%   727ns   3.81MiB    1.4%     384B\n",
      "     mass matrix solve  10.4k   4.15ms    0.4%   399ns   2.22MiB    0.8%     224B\n",
      "     facet terms        10.4k   2.64ms    0.3%   253ns    813KiB    0.3%    80.0B\n",
      "   eval visc num flux   10.4k   88.6ms    8.8%  8.51μs   14.3MiB    5.2%  1.41KiB\n",
      "   gather extern state  10.4k   37.8ms    3.8%  3.63μs   8.80MiB    3.2%     887B\n",
      "   eval flux            10.4k   30.6ms    3.0%  2.94μs   11.3MiB    4.1%  1.11KiB\n",
      "   eval inv num flux    10.4k   9.41ms    0.9%   905ns   8.10MiB    3.0%     816B\n",
      " extrap solution        10.4k   92.7ms    9.2%  8.91μs   20.9MiB    7.7%  2.06KiB\n",
      " extrap aux variable    10.4k   16.7ms    1.7%  1.61μs   4.29MiB    1.6%     432B\n",
      "\u001b[0m\u001b[1m ────────────────────────────────────────────────────────────────────────────────\u001b[22m\n"
     ]
    }
   ],
   "source": [
    "ode_problem = semidiscretize(conservation_law,\n",
    "    spatial_discretization,\n",
    "    initial_data, \n",
    "    form,\n",
    "    (0.0, T),\n",
    "    strategy)\n",
    "save_solution(ode_problem.u0, 0.0, results_path, 0)\n",
    "CLOUD_reset_timer()\n",
    "sol = solve(ode_problem, ode_algorithm, adaptive=false, dt=dt,\n",
    "    save_everystep=false, callback=save_callback(results_path, write_interval))\n",
    "CLOUD_print_timer()\n",
    "\n",
    "save_solution(last(sol.u), last(sol.t), results_path, \"final\")\n",
    "plotter = Plotter(spatial_discretization, results_path)\n",
    "visualize(last(sol.u), plotter, \"approx.pdf\");"
   ]
  },
  {
   "cell_type": "markdown",
   "id": "5ab75c1a",
   "metadata": {},
   "source": [
    "Calculate the integral L<sup>2</sup> error norm and conservation/energy error"
   ]
  },
  {
   "cell_type": "code",
   "execution_count": 6,
   "id": "79a4802b",
   "metadata": {},
   "outputs": [
    {
     "name": "stdout",
     "output_type": "stream",
     "text": [
      "L2 error:\n",
      "0.03248649764825698\n",
      "Conservation (initial/final/diff):\n",
      "[0.2506626716404719][0.2506626716404735][1.609823385706477e-15]\n",
      "Energy (initial/final/diff):\n",
      "[0.0886231795493749][0.08090045567521623][-0.007722723874158677]\n"
     ]
    }
   ],
   "source": [
    "error_analysis = ErrorAnalysis(results_path, conservation_law, \n",
    "    spatial_discretization)\n",
    "conservation_analysis = PrimaryConservationAnalysis(results_path, \n",
    "    conservation_law, spatial_discretization)\n",
    "energy_analysis = EnergyConservationAnalysis(results_path, \n",
    "    conservation_law, spatial_discretization)\n",
    "\n",
    "println(\"L2 error:\")\n",
    "println(analyze(error_analysis, last(sol.u), initial_data)...)\n",
    "println(\"Conservation (initial/final/diff):\")\n",
    "println(analyze(conservation_analysis)...)\n",
    "println(\"Energy (initial/final/diff):\")\n",
    "println(analyze(energy_analysis)...)"
   ]
  }
 ],
 "metadata": {
  "kernelspec": {
   "display_name": "Julia 1.7.3",
   "language": "julia",
   "name": "julia-1.7"
  },
  "language_info": {
   "file_extension": ".jl",
   "mimetype": "application/julia",
   "name": "julia",
   "version": "1.7.3"
  }
 },
 "nbformat": 4,
 "nbformat_minor": 5
}
