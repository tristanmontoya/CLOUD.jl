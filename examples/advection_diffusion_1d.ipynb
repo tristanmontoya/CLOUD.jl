{
 "cells": [
  {
   "cell_type": "markdown",
   "id": "57e01ba9",
   "metadata": {},
   "source": [
    "# `CLOUD.jl` - 1D linear advection-diffusion example"
   ]
  },
  {
   "cell_type": "code",
   "execution_count": 17,
   "id": "445c3c9f",
   "metadata": {},
   "outputs": [],
   "source": [
    "using CLOUD, OrdinaryDiffEq, Plots, TimerOutputs"
   ]
  },
  {
   "cell_type": "markdown",
   "id": "a4be55d2",
   "metadata": {},
   "source": [
    "Define the physical problem"
   ]
  },
  {
   "cell_type": "code",
   "execution_count": 18,
   "id": "581e4cca",
   "metadata": {},
   "outputs": [],
   "source": [
    "a = 1.0  # wave speed\n",
    "b = 5.0e-2 # diffusion coefficient\n",
    "L = 1.0  # domain length\n",
    "T = 1.0  # end time for one period\n",
    "\n",
    "initial_data = InitialDataSine(1.0,2π)\n",
    "conservation_law = LinearAdvectionDiffusionEquation(a,b)\n",
    "exact_solution = ExactSolution(conservation_law,initial_data);"
   ]
  },
  {
   "cell_type": "markdown",
   "id": "46f7dc9a",
   "metadata": {},
   "source": [
    "Set discretization parameters"
   ]
  },
  {
   "cell_type": "code",
   "execution_count": 19,
   "id": "5091f80f",
   "metadata": {},
   "outputs": [],
   "source": [
    "M = 4\n",
    "p = 5\n",
    "form = WeakConservationForm()\n",
    "strategy = ReferenceOperator()\n",
    "\n",
    "ode_algorithm = CarpenterKennedy2N54()\n",
    "dt = 0.05*(L/M)/(a*(2*p+1));\n",
    "write_interval = floor(Int, T/(dt*100));"
   ]
  },
  {
   "cell_type": "markdown",
   "id": "71d60198",
   "metadata": {},
   "source": [
    "Set up a `DGSEM` scheme with LGL quadrature of degree `p` with `M` elements"
   ]
  },
  {
   "cell_type": "code",
   "execution_count": 20,
   "id": "c6d7c6cc",
   "metadata": {},
   "outputs": [],
   "source": [
    "reference_approximation = ReferenceApproximation(\n",
    "    DGSEM(p), Line(), volume_quadrature_rule=LGLQuadrature())\n",
    "\n",
    "mesh = uniform_periodic_mesh(\n",
    "    reference_approximation.reference_element, (0.0,L), M)\n",
    "\n",
    "spatial_discretization = SpatialDiscretization(mesh, \n",
    "    reference_approximation)\n",
    "\n",
    "results_path = save_project(conservation_law,\n",
    "     spatial_discretization, initial_data, form, (0.0, T), strategy,\n",
    "     \"results/advection_diffusion_1d_dgsem/\", overwrite=true, clear=true);"
   ]
  },
  {
   "cell_type": "markdown",
   "id": "3b76ea45",
   "metadata": {},
   "source": [
    "Run the solver and print timer outputs"
   ]
  },
  {
   "cell_type": "code",
   "execution_count": 21,
   "id": "a05f366d",
   "metadata": {},
   "outputs": [
    {
     "ename": "LoadError",
     "evalue": "TaskFailedException\n\n\u001b[91m    nested task error: \u001b[39mUndefVarError: q_nodal not defined\n    Stacktrace:\n     [1] \u001b[0m\u001b[1mmacro expansion\u001b[22m\n    \u001b[90m   @ \u001b[39m\u001b[90m~/Research/CLOUD.jl/src/Solvers/\u001b[39m\u001b[90m\u001b[4mconservation_form.jl:254\u001b[24m\u001b[39m\u001b[90m [inlined]\u001b[39m\n     [2] \u001b[0m\u001b[1mmacro expansion\u001b[22m\n    \u001b[90m   @ \u001b[39m\u001b[90m~/.julia/packages/TimerOutputs/4yHI4/src/\u001b[39m\u001b[90m\u001b[4mTimerOutput.jl:237\u001b[24m\u001b[39m\u001b[90m [inlined]\u001b[39m\n     [3] \u001b[0m\u001b[1mmacro expansion\u001b[22m\n    \u001b[90m   @ \u001b[39m\u001b[90m~/Research/CLOUD.jl/src/Solvers/\u001b[39m\u001b[90m\u001b[4mconservation_form.jl:252\u001b[24m\u001b[39m\u001b[90m [inlined]\u001b[39m\n     [4] \u001b[0m\u001b[1mmacro expansion\u001b[22m\n    \u001b[90m   @ \u001b[39m\u001b[90m~/.julia/packages/TimerOutputs/4yHI4/src/\u001b[39m\u001b[90m\u001b[4mTimerOutput.jl:237\u001b[24m\u001b[39m\u001b[90m [inlined]\u001b[39m\n     [5] \u001b[0m\u001b[1mmacro expansion\u001b[22m\n    \u001b[90m   @ \u001b[39m\u001b[90m~/Research/CLOUD.jl/src/Solvers/\u001b[39m\u001b[90m\u001b[4mconservation_form.jl:232\u001b[24m\u001b[39m\u001b[90m [inlined]\u001b[39m\n     [6] \u001b[0m\u001b[1m(::CLOUD.Solvers.var\"#508#threadsfor_fun#99\"{1, Array{Float64, 3}, Array{Float64, 3}, Float64, Array{Float64, 3}, Tuple{Array{Float64, 3}}, Tuple{Array{Float64, 3}}, Int64, Int64, Int64, NoSourceTerm{1}, BR1, LaxFriedrichsNumericalFlux, ReferenceOperator, Matrix{Int64}, Tuple{Matrix{Float64}}, Vector{DiscretizationOperators}, LinearAdvectionDiffusionEquation{1}, UnitRange{Int64}})\u001b[22m\u001b[0m\u001b[1m(\u001b[22m\u001b[90monethread\u001b[39m::\u001b[0mBool\u001b[0m\u001b[1m)\u001b[22m\n    \u001b[90m   @ \u001b[39m\u001b[35mCLOUD.Solvers\u001b[39m \u001b[90m~/Research/CLOUD.jl/src/Solvers/\u001b[39m\u001b[90m\u001b[4mconservation_form.jl:195\u001b[24m\u001b[39m\n     [7] \u001b[0m\u001b[1m(::CLOUD.Solvers.var\"#508#threadsfor_fun#99\"{1, Array{Float64, 3}, Array{Float64, 3}, Float64, Array{Float64, 3}, Tuple{Array{Float64, 3}}, Tuple{Array{Float64, 3}}, Int64, Int64, Int64, NoSourceTerm{1}, BR1, LaxFriedrichsNumericalFlux, ReferenceOperator, Matrix{Int64}, Tuple{Matrix{Float64}}, Vector{DiscretizationOperators}, LinearAdvectionDiffusionEquation{1}, UnitRange{Int64}})\u001b[22m\u001b[0m\u001b[1m(\u001b[22m\u001b[0m\u001b[1m)\u001b[22m\n    \u001b[90m   @ \u001b[39m\u001b[35mCLOUD.Solvers\u001b[39m \u001b[90m~/Research/CLOUD.jl/src/Solvers/\u001b[39m\u001b[90m\u001b[4mconservation_form.jl:162\u001b[24m\u001b[39m",
     "output_type": "error",
     "traceback": [
      "TaskFailedException\n\n\u001b[91m    nested task error: \u001b[39mUndefVarError: q_nodal not defined\n    Stacktrace:\n     [1] \u001b[0m\u001b[1mmacro expansion\u001b[22m\n    \u001b[90m   @ \u001b[39m\u001b[90m~/Research/CLOUD.jl/src/Solvers/\u001b[39m\u001b[90m\u001b[4mconservation_form.jl:254\u001b[24m\u001b[39m\u001b[90m [inlined]\u001b[39m\n     [2] \u001b[0m\u001b[1mmacro expansion\u001b[22m\n    \u001b[90m   @ \u001b[39m\u001b[90m~/.julia/packages/TimerOutputs/4yHI4/src/\u001b[39m\u001b[90m\u001b[4mTimerOutput.jl:237\u001b[24m\u001b[39m\u001b[90m [inlined]\u001b[39m\n     [3] \u001b[0m\u001b[1mmacro expansion\u001b[22m\n    \u001b[90m   @ \u001b[39m\u001b[90m~/Research/CLOUD.jl/src/Solvers/\u001b[39m\u001b[90m\u001b[4mconservation_form.jl:252\u001b[24m\u001b[39m\u001b[90m [inlined]\u001b[39m\n     [4] \u001b[0m\u001b[1mmacro expansion\u001b[22m\n    \u001b[90m   @ \u001b[39m\u001b[90m~/.julia/packages/TimerOutputs/4yHI4/src/\u001b[39m\u001b[90m\u001b[4mTimerOutput.jl:237\u001b[24m\u001b[39m\u001b[90m [inlined]\u001b[39m\n     [5] \u001b[0m\u001b[1mmacro expansion\u001b[22m\n    \u001b[90m   @ \u001b[39m\u001b[90m~/Research/CLOUD.jl/src/Solvers/\u001b[39m\u001b[90m\u001b[4mconservation_form.jl:232\u001b[24m\u001b[39m\u001b[90m [inlined]\u001b[39m\n     [6] \u001b[0m\u001b[1m(::CLOUD.Solvers.var\"#508#threadsfor_fun#99\"{1, Array{Float64, 3}, Array{Float64, 3}, Float64, Array{Float64, 3}, Tuple{Array{Float64, 3}}, Tuple{Array{Float64, 3}}, Int64, Int64, Int64, NoSourceTerm{1}, BR1, LaxFriedrichsNumericalFlux, ReferenceOperator, Matrix{Int64}, Tuple{Matrix{Float64}}, Vector{DiscretizationOperators}, LinearAdvectionDiffusionEquation{1}, UnitRange{Int64}})\u001b[22m\u001b[0m\u001b[1m(\u001b[22m\u001b[90monethread\u001b[39m::\u001b[0mBool\u001b[0m\u001b[1m)\u001b[22m\n    \u001b[90m   @ \u001b[39m\u001b[35mCLOUD.Solvers\u001b[39m \u001b[90m~/Research/CLOUD.jl/src/Solvers/\u001b[39m\u001b[90m\u001b[4mconservation_form.jl:195\u001b[24m\u001b[39m\n     [7] \u001b[0m\u001b[1m(::CLOUD.Solvers.var\"#508#threadsfor_fun#99\"{1, Array{Float64, 3}, Array{Float64, 3}, Float64, Array{Float64, 3}, Tuple{Array{Float64, 3}}, Tuple{Array{Float64, 3}}, Int64, Int64, Int64, NoSourceTerm{1}, BR1, LaxFriedrichsNumericalFlux, ReferenceOperator, Matrix{Int64}, Tuple{Matrix{Float64}}, Vector{DiscretizationOperators}, LinearAdvectionDiffusionEquation{1}, UnitRange{Int64}})\u001b[22m\u001b[0m\u001b[1m(\u001b[22m\u001b[0m\u001b[1m)\u001b[22m\n    \u001b[90m   @ \u001b[39m\u001b[35mCLOUD.Solvers\u001b[39m \u001b[90m~/Research/CLOUD.jl/src/Solvers/\u001b[39m\u001b[90m\u001b[4mconservation_form.jl:162\u001b[24m\u001b[39m",
      "",
      "Stacktrace:",
      "  [1] wait",
      "    @ ./task.jl:334 [inlined]",
      "  [2] threading_run(func::Function)",
      "    @ Base.Threads ./threadingconstructs.jl:38",
      "  [3] macro expansion",
      "    @ ./threadingconstructs.jl:97 [inlined]",
      "  [4] macro expansion",
      "    @ ~/Research/CLOUD.jl/src/Solvers/conservation_form.jl:230 [inlined]",
      "  [5] macro expansion",
      "    @ ~/.julia/packages/TimerOutputs/4yHI4/src/TimerOutput.jl:237 [inlined]",
      "  [6] rhs!(dudt::Array{Float64, 3}, u::Array{Float64, 3}, solver::Solver{1, WeakConservationForm{StandardMapping, NoTwoPointFlux}, SecondOrder}, t::Float64)",
      "    @ CLOUD.Solvers ~/Research/CLOUD.jl/src/Solvers/conservation_form.jl:165",
      "  [7] ODEFunction",
      "    @ ~/.julia/packages/SciMLBase/idlaI/src/scimlfunctions.jl:1787 [inlined]",
      "  [8] initialize!(integrator::OrdinaryDiffEq.ODEIntegrator{CarpenterKennedy2N54{typeof(OrdinaryDiffEq.trivial_limiter!), typeof(OrdinaryDiffEq.trivial_limiter!), Static.False}, true, Array{Float64, 3}, Nothing, Float64, Solver{1, WeakConservationForm{StandardMapping, NoTwoPointFlux}, SecondOrder}, Float64, Float64, Float64, Float64, Vector{Array{Float64, 3}}, ODESolution{Float64, 4, Vector{Array{Float64, 3}}, Nothing, Nothing, Vector{Float64}, Vector{Vector{Array{Float64, 3}}}, ODEProblem{Array{Float64, 3}, Tuple{Float64, Float64}, true, Solver{1, WeakConservationForm{StandardMapping, NoTwoPointFlux}, SecondOrder}, ODEFunction{true, SciMLBase.AutoSpecialize, typeof(rhs!), LinearAlgebra.UniformScaling{Bool}, Nothing, Nothing, Nothing, Nothing, Nothing, Nothing, Nothing, Nothing, Nothing, Nothing, Nothing, Nothing, Nothing, typeof(SciMLBase.DEFAULT_OBSERVED), Nothing, Nothing}, Base.Pairs{Symbol, Union{}, Tuple{}, NamedTuple{(), Tuple{}}}, SciMLBase.StandardODEProblem}, CarpenterKennedy2N54{typeof(OrdinaryDiffEq.trivial_limiter!), typeof(OrdinaryDiffEq.trivial_limiter!), Static.False}, OrdinaryDiffEq.InterpolationData{ODEFunction{true, SciMLBase.AutoSpecialize, typeof(rhs!), LinearAlgebra.UniformScaling{Bool}, Nothing, Nothing, Nothing, Nothing, Nothing, Nothing, Nothing, Nothing, Nothing, Nothing, Nothing, Nothing, Nothing, typeof(SciMLBase.DEFAULT_OBSERVED), Nothing, Nothing}, Vector{Array{Float64, 3}}, Vector{Float64}, Vector{Vector{Array{Float64, 3}}}, OrdinaryDiffEq.LowStorageRK2NCache{Array{Float64, 3}, Array{Float64, 3}, OrdinaryDiffEq.LowStorageRK2NConstantCache{4, Float64, Float64}, typeof(OrdinaryDiffEq.trivial_limiter!), typeof(OrdinaryDiffEq.trivial_limiter!), Static.False}}, DiffEqBase.DEStats}, ODEFunction{true, SciMLBase.AutoSpecialize, typeof(rhs!), LinearAlgebra.UniformScaling{Bool}, Nothing, Nothing, Nothing, Nothing, Nothing, Nothing, Nothing, Nothing, Nothing, Nothing, Nothing, Nothing, Nothing, typeof(SciMLBase.DEFAULT_OBSERVED), Nothing, Nothing}, OrdinaryDiffEq.LowStorageRK2NCache{Array{Float64, 3}, Array{Float64, 3}, OrdinaryDiffEq.LowStorageRK2NConstantCache{4, Float64, Float64}, typeof(OrdinaryDiffEq.trivial_limiter!), typeof(OrdinaryDiffEq.trivial_limiter!), Static.False}, OrdinaryDiffEq.DEOptions{Float64, Float64, Float64, Float64, PIController{Int64}, typeof(DiffEqBase.ODE_DEFAULT_NORM), typeof(LinearAlgebra.opnorm), Nothing, CallbackSet{Tuple{}, Tuple{DiscreteCallback{CLOUD.File.var\"#condition#4\"{Int64}, CLOUD.File.var\"#affect!#5\"{String}, typeof(SciMLBase.INITIALIZE_DEFAULT), typeof(SciMLBase.FINALIZE_DEFAULT)}}}, typeof(DiffEqBase.ODE_DEFAULT_ISOUTOFDOMAIN), typeof(DiffEqBase.ODE_DEFAULT_PROG_MESSAGE), typeof(DiffEqBase.ODE_DEFAULT_UNSTABLE_CHECK), DataStructures.BinaryHeap{Float64, DataStructures.FasterForward}, DataStructures.BinaryHeap{Float64, DataStructures.FasterForward}, Nothing, Nothing, Int64, Tuple{}, Tuple{}, Tuple{}}, Array{Float64, 3}, Float64, Nothing, OrdinaryDiffEq.DefaultInit}, cache::OrdinaryDiffEq.LowStorageRK2NCache{Array{Float64, 3}, Array{Float64, 3}, OrdinaryDiffEq.LowStorageRK2NConstantCache{4, Float64, Float64}, typeof(OrdinaryDiffEq.trivial_limiter!), typeof(OrdinaryDiffEq.trivial_limiter!), Static.False})",
      "    @ OrdinaryDiffEq ~/.julia/packages/OrdinaryDiffEq/6F6Pc/src/perform_step/low_storage_rk_perform_step.jl:44",
      "  [9] __init(prob::ODEProblem{Array{Float64, 3}, Tuple{Float64, Float64}, true, Solver{1, WeakConservationForm{StandardMapping, NoTwoPointFlux}, SecondOrder}, ODEFunction{true, SciMLBase.AutoSpecialize, typeof(rhs!), LinearAlgebra.UniformScaling{Bool}, Nothing, Nothing, Nothing, Nothing, Nothing, Nothing, Nothing, Nothing, Nothing, Nothing, Nothing, Nothing, Nothing, typeof(SciMLBase.DEFAULT_OBSERVED), Nothing, Nothing}, Base.Pairs{Symbol, Union{}, Tuple{}, NamedTuple{(), Tuple{}}}, SciMLBase.StandardODEProblem}, alg::CarpenterKennedy2N54{typeof(OrdinaryDiffEq.trivial_limiter!), typeof(OrdinaryDiffEq.trivial_limiter!), Static.False}, timeseries_init::Tuple{}, ts_init::Tuple{}, ks_init::Tuple{}, recompile::Type{Val{true}}; saveat::Tuple{}, tstops::Tuple{}, d_discontinuities::Tuple{}, save_idxs::Nothing, save_everystep::Bool, save_on::Bool, save_start::Bool, save_end::Nothing, callback::DiscreteCallback{CLOUD.File.var\"#condition#4\"{Int64}, CLOUD.File.var\"#affect!#5\"{String}, typeof(SciMLBase.INITIALIZE_DEFAULT), typeof(SciMLBase.FINALIZE_DEFAULT)}, dense::Bool, calck::Bool, dt::Float64, dtmin::Nothing, dtmax::Float64, force_dtmin::Bool, adaptive::Bool, gamma::Int64, abstol::Nothing, reltol::Nothing, qmin::Int64, qmax::Int64, qsteady_min::Int64, qsteady_max::Int64, beta1::Nothing, beta2::Nothing, qoldinit::Int64, controller::Nothing, fullnormalize::Bool, failfactor::Int64, maxiters::Int64, internalnorm::typeof(DiffEqBase.ODE_DEFAULT_NORM), internalopnorm::typeof(LinearAlgebra.opnorm), isoutofdomain::typeof(DiffEqBase.ODE_DEFAULT_ISOUTOFDOMAIN), unstable_check::typeof(DiffEqBase.ODE_DEFAULT_UNSTABLE_CHECK), verbose::Bool, timeseries_errors::Bool, dense_errors::Bool, advance_to_tstop::Bool, stop_at_next_tstop::Bool, initialize_save::Bool, progress::Bool, progress_steps::Int64, progress_name::String, progress_message::typeof(DiffEqBase.ODE_DEFAULT_PROG_MESSAGE), userdata::Nothing, allow_extrapolation::Bool, initialize_integrator::Bool, alias_u0::Bool, alias_du0::Bool, initializealg::OrdinaryDiffEq.DefaultInit, kwargs::Base.Pairs{Symbol, Union{}, Tuple{}, NamedTuple{(), Tuple{}}})",
      "    @ OrdinaryDiffEq ~/.julia/packages/OrdinaryDiffEq/6F6Pc/src/solve.jl:489",
      " [10] #__solve#502",
      "    @ ~/.julia/packages/OrdinaryDiffEq/6F6Pc/src/solve.jl:5 [inlined]",
      " [11] #solve_call#26",
      "    @ ~/.julia/packages/DiffEqBase/JGGTu/src/solve.jl:472 [inlined]",
      " [12] solve_up(prob::ODEProblem{Array{Float64, 3}, Tuple{Float64, Float64}, true, Solver{1, WeakConservationForm{StandardMapping, NoTwoPointFlux}, SecondOrder}, ODEFunction{true, SciMLBase.AutoSpecialize, typeof(rhs!), LinearAlgebra.UniformScaling{Bool}, Nothing, Nothing, Nothing, Nothing, Nothing, Nothing, Nothing, Nothing, Nothing, Nothing, Nothing, Nothing, Nothing, typeof(SciMLBase.DEFAULT_OBSERVED), Nothing, Nothing}, Base.Pairs{Symbol, Union{}, Tuple{}, NamedTuple{(), Tuple{}}}, SciMLBase.StandardODEProblem}, sensealg::Nothing, u0::Array{Float64, 3}, p::Solver{1, WeakConservationForm{StandardMapping, NoTwoPointFlux}, SecondOrder}, args::CarpenterKennedy2N54{typeof(OrdinaryDiffEq.trivial_limiter!), typeof(OrdinaryDiffEq.trivial_limiter!), Static.False}; kwargs::Base.Pairs{Symbol, Any, NTuple{4, Symbol}, NamedTuple{(:adaptive, :dt, :save_everystep, :callback), Tuple{Bool, Float64, Bool, DiscreteCallback{CLOUD.File.var\"#condition#4\"{Int64}, CLOUD.File.var\"#affect!#5\"{String}, typeof(SciMLBase.INITIALIZE_DEFAULT), typeof(SciMLBase.FINALIZE_DEFAULT)}}}})",
      "    @ DiffEqBase ~/.julia/packages/DiffEqBase/JGGTu/src/solve.jl:834",
      " [13] solve(prob::ODEProblem{Array{Float64, 3}, Tuple{Float64, Float64}, true, Solver{1, WeakConservationForm{StandardMapping, NoTwoPointFlux}, SecondOrder}, ODEFunction{true, SciMLBase.AutoSpecialize, typeof(rhs!), LinearAlgebra.UniformScaling{Bool}, Nothing, Nothing, Nothing, Nothing, Nothing, Nothing, Nothing, Nothing, Nothing, Nothing, Nothing, Nothing, Nothing, typeof(SciMLBase.DEFAULT_OBSERVED), Nothing, Nothing}, Base.Pairs{Symbol, Union{}, Tuple{}, NamedTuple{(), Tuple{}}}, SciMLBase.StandardODEProblem}, args::CarpenterKennedy2N54{typeof(OrdinaryDiffEq.trivial_limiter!), typeof(OrdinaryDiffEq.trivial_limiter!), Static.False}; sensealg::Nothing, u0::Nothing, p::Nothing, wrap::Val{true}, kwargs::Base.Pairs{Symbol, Any, NTuple{4, Symbol}, NamedTuple{(:adaptive, :dt, :save_everystep, :callback), Tuple{Bool, Float64, Bool, DiscreteCallback{CLOUD.File.var\"#condition#4\"{Int64}, CLOUD.File.var\"#affect!#5\"{String}, typeof(SciMLBase.INITIALIZE_DEFAULT), typeof(SciMLBase.FINALIZE_DEFAULT)}}}})",
      "    @ DiffEqBase ~/.julia/packages/DiffEqBase/JGGTu/src/solve.jl:801",
      " [14] top-level scope",
      "    @ In[21]:9",
      " [15] eval",
      "    @ ./boot.jl:373 [inlined]",
      " [16] include_string(mapexpr::typeof(REPL.softscope), mod::Module, code::String, filename::String)",
      "    @ Base ./loading.jl:1196"
     ]
    }
   ],
   "source": [
    "ode_problem = semidiscretize(conservation_law,\n",
    "    spatial_discretization,\n",
    "    initial_data, \n",
    "    form,\n",
    "    (0.0, T),\n",
    "    strategy)\n",
    "save_solution(ode_problem.u0, 0.0, results_path, 0)\n",
    "CLOUD_reset_timer!()\n",
    "sol = solve(ode_problem, ode_algorithm, adaptive=false, dt=dt,\n",
    "    save_everystep=false, callback=save_callback(results_path, write_interval))\n",
    "CLOUD_print_timer()\n",
    "save_solution(last(sol.u), last(sol.t), results_path, \"final\")"
   ]
  },
  {
   "cell_type": "markdown",
   "id": "5ab75c1a",
   "metadata": {},
   "source": [
    "Calculate the integral L<sup>2</sup> error norm and conservation/energy error"
   ]
  },
  {
   "cell_type": "code",
   "execution_count": 22,
   "id": "79a4802b",
   "metadata": {},
   "outputs": [
    {
     "name": "stdout",
     "output_type": "stream",
     "text": [
      "L2 error:\n"
     ]
    },
    {
     "ename": "LoadError",
     "evalue": "UndefVarError: sol not defined",
     "output_type": "error",
     "traceback": [
      "UndefVarError: sol not defined",
      "",
      "Stacktrace:",
      " [1] top-level scope",
      "   @ In[22]:9",
      " [2] eval",
      "   @ ./boot.jl:373 [inlined]",
      " [3] include_string(mapexpr::typeof(REPL.softscope), mod::Module, code::String, filename::String)",
      "   @ Base ./loading.jl:1196"
     ]
    }
   ],
   "source": [
    "error_analysis = ErrorAnalysis(results_path, conservation_law, \n",
    "    spatial_discretization)\n",
    "conservation_analysis = PrimaryConservationAnalysis(results_path, \n",
    "    conservation_law, spatial_discretization)\n",
    "energy_analysis = EnergyConservationAnalysis(results_path, \n",
    "    conservation_law, spatial_discretization)\n",
    "\n",
    "println(\"L2 error:\")\n",
    "println(analyze(error_analysis, last(sol.u), exact_solution, T)...)\n",
    "println(\"Conservation (initial/final/diff):\")\n",
    "println(analyze(conservation_analysis)...)\n",
    "println(\"Energy (initial/final/diff):\")\n",
    "println(analyze(energy_analysis)...)"
   ]
  },
  {
   "cell_type": "markdown",
   "id": "3eb179db",
   "metadata": {},
   "source": [
    "Plot the exact and numerical solutions"
   ]
  },
  {
   "cell_type": "code",
   "execution_count": 23,
   "id": "1f9d3095",
   "metadata": {},
   "outputs": [
    {
     "ename": "LoadError",
     "evalue": "UndefVarError: sol not defined",
     "output_type": "error",
     "traceback": [
      "UndefVarError: sol not defined",
      "",
      "Stacktrace:",
      " [1] top-level scope",
      "   @ In[23]:1",
      " [2] eval",
      "   @ ./boot.jl:373 [inlined]",
      " [3] include_string(mapexpr::typeof(REPL.softscope), mod::Module, code::String, filename::String)",
      "   @ Base ./loading.jl:1196"
     ]
    }
   ],
   "source": [
    "plot(spatial_discretization, last(sol.u), \n",
    "    exact_solution=exact_solution, time=T, ylims=[-1.0,1.0])"
   ]
  },
  {
   "cell_type": "markdown",
   "id": "a48706fb",
   "metadata": {},
   "source": [
    "Animate the numerical solution"
   ]
  },
  {
   "cell_type": "code",
   "execution_count": 24,
   "id": "1b132982",
   "metadata": {},
   "outputs": [
    {
     "ename": "LoadError",
     "evalue": "UndefVarError: sol not defined",
     "output_type": "error",
     "traceback": [
      "UndefVarError: sol not defined",
      "",
      "Stacktrace:",
      " [1] top-level scope",
      "   @ ~/.julia/packages/Plots/gl4j3/src/animation.jl:235",
      " [2] eval",
      "   @ ./boot.jl:373 [inlined]",
      " [3] include_string(mapexpr::typeof(REPL.softscope), mod::Module, code::String, filename::String)",
      "   @ Base ./loading.jl:1196"
     ]
    }
   ],
   "source": [
    "using Printf\n",
    "anim = @animate for i ∈ eachindex(sol.u)\n",
    "    plot(spatial_discretization, sol.u[i], \n",
    "        ylims=[-1.0,1.0], ylabel=\"\\$U^h(x,t)\\$\",\n",
    "        label=string(\"t = \", @sprintf \"%.2f\" sol.t[i]))\n",
    "end\n",
    "gif(anim, \"advection_diffusion_solution.gif\", fps = 10)"
   ]
  }
 ],
 "metadata": {
  "kernelspec": {
   "display_name": "Julia 1.7.3",
   "language": "julia",
   "name": "julia-1.7"
  },
  "language_info": {
   "file_extension": ".jl",
   "mimetype": "application/julia",
   "name": "julia",
   "version": "1.7.3"
  }
 },
 "nbformat": 4,
 "nbformat_minor": 5
}
