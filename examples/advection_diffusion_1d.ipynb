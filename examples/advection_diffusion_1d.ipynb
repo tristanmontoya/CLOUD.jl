{
 "cells": [
  {
   "cell_type": "markdown",
   "id": "57e01ba9",
   "metadata": {},
   "source": [
    "# `CLOUD.jl` - 1D linear advection-diffusion example"
   ]
  },
  {
   "cell_type": "code",
   "execution_count": 1,
   "id": "445c3c9f",
   "metadata": {},
   "outputs": [],
   "source": [
    "using CLOUD, OrdinaryDiffEq, Plots, Plots.PlotMeasures"
   ]
  },
  {
   "cell_type": "markdown",
   "id": "a4be55d2",
   "metadata": {},
   "source": [
    "## Define the physical problem"
   ]
  },
  {
   "cell_type": "code",
   "execution_count": 2,
   "id": "581e4cca",
   "metadata": {},
   "outputs": [],
   "source": [
    "a = 1.0  # wave speed\n",
    "b = 5.0e-2 # diffusion coefficient\n",
    "L = 1.0  # domain length\n",
    "T = 1.0  # end time for one period\n",
    "\n",
    "initial_data = InitialDataSine(1.0,2π)\n",
    "conservation_law = LinearAdvectionDiffusionEquation(a,b)\n",
    "exact_solution = ExactSolution(conservation_law,initial_data);"
   ]
  },
  {
   "cell_type": "markdown",
   "id": "46f7dc9a",
   "metadata": {},
   "source": [
    "## Set discretization parameters"
   ]
  },
  {
   "cell_type": "code",
   "execution_count": 3,
   "id": "5091f80f",
   "metadata": {},
   "outputs": [],
   "source": [
    "M = 4\n",
    "p = 5\n",
    "form = WeakConservationForm()\n",
    "strategy = PhysicalOperator()\n",
    "\n",
    "ode_algorithm = CarpenterKennedy2N54()\n",
    "dt = 0.05*(L/M)/(a*(2*p+1));\n",
    "write_interval = floor(Int, T/(dt*100));"
   ]
  },
  {
   "cell_type": "markdown",
   "id": "71d60198",
   "metadata": {},
   "source": [
    "## Set up a `NodalTensor` scheme of degree `p` with `M` elements"
   ]
  },
  {
   "cell_type": "code",
   "execution_count": 4,
   "id": "c6d7c6cc",
   "metadata": {},
   "outputs": [],
   "source": [
    "reference_approximation = ReferenceApproximation(\n",
    "    NodalTensor(p), Line())\n",
    "\n",
    "mesh = uniform_periodic_mesh(\n",
    "    reference_approximation.reference_element, (0.0,L), M)\n",
    "\n",
    "spatial_discretization = SpatialDiscretization(mesh, \n",
    "    reference_approximation)\n",
    "\n",
    "results_path = save_project(conservation_law,\n",
    "     spatial_discretization, initial_data, form, (0.0, T), strategy,\n",
    "     \"results/advection_diffusion_1d/\", overwrite=true, clear=true);"
   ]
  },
  {
   "cell_type": "markdown",
   "id": "3b76ea45",
   "metadata": {},
   "source": [
    "## Run the solver and print timer outputs"
   ]
  },
  {
   "cell_type": "code",
   "execution_count": 5,
   "id": "a05f366d",
   "metadata": {},
   "outputs": [
    {
     "name": "stdout",
     "output_type": "stream",
     "text": [
      "tspan = (0.0, 1.0)\n",
      "\u001b[0m\u001b[1m ────────────────────────────────────────────────────────────────────────────────\u001b[22m\n",
      "\u001b[0m\u001b[1m            Thread 1           \u001b[22m         Time                    Allocations      \n",
      "                               ───────────────────────   ────────────────────────\n",
      "       Tot / % measured:            21.3s /  19.5%           2.29GiB /  18.0%    \n",
      "\n",
      " Section               ncalls     time    %tot     avg     alloc    %tot      avg\n",
      " ────────────────────────────────────────────────────────────────────────────────\n",
      " local residual         18.1k    1.82s   43.7%   100μs    223MiB   53.0%  12.6KiB\n",
      "   eval inv num flux    18.1k    844ms   20.3%  46.7μs   45.9MiB   10.9%  2.60KiB\n",
      "   eval flux            18.1k    237ms    5.7%  13.1μs   22.7MiB    5.4%  1.29KiB\n",
      "   eval visc num flux   18.1k    235ms    5.7%  13.0μs   35.8MiB    8.5%  2.03KiB\n",
      "   apply operators      18.1k    175ms    4.2%  9.70μs   33.7MiB    8.0%  1.91KiB\n",
      "     volume terms       18.1k   34.4ms    0.8%  1.91μs   8.82MiB    2.1%     512B\n",
      "     facet terms        18.1k   27.1ms    0.7%  1.50μs   7.72MiB    1.8%     448B\n",
      "   gather ext state     18.1k   83.2ms    2.0%  4.60μs   21.0MiB    5.0%  1.19KiB\n",
      "   eval nodal solution  18.1k   50.2ms    1.2%  2.78μs   12.1MiB    2.9%     704B\n",
      "   eval nodal aux var   18.1k   32.5ms    0.8%  1.80μs   7.17MiB    1.7%     416B\n",
      " auxiliary variable     18.1k    1.60s   38.5%  88.5μs    158MiB   37.7%  8.98KiB\n",
      "   eval num trace       18.1k    519ms   12.5%  28.7μs   29.8MiB    7.1%  1.69KiB\n",
      "   apply operators      18.1k    499ms   12.0%  27.6μs   52.3MiB   12.4%  2.97KiB\n",
      "     volume terms       18.1k    227ms    5.5%  12.6μs   21.9MiB    5.2%  1.24KiB\n",
      "     facet terms        18.1k   28.0ms    0.7%  1.55μs   7.72MiB    1.8%     448B\n",
      "   gather ext state     18.1k    379ms    9.1%  21.0μs   36.9MiB    8.8%  2.09KiB\n",
      "   eval nodal solution  18.1k    104ms    2.5%  5.77μs   14.9MiB    3.5%     864B\n",
      " extrap solution        18.1k    554ms   13.4%  30.7μs   22.2MiB    5.3%  1.26KiB\n",
      " unpack/allocations     4.52k    116ms    2.8%  25.7μs   8.09MiB    1.9%  1.83KiB\n",
      " extrap aux variable    18.1k   66.3ms    1.6%  3.67μs   8.81MiB    2.1%     511B\n",
      "\u001b[0m\u001b[1m ────────────────────────────────────────────────────────────────────────────────\u001b[22m\n"
     ]
    }
   ],
   "source": [
    "ode_problem = semidiscretize(conservation_law,\n",
    "    spatial_discretization,\n",
    "    initial_data, \n",
    "    form,\n",
    "    (0.0, T),\n",
    "    strategy)\n",
    "CLOUD_reset_timer!()\n",
    "sol = solve(ode_problem, ode_algorithm, adaptive=false, dt=dt,\n",
    "    save_everystep=false, callback=save_callback(results_path, (0.0,T), write_interval))\n",
    "CLOUD_print_timer()"
   ]
  },
  {
   "cell_type": "markdown",
   "id": "a728e690",
   "metadata": {},
   "source": [
    "## Calculate the integral L<sup>2</sup> error norm"
   ]
  },
  {
   "cell_type": "code",
   "execution_count": 6,
   "id": "2d5e69cf",
   "metadata": {
    "scrolled": true
   },
   "outputs": [
    {
     "name": "stdout",
     "output_type": "stream",
     "text": [
      "L2 error:\n",
      "1.4856115459833738e-6\n"
     ]
    }
   ],
   "source": [
    "error_analysis = ErrorAnalysis(results_path, conservation_law, \n",
    "    spatial_discretization)\n",
    "println(\"L2 error:\")\n",
    "println(analyze(error_analysis, last(sol.u), exact_solution, T)...)"
   ]
  },
  {
   "cell_type": "markdown",
   "id": "bf950dfb",
   "metadata": {},
   "source": [
    "## Analyze conservation and energy dissipation"
   ]
  },
  {
   "cell_type": "code",
   "execution_count": null,
   "id": "99bcfa76",
   "metadata": {
    "scrolled": false
   },
   "outputs": [],
   "source": [
    "conservation_analysis = PrimaryConservationAnalysis(results_path, \n",
    "    conservation_law, spatial_discretization)\n",
    "energy_analysis = EnergyConservationAnalysis(results_path, \n",
    "    conservation_law, spatial_discretization)\n",
    "p1 = plot(analyze(conservation_analysis, load_time_steps(results_path)), ylabel=\"Conservation Functional\");\n",
    "p2 = plot(analyze(energy_analysis, load_time_steps(results_path)), ylabel=\"Energy Functional\", legend=:bottomright);\n",
    "plot(p1,p2, size=(850,300),margin=5mm)"
   ]
  },
  {
   "cell_type": "markdown",
   "id": "3eb179db",
   "metadata": {},
   "source": [
    "## Plot the exact and numerical solutions"
   ]
  },
  {
   "cell_type": "code",
   "execution_count": null,
   "id": "1f9d3095",
   "metadata": {},
   "outputs": [],
   "source": [
    "plot(spatial_discretization, last(sol.u), \n",
    "    exact_solution=exact_solution, time=T, ylims=[-1.0,1.0])"
   ]
  },
  {
   "cell_type": "markdown",
   "id": "a48706fb",
   "metadata": {},
   "source": [
    "## Animate the numerical solution"
   ]
  },
  {
   "cell_type": "code",
   "execution_count": null,
   "id": "1b132982",
   "metadata": {},
   "outputs": [],
   "source": [
    "using Printf\n",
    "anim = @animate for i ∈ eachindex(sol.u)\n",
    "    plot(spatial_discretization, sol.u[i], \n",
    "        ylims=[-1.0,1.0], ylabel=\"\\$U^h(x,t)\\$\",\n",
    "        label=string(\"t = \", @sprintf \"%.2f\" sol.t[i]))\n",
    "end\n",
    "gif(anim, \"advection_diffusion_solution.gif\", fps = 10)"
   ]
  }
 ],
 "metadata": {
  "kernelspec": {
   "display_name": "Julia 1.7.3",
   "language": "julia",
   "name": "julia-1.7"
  },
  "language_info": {
   "file_extension": ".jl",
   "mimetype": "application/julia",
   "name": "julia",
   "version": "1.7.3"
  }
 },
 "nbformat": 4,
 "nbformat_minor": 5
}
