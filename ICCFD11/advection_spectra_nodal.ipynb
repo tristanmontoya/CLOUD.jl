{
 "cells": [
  {
   "cell_type": "markdown",
   "metadata": {},
   "source": [
    "# Semi-discrete operator spectra for nodal tensor-product schemes"
   ]
  },
  {
   "cell_type": "code",
   "execution_count": 1,
   "metadata": {
    "scrolled": true
   },
   "outputs": [],
   "source": [
    "using CLOUD\n",
    "results_path = \"results/advection_spectra_nodal/\";"
   ]
  },
  {
   "cell_type": "code",
   "execution_count": null,
   "metadata": {
    "scrolled": true
   },
   "outputs": [],
   "source": [
    "θ = π/4\n",
    "a = sqrt(2)\n",
    "A = 1.0  # amplitude\n",
    "L = 1.0  # domain length\n",
    "k = (2*π/L, 2*π/L)  # wave number\n",
    "T = 1.0/(a*max(abs(cos(θ)),abs(cos(θ))))  # end time\n",
    "initial_data = InitialDataSine(A,k)\n",
    "conservation_law_central = linear_advection_equation((a*cos(θ),a*sin(θ)),λ=0.0);\n",
    "conservation_law_upwind = linear_advection_equation((a*cos(θ),a*sin(θ)),λ=1.0);"
   ]
  },
  {
   "cell_type": "code",
   "execution_count": null,
   "metadata": {
    "scrolled": false
   },
   "outputs": [],
   "source": [
    "M = 4\n",
    "p = 4\n",
    "p_map = p\n",
    "form = SplitConservationForm()\n",
    "mesh_strategy = ZigZag()\n",
    "strategy=Lazy()\n",
    "\n",
    "reference_approximation =ReferenceApproximation(\n",
    "    CollapsedSEM(p), Tri(),\n",
    "    mapping_degree=p_map);\n",
    "mesh = warp_mesh(uniform_periodic_mesh(\n",
    "    reference_approximation.reference_element, \n",
    "    ((0.0,L),(0.0,L)), (M,M), strategy=mesh_strategy), \n",
    "    reference_approximation.reference_element, 0.2)\n",
    "spatial_discretization = SpatialDiscretization(mesh, \n",
    "    reference_approximation);\n",
    "solver_central = Solver(conservation_law_central, \n",
    "    spatial_discretization, form, strategy)\n",
    "solver_upwind = Solver(conservation_law_upwind, \n",
    "    spatial_discretization, form,strategy);"
   ]
  },
  {
   "cell_type": "code",
   "execution_count": null,
   "metadata": {},
   "outputs": [],
   "source": [
    "r = prod(get_dof(spatial_discretization,conservation_law_central))-2\n",
    "tol = 1.0e-16\n",
    "\n",
    "linear_analysis_central = LinearAnalysis(results_path,\n",
    "    conservation_law_central, spatial_discretization, \n",
    "    LinearResidual(solver_central), r=r, tol=tol,\n",
    "    use_data=false, name=\"central\")\n",
    "linear_results_central = analyze(linear_analysis_central)\n",
    "save_analysis(linear_analysis_central,linear_results_central)\n",
    "\n",
    "linear_analysis_upwind = LinearAnalysis(results_path,\n",
    "    conservation_law_upwind, spatial_discretization, \n",
    "    LinearResidual(solver_upwind), r=r, tol=tol,\n",
    "    use_data=false, name=\"upwind\")\n",
    "linear_results_upwind = analyze(linear_analysis_upwind);\n",
    "save_analysis(linear_analysis_upwind,linear_results_upwind)"
   ]
  },
  {
   "cell_type": "code",
   "execution_count": null,
   "metadata": {},
   "outputs": [],
   "source": [
    "plot_spectrum([linear_results_upwind.λ, linear_results_central.λ], results_path, ylabel=\"\\\\lambda\", title=\"spectrum_nodal_p4m4.pdf\")"
   ]
  }
 ],
 "metadata": {
  "interpreter": {
   "hash": "8a4c5cff9d1eb01f6f91880bd866b35b24d8468d7e92aa7ef6f6962744ecb1db"
  },
  "kernelspec": {
   "display_name": "Julia 1.7.3",
   "language": "julia",
   "name": "julia-1.7"
  },
  "language_info": {
   "file_extension": ".jl",
   "mimetype": "application/julia",
   "name": "julia",
   "version": "1.7.3"
  }
 },
 "nbformat": 4,
 "nbformat_minor": 2
}
