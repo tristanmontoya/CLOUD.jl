{
 "cells": [
  {
   "cell_type": "markdown",
   "id": "9e84e58b",
   "metadata": {},
   "source": [
    "# Calculate Number of Floating-Point Operations"
   ]
  },
  {
   "cell_type": "code",
   "execution_count": 1,
   "id": "5e7bdf4f",
   "metadata": {},
   "outputs": [
    {
     "name": "stderr",
     "output_type": "stream",
     "text": [
      "┌ Info: Installing pyqt package to avoid buggy tkagg backend.\n",
      "└ @ PyPlot /Users/tristanmontoya/.julia/packages/PyPlot/XaELc/src/init.jl:118\n"
     ]
    }
   ],
   "source": [
    "using Plots; pyplot()\n",
    "d = 2\n",
    "Nf = 3\n",
    "Np(p) = binomial(p+d,d)\n",
    "Nfp(p) = binomial(p+d-1,d-1)\n",
    "dot_1d(p) = 2*(p+1)-1\n",
    "diag_vol(p) = (p+1)^d\n",
    "diag_fac(p) = (p+1)^(d-1)\n",
    "dense_vol(p) = 2*(p+1)^(2*d) - (p+1)^d\n",
    "multi_vol(p) = 2*Np(p)^2 - Np(p)\n",
    "dense_vol_to_fac(p) = 2*((p+1)^d)*((p+1)^(d-1)) - (p+1)^(d-1)\n",
    "dense_fac_to_vol(p) = 2*((p+1)^d)*((p+1)^(d-1)) - (p+1)^d\n",
    "multi_vol_to_fac(p) = 2*Np(p)*Nfp(p) - Nfp(p)\n",
    "multi_fac_to_vol(p) = 2*Np(p)*Nfp(p) - Np(p)\n",
    "\n",
    "split_form_tensor(p) = (d*2*(dot_1d(p)*((p+1)^d) + diag_vol(p)) + \n",
    "    Nf*(2*((p+1)^(d-1))*dot_1d(p) + diag_fac(p)))\n",
    "split_form_reference(p) = (d*2*(dense_vol(p) + diag_vol(p)) +\n",
    "    Nf*(dense_fac_to_vol(p)+ diag_fac(p) + dense_vol_to_fac(p)))\n",
    "physical(p) = dense_vol(p)\n",
    "split_form_multi(p) = (d*2*(multi_vol(p) + Np(p)) +\n",
    "    Nf*(multi_fac_to_vol(p)+ Nfp(p) + multi_vol_to_fac(p)))\n",
    "physical(p) = dense_vol(p)\n",
    "multi_physical(p) = multi_vol(p);"
   ]
  },
  {
   "cell_type": "markdown",
   "id": "65370627",
   "metadata": {},
   "source": [
    "Total number of floating-point operations"
   ]
  },
  {
   "cell_type": "code",
   "execution_count": 2,
   "id": "a8e43392",
   "metadata": {},
   "outputs": [],
   "source": [
    "pvals = [p for p in 1:12]\n",
    "\n",
    "pl = plot(legend=:topleft,legendfontsize=12, xtickfontsize=13, ytickfontsize=13, xlabelfontsize=13, ylabelfontsize=13, xlabel=\"\\$p\\$\", ylabel=\"Floating-point operations\",\n",
    "xticks=[2*i for i in 1:10], size=(600,500))\n",
    "plot!(pl,pvals,split_form_reference.(pvals), label=\"Collapsed, reference operator\", markershape=:square, markersize=6.0, linewidth=2.0, markerstrokewidth=0.0, color=palette(:default)[1])\n",
    "plot!(pl,pvals,split_form_multi.(pvals), label=\"Multidimensional, reference operator\", markershape=:circle, markersize=6.0, linewidth=2.0, markerstrokewidth=0.0, color=palette(:default)[1])\n",
    "plot!(pl,pvals,physical.(pvals), label=\"Collapsed, physical operator\", linestyle=:dot, markershape=:square, markersize=6.0, linewidth=2.0, markerstrokewidth=0.0, color=palette(:default)[2])\n",
    "plot!(pl,pvals,multi_physical.(pvals), label=\"Multidimensional, physical operator\", linestyle=:dot, markershape=:circle, markersize=6.0, linewidth=2.0, markerstrokewidth=0.0, color=palette(:default)[2])\n",
    "plot!(pl,pvals,split_form_tensor.(pvals), label=\"Collapsed, sum factorization\", markershape=:diamond, markerstrokewidth=0.0, markersize=6.0, linewidth=2.0, color=:black)\n",
    "savefig(pl,\"plots/compare_flops_total.pdf\")"
   ]
  },
  {
   "cell_type": "markdown",
   "id": "6476dde7",
   "metadata": {},
   "source": [
    "Operations per degree of freedom"
   ]
  },
  {
   "cell_type": "code",
   "execution_count": 3,
   "id": "23547bde",
   "metadata": {},
   "outputs": [],
   "source": [
    "pl2 = plot(legend=:topleft, legendfontsize=12, xtickfontsize=13, ytickfontsize=13, xlabelfontsize=13, ylabelfontsize=13, xlabel=\"\\$p\\$\", ylabel=\"Floating-point operations\", size=(600,500),\n",
    "xticks=[2*i for i in 1:10])\n",
    "plot!(pl2,pvals,split_form_reference.(pvals)./((pvals.+1).^d), label=\"Collapsed, reference operator\", markershape=:square,markersize=6.0, linewidth=2.0, markerstrokewidth=0.0, color=palette(:default)[1])\n",
    "plot!(pl2,pvals,split_form_multi.(pvals)./Np.(pvals), label=\"Multidimensional, reference operator\", markershape=:circle, markersize=6.0, linewidth=2.0,markerstrokewidth=0.0, color=palette(:default)[1])\n",
    "plot!(pl2,pvals,physical.(pvals)./((pvals.+1).^d), label=\"Collapsed, physical operator\", linestyle=:dot, markershape=:square, markersize=6.0, linewidth=2.0,markerstrokewidth=0.0, color=palette(:default)[2])\n",
    "plot!(pl2,pvals,multi_physical.(pvals)./Np.(pvals), label=\"Multidimensional, physical operator\", linestyle=:dot, markershape=:circle,markersize=6.0, linewidth=2.0, markerstrokewidth=0.0, color=palette(:default)[2])\n",
    "plot!(pl2,pvals,split_form_tensor.(pvals)./((pvals.+1).^d), label=\"Collapsed, sum factorization\", markershape=:diamond, markersize=6.0, linewidth=2.0,markerstrokewidth=0.0, color=:black)\n",
    "\n",
    "savefig(pl2,\"plots/compare_flops_per_dof.pdf\")"
   ]
  }
 ],
 "metadata": {
  "kernelspec": {
   "display_name": "Julia 1.7.3",
   "language": "julia",
   "name": "julia-1.7"
  },
  "language_info": {
   "file_extension": ".jl",
   "mimetype": "application/julia",
   "name": "julia",
   "version": "1.7.3"
  }
 },
 "nbformat": 4,
 "nbformat_minor": 5
}
