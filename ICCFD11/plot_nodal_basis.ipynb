{
 "cells": [
  {
   "cell_type": "markdown",
   "id": "538b136d",
   "metadata": {},
   "source": [
    "# Plot Nodal Basis Functions"
   ]
  },
  {
   "cell_type": "code",
   "execution_count": 1,
   "id": "018f33df",
   "metadata": {},
   "outputs": [
    {
     "name": "stderr",
     "output_type": "stream",
     "text": [
      "┌ Info: Installing pyqt package to avoid buggy tkagg backend.\n",
      "└ @ PyPlot /Users/tristanmontoya/.julia/packages/PyPlot/XaELc/src/init.jl:118\n"
     ]
    }
   ],
   "source": [
    "using StartUpDG \n",
    "using Jacobi\n",
    "using Plots; pyplot();\n",
    "using LinearAlgebra"
   ]
  },
  {
   "cell_type": "code",
   "execution_count": 2,
   "id": "c551f5cd",
   "metadata": {},
   "outputs": [],
   "source": [
    "p = 4\n",
    "eta_1 = first(gauss_quad(0,0,p))\n",
    "eta_2 = zgrjm(p+1, 0.0, 0.0)\n",
    "plot_nodes = equi_nodes(Line(),100);"
   ]
  },
  {
   "cell_type": "code",
   "execution_count": 3,
   "id": "87248d0e",
   "metadata": {},
   "outputs": [],
   "source": [
    "V1 = vandermonde(Line(), p, plot_nodes) / vandermonde(Line(), p, eta_1)\n",
    "V2 = vandermonde(Line(), p, plot_nodes) / vandermonde(Line(), p, eta_2);"
   ]
  },
  {
   "cell_type": "markdown",
   "id": "e754ae63",
   "metadata": {},
   "source": [
    "One-dimensional basis functions"
   ]
  },
  {
   "cell_type": "code",
   "execution_count": 4,
   "id": "07f8fca2",
   "metadata": {},
   "outputs": [],
   "source": [
    "pl = plot(plot_nodes, V1*[1,0,0,0,0], linewidth=3)\n",
    "plot!(pl,plot_nodes, V1*[0,1,0,0,0], linewidth=3)\n",
    "plot!(pl,plot_nodes, V1*[0,0,1,0,0], linewidth=3)\n",
    "plot!(pl,plot_nodes, V1*[0,0,0,1,0], linewidth=3)\n",
    "plot!(pl,plot_nodes, V1*[0,0,0,0,1], linewidth=3)\n",
    "plot!(pl, xlabel=\"\\$ \\\\eta_1\\$\", \n",
    "    ylabel=\"\\$ \\\\ell_1^{(\\\\alpha_1)}(\\\\eta_1) \\$\", \n",
    "    legend=:none, grid=:none, xlabelfontsize=18, ylabelfontsize=18,\n",
    "    xtickfontsize=12, ytickfontsize=12)\n",
    "plot!(pl, [-1.0, 1.0], [0.0, 0.0], linecolor=:black, linewidth=2)\n",
    "scatter!(pl, eta_1, zeros(p), markershape=:circle, markersize=8,\n",
    "    markercolor=:black)\n",
    "savefig(pl, \"plots/basis_1.pdf\" )"
   ]
  },
  {
   "cell_type": "code",
   "execution_count": 5,
   "id": "a290b3cc",
   "metadata": {},
   "outputs": [],
   "source": [
    "pl = plot(plot_nodes, V2*[1,0,0,0,0], linewidth=3)\n",
    "plot!(pl,plot_nodes, V2*[0,1,0,0,0], linewidth=3)\n",
    "plot!(pl,plot_nodes, V2*[0,0,1,0,0], linewidth=3)\n",
    "plot!(pl,plot_nodes, V2*[0,0,0,1,0], linewidth=3)\n",
    "plot!(pl,plot_nodes, V2*[0,0,0,0,1], linewidth=3)\n",
    "plot!(pl, xlabel=\"\\$ \\\\eta_2\\$\", \n",
    "    ylabel=\"\\$ \\\\ell_2^{(\\\\alpha_2)}(\\\\eta_2) \\$\", \n",
    "    legend=:none, grid=:none, xlabelfontsize=18, ylabelfontsize=18,\n",
    "    xtickfontsize=12, ytickfontsize=12)\n",
    "plot!(pl, [-1.0, 1.0], [0.0, 0.0], linecolor=:black, linewidth=2)\n",
    "scatter!(pl, eta_2, zeros(p), markershape=:circle, markersize=8,\n",
    "    markercolor=:black)\n",
    "savefig(pl, \"plots/basis_2.pdf\")"
   ]
  },
  {
   "cell_type": "code",
   "execution_count": 6,
   "id": "49aac9cb",
   "metadata": {},
   "outputs": [],
   "source": [
    "pl = plot(plot_nodes, V1*[0,0,1,0,0], linecolor=RGB(0,106/255,0), linewidth=3)\n",
    "plot!(pl, xlabel=\"\\$ \\\\eta_1\\$\", ylabel=\"\\$ \\\\ell_1^{(\\\\alpha_1)}(\\\\eta_1)\\$\",\n",
    "    legend=:none, grid=:none, xlabelfontsize=24, ylabelfontsize=24,\n",
    "    xtickfontsize=12, ytickfontsize=12, aspect_ratio=0.5, yticks=[-0.5,0.0,0.5,1.0],\n",
    "    ylims=[-0.5,1.0])\n",
    "plot!(pl, [-1.0, 1.0], [0.0, 0.0], linecolor=:black, linewidth=2)\n",
    "scatter!(pl, eta_1, [0,0,0,0,0], markershape=:circle, \n",
    "    markercolor=:black, markersize=8)\n",
    "savefig(pl, \"plots/single_basis_1_alpha3.pdf\" )"
   ]
  },
  {
   "cell_type": "code",
   "execution_count": 7,
   "id": "2e4712c9",
   "metadata": {},
   "outputs": [],
   "source": [
    "pl = plot(plot_nodes, V2*[0,1,0,0,0], linecolor=:red, linewidth=3)\n",
    "plot!(pl, xlabel=\"\\$ \\\\eta_2\\$\", ylabel=\"\\$ \\\\ell_2^{(\\\\alpha_2)}(\\\\eta_2)\\$\",\n",
    "    legend=:none, grid=:none, xlabelfontsize=24, ylabelfontsize=24,\n",
    "    xtickfontsize=12, ytickfontsize=12, aspect_ratio=0.5, \n",
    "    yticks=[-0.5,0.0,0.5,1.0], ylims=[-0.5,1.0])\n",
    "plot!(pl, [-1.0, 1.0], [0.0, 0.0], linecolor=:black, linewidth=2)\n",
    "scatter!(pl, eta_2, [0,0,0,0,0], markershape=:circle, \n",
    "    markersize=8,\n",
    "    markercolor=:black)\n",
    "savefig(pl, \"plots/single_basis_2_alpha2.pdf\" )"
   ]
  },
  {
   "cell_type": "markdown",
   "id": "0820de98",
   "metadata": {},
   "source": [
    "Tensor-product nodal basis on the square"
   ]
  },
  {
   "cell_type": "code",
   "execution_count": 12,
   "id": "8da550df",
   "metadata": {},
   "outputs": [
    {
     "name": "stderr",
     "output_type": "stream",
     "text": [
      "sys:1: UserWarning: The following kwargs were not used by contour: 'label'\n"
     ]
    }
   ],
   "source": [
    "inds_1 = zeros(p+1)\n",
    "inds_2 = zeros(p+1)\n",
    "alpha_1 = 3\n",
    "alpha_2 = 2\n",
    "inds_1[alpha_1] = 1\n",
    "inds_2[alpha_2] = 1\n",
    "z = V1*inds_1 * (V2*inds_2)'\n",
    "xi_1 = [0.5*(1.0 + e1)*(1.0-e2) - 1.0 for e1 in plot_nodes, e2 in plot_nodes]\n",
    "xi_2 = [e2 for e1 in plot_nodes, e2 in plot_nodes]\n",
    "p2d = contourf(xi_1', xi_2', z', levels=500, \n",
    "    xlabel=\"\\$\\\\xi_1\\$\", ylabel=\"\\$\\\\xi_2\\$\",\n",
    "    aspect_ratio=:equal,xlabelfontsize=24,\n",
    "    ylabelfontsize=24, xtickfontsize=12, ytickfontsize=12,\n",
    "    grid=:none, colorbar=:none, c=:viridis)\n",
    "savefig(p2d, \"plots/tri_basis_32.pdf\")"
   ]
  },
  {
   "cell_type": "markdown",
   "id": "6f30ed5b",
   "metadata": {},
   "source": [
    "Tensor-product nodal basis on the triangle"
   ]
  },
  {
   "cell_type": "code",
   "execution_count": 13,
   "id": "1ed753ca",
   "metadata": {},
   "outputs": [
    {
     "name": "stderr",
     "output_type": "stream",
     "text": [
      "sys:1: UserWarning: The following kwargs were not used by contour: 'label'\n"
     ]
    }
   ],
   "source": [
    "psq = contourf(plot_nodes', plot_nodes', z', levels=100, \n",
    "    xlabel=\"\\$\\\\eta_1\\$\", ylabel=\"\\$\\\\eta_2\\$\", aspect_ratio=:equal, \n",
    "     xlabelfontsize=24, ylabelfontsize=24, colorbar=:none, xtickfontsize=12,\n",
    "    ytickfontsize=12, c=:viridis)\n",
    "savefig(psq,\"plots/quad_basis_32.pdf\")"
   ]
  }
 ],
 "metadata": {
  "kernelspec": {
   "display_name": "Julia 1.7.3",
   "language": "julia",
   "name": "julia-1.7"
  },
  "language_info": {
   "file_extension": ".jl",
   "mimetype": "application/julia",
   "name": "julia",
   "version": "1.7.3"
  }
 },
 "nbformat": 4,
 "nbformat_minor": 5
}
