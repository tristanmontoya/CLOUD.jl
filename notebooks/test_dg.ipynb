{
 "cells": [
  {
   "cell_type": "code",
   "execution_count": 2,
   "source": [
    "using StartUpDG\n",
    "\n",
    "# polynomial degree and mesh size\n",
    "p = 3\n",
    "N_1D = 4\n",
    "\n",
    "# init ref element and mesh\n",
    "rd = RefElemData(Tri(), p)\n",
    "VXY, EToV = uniform_mesh(Tri(), N_1D)\n",
    "md = MeshData(VXY, EToV, rd)\n",
    "\n",
    "# Define a function by interpolation\n",
    "x,y = md.x, md.y\n",
    "u = @. 2 + .5*exp(-100*(x^2 + y^2))\n",
    "D = rd.Drst\n",
    "\n",
    "# Compute derivatives using geometric mapping + chain rule\n",
    "@unpack Dr, Ds = rd\n",
    "@unpack rxJ, sxJ, J = md"
   ],
   "outputs": [
    {
     "data": {
      "text/plain": [
       "MeshData of dimension 2 with 128 elements"
      ]
     },
     "metadata": {},
     "output_type": "display_data"
    }
   ],
   "metadata": {}
  },
  {
   "cell_type": "code",
   "execution_count": 25,
   "source": [
    "md.ryJ[:,1]"
   ],
   "outputs": [
    {
     "data": {
      "text/plain": [
       "10-element Vector{Float64}:\n",
       " -0.12499999999999976\n",
       " -0.12500000000000006\n",
       " -0.12500000000000017\n",
       " -0.12500000000000006\n",
       " -0.12500000000000047\n",
       " -0.12499999999999983\n",
       " -0.12500000000000117\n",
       " -0.12500000000000003\n",
       " -0.1250000000000023\n",
       " -0.12500000000000125"
      ]
     },
     "metadata": {},
     "output_type": "display_data"
    }
   ],
   "metadata": {}
  },
  {
   "cell_type": "code",
   "execution_count": 15,
   "source": [
    "rd.sf"
   ],
   "outputs": [
    {
     "data": {
      "text/plain": [
       "12-element Vector{Float64}:\n",
       " -1.0\n",
       " -1.0\n",
       " -1.0\n",
       " -1.0\n",
       " -0.86113631159405\n",
       " -0.3399810435848556\n",
       "  0.33998104358485703\n",
       "  0.8611363115940526\n",
       "  0.86113631159405\n",
       "  0.3399810435848556\n",
       " -0.33998104358485703\n",
       " -0.8611363115940526"
      ]
     },
     "metadata": {},
     "output_type": "display_data"
    }
   ],
   "metadata": {}
  },
  {
   "cell_type": "code",
   "execution_count": null,
   "source": [],
   "outputs": [],
   "metadata": {}
  }
 ],
 "metadata": {
  "orig_nbformat": 4,
  "language_info": {
   "name": "julia",
   "version": "1.6.3",
   "mimetype": "application/julia",
   "file_extension": ".jl"
  },
  "kernelspec": {
   "display_name": "Julia 1.6.3",
   "language": "julia",
   "name": "julia-1.6"
  }
 },
 "nbformat": 4,
 "nbformat_minor": 2
}