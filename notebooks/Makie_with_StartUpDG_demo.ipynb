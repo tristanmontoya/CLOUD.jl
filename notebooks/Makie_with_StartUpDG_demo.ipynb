{
 "cells": [
  {
   "cell_type": "code",
   "execution_count": 4,
   "source": [
    "using StartUpDG, GLMakie, Plots\n",
    "using Triangulate\n",
    "\n",
    "# dependencies\n",
    "using GeometryBasics\n",
    "using LinearAlgebra\n",
    "\n",
    "N = 3\n",
    "Nplot = 3\n",
    "elementType = Quad()\n",
    "rd = RefElemData(elementType,N,Nplot=N)\n",
    "md = MeshData(uniform_mesh(elementType,100)...,rd)\n",
    "\n",
    "@unpack x,y = md\n",
    "x = @. x + .125*cos(pi/2 * (x-.5))*cos(3*pi/2*(y-.7))\n",
    "y = @. y + .125*sin(4*pi/2 * (x-.75))*cos(pi/2*(y-.8))\n",
    "\n",
    "xq,yq = rd.Vq*x,rd.Vq*y\n",
    "u = @. sin(pi*x)*sin(pi*y)*exp(-5*(x^2+y^2))\n",
    "u[:,1:md.K÷2] .+= .25\n",
    "# u = rd.Pq*(@. xq + yq > 0)\n",
    "\n",
    "Nfplot = Nplot+1\n",
    "rfp,sfp = StartUpDG.map_face_nodes(elementType, LinRange(-1,1,Nfplot))\n",
    "Vfp = vandermonde(elementType,N,rfp,sfp)/rd.VDM\n",
    "xf,yf = (x->Vfp*x).((x,y)) \n",
    "\n",
    "# break line segments up with NaNs\n",
    "xfp,yfp,ufp = (xf->vec(vcat(reshape(xf,Nfplot,rd.Nfaces*md.K),fill(NaN,1,rd.Nfaces*md.K)))).((xf,yf,Vfp*u))"
   ],
   "outputs": [
    {
     "output_type": "display_data",
     "data": {
      "text/plain": [
       "([-0.9861730161198451, -0.9796519007883802, -0.9731322857774334, -0.966614154961151, NaN, -0.966614154961151, -0.9692754373676234, -0.9719473034573364, -0.9746271164470561, NaN  …  1.0138269838801544, 1.0073043522585485, 1.0007801885600844, 0.9942544771577224, NaN, 0.9942544771577224, 0.9970743871668359, 0.9998774471032498, 1.0026608907125187, NaN], [-1.118433703551365, -1.1179117678236385, -1.117192101199402, -1.116276044731169, NaN, -1.116276044731169, -1.109603664630928, -1.1028847281483558, -1.0961186966489493, NaN  …  1.1184337035513645, 1.118756879468433, 1.1188806305982755, 1.1188046080090213, NaN, 1.1188046080090213, 1.1125932192217358, 1.1063315652484478, 1.1000199347339943, NaN], [0.24999976548022027, 0.2499996315685279, 0.24999948066666955, 0.24999931112154672, NaN, 0.24999931112154672, 0.24999937097060165, 0.24999943266072108, 0.2499994956320941, NaN  …  1.7786062802395516e-7, 1.0028256809997634e-7, 1.14346284264214e-8, -8.987385034225949e-8, NaN, -8.987385034225949e-8, -4.530535161815648e-8, -1.871794744551104e-9, 3.995923640626572e-8, NaN])"
      ]
     },
     "metadata": {}
    }
   ],
   "metadata": {}
  },
  {
   "cell_type": "code",
   "execution_count": null,
   "source": [
    "# plot makie mesh -- does not work!\n",
    "Makie.mesh(rd.Vp*u,(x->rd.Vp*x).(rd.rst),(x->rd.Vp*x).((x,y)),color=vec(rd.Vp*u))\n",
    "# draw mesh lines above/below\n",
    "Makie.translate!(Makie.lines!(xfp,yfp,ufp,color=:white,linewidth=.5),0,0,1e-3) \n",
    "Makie.translate!(Makie.lines!(xfp,yfp,ufp,color=:white,linewidth=.5),0,0,-1e-3)\n",
    "Makie.current_figure()"
   ],
   "outputs": [],
   "metadata": {}
  }
 ],
 "metadata": {
  "orig_nbformat": 4,
  "language_info": {
   "name": "julia",
   "version": "1.6.3",
   "mimetype": "application/julia",
   "file_extension": ".jl"
  },
  "kernelspec": {
   "display_name": "Julia 1.6.3",
   "language": "julia",
   "name": "julia-1.6"
  }
 },
 "nbformat": 4,
 "nbformat_minor": 2
}