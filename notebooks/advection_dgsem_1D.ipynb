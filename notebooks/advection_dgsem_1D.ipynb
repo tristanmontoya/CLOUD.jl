{
 "cells": [
  {
   "cell_type": "markdown",
   "metadata": {},
   "source": [
    "# `CLOUD.jl` - 1D linear advection with dynamic mode decomposition"
   ]
  },
  {
   "cell_type": "code",
   "execution_count": 4,
   "metadata": {},
   "outputs": [],
   "source": [
    "using CLOUD\n",
    "using Plots\n",
    "using OrdinaryDiffEq\n",
    "plots_path = \"../plots/advection_dgsem_1d_demo/\"\n",
    "results_path = \"../results/advection_dgsem_1d_demo/\";"
   ]
  },
  {
   "cell_type": "markdown",
   "metadata": {},
   "source": [
    "Define the physical problem (advection of a sine wave)"
   ]
  },
  {
   "cell_type": "code",
   "execution_count": 5,
   "metadata": {},
   "outputs": [],
   "source": [
    "a = 1.0  # advection velocity\n",
    "A = 1.0  # amplitude\n",
    "L = 1.0  # domain length\n",
    "k = 4*π/L  # wave number\n",
    "T = 1*L/a  # end time\n",
    "initial_data = InitialDataSine(A,k)\n",
    "conservation_law = linear_advection_equation(a,λ=1.0);"
   ]
  },
  {
   "cell_type": "markdown",
   "metadata": {},
   "source": [
    "Set up a strong-form DGSEM-LGL scheme of degree `p` with `M` elements and periodic boundary conditions"
   ]
  },
  {
   "cell_type": "code",
   "execution_count": null,
   "metadata": {},
   "outputs": [],
   "source": [
    "M = 4  # number of elements\n",
    "p = 3  # degree of discretization\n",
    "reference_approximation=ReferenceApproximation(\n",
    "    DGSEM(p), Line(), LGLQuadrature())\n",
    "spatial_discretization = SpatialDiscretization(uniform_periodic_mesh(\n",
    "    reference_approximation.reference_element, \n",
    "    (0.0,L), M), reference_approximation)\n",
    "results_path = save_project(conservation_law,\n",
    "     spatial_discretization, initial_data, StrongConservationForm(), \n",
    "     (0.0, T), Eager(), results_path, overwrite=true, clear=true);"
   ]
  },
  {
   "cell_type": "code",
   "execution_count": 12,
   "metadata": {
    "scrolled": true
   },
   "outputs": [
    {
     "data": {
      "text/plain": [
       "([0.0, 0.0, 0.0, 0.0],)"
      ]
     },
     "execution_count": 12,
     "metadata": {},
     "output_type": "execute_result"
    },
    {
     "name": "stderr",
     "output_type": "stream",
     "text": [
      "WARNING: redefinition of constant PATH. This may fail, cause incorrect answers, or produce other errors.\n",
      "WARNING: redefinition of constant LIBPATH. This may fail, cause incorrect answers, or produce other errors.\n",
      "WARNING: redefinition of constant PATH_list. This may fail, cause incorrect answers, or produce other errors.\n",
      "WARNING: redefinition of constant LIBPATH_list. This may fail, cause incorrect answers, or produce other errors.\n",
      "┌ Error: Error watching manifest\n",
      "│   exception = (Revise.ReviseEvalException(\"/Users/tristanmontoya/.julia/packages/JLLWrappers/bkwIo/src/toplevel_generators.jl:143\", MethodError(Cairo_jll.var\"#8#12\"(), (\"aarch64-apple-darwin.jl\",), 0x00000000000073cb), Any[(filter(f::\u001b[0mCairo_jll.var\"#8#12\", a::\u001b[0mVector{String}) at array.jl:2511, 1), (top-level scope at toplevel_generators.jl:143, 1)]), Union{Ptr{Nothing}, Base.InterpreterIP}[Ptr{Nothing} @0x000000016765df43])\n",
      "└ @ Revise /Users/tristanmontoya/.julia/packages/Revise/3RMhb/src/pkgs.jl:563\n",
      "WARNING: redefinition of constant PATH. This may fail, cause incorrect answers, or produce other errors.\n",
      "WARNING: redefinition of constant LIBPATH. This may fail, cause incorrect answers, or produce other errors.\n",
      "WARNING: redefinition of constant PATH_list. This may fail, cause incorrect answers, or produce other errors.\n",
      "WARNING: redefinition of constant LIBPATH_list. This may fail, cause incorrect answers, or produce other errors.\n",
      "┌ Error: Error watching manifest\n",
      "│   exception = (Revise.ReviseEvalException(\"/Users/tristanmontoya/.julia/packages/JLLWrappers/bkwIo/src/toplevel_generators.jl:143\", MethodError(Cairo_jll.var\"#14#18\"(), (\"aarch64-apple-darwin.jl\",), 0x00000000000073cb), Any[(filter(f::\u001b[0mCairo_jll.var\"#14#18\", a::\u001b[0mVector{String}) at array.jl:2511, 1), (top-level scope at toplevel_generators.jl:143, 1)]), Union{Ptr{Nothing}, Base.InterpreterIP}[Ptr{Nothing} @0x000000016765df43])\n",
      "└ @ Revise /Users/tristanmontoya/.julia/packages/Revise/3RMhb/src/pkgs.jl:563\n",
      "WARNING: redefinition of constant PATH. This may fail, cause incorrect answers, or produce other errors.\n",
      "WARNING: redefinition of constant LIBPATH. This may fail, cause incorrect answers, or produce other errors.\n",
      "WARNING: redefinition of constant PATH_list. This may fail, cause incorrect answers, or produce other errors.\n",
      "WARNING: redefinition of constant LIBPATH_list. This may fail, cause incorrect answers, or produce other errors.\n",
      "┌ Error: Error watching manifest\n",
      "│   exception = (Revise.ReviseEvalException(\"/Users/tristanmontoya/.julia/packages/JLLWrappers/bkwIo/src/toplevel_generators.jl:143\", MethodError(Cairo_jll.var\"#20#24\"(), (\"aarch64-apple-darwin.jl\",), 0x00000000000073cb), Any[(filter(f::\u001b[0mCairo_jll.var\"#20#24\", a::\u001b[0mVector{String}) at array.jl:2511, 1), (top-level scope at toplevel_generators.jl:143, 1)]), Union{Ptr{Nothing}, Base.InterpreterIP}[Ptr{Nothing} @0x000000016765df43])\n",
      "└ @ Revise /Users/tristanmontoya/.julia/packages/Revise/3RMhb/src/pkgs.jl:563\n",
      "WARNING: redefinition of constant PATH. This may fail, cause incorrect answers, or produce other errors.\n",
      "WARNING: redefinition of constant LIBPATH. This may fail, cause incorrect answers, or produce other errors.\n",
      "WARNING: redefinition of constant PATH_list. This may fail, cause incorrect answers, or produce other errors.\n",
      "WARNING: redefinition of constant LIBPATH_list. This may fail, cause incorrect answers, or produce other errors.\n",
      "┌ Error: Error watching manifest\n",
      "│   exception = (Revise.ReviseEvalException(\"/Users/tristanmontoya/.julia/packages/JLLWrappers/bkwIo/src/toplevel_generators.jl:143\", MethodError(Cairo_jll.var\"#26#30\"(), (\"aarch64-apple-darwin.jl\",), 0x00000000000073cb), Any[(filter(f::\u001b[0mCairo_jll.var\"#26#30\", a::\u001b[0mVector{String}) at array.jl:2511, 1), (top-level scope at toplevel_generators.jl:143, 1)]), Union{Ptr{Nothing}, Base.InterpreterIP}[Ptr{Nothing} @0x000000016765df43])\n",
      "└ @ Revise /Users/tristanmontoya/.julia/packages/Revise/3RMhb/src/pkgs.jl:563\n",
      "WARNING: redefinition of constant PATH. This may fail, cause incorrect answers, or produce other errors.\n",
      "WARNING: redefinition of constant LIBPATH. This may fail, cause incorrect answers, or produce other errors.\n",
      "WARNING: redefinition of constant PATH_list. This may fail, cause incorrect answers, or produce other errors.\n",
      "WARNING: redefinition of constant LIBPATH_list. This may fail, cause incorrect answers, or produce other errors.\n",
      "┌ Error: Error watching manifest\n",
      "│   exception = (Revise.ReviseEvalException(\"/Users/tristanmontoya/.julia/packages/JLLWrappers/bkwIo/src/toplevel_generators.jl:143\", MethodError(Cairo_jll.var\"#32#36\"(), (\"aarch64-apple-darwin.jl\",), 0x00000000000073cb), Any[(filter(f::\u001b[0mCairo_jll.var\"#32#36\", a::\u001b[0mVector{String}) at array.jl:2511, 1), (top-level scope at toplevel_generators.jl:143, 1)]), Union{Ptr{Nothing}, Base.InterpreterIP}[Ptr{Nothing} @0x000000016765df43])\n",
      "└ @ Revise /Users/tristanmontoya/.julia/packages/Revise/3RMhb/src/pkgs.jl:563\n"
     ]
    }
   ],
   "source": [
    "using UnPack\n",
    "#@unpack geometric_factors, mesh, N_el = spatial_discretization\n",
    "#geometric_factors.nJf[1][:]\n",
    "check_normals(spatial_discretization)"
   ]
  },
  {
   "cell_type": "markdown",
   "metadata": {},
   "source": [
    "Run the `OrdinaryDiffEq` solver with RK4, taking `n_s` snapshots"
   ]
  },
  {
   "cell_type": "code",
   "execution_count": null,
   "metadata": {},
   "outputs": [],
   "source": [
    "n_s = 10\n",
    "dt = 0.1*(L/M)/(a*(2*p+1))\n",
    "ode_problem = semidiscretize(load_project(results_path)...)\n",
    "save_solution(ode_problem.u0, 0.0, results_path, 0)\n",
    "sol = solve(ode_problem, RK4(), adaptive=false, \n",
    "    dt=dt, save_everystep=false,\n",
    "    callback=save_callback(results_path, ceil(Int, T/(dt*n_s))))\n",
    "save_solution(last(sol.u), last(sol.t), results_path, \"final\");"
   ]
  },
  {
   "cell_type": "markdown",
   "metadata": {},
   "source": [
    "Visualize the solution and calculate the integral L<sup>2</sup> error norm"
   ]
  },
  {
   "cell_type": "code",
   "execution_count": null,
   "metadata": {},
   "outputs": [],
   "source": [
    "plotter = Plotter(spatial_discretization, plots_path)\n",
    "error_analysis = ErrorAnalysis(conservation_law, \n",
    "    spatial_discretization, \n",
    "    results_path)\n",
    "print(\"L2 error: \", analyze(error_analysis, last(sol.u), initial_data)[1])\n",
    "visualize(last(sol.u), plotter, \"final.pdf\", exact_solution=initial_data,\n",
    "    label=\"U^h(x,t)\", label_exact=\"U(x,t)\")"
   ]
  },
  {
   "cell_type": "markdown",
   "metadata": {},
   "source": [
    "Run a dynamic mode decomposition (truncated to `n_m` modes via POD) on snapshot data"
   ]
  },
  {
   "cell_type": "code",
   "execution_count": null,
   "metadata": {},
   "outputs": [],
   "source": [
    "n_m = 3\n",
    "dmd = DMDAnalysis(results_path,rank=2*n_m)\n",
    "X, Y = load_snapshots(results_path, dmd.time_steps)\n",
    "σ, λ, ϕ = analyze(dmd, X, Y);"
   ]
  },
  {
   "cell_type": "markdown",
   "metadata": {},
   "source": [
    "Plot the DMD spectrum"
   ]
  },
  {
   "cell_type": "code",
   "execution_count": null,
   "metadata": {
    "scrolled": false
   },
   "outputs": [],
   "source": [
    "plot_spectrum(dmd, λ[imag(λ) .> 0])"
   ]
  },
  {
   "cell_type": "markdown",
   "metadata": {},
   "source": [
    "Plot the real part of the first `n_m` DMD modes"
   ]
  },
  {
   "cell_type": "code",
   "execution_count": null,
   "metadata": {},
   "outputs": [],
   "source": [
    "mode_plotter = Plotter(spatial_discretization, dmd.path)\n",
    "plot_modes(dmd, mode_plotter, real(ϕ[:,imag(λ) .> 0]), 1)"
   ]
  },
  {
   "cell_type": "code",
   "execution_count": null,
   "metadata": {},
   "outputs": [],
   "source": []
  }
 ],
 "metadata": {
  "kernelspec": {
   "display_name": "Julia 1.6.3",
   "language": "julia",
   "name": "julia-1.6"
  },
  "language_info": {
   "file_extension": ".jl",
   "mimetype": "application/julia",
   "name": "julia",
   "version": "1.6.3"
  }
 },
 "nbformat": 4,
 "nbformat_minor": 2
}
