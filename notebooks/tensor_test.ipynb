{
 "cells": [
  {
   "cell_type": "code",
   "execution_count": 348,
   "metadata": {},
   "outputs": [
    {
     "data": {
      "text/plain": [
       "(4, 4)"
      ]
     },
     "execution_count": 348,
     "metadata": {},
     "output_type": "execute_result"
    }
   ],
   "source": [
    "using CLOUD\n",
    "using LinearAlgebra\n",
    "using LinearMaps\n",
    "\n",
    "(M1,N1) = (4,4)\n",
    "(M2,N2) = (4,4)"
   ]
  },
  {
   "cell_type": "code",
   "execution_count": 349,
   "metadata": {},
   "outputs": [
    {
     "data": {
      "text/plain": [
       "4×4 Matrix{Float64}:\n",
       " 0.593847  0.774105  0.687272  0.787954\n",
       " 0.655093  0.318877  0.235867  0.60866\n",
       " 0.300949  0.284031  0.117983  0.774939\n",
       " 0.896089  0.499497  0.727275  0.444647"
      ]
     },
     "execution_count": 349,
     "metadata": {},
     "output_type": "execute_result"
    }
   ],
   "source": [
    "A = rand(M1,N1)"
   ]
  },
  {
   "cell_type": "code",
   "execution_count": 350,
   "metadata": {},
   "outputs": [
    {
     "data": {
      "text/plain": [
       "4×4 Matrix{Float64}:\n",
       " 0.603241  0.0367306  0.670554   0.116028\n",
       " 0.303878  0.585384   0.28847    0.798515\n",
       " 0.498089  0.302778   0.0838988  0.0509552\n",
       " 0.474057  0.870212   0.784327   0.885968"
      ]
     },
     "execution_count": 350,
     "metadata": {},
     "output_type": "execute_result"
    }
   ],
   "source": [
    "B = rand(M2,N2)"
   ]
  },
  {
   "cell_type": "code",
   "execution_count": 370,
   "metadata": {},
   "outputs": [
    {
     "data": {
      "text/plain": [
       "4×2 Matrix{Int64}:\n",
       " 1  2\n",
       " 3  4\n",
       " 5  6\n",
       " 7  8"
      ]
     },
     "execution_count": 370,
     "metadata": {},
     "output_type": "execute_result"
    }
   ],
   "source": [
    "σ_in  = [N2*(β1-1) + β2 for β1 in 1:N1, β2 in 1:N2]\n",
    "σ_out = [M2*(α1-1) + α2 for α1 in 1:M1, α2 in 1:M2]\n",
    "σ_fx = [2*(α1-1) + α2 for α1 in 1:M1, α2 in 1:2 ]"
   ]
  },
  {
   "cell_type": "code",
   "execution_count": 366,
   "metadata": {},
   "outputs": [
    {
     "data": {
      "text/plain": [
       "4×2 Matrix{Int64}:\n",
       " 1  5\n",
       " 2  6\n",
       " 3  7\n",
       " 4  8"
      ]
     },
     "execution_count": 366,
     "metadata": {},
     "output_type": "execute_result"
    }
   ],
   "source": [
    "σ_fy = [M2*(α1-1) + α2 for α2 in 1:M2,α1 in 1:2]"
   ]
  },
  {
   "cell_type": "code",
   "execution_count": 352,
   "metadata": {},
   "outputs": [],
   "source": [
    "p=3\n",
    "M = \n",
    "reference_approximation=ReferenceApproximation(\n",
    "    DGSEM(p), Quad(), N_plot=ceil(Int,50/M), sum_factorize=true);\n",
    "reference_approximation_2=ReferenceApproximation(\n",
    "DGSEM(p), Quad(), N_plot=ceil(Int,50/M), sum_factorize=false);\n",
    "r1D =ReferenceApproximation(\n",
    "DGSEM(p), Line(), N_plot=ceil(Int,50/M));"
   ]
  },
  {
   "cell_type": "code",
   "execution_count": 353,
   "metadata": {},
   "outputs": [
    {
     "data": {
      "text/plain": [
       "16×16 Matrix{Float64}:\n",
       " -3.0           4.04508      -1.54508      …  -4.66356e-16  -1.92563e-17\n",
       " -0.809017     -2.16693e-16   1.11803          9.88995e-17   1.97799e-17\n",
       "  0.309017     -1.11803       3.357e-16        6.66896e-17   1.33379e-17\n",
       " -0.5           1.54508      -4.04508         -3.42998e-16  -1.42614e-16\n",
       "  1.93816e-16   4.33387e-16   1.25108e-16     -2.65297e-16  -1.08571e-16\n",
       " -1.57272e-16   0.0           9.95635e-17  …   1.14947e-16   5.99969e-17\n",
       " -2.8229e-18   -1.08347e-16   2.1371e-17       7.13873e-17   2.35293e-17\n",
       "  5.07531e-16   0.0          -8.5484e-17      -2.17279e-16  -3.58019e-16\n",
       "  1.93816e-16   4.33387e-16   2.51775e-16      3.84928e-16   3.99782e-17\n",
       "  2.16011e-17   0.0          -1.25887e-16     -1.12683e-16  -5.02922e-17\n",
       "  2.08983e-17   1.08347e-16  -4.19625e-17  …  -9.30983e-17  -1.86197e-17\n",
       "  1.93816e-16   4.33387e-16   8.5484e-17       3.7974e-16    1.49963e-16\n",
       " -2.39795e-16   1.73355e-15  -9.21616e-16     -1.54508       0.5\n",
       "  0.0           0.0           6.2554e-17       1.11803      -0.309017\n",
       "  2.99744e-17  -2.16693e-16   4.2742e-17       3.31005e-16   0.809017\n",
       "  1.40269e-15   8.66773e-16  -1.50753e-15  …  -4.04508       3.0"
      ]
     },
     "execution_count": 353,
     "metadata": {},
     "output_type": "execute_result"
    }
   ],
   "source": [
    "convert(Matrix,reference_approximation_2.D[1])"
   ]
  },
  {
   "cell_type": "code",
   "execution_count": 354,
   "metadata": {},
   "outputs": [
    {
     "data": {
      "text/plain": [
       "4×4 Matrix{Float64}:\n",
       " -3.0        4.04508      -1.54508       0.5\n",
       " -0.809017  -4.05396e-16   1.11803      -0.309017\n",
       "  0.309017  -1.11803       6.28037e-16   0.809017\n",
       " -0.5        1.54508      -4.04508       3.0"
      ]
     },
     "execution_count": 354,
     "metadata": {},
     "output_type": "execute_result"
    }
   ],
   "source": [
    "D1D = convert(Matrix,r1D.D[1])"
   ]
  },
  {
   "cell_type": "code",
   "execution_count": 355,
   "metadata": {},
   "outputs": [
    {
     "data": {
      "text/plain": [
       "16×16 TensorProductMap{Float64}"
      ]
     },
     "execution_count": 355,
     "metadata": {},
     "output_type": "execute_result"
    }
   ],
   "source": [
    "D1_2D = TensorProductMap(D1D, I, σ_in, σ_out)"
   ]
  },
  {
   "cell_type": "code",
   "execution_count": 356,
   "metadata": {},
   "outputs": [
    {
     "data": {
      "text/plain": [
       "16×10 Matrix{Float64}:\n",
       "  0.78423     1.42597     2.55738    …  -1.5143     -1.55415     0.472417\n",
       " -0.0762797   1.27975    -1.24764        1.36752    -0.651945    3.20015\n",
       "  1.60601    -2.00567     0.217113      -0.0441103   0.629782    1.75125\n",
       "  0.878908    0.62889     0.63645       -0.295477   -0.178212   -2.10966\n",
       " -0.367876   -0.392444    0.233176      -0.23626    -0.28828    -0.0909705\n",
       " -0.222059   -0.18068    -0.338885   …   0.247308    0.57217    -0.154974\n",
       "  0.501521   -0.0699926  -0.52483       -0.179812    0.790734   -0.471671\n",
       "  0.0580307   0.0230948   0.176713       0.475727   -0.296427   -0.603945\n",
       "  0.0264654  -0.168095   -0.657624       0.59635    -0.0406133   0.114182\n",
       " -0.595447   -0.56391    -0.0958943     -0.421279   -0.163899   -0.280337\n",
       " -0.931246    0.391721    0.258656   …  -0.0455337   0.200226   -0.315554\n",
       " -0.396691    0.0549377  -0.670052       0.0876065   0.651375    0.859704\n",
       "  1.666       1.92762     0.565494       0.347472   -1.00035     0.931153\n",
       " -0.9112      0.422825   -0.704298      -0.127487   -2.29784     2.91983\n",
       " -1.59776    -0.973244    1.96904        0.256144   -0.690635    2.10034\n",
       " -0.13788     0.700093   -1.25697    …  -1.16334     1.94114     1.16316"
      ]
     },
     "execution_count": 356,
     "metadata": {},
     "output_type": "execute_result"
    }
   ],
   "source": [
    "x = rand(16,10)\n",
    "y = similar(x)\n",
    "y = convert(Matrix,D1_2D*x)"
   ]
  },
  {
   "cell_type": "code",
   "execution_count": 357,
   "metadata": {},
   "outputs": [
    {
     "data": {
      "text/plain": [
       "16×10 Matrix{Float64}:\n",
       "  0.78423     1.42597     2.55738    …  -1.5143     -1.55415     0.472417\n",
       " -0.0762797   1.27975    -1.24764        1.36752    -0.651945    3.20015\n",
       "  1.60601    -2.00567     0.217113      -0.0441103   0.629782    1.75125\n",
       "  0.878908    0.62889     0.63645       -0.295477   -0.178212   -2.10966\n",
       " -0.367876   -0.392444    0.233176      -0.23626    -0.28828    -0.0909705\n",
       " -0.222059   -0.18068    -0.338885   …   0.247308    0.57217    -0.154974\n",
       "  0.501521   -0.0699926  -0.52483       -0.179812    0.790734   -0.471671\n",
       "  0.0580307   0.0230948   0.176713       0.475727   -0.296427   -0.603945\n",
       "  0.0264654  -0.168095   -0.657624       0.59635    -0.0406133   0.114182\n",
       " -0.595447   -0.56391    -0.0958943     -0.421279   -0.163899   -0.280337\n",
       " -0.931246    0.391721    0.258656   …  -0.0455337   0.200226   -0.315554\n",
       " -0.396691    0.0549377  -0.670052       0.0876065   0.651375    0.859704\n",
       "  1.666       1.92762     0.565494       0.347472   -1.00035     0.931153\n",
       " -0.9112      0.422825   -0.704298      -0.127487   -2.29784     2.91983\n",
       " -1.59776    -0.973244    1.96904        0.256144   -0.690635    2.10034\n",
       " -0.13788     0.700093   -1.25697    …  -1.16334     1.94114     1.16316"
      ]
     },
     "execution_count": 357,
     "metadata": {},
     "output_type": "execute_result"
    }
   ],
   "source": [
    "kron(D1D, Diagonal(ones(4)))*x"
   ]
  },
  {
   "cell_type": "code",
   "execution_count": 358,
   "metadata": {},
   "outputs": [
    {
     "data": {
      "text/plain": [
       "16×10 Matrix{Float64}:\n",
       "  1.56846     2.85193     5.11477   …  -3.0286     -3.10829     0.944835\n",
       " -0.152559    2.55951    -2.49528       2.73504    -1.30389     6.40031\n",
       "  3.21202    -4.01133     0.434225     -0.0882205   1.25956     3.5025\n",
       "  1.75782     1.25778     1.2729       -0.590954   -0.356425   -4.21932\n",
       " -0.735752   -0.784888    0.466352     -0.47252    -0.576559   -0.181941\n",
       " -0.444118   -0.36136    -0.67777   …   0.494616    1.14434    -0.309949\n",
       "  1.00304    -0.139985   -1.04966      -0.359623    1.58147    -0.943342\n",
       "  0.116061    0.0461896   0.353426      0.951454   -0.592855   -1.20789\n",
       "  0.0529309  -0.336191   -1.31525       1.1927     -0.0812265   0.228365\n",
       " -1.19089    -1.12782    -0.191789     -0.842558   -0.327797   -0.560674\n",
       " -1.86249     0.783441    0.517311  …  -0.0910673   0.400451   -0.631107\n",
       " -0.793381    0.109875   -1.3401        0.175213    1.30275     1.71941\n",
       "  3.33201     3.85525     1.13099       0.694945   -2.00069     1.86231\n",
       " -1.8224      0.845649   -1.4086       -0.254974   -4.59569     5.83967\n",
       " -3.19551    -1.94649     3.93808       0.512288   -1.38127     4.20068\n",
       " -0.27576     1.40019    -2.51395   …  -2.32668     3.88228     2.32632"
      ]
     },
     "execution_count": 358,
     "metadata": {},
     "output_type": "execute_result"
    }
   ],
   "source": [
    "y = mul!(y, D1_2D, x)"
   ]
  },
  {
   "cell_type": "code",
   "execution_count": 359,
   "metadata": {},
   "outputs": [
    {
     "data": {
      "text/plain": [
       "16×16 Matrix{Float64}:\n",
       "  1.0          -3.57917e-17  -8.92074e-17  …  -6.53192e-17   2.39436e-17\n",
       " -6.48222e-18  -1.44947e-17   2.98968e-18      1.57987e-18  -2.74396e-17\n",
       "  2.00836e-18   4.49084e-18   4.49084e-18      1.82006e-18   1.88677e-17\n",
       " -3.71295e-17  -8.30242e-17   1.30638e-16      1.30638e-16  -4.78872e-17\n",
       "  0.0           0.0          -0.0              3.08395e-17  -3.08395e-17\n",
       "  7.81925e-18   1.74844e-17  -0.0          …   3.94594e-17  -2.91155e-17\n",
       "  1.56385e-17   3.49687e-17  -0.0             -1.54198e-17   1.54198e-17\n",
       "  0.0           0.0          -0.0              0.0           1.0\n",
       "  1.0          -3.57917e-17  -8.92074e-17     -6.53192e-17   2.39436e-17\n",
       "  0.0           1.0           1.81977e-17     -1.90599e-17  -2.23157e-17\n",
       " -6.34413e-17   0.0           1.0          …   8.80192e-17   3.61075e-17\n",
       "  0.0           0.0          -0.0              3.08395e-17  -3.08395e-17\n",
       " -3.71295e-17  -8.30242e-17   1.30638e-16      1.30638e-16  -4.78872e-17\n",
       "  0.0           0.0          -6.05321e-17     -5.35395e-17  -2.92116e-17\n",
       " -3.34669e-17  -2.16693e-16  -1.38902e-16      1.0          -3.08395e-17\n",
       "  0.0           0.0          -0.0          …   0.0           1.0"
      ]
     },
     "execution_count": 359,
     "metadata": {},
     "output_type": "execute_result"
    }
   ],
   "source": [
    "convert(Matrix,reference_approximation.R)"
   ]
  },
  {
   "cell_type": "code",
   "execution_count": 360,
   "metadata": {},
   "outputs": [
    {
     "data": {
      "text/plain": [
       "([-1.0, -0.4472135954999579, 0.4472135954999579, 1.0, -1.0, -0.4472135954999579, 0.4472135954999579, 1.0, -1.0, -0.4472135954999579, 0.4472135954999579, 1.0, -1.0, -0.4472135954999579, 0.4472135954999579, 1.0], [-1.0, -1.0, -1.0, -1.0, -0.4472135954999579, -0.4472135954999579, -0.4472135954999579, -0.4472135954999579, 0.4472135954999579, 0.4472135954999579, 0.4472135954999579, 0.4472135954999579, 1.0, 1.0, 1.0, 1.0])"
      ]
     },
     "execution_count": 360,
     "metadata": {},
     "output_type": "execute_result"
    }
   ],
   "source": [
    "reference_approximation.reference_element.rstq"
   ]
  },
  {
   "cell_type": "code",
   "execution_count": 376,
   "metadata": {},
   "outputs": [
    {
     "data": {
      "text/plain": [
       "4-element Vector{Int64}:\n",
       " 1\n",
       " 2\n",
       " 3\n",
       " 4"
      ]
     },
     "execution_count": 376,
     "metadata": {},
     "output_type": "execute_result"
    }
   ],
   "source": [
    "R_L = convert(Matrix,r1D.R)[1:1,:]\n",
    "R_R = convert(Matrix,r1D.R)[2:2,:]"
   ]
  },
  {
   "cell_type": "code",
   "execution_count": 385,
   "metadata": {},
   "outputs": [
    {
     "data": {
      "text/plain": [
       "16×16 Matrix{Float64}:\n",
       " 1.0           2.38711e-314  2.38711e-314  …  2.38711e-314  3.07534e-314\n",
       " 2.4049e-314   2.4049e-314   2.4049e-314      2.4049e-314   2.4049e-314\n",
       " 2.38724e-314  2.38711e-314  2.39034e-314     3.07916e-314  3.22631e-314\n",
       " 2.4049e-314   2.4049e-314   2.4049e-314      2.4049e-314   2.4049e-314\n",
       " 3.09425e-314  2.38711e-314  2.38711e-314     2.38711e-314  2.38711e-314\n",
       " 2.4049e-314   2.4049e-314   2.4049e-314   …  2.4049e-314   2.4049e-314\n",
       " 2.38724e-314  3.22631e-314  2.39034e-314     3.07916e-314  3.07534e-314\n",
       " 2.4049e-314   2.4049e-314   2.4049e-314      2.4049e-314   1.0\n",
       " 1.0           2.38711e-314  2.38711e-314     3.22631e-314  3.07916e-314\n",
       " 2.4049e-314   1.0           2.4049e-314      2.4049e-314   2.4049e-314\n",
       " 2.38724e-314  3.07534e-314  1.0           …  2.38711e-314  2.38711e-314\n",
       " 2.4049e-314   2.4049e-314   2.4049e-314      2.4049e-314   2.4049e-314\n",
       " 3.09425e-314  2.38711e-314  2.38711e-314     3.07916e-314  2.38711e-314\n",
       " 2.4049e-314   2.4049e-314   2.4049e-314      2.4049e-314   2.4049e-314\n",
       " 2.38724e-314  2.38711e-314  2.39034e-314     1.0           3.07916e-314\n",
       " 2.4049e-314   2.4049e-314   2.4049e-314   …  2.4049e-314   1.0"
      ]
     },
     "execution_count": 385,
     "metadata": {},
     "output_type": "execute_result"
    }
   ],
   "source": [
    "R_2D = [\n",
    "TensorProductMap(I, R_L, σ_in, [i for i in 1:p+1, j in 1:1]) ;\n",
    "TensorProductMap(I, R_R, σ_in, [i for i in 1:p+1, j in 1:1]) ;\n",
    "TensorProductMap(R_L, I, σ_in, [j for i in 1:1, j in 1:p+1]) ;\n",
    "TensorProductMap(R_R, I ,σ_in, [j for i in 1:1, j in 1:p+1])]\n",
    "R_2D_mat = convert(Matrix,R_2D)"
   ]
  },
  {
   "cell_type": "code",
   "execution_count": 389,
   "metadata": {},
   "outputs": [
    {
     "name": "stdout",
     "output_type": "stream",
     "text": [
      "2.1669334614416621e-16"
     ]
    }
   ],
   "source": [
    "R_2Dmat2 = convert(Matrix, reference_approximation.R)\n",
    "show(stdout, \"text/plain\", maximum(abs.(R_2Dmat2 - R_2D_mat)))"
   ]
  },
  {
   "cell_type": "code",
   "execution_count": null,
   "metadata": {},
   "outputs": [
    {
     "data": {
      "text/plain": [
       "2×4 Matrix{Int64}:\n",
       " 1  2  3  4\n",
       " 5  6  7  8"
      ]
     },
     "execution_count": 186,
     "metadata": {},
     "output_type": "execute_result"
    }
   ],
   "source": [
    "σ_f"
   ]
  },
  {
   "cell_type": "code",
   "execution_count": 381,
   "metadata": {},
   "outputs": [
    {
     "data": {
      "text/plain": [
       "1×4 Matrix{Int64}:\n",
       " 1  2  3  4"
      ]
     },
     "execution_count": 381,
     "metadata": {},
     "output_type": "execute_result"
    }
   ],
   "source": [
    "[j for i in 1:1, j in 1:p+1]"
   ]
  },
  {
   "cell_type": "code",
   "execution_count": null,
   "metadata": {},
   "outputs": [],
   "source": []
  }
 ],
 "metadata": {
  "kernelspec": {
   "display_name": "Julia 1.6.3",
   "language": "julia",
   "name": "julia-1.6"
  },
  "language_info": {
   "file_extension": ".jl",
   "mimetype": "application/julia",
   "name": "julia",
   "version": "1.6.3"
  },
  "orig_nbformat": 4
 },
 "nbformat": 4,
 "nbformat_minor": 2
}
