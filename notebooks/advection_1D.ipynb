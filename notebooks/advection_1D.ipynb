{
 "cells": [
  {
   "cell_type": "code",
   "execution_count": 1,
   "metadata": {
    "scrolled": true
   },
   "outputs": [
    {
     "name": "stderr",
     "output_type": "stream",
     "text": [
      "┌ Info: Precompiling CLOUD [fb992021-99c7-4c2d-a14b-5e48ac4045b2]\n",
      "└ @ Base loading.jl:1342\n",
      "\u001b[91m\u001b[1mERROR: \u001b[22m\u001b[39mLoadError: LoadError: invalid using path: \"IO\" does not name a module\n",
      "Stacktrace:\n",
      " [1] \u001b[0m\u001b[1minclude\u001b[22m\u001b[0m\u001b[1m(\u001b[22m\u001b[90mmod\u001b[39m::\u001b[0mModule, \u001b[90m_path\u001b[39m::\u001b[0mString\u001b[0m\u001b[1m)\u001b[22m\n",
      "\u001b[90m   @ \u001b[39m\u001b[90mBase\u001b[39m \u001b[90m./\u001b[39m\u001b[90;4mBase.jl:386\u001b[0m\n",
      " [2] \u001b[0m\u001b[1minclude\u001b[22m\u001b[0m\u001b[1m(\u001b[22m\u001b[90mx\u001b[39m::\u001b[0mString\u001b[0m\u001b[1m)\u001b[22m\n",
      "\u001b[90m   @ \u001b[39m\u001b[35mCLOUD\u001b[39m \u001b[90m~/Research/CLOUD.jl/src/\u001b[39m\u001b[90;4mCLOUD.jl:1\u001b[0m\n",
      " [3] top-level scope\n",
      "\u001b[90m   @ \u001b[39m\u001b[90m~/Research/CLOUD.jl/src/\u001b[39m\u001b[90;4mCLOUD.jl:12\u001b[0m\n",
      " [4] \u001b[0m\u001b[1minclude\u001b[22m\n",
      "\u001b[90m   @ \u001b[39m\u001b[90m./\u001b[39m\u001b[90;4mBase.jl:386\u001b[0m\u001b[90m [inlined]\u001b[39m\n",
      " [5] \u001b[0m\u001b[1minclude_package_for_output\u001b[22m\u001b[0m\u001b[1m(\u001b[22m\u001b[90mpkg\u001b[39m::\u001b[0mBase.PkgId, \u001b[90minput\u001b[39m::\u001b[0mString, \u001b[90mdepot_path\u001b[39m::\u001b[0mVector\u001b[90m{String}\u001b[39m, \u001b[90mdl_load_path\u001b[39m::\u001b[0mVector\u001b[90m{String}\u001b[39m, \u001b[90mload_path\u001b[39m::\u001b[0mVector\u001b[90m{String}\u001b[39m, \u001b[90mconcrete_deps\u001b[39m::\u001b[0mVector\u001b[90m{Pair{Base.PkgId, UInt64}}\u001b[39m, \u001b[90msource\u001b[39m::\u001b[0mNothing\u001b[0m\u001b[1m)\u001b[22m\n",
      "\u001b[90m   @ \u001b[39m\u001b[90mBase\u001b[39m \u001b[90m./\u001b[39m\u001b[90;4mloading.jl:1235\u001b[0m\n",
      " [6] top-level scope\n",
      "\u001b[90m   @ \u001b[39m\u001b[90;4mnone:1\u001b[0m\n",
      " [7] \u001b[0m\u001b[1meval\u001b[22m\n",
      "\u001b[90m   @ \u001b[39m\u001b[90m./\u001b[39m\u001b[90;4mboot.jl:360\u001b[0m\u001b[90m [inlined]\u001b[39m\n",
      " [8] \u001b[0m\u001b[1meval\u001b[22m\u001b[0m\u001b[1m(\u001b[22m\u001b[90mx\u001b[39m::\u001b[0mExpr\u001b[0m\u001b[1m)\u001b[22m\n",
      "\u001b[90m   @ \u001b[39m\u001b[90mBase.MainInclude\u001b[39m \u001b[90m./\u001b[39m\u001b[90;4mclient.jl:446\u001b[0m\n",
      " [9] top-level scope\n",
      "\u001b[90m   @ \u001b[39m\u001b[90;4mnone:1\u001b[0m\n",
      "in expression starting at /Users/tristanmontoya/Research/CLOUD.jl/src/Analysis/Analysis.jl:1\n",
      "in expression starting at /Users/tristanmontoya/Research/CLOUD.jl/src/CLOUD.jl:1\n"
     ]
    },
    {
     "ename": "LoadError",
     "evalue": "Failed to precompile CLOUD [fb992021-99c7-4c2d-a14b-5e48ac4045b2] to /Users/tristanmontoya/.julia/compiled/v1.6/CLOUD/jl_uE7S0T.",
     "output_type": "error",
     "traceback": [
      "Failed to precompile CLOUD [fb992021-99c7-4c2d-a14b-5e48ac4045b2] to /Users/tristanmontoya/.julia/compiled/v1.6/CLOUD/jl_uE7S0T.",
      "",
      "Stacktrace:",
      " [1] error(s::String)",
      "   @ Base ./error.jl:33",
      " [2] compilecache(pkg::Base.PkgId, path::String, internal_stderr::IJulia.IJuliaStdio{Base.PipeEndpoint}, internal_stdout::IJulia.IJuliaStdio{Base.PipeEndpoint}, ignore_loaded_modules::Bool)",
      "   @ Base ./loading.jl:1385",
      " [3] compilecache(pkg::Base.PkgId, path::String)",
      "   @ Base ./loading.jl:1329",
      " [4] _require(pkg::Base.PkgId)",
      "   @ Base ./loading.jl:1043",
      " [5] require(uuidkey::Base.PkgId)",
      "   @ Base ./loading.jl:936",
      " [6] require(into::Module, mod::Symbol)",
      "   @ Base ./loading.jl:923",
      " [7] eval",
      "   @ ./boot.jl:360 [inlined]",
      " [8] include_string(mapexpr::typeof(REPL.softscope), mod::Module, code::String, filename::String)",
      "   @ Base ./loading.jl:1116"
     ]
    }
   ],
   "source": [
    "using CLOUD.ConservationLaws\n",
    "using CLOUD.SpatialDiscretizations\n",
    "using CLOUD.Solvers\n",
    "using CLOUD.InitialConditions\n",
    "using CLOUD.Mesh\n",
    "using CLOUD.Analysis\n",
    "using CLOUD.IO\n",
    "\n",
    "using OrdinaryDiffEq\n",
    "using TimerOutputs\n",
    "\n",
    "\"Set up paths\"\n",
    "plots_path = \"../plots/advection1d_demo/\"\n",
    "results_path = \"../results/advection1d_demo/\"\n",
    "\n",
    "\"Define the physical problem\"\n",
    "a = 1.0  # advection velocity\n",
    "A = 1.0  # amplitude\n",
    "L = 1.0  # domain length\n",
    "k = 2*π/L  # wave number\n",
    "T = 1*L/a  # end time\n",
    "\n",
    "# constant-coefficient linear adection equation with sine wave initial condition\n",
    "initial_data = InitialDataSine(A,k)\n",
    "conservation_law = linear_advection_equation(a)\n",
    "u_exact = initial_condition(initial_data, conservation_law)\n",
    "\n",
    "\"Set discretization parameters\"\n",
    "M = 100  # number of elements\n",
    "p = 2  # degree of discretization\n",
    "N_q = 3  # number of quadrature points\n",
    "reference_approximation=ReferenceApproximation(DGSEM(p), \n",
    "    Line(), LGQuadrature())\n",
    "form = StrongConservationForm()\n",
    "strategy = Eager()\n",
    "dt_scale=0.1\n",
    "\n",
    "\"Generate a uniform periodic mesh\"\n",
    "mesh = uniform_periodic_mesh(reference_approximation.reference_element, \n",
    "    (0.0,L), M)\n",
    "\n",
    "\"Construct spatial discretization\"\n",
    "spatial_discretization = SpatialDiscretization(mesh, reference_approximation)\n",
    "\n",
    "ode_problem = semidiscretize(conservation_law, \n",
    "    spatial_discretization,\n",
    "    initial_data, form,\n",
    "    (0.0, T), strategy);"
   ]
  },
  {
   "cell_type": "code",
   "execution_count": null,
   "metadata": {},
   "outputs": [],
   "source": [
    "\"run the solver\"\n",
    "write_interval=100\n",
    "sol = solve(ode_problem, RK4(), adaptive=false, \n",
    "    dt=dt_scale*(L/M)/(a*(2*p+1)), save_everystep=false,\n",
    "    callback=save_solution(results_path, write_interval))\n",
    "print_timer()\n",
    "reset_timer!();"
   ]
  },
  {
   "cell_type": "code",
   "execution_count": null,
   "metadata": {},
   "outputs": [],
   "source": [
    "\"visualize the solution\"\n",
    "plotter = Plotter(spatial_discretization, plots_path)\n",
    "error_analysis = ErrorAnalysis(spatial_discretization, results_path)\n",
    "visualize(last(sol.u), plotter,\n",
    "    \"final.pdf\", exact_solution=u_exact,\n",
    "     label=\"U^h(x,t)\", label_exact=\"U(x,t)\")\n",
    "print(\"L2 error: \", analyze(error_analysis, last(sol.u), u_exact))"
   ]
  },
  {
   "cell_type": "markdown",
   "metadata": {},
   "source": []
  }
 ],
 "metadata": {
  "kernelspec": {
   "display_name": "Julia 1.6.3",
   "language": "julia",
   "name": "julia-1.6"
  },
  "language_info": {
   "file_extension": ".jl",
   "mimetype": "application/julia",
   "name": "julia",
   "version": "1.6.3"
  }
 },
 "nbformat": 4,
 "nbformat_minor": 2
}
