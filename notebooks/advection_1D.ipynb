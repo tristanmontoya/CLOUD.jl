{
 "cells": [
  {
   "cell_type": "code",
   "execution_count": 4,
   "metadata": {
    "scrolled": true
   },
   "outputs": [],
   "source": [
    "using CLOUD.ConservationLaws\n",
    "using CLOUD.SpatialDiscretizations\n",
    "using CLOUD.Solvers\n",
    "using CLOUD.InitialConditions\n",
    "using CLOUD.Mesh\n",
    "using CLOUD.IO\n",
    "using CLOUD.Analysis\n",
    "using OrdinaryDiffEq\n",
    "using TimerOutputs\n",
    "\n",
    "\"Set up paths\"\n",
    "plots_path = \"../plots/advection1d_demo/\"\n",
    "results_path = \"../results/advection1d_demo/\"\n",
    "\n",
    "\"Define the physical problem\"\n",
    "a = 1.0  # advection velocity\n",
    "A = 1.0  # amplitude\n",
    "L = 1.0  # domain length\n",
    "k = 2*π/L  # wave number\n",
    "T = 1*L/a  # end time\n",
    "\n",
    "# constant-coefficient linear adection equation with sine wave initial condition\n",
    "initial_data = InitialDataSine(A,k)\n",
    "conservation_law = linear_advection_equation(a)\n",
    "u_exact = initial_condition(initial_data, conservation_law)\n",
    "\n",
    "\"Set discretization parameters\"\n",
    "M = 10  # number of elements\n",
    "p = 2  # degree of discretization\n",
    "N_q = 3  # number of quadrature points\n",
    "reference_approximation=ReferenceApproximation(DGSEM(p), \n",
    "    Line(), LGQuadrature())\n",
    "form = StrongConservationForm()\n",
    "dt_scale=0.1\n",
    "\n",
    "\"Generate a uniform periodic mesh\"\n",
    "mesh = uniform_periodic_mesh(reference_approximation.reference_element, \n",
    "    (0.0,L), M)\n",
    "\n",
    "\"Construct spatial discretization\"\n",
    "spatial_discretization = SpatialDiscretization(mesh, reference_approximation)\n",
    "    \n",
    "ode_problem = semidiscretize(conservation_law, \n",
    "    spatial_discretization,\n",
    "    initial_data, form,\n",
    "    (0.0, T), Eager());"
   ]
  },
  {
   "cell_type": "code",
   "execution_count": 5,
   "metadata": {},
   "outputs": [
    {
     "name": "stdout",
     "output_type": "stream",
     "text": [
      "\u001b[0m\u001b[1m ──────────────────────────────────────────────────────────────────────────────\u001b[22m\n",
      "\u001b[0m\u001b[1m                               \u001b[22m        Time                   Allocations      \n",
      "                               ──────────────────────   ───────────────────────\n",
      "       Tot / % measured:            32.3s / 0.46%           2.06GiB / 2.96%    \n",
      "\n",
      " Section               ncalls     time   %tot     avg     alloc   %tot      avg\n",
      " ──────────────────────────────────────────────────────────────────────────────\n",
      " rhs!                   2.00k    148ms   100%  74.0μs   62.5MiB  100%   32.0KiB\n",
      "   eval residual        20.0k   34.3ms  23.2%  1.72μs   14.0MiB  22.5%     736B\n",
      "   eval flux diff       20.0k   27.7ms  18.7%  1.38μs   6.72MiB  10.7%     352B\n",
      "   extrapolate solu...  20.0k   18.7ms  12.6%   934ns   4.89MiB  7.82%     256B\n",
      "   eval numerical flux  20.0k   14.9ms  10.0%   744ns   18.6MiB  29.8%     976B\n",
      "   eval flux            20.0k   7.97ms  5.38%   398ns   6.41MiB  10.3%     336B\n",
      "   gather external ...  20.0k   5.76ms  3.89%   288ns   8.24MiB  13.2%     432B\n",
      "\u001b[0m\u001b[1m ──────────────────────────────────────────────────────────────────────────────\u001b[22m\n"
     ]
    }
   ],
   "source": [
    "\"run the solver\"\n",
    "sol = solve(ode_problem, RK4(), adaptive=false, \n",
    "    dt=dt_scale*(L/M)/(a*(2*p+1)), save_everystep=false)\n",
    "print_timer()\n",
    "reset_timer!();"
   ]
  },
  {
   "cell_type": "code",
   "execution_count": 6,
   "metadata": {},
   "outputs": [
    {
     "name": "stdout",
     "output_type": "stream",
     "text": [
      "L2 error:0.0006594733046376936"
     ]
    }
   ],
   "source": [
    "\"visualize the solution\"\n",
    "plotter = Plotter(spatial_discretization, plots_path)\n",
    "error_analysis = ErrorAnalysis(spatial_discretization)\n",
    "visualize(last(sol.u), plotter,\n",
    "    \"final.pdf\", exact_solution=u_exact,\n",
    "     label=\"U^h(x,t)\", label_exact=\"U(x,t)\")\n",
    "print(\"L2 error:\", calculate_error(error_analysis, last(sol.u), u_exact))"
   ]
  }
 ],
 "metadata": {
  "kernelspec": {
   "display_name": "Julia 1.6.3",
   "language": "julia",
   "name": "julia-1.6"
  },
  "language_info": {
   "file_extension": ".jl",
   "mimetype": "application/julia",
   "name": "julia",
   "version": "1.6.3"
  }
 },
 "nbformat": 4,
 "nbformat_minor": 2
}
