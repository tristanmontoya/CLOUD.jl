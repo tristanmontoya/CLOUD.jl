{
 "cells": [
  {
   "cell_type": "code",
   "execution_count": 1,
   "metadata": {
    "scrolled": true
   },
   "outputs": [
    {
     "name": "stderr",
     "output_type": "stream",
     "text": [
      "┌ Info: Precompiling CLOUD [fb992021-99c7-4c2d-a14b-5e48ac4045b2]\n",
      "└ @ Base loading.jl:1342\n"
     ]
    },
    {
     "ename": "LoadError",
     "evalue": "MethodError: no method matching /(::LinearMaps.UniformScalingMap{Bool}, ::LinearAlgebra.Diagonal{Float64, Vector{Float64}})\n\u001b[0mClosest candidates are:\n\u001b[0m  /(::Any, \u001b[91m::ChainRulesCore.AbstractThunk\u001b[39m) at /Users/tristanmontoya/.julia/packages/ChainRulesCore/bxKCw/src/tangent_types/thunks.jl:33\n\u001b[0m  /(\u001b[91m::Union{LinearAlgebra.AbstractTriangular, StridedMatrix{T} where T}\u001b[39m, ::LinearAlgebra.Diagonal) at /Users/julia/buildbot/worker/package_macos64/build/usr/share/julia/stdlib/v1.6/LinearAlgebra/src/diagonal.jl:492\n\u001b[0m  /(\u001b[91m::LinearAlgebra.Adjoint{T, var\"#s814\"} where {T, var\"#s814\"<:(AbstractVector{T} where T)}\u001b[39m, ::AbstractMatrix{T} where T) at /Users/julia/buildbot/worker/package_macos64/build/usr/share/julia/stdlib/v1.6/LinearAlgebra/src/adjtrans.jl:325\n\u001b[0m  ...",
     "output_type": "error",
     "traceback": [
      "MethodError: no method matching /(::LinearMaps.UniformScalingMap{Bool}, ::LinearAlgebra.Diagonal{Float64, Vector{Float64}})\n\u001b[0mClosest candidates are:\n\u001b[0m  /(::Any, \u001b[91m::ChainRulesCore.AbstractThunk\u001b[39m) at /Users/tristanmontoya/.julia/packages/ChainRulesCore/bxKCw/src/tangent_types/thunks.jl:33\n\u001b[0m  /(\u001b[91m::Union{LinearAlgebra.AbstractTriangular, StridedMatrix{T} where T}\u001b[39m, ::LinearAlgebra.Diagonal) at /Users/julia/buildbot/worker/package_macos64/build/usr/share/julia/stdlib/v1.6/LinearAlgebra/src/diagonal.jl:492\n\u001b[0m  /(\u001b[91m::LinearAlgebra.Adjoint{T, var\"#s814\"} where {T, var\"#s814\"<:(AbstractVector{T} where T)}\u001b[39m, ::AbstractMatrix{T} where T) at /Users/julia/buildbot/worker/package_macos64/build/usr/share/julia/stdlib/v1.6/LinearAlgebra/src/adjtrans.jl:325\n\u001b[0m  ...",
      "",
      "Stacktrace:",
      " [1] \\(x::LinearAlgebra.Diagonal{Float64, Vector{Float64}}, y::LinearMaps.UniformScalingMap{Bool})",
      "   @ Base ./operators.jl:598",
      " [2] initialize(initial_data::InitialDataSine{1}, conservation_law::ConservationLaw{1, 1}, spatial_discretization::SpatialDiscretization{1})",
      "   @ CLOUD.Solvers ~/Research/CLOUD.jl/src/Solvers/Solvers.jl:40",
      " [3] semidiscretize(conservation_law::ConservationLaw{1, 1}, spatial_discretization::SpatialDiscretization{1}, initial_data::InitialDataSine{1}, form::StrongConservationForm, tspan::Tuple{Float64, Float64}, #unused#::Eager)",
      "   @ CLOUD.Solvers ~/Research/CLOUD.jl/src/Solvers/strong_conservation_form.jl:15",
      " [4] top-level scope",
      "   @ In[1]:42",
      " [5] eval",
      "   @ ./boot.jl:360 [inlined]",
      " [6] include_string(mapexpr::typeof(REPL.softscope), mod::Module, code::String, filename::String)",
      "   @ Base ./loading.jl:1116"
     ]
    }
   ],
   "source": [
    "using CLOUD.ConservationLaws\n",
    "using CLOUD.SpatialDiscretizations\n",
    "using CLOUD.Solvers\n",
    "using CLOUD.InitialConditions\n",
    "using CLOUD.Mesh\n",
    "using CLOUD.IO\n",
    "using OrdinaryDiffEq\n",
    "using TimerOutputs\n",
    "\n",
    "\"Set up paths\"\n",
    "plots_path = \"../plots/advection1d_demo/\"\n",
    "results_path = \"../results/advection1d_demo/\"\n",
    "\n",
    "\"Define the physical problem\"\n",
    "a = 1.0  # advection velocity\n",
    "A = 1.0  # amplitude\n",
    "L = 1.0  # domain length\n",
    "k = 2*π/L  # wave number\n",
    "T = 1*L/a  # end time\n",
    "\n",
    "# constant-coefficient linear adection equation with sine wave initial condition\n",
    "initial_data = InitialDataSine(A,k)\n",
    "conservation_law = linear_advection_equation(a)\n",
    "u_exact = initial_condition(initial_data, conservation_law)\n",
    "\n",
    "\"Set discretization parameters\"\n",
    "M = 100  # number of elements\n",
    "p = 2  # degree of discretization\n",
    "N_q = 3  # number of quadrature point\n",
    "reference_approximation=ReferenceApproximation(DGSEM(p), \n",
    "    Line(), LGQuadrature())\n",
    "form = StrongConservationForm()\n",
    "dt_scale=0.1\n",
    "\n",
    "\"Generate a uniform periodic mesh\"\n",
    "mesh = uniform_periodic_mesh(reference_approximation.reference_element, \n",
    "    (0.0,L), M)\n",
    "\n",
    "\"Construct spatial discretization\"\n",
    "spatial_discretization = SpatialDiscretization(mesh, reference_approximation)\n",
    "    \n",
    "ode_problem = semidiscretize(conservation_law, \n",
    "    spatial_discretization,\n",
    "    initial_data, form,\n",
    "    (0.0, T), Eager());"
   ]
  },
  {
   "cell_type": "code",
   "execution_count": null,
   "metadata": {},
   "outputs": [],
   "source": [
    "\"run the solver\"\n",
    "sol = solve(ode_problem, RK4(), adaptive=false, \n",
    "    dt=dt_scale*(L/M)/(a*(2*p+1)), save_everystep=false)\n",
    "print_timer()\n",
    "reset_timer!();"
   ]
  },
  {
   "cell_type": "code",
   "execution_count": null,
   "metadata": {},
   "outputs": [],
   "source": [
    "\"visualize the solution\"\n",
    "plotter = Plotter(spatial_discretization, plots_path)\n",
    "visualize(last(sol.u), plotter,\n",
    "    \"final.pdf\", exact_solution=u_exact,\n",
    "     label=\"U^h(x,t)\", label_exact=\"U(x,t)\")"
   ]
  }
 ],
 "metadata": {
  "kernelspec": {
   "display_name": "Julia 1.6.3",
   "language": "julia",
   "name": "julia-1.6"
  },
  "language_info": {
   "file_extension": ".jl",
   "mimetype": "application/julia",
   "name": "julia",
   "version": "1.6.3"
  }
 },
 "nbformat": 4,
 "nbformat_minor": 2
}
