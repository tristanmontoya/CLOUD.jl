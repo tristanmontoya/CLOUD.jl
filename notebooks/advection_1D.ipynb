{
 "cells": [
  {
   "cell_type": "code",
   "execution_count": 1,
   "metadata": {
    "scrolled": true
   },
   "outputs": [
    {
     "name": "stderr",
     "output_type": "stream",
     "text": [
      "┌ Info: Precompiling CLOUD [fb992021-99c7-4c2d-a14b-5e48ac4045b2]\n",
      "└ @ Base loading.jl:1342\n"
     ]
    },
    {
     "data": {
      "text/plain": [
       "\"../results/advection1d_demo_15/\""
      ]
     },
     "execution_count": 1,
     "metadata": {},
     "output_type": "execute_result"
    }
   ],
   "source": [
    "using CLOUD.ConservationLaws\n",
    "using CLOUD.SpatialDiscretizations\n",
    "using CLOUD.Solvers\n",
    "using CLOUD.InitialConditions\n",
    "using CLOUD.Mesh\n",
    "using CLOUD.Analysis\n",
    "using CLOUD.IO\n",
    "\n",
    "using OrdinaryDiffEq\n",
    "using TimerOutputs\n",
    "\n",
    "#Set up paths\n",
    "plots_path = \"../plots/advection1d_demo/\"\n",
    "results_path = \"../results/advection1d_demo/\"\n",
    "\n",
    "#Define the physical problem\n",
    "a = 1.0  # advection velocity\n",
    "A = 1.0  # amplitude\n",
    "L = 1.0  # domain length\n",
    "k = 2*π/L  # wave number\n",
    "T = 1*L/a  # end time\n",
    "initial_data = InitialDataSine(A,k)\n",
    "conservation_law = linear_advection_equation(a)\n",
    "u_exact = initial_condition(initial_data, conservation_law)\n",
    "\n",
    "#Set discretization parameters\n",
    "M = 10  # number of elements\n",
    "p = 2  # degree of discretization\n",
    "N_q = 3  # number of quadrature points\n",
    "reference_approximation=ReferenceApproximation(\n",
    "    DGSEM(p), Line(), LGQuadrature())\n",
    "form = StrongConservationForm()\n",
    "strategy = Eager()\n",
    "dt_scale=0.1\n",
    "mesh = uniform_periodic_mesh(reference_approximation.reference_element, \n",
    "    (0.0,L), M)\n",
    "\n",
    "#Construct spatial discretization\n",
    "spatial_discretization = SpatialDiscretization(mesh, reference_approximation)\n",
    "results_path = save_project(conservation_law,\n",
    "     spatial_discretization, initial_data, form, \n",
    "     (0.0, T), strategy, results_path)"
   ]
  },
  {
   "cell_type": "code",
   "execution_count": 5,
   "metadata": {},
   "outputs": [],
   "source": [
    "#run the solver\n",
    "project = load_project(results_path)\n",
    "ode_problem = semidiscretize(project[\"conservation_law\"], \n",
    "    project[\"spatial_discretization\"], project[\"initial_data\"], project[\"form\"],\n",
    "    project[\"tspan\"], project[\"strategy\"])\n",
    "save_solution(ode_problem.u0, project[\"tspan\"][1], results_path, 0)\n",
    "sol = solve(ode_problem, RK4(), adaptive=false, \n",
    "    dt=dt_scale*(L/M)/(a*(2*p+1)), save_everystep=false,\n",
    "    callback=save_callback(results_path, 10))\n",
    "save_solution(last(sol.u), last(sol.t), results_path, \"final\")"
   ]
  },
  {
   "cell_type": "code",
   "execution_count": null,
   "metadata": {},
   "outputs": [],
   "source": [
    "#visualize the solution\n",
    "plotter = Plotter(spatial_discretization, plots_path)\n",
    "error_analysis = ErrorAnalysis(spatial_discretization, results_path)\n",
    "visualize(last(sol.u), plotter,\n",
    "    \"final.pdf\", exact_solution=u_exact,\n",
    "     label=\"U^h(x,t)\", label_exact=\"U(x,t)\")\n",
    "print(\"L2 error: \", analyze(error_analysis, last(sol.u), u_exact))"
   ]
  }
 ],
 "metadata": {
  "kernelspec": {
   "display_name": "Julia 1.6.3",
   "language": "julia",
   "name": "julia-1.6"
  },
  "language_info": {
   "file_extension": ".jl",
   "mimetype": "application/julia",
   "name": "julia",
   "version": "1.6.3"
  }
 },
 "nbformat": 4,
 "nbformat_minor": 2
}
