{
 "cells": [
  {
   "cell_type": "markdown",
   "id": "5474b5fb",
   "metadata": {},
   "source": [
    "# Comparison of Divergence (Conservation) and Skew-Symmetric (Split) Forms of the Inviscid Burgers' Equation"
   ]
  },
  {
   "cell_type": "code",
   "execution_count": 55,
   "id": "774d3e15",
   "metadata": {},
   "outputs": [
    {
     "data": {
      "text/plain": [
       "\"../results/burgers_split_wavenumber_sweep_t5/\""
      ]
     },
     "execution_count": 55,
     "metadata": {},
     "output_type": "execute_result"
    }
   ],
   "source": [
    "using CLOUD\n",
    "using OrdinaryDiffEq\n",
    "using LinearAlgebra\n",
    "using TimerOutputs\n",
    "using Plots, LaTeXStrings\n",
    "path = \"../results/burgers_split_wavenumber_sweep_t5/\""
   ]
  },
  {
   "cell_type": "code",
   "execution_count": 56,
   "id": "60a3c6ce",
   "metadata": {},
   "outputs": [
    {
     "data": {
      "text/plain": [
       "45000"
      ]
     },
     "execution_count": 56,
     "metadata": {},
     "output_type": "execute_result"
    }
   ],
   "source": [
    "L = 2.0  # domain length\n",
    "T = 5.0  # end time\n",
    "M = 20  # number of elements\n",
    "p = 4  # degree of discretization\n",
    "a = 1.0\n",
    "h_star = L/(M*(p+1))\n",
    "n_s = 100\n",
    "\n",
    "ec_flux = EntropyConservativeNumericalFlux{BurgersFlux{1}}()\n",
    "central_flux = LaxFriedrichsNumericalFlux{BurgersFlux{1}}(0.0)\n",
    "lf_flux = LaxFriedrichsNumericalFlux{BurgersFlux{1}}(1.0)\n",
    "\n",
    "reference_approximation = ReferenceApproximation(\n",
    "    DGSEM(p), Line(), N_plot=50)\n",
    "spatial_discretization = SpatialDiscretization(uniform_periodic_mesh(\n",
    "    reference_approximation.reference_element, \n",
    "    (0.0,L), M), reference_approximation)\n",
    "strategy = Eager()\n",
    "form = StrongFluxDiffForm()\n",
    "\n",
    "dt_scale=0.01\n",
    "dt = dt_scale*(L/M)/(2*p+1)\n",
    "n_t = floor(Int, T/dt)"
   ]
  },
  {
   "cell_type": "code",
   "execution_count": 57,
   "id": "d5a20a00",
   "metadata": {},
   "outputs": [],
   "source": [
    "for i in 1:floor(Int,(M*(p+1)/L))\n",
    "    results_path = string(path,\"run_\",i,\"/\")\n",
    "    k = i*π\n",
    "    K = k*h_star\n",
    "    initial_data = InitialDataGassner(1,k)\n",
    "    conservation_law = burgers_equation(source_term=SourceTermGassner(1,k),\n",
    "    numerical_flux=lf_flux)\n",
    "    \n",
    "    solver = Solver(conservation_law, spatial_discretization, form, strategy)\n",
    "    results_path = save_project(conservation_law,\n",
    "         spatial_discretization, initial_data, form, \n",
    "         (0.0, T), strategy, results_path, overwrite=true, clear=true)\n",
    "    \n",
    "    u0 = initialize(initial_data, conservation_law, spatial_discretization);\n",
    "    ode_problem = semidiscretize(solver, u0, (0.0, T))\n",
    "    save_solution(u0, 0.0, results_path, 0)\n",
    "    sol = solve(ode_problem, Tsit5(), adaptive=false, \n",
    "        dt=T/n_t, save_everystep=false,\n",
    "        callback=save_callback(results_path, floor(Int, n_t/(n_s-1))))\n",
    "    save_solution(last(sol.u), last(sol.t), results_path, \"final\");\n",
    "    \n",
    "end"
   ]
  }
 ],
 "metadata": {
  "kernelspec": {
   "display_name": "Julia 1.6.3",
   "language": "julia",
   "name": "julia-1.6"
  },
  "language_info": {
   "file_extension": ".jl",
   "mimetype": "application/julia",
   "name": "julia",
   "version": "1.6.3"
  }
 },
 "nbformat": 4,
 "nbformat_minor": 5
}
