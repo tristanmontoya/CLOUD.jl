{
 "cells": [
  {
   "cell_type": "code",
   "execution_count": 1,
   "id": "a8e43392",
   "metadata": {},
   "outputs": [],
   "source": [
    "using CLOUD\n",
    "using LinearAlgebra\n",
    "sequence_path = \"../results/advection_dgmulti_1D_refine_test_new/\"\n",
    "\n",
    "a = 1.0  # advection velocity\n",
    "A = 1.0  # amplitude\n",
    "L = 1.0  # domain length\n",
    "k = 8*π/L  # wave number\n",
    "T = 1*L/a  # end time\n",
    "initial_data = InitialDataSine(A,k)\n",
    "conservation_law = linear_advection_equation(a,λ=1.0);"
   ]
  },
  {
   "cell_type": "code",
   "execution_count": 2,
   "id": "7fba95d6",
   "metadata": {},
   "outputs": [],
   "source": [
    "p = 4  \n",
    "reference_approximation=ReferenceApproximation(\n",
    "    DGMulti(p), Line(), N_plot=20)\n",
    "sequence = [2, 4, 8, 16, 32]\n",
    "mesh_gen_func(M) = uniform_periodic_mesh(\n",
    "    reference_approximation.reference_element, \n",
    "    (0.0,L), M)\n",
    "dt_func(M) = 0.005*(L/M)/(a*(2*p+1));"
   ]
  },
  {
   "cell_type": "code",
   "execution_count": 3,
   "id": "2866e9a2",
   "metadata": {},
   "outputs": [
    {
     "data": {
      "text/plain": [
       "\"../results/advection_dgmulti_1D_refine_test_new/\""
      ]
     },
     "execution_count": 3,
     "metadata": {},
     "output_type": "execute_result"
    }
   ],
   "source": [
    "run_refinement(conservation_law, reference_approximation, \n",
    "    initial_data, WeakConservationForm(), Lazy(), (0.0,T), sequence, \n",
    "    mesh_gen_func, dt_func, sequence_path, n_s=10)"
   ]
  },
  {
   "cell_type": "code",
   "execution_count": null,
   "id": "7b467520",
   "metadata": {},
   "outputs": [],
   "source": []
  }
 ],
 "metadata": {
  "kernelspec": {
   "display_name": "Julia 1.6.3",
   "language": "julia",
   "name": "julia-1.6"
  },
  "language_info": {
   "file_extension": ".jl",
   "mimetype": "application/julia",
   "name": "julia",
   "version": "1.6.3"
  }
 },
 "nbformat": 4,
 "nbformat_minor": 5
}
