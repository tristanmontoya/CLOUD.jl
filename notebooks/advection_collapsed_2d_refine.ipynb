{
 "cells": [
  {
   "cell_type": "code",
   "execution_count": 1,
   "id": "a8e43392",
   "metadata": {},
   "outputs": [],
   "source": [
    "using CLOUD\n",
    "using LinearAlgebra\n",
    "sequence_path = \"../results/advection_collapsed_2D_refine_p3_upwind/\"\n",
    "\n",
    "θ = π/4\n",
    "a = sqrt(2)\n",
    "A = 1.0  # amplitude\n",
    "L = 1.0  # domain length\n",
    "k = (2*π/L, 2*π/L)  # wave number\n",
    "T = 1.0/(a*max(abs(cos(θ)),abs(cos(θ))))  # end time\n",
    "initial_data = InitialDataSine(A,k)\n",
    "conservation_law = linear_advection_equation((a*cos(θ),a*sin(θ)),λ=1.0);"
   ]
  },
  {
   "cell_type": "code",
   "execution_count": 2,
   "id": "7fba95d6",
   "metadata": {},
   "outputs": [],
   "source": [
    "p = 3\n",
    "p_map = 1\n",
    "form = WeakConservationForm(StandardMapping())\n",
    "\n",
    "reference_approximation =ReferenceApproximation(\n",
    "    DGSEM(p), CollapsedTri(),\n",
    "    volume_quadrature_rule=(LGQuadrature(),LGRQuadrature()),\n",
    "    facet_quadrature_rule=(LGQuadrature(),LGRQuadrature()), \n",
    "    chain_rule_diff=true, mapping_degree=p_map,\n",
    "    N_plot=15)\n",
    "\n",
    "sequence = [2, 4, 8, 16, 32, 64]\n",
    "\n",
    "mesh_gen_func(M) = warp_mesh(uniform_periodic_mesh(\n",
    "    reference_approximation.reference_element, \n",
    "    ((0.0,L),(0.0,L)), (M,M), collapsed=true), \n",
    "    reference_approximation.reference_element, 0.15)\n",
    "\n",
    "dt_func(M) = 0.05*(L/M)/(a*(2*p+1));"
   ]
  },
  {
   "cell_type": "code",
   "execution_count": 3,
   "id": "2866e9a2",
   "metadata": {},
   "outputs": [
    {
     "ename": "LoadError",
     "evalue": "InterruptException:",
     "output_type": "error",
     "traceback": [
      "InterruptException:",
      "",
      "Stacktrace:",
      "  [1] Array",
      "    @ ./boot.jl:448 [inlined]",
      "  [2] Array",
      "    @ ./boot.jl:457 [inlined]",
      "  [3] similar",
      "    @ ./array.jl:358 [inlined]",
      "  [4] similar",
      "    @ ./abstractarray.jl:740 [inlined]",
      "  [5] _unsafe_getindex(::IndexLinear, ::Matrix{Int64}, ::Base.Slice{Base.OneTo{Int64}}, ::Int64)",
      "    @ Base ./multidimensional.jl:844",
      "  [6] _getindex",
      "    @ ./multidimensional.jl:832 [inlined]",
      "  [7] getindex",
      "    @ ./abstractarray.jl:1170 [inlined]",
      "  [8] macro expansion",
      "    @ ~/Research/CLOUD.jl/src/Solvers/conservation_form.jl:183 [inlined]",
      "  [9] macro expansion",
      "    @ ~/.julia/packages/TimerOutputs/SSeq1/src/TimerOutput.jl:236 [inlined]",
      " [10] macro expansion",
      "    @ ~/Research/CLOUD.jl/src/Solvers/conservation_form.jl:179 [inlined]",
      " [11] macro expansion",
      "    @ ~/.julia/packages/TimerOutputs/SSeq1/src/TimerOutput.jl:236 [inlined]",
      " [12] rhs!(dudt::Array{Float64, 3}, u::Array{Float64, 3}, solver::Solver{WeakConservationForm, CLOUD.Solvers.PhysicalOperators, 2, 1}, t::Float64; print::Bool)",
      "    @ CLOUD.Solvers ~/Research/CLOUD.jl/src/Solvers/conservation_form.jl:162",
      " [13] rhs!",
      "    @ ~/Research/CLOUD.jl/src/Solvers/conservation_form.jl:162 [inlined]",
      " [14] ODEFunction",
      "    @ ~/.julia/packages/SciMLBase/L7Nun/src/scimlfunctions.jl:334 [inlined]",
      " [15] perform_step!(integrator::OrdinaryDiffEq.ODEIntegrator{OrdinaryDiffEq.RK4, true, Array{Float64, 3}, Nothing, Float64, Solver{WeakConservationForm, CLOUD.Solvers.PhysicalOperators, 2, 1}, Float64, Float64, Float64, Float64, Vector{Array{Float64, 3}}, SciMLBase.ODESolution{Float64, 4, Vector{Array{Float64, 3}}, Nothing, Nothing, Vector{Float64}, Vector{Vector{Array{Float64, 3}}}, SciMLBase.ODEProblem{Array{Float64, 3}, Tuple{Float64, Float64}, true, Solver{WeakConservationForm, CLOUD.Solvers.PhysicalOperators, 2, 1}, SciMLBase.ODEFunction{true, typeof(rhs!), UniformScaling{Bool}, Nothing, Nothing, Nothing, Nothing, Nothing, Nothing, Nothing, Nothing, Nothing, Nothing, Nothing, Nothing, typeof(SciMLBase.DEFAULT_OBSERVED), Nothing}, Base.Iterators.Pairs{Union{}, Union{}, Tuple{}, NamedTuple{(), Tuple{}}}, SciMLBase.StandardODEProblem}, OrdinaryDiffEq.RK4, OrdinaryDiffEq.InterpolationData{SciMLBase.ODEFunction{true, typeof(rhs!), UniformScaling{Bool}, Nothing, Nothing, Nothing, Nothing, Nothing, Nothing, Nothing, Nothing, Nothing, Nothing, Nothing, Nothing, typeof(SciMLBase.DEFAULT_OBSERVED), Nothing}, Vector{Array{Float64, 3}}, Vector{Float64}, Vector{Vector{Array{Float64, 3}}}, OrdinaryDiffEq.RK4Cache{Array{Float64, 3}, Array{Float64, 3}, Array{Float64, 3}}}, DiffEqBase.DEStats}, SciMLBase.ODEFunction{true, typeof(rhs!), UniformScaling{Bool}, Nothing, Nothing, Nothing, Nothing, Nothing, Nothing, Nothing, Nothing, Nothing, Nothing, Nothing, Nothing, typeof(SciMLBase.DEFAULT_OBSERVED), Nothing}, OrdinaryDiffEq.RK4Cache{Array{Float64, 3}, Array{Float64, 3}, Array{Float64, 3}}, OrdinaryDiffEq.DEOptions{Float64, Float64, Float64, Float64, OrdinaryDiffEq.PIController{Rational{Int64}}, typeof(DiffEqBase.ODE_DEFAULT_NORM), typeof(opnorm), Nothing, SciMLBase.CallbackSet{Tuple{}, Tuple{SciMLBase.DiscreteCallback{CLOUD.IO.var\"#condition#4\"{Int64}, CLOUD.IO.var\"#affect!#5\"{String}, typeof(SciMLBase.INITIALIZE_DEFAULT), typeof(SciMLBase.FINALIZE_DEFAULT)}}}, typeof(DiffEqBase.ODE_DEFAULT_ISOUTOFDOMAIN), typeof(DiffEqBase.ODE_DEFAULT_PROG_MESSAGE), typeof(DiffEqBase.ODE_DEFAULT_UNSTABLE_CHECK), DataStructures.BinaryHeap{Float64, DataStructures.FasterForward}, DataStructures.BinaryHeap{Float64, DataStructures.FasterForward}, Nothing, Nothing, Int64, Tuple{}, Tuple{}, Tuple{}}, Array{Float64, 3}, Float64, Nothing, OrdinaryDiffEq.DefaultInit}, cache::OrdinaryDiffEq.RK4Cache{Array{Float64, 3}, Array{Float64, 3}, Array{Float64, 3}}, repeat_step::Bool)",
      "    @ OrdinaryDiffEq ~/.julia/packages/OrdinaryDiffEq/JsAS0/src/perform_step/fixed_timestep_perform_step.jl:319",
      " [16] perform_step!",
      "    @ ~/.julia/packages/OrdinaryDiffEq/JsAS0/src/perform_step/fixed_timestep_perform_step.jl:311 [inlined]",
      " [17] solve!(integrator::OrdinaryDiffEq.ODEIntegrator{OrdinaryDiffEq.RK4, true, Array{Float64, 3}, Nothing, Float64, Solver{WeakConservationForm, CLOUD.Solvers.PhysicalOperators, 2, 1}, Float64, Float64, Float64, Float64, Vector{Array{Float64, 3}}, SciMLBase.ODESolution{Float64, 4, Vector{Array{Float64, 3}}, Nothing, Nothing, Vector{Float64}, Vector{Vector{Array{Float64, 3}}}, SciMLBase.ODEProblem{Array{Float64, 3}, Tuple{Float64, Float64}, true, Solver{WeakConservationForm, CLOUD.Solvers.PhysicalOperators, 2, 1}, SciMLBase.ODEFunction{true, typeof(rhs!), UniformScaling{Bool}, Nothing, Nothing, Nothing, Nothing, Nothing, Nothing, Nothing, Nothing, Nothing, Nothing, Nothing, Nothing, typeof(SciMLBase.DEFAULT_OBSERVED), Nothing}, Base.Iterators.Pairs{Union{}, Union{}, Tuple{}, NamedTuple{(), Tuple{}}}, SciMLBase.StandardODEProblem}, OrdinaryDiffEq.RK4, OrdinaryDiffEq.InterpolationData{SciMLBase.ODEFunction{true, typeof(rhs!), UniformScaling{Bool}, Nothing, Nothing, Nothing, Nothing, Nothing, Nothing, Nothing, Nothing, Nothing, Nothing, Nothing, Nothing, typeof(SciMLBase.DEFAULT_OBSERVED), Nothing}, Vector{Array{Float64, 3}}, Vector{Float64}, Vector{Vector{Array{Float64, 3}}}, OrdinaryDiffEq.RK4Cache{Array{Float64, 3}, Array{Float64, 3}, Array{Float64, 3}}}, DiffEqBase.DEStats}, SciMLBase.ODEFunction{true, typeof(rhs!), UniformScaling{Bool}, Nothing, Nothing, Nothing, Nothing, Nothing, Nothing, Nothing, Nothing, Nothing, Nothing, Nothing, Nothing, typeof(SciMLBase.DEFAULT_OBSERVED), Nothing}, OrdinaryDiffEq.RK4Cache{Array{Float64, 3}, Array{Float64, 3}, Array{Float64, 3}}, OrdinaryDiffEq.DEOptions{Float64, Float64, Float64, Float64, OrdinaryDiffEq.PIController{Rational{Int64}}, typeof(DiffEqBase.ODE_DEFAULT_NORM), typeof(opnorm), Nothing, SciMLBase.CallbackSet{Tuple{}, Tuple{SciMLBase.DiscreteCallback{CLOUD.IO.var\"#condition#4\"{Int64}, CLOUD.IO.var\"#affect!#5\"{String}, typeof(SciMLBase.INITIALIZE_DEFAULT), typeof(SciMLBase.FINALIZE_DEFAULT)}}}, typeof(DiffEqBase.ODE_DEFAULT_ISOUTOFDOMAIN), typeof(DiffEqBase.ODE_DEFAULT_PROG_MESSAGE), typeof(DiffEqBase.ODE_DEFAULT_UNSTABLE_CHECK), DataStructures.BinaryHeap{Float64, DataStructures.FasterForward}, DataStructures.BinaryHeap{Float64, DataStructures.FasterForward}, Nothing, Nothing, Int64, Tuple{}, Tuple{}, Tuple{}}, Array{Float64, 3}, Float64, Nothing, OrdinaryDiffEq.DefaultInit})",
      "    @ OrdinaryDiffEq ~/.julia/packages/OrdinaryDiffEq/JsAS0/src/solve.jl:478",
      " [18] #__solve#493",
      "    @ ~/.julia/packages/OrdinaryDiffEq/JsAS0/src/solve.jl:5 [inlined]",
      " [19] #solve_call#37",
      "    @ ~/.julia/packages/DiffEqBase/1V2xg/src/solve.jl:61 [inlined]",
      " [20] solve_up(prob::SciMLBase.ODEProblem{Array{Float64, 3}, Tuple{Float64, Float64}, true, Solver{WeakConservationForm, CLOUD.Solvers.PhysicalOperators, 2, 1}, SciMLBase.ODEFunction{true, typeof(rhs!), UniformScaling{Bool}, Nothing, Nothing, Nothing, Nothing, Nothing, Nothing, Nothing, Nothing, Nothing, Nothing, Nothing, Nothing, typeof(SciMLBase.DEFAULT_OBSERVED), Nothing}, Base.Iterators.Pairs{Union{}, Union{}, Tuple{}, NamedTuple{(), Tuple{}}}, SciMLBase.StandardODEProblem}, sensealg::Nothing, u0::Array{Float64, 3}, p::Solver{WeakConservationForm, CLOUD.Solvers.PhysicalOperators, 2, 1}, args::OrdinaryDiffEq.RK4; kwargs::Base.Iterators.Pairs{Symbol, Any, NTuple{4, Symbol}, NamedTuple{(:adaptive, :dt, :save_everystep, :callback), Tuple{Bool, Float64, Bool, SciMLBase.DiscreteCallback{CLOUD.IO.var\"#condition#4\"{Int64}, CLOUD.IO.var\"#affect!#5\"{String}, typeof(SciMLBase.INITIALIZE_DEFAULT), typeof(SciMLBase.FINALIZE_DEFAULT)}}}})",
      "    @ DiffEqBase ~/.julia/packages/DiffEqBase/1V2xg/src/solve.jl:87",
      " [21] #solve#38",
      "    @ ~/.julia/packages/DiffEqBase/1V2xg/src/solve.jl:73 [inlined]",
      " [22] run_refinement(conservation_law::ConservationLaw{2, 1}, reference_approximation::ReferenceApproximation{2}, initial_data::InitialDataSine{2}, form::WeakConservationForm, strategy::Lazy, tspan::Tuple{Float64, Float64}, sequence::Vector{Int64}, mesh_gen_func::typeof(mesh_gen_func), dt_func::typeof(dt_func), sequence_path::String; time_integrator::OrdinaryDiffEq.RK4, n_s::Int64)",
      "    @ CLOUD.Analysis ~/Research/CLOUD.jl/src/Analysis/refinement.jl:63",
      " [23] top-level scope",
      "    @ In[3]:1",
      " [24] eval",
      "    @ ./boot.jl:360 [inlined]",
      " [25] include_string(mapexpr::typeof(REPL.softscope), mod::Module, code::String, filename::String)",
      "    @ Base ./loading.jl:1116"
     ]
    }
   ],
   "source": [
    "run_refinement(conservation_law, reference_approximation, \n",
    "    initial_data, form, Lazy(), (0.0,T), sequence, \n",
    "    mesh_gen_func, dt_func, sequence_path, n_s=10)"
   ]
  }
 ],
 "metadata": {
  "kernelspec": {
   "display_name": "Julia 1.6.3",
   "language": "julia",
   "name": "julia-1.6"
  },
  "language_info": {
   "file_extension": ".jl",
   "mimetype": "application/julia",
   "name": "julia",
   "version": "1.6.3"
  }
 },
 "nbformat": 4,
 "nbformat_minor": 5
}
