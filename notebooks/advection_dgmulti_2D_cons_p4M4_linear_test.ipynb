{
 "cells": [
  {
   "cell_type": "markdown",
   "metadata": {},
   "source": [
    "# `CLOUD.jl` - 2D linear advection"
   ]
  },
  {
   "cell_type": "code",
   "execution_count": 29,
   "metadata": {
    "scrolled": true
   },
   "outputs": [],
   "source": [
    "using OrdinaryDiffEq\n",
    "using LinearAlgebra\n",
    "using TimerOutputs\n",
    "using CLOUD\n",
    "plots_path = \"../plots/advection_dgmulti_2D_cons_p4M4_linear_test/\"\n",
    "results_path = \"../results/advection_dgmulti_2D_cons_p4M4_test/\";"
   ]
  },
  {
   "cell_type": "markdown",
   "metadata": {},
   "source": [
    "Define the physical problem"
   ]
  },
  {
   "cell_type": "code",
   "execution_count": 30,
   "metadata": {
    "scrolled": true
   },
   "outputs": [],
   "source": [
    "θ = π/4\n",
    "a = sqrt(2)\n",
    "A = 1.0  # amplitude\n",
    "L = 1.0  # domain length\n",
    "k = (2*π/L, 2*π/L)  # wave number\n",
    "T = 1.0/(a*max(abs(cos(θ)),abs(cos(θ))))  # end time\n",
    "initial_data = InitialDataSine(A,k)\n",
    "conservation_law = linear_advection_equation((a*cos(θ),a*sin(θ)),λ=1.0);"
   ]
  },
  {
   "cell_type": "markdown",
   "metadata": {},
   "source": [
    "Set up a collapsed-edge scheme of degree `p` with `M` intervals in each direction"
   ]
  },
  {
   "cell_type": "markdown",
   "metadata": {},
   "source": [
    "Set plotting and post-processing options"
   ]
  },
  {
   "cell_type": "code",
   "execution_count": 31,
   "metadata": {
    "scrolled": false
   },
   "outputs": [],
   "source": [
    "M = 2\n",
    "p = 8\n",
    "p_map = p\n",
    "form = WeakConservationForm()\n",
    "mesh_strategy = ZigZag()\n",
    "strategy=Lazy()\n",
    "\n",
    "reference_approximation =ReferenceApproximation(\n",
    "    DGMulti(p), Tri(), mapping_degree=p_map,\n",
    "    N_plot=ceil(Int,50/M));\n",
    "mesh = warp_mesh(uniform_periodic_mesh(\n",
    "    reference_approximation.reference_element, \n",
    "    ((0.0,L),(0.0,L)), (M,M), strategy=mesh_strategy), \n",
    "    reference_approximation.reference_element, 0.1)\n",
    "spatial_discretization = SpatialDiscretization(mesh, \n",
    "    reference_approximation);\n",
    "solver = Solver(conservation_law, spatial_discretization, form, strategy)\n",
    "results_path = save_project(conservation_law,\n",
    "     spatial_discretization, initial_data, form, \n",
    "     (0.0, T), strategy, results_path, overwrite=true, clear=true)\n",
    "visualize(spatial_discretization, plots_path, \"mesh.pdf\", \n",
    "    grid_lines=false, plot_volume_nodes=true, geometry_resolution=20)"
   ]
  },
  {
   "cell_type": "code",
   "execution_count": 32,
   "metadata": {},
   "outputs": [],
   "source": [
    "error_analysis = ErrorAnalysis(results_path, conservation_law, \n",
    "    spatial_discretization)\n",
    "conservation_analysis = PrimaryConservationAnalysis(results_path, \n",
    "    conservation_law, spatial_discretization)\n",
    "energy_analysis = EnergyConservationAnalysis(results_path, \n",
    "    conservation_law, spatial_discretization)\n",
    "\n",
    "tol = 1.0e-12\n",
    "n_s = prod(get_dof(spatial_discretization,conservation_law))\n",
    "r = n_s-2\n",
    "linear_analysis = LinearAnalysis(results_path, conservation_law, spatial_discretization,\n",
    "    LinearResidual(solver), r=r, tol=tol)\n",
    "plotter = Plotter(spatial_discretization, plots_path);"
   ]
  },
  {
   "cell_type": "markdown",
   "metadata": {},
   "source": [
    "Run the `OrdinaryDiffEq` solver, taking `n_s` snapshots"
   ]
  },
  {
   "cell_type": "code",
   "execution_count": 33,
   "metadata": {
    "scrolled": false
   },
   "outputs": [],
   "source": [
    "reset_timer!()\n",
    "dt_scale=0.01\n",
    "dt = dt_scale*(L/M)/(norm(a)*(2*p+1))\n",
    "ode_problem = semidiscretize(load_project(results_path)...)\n",
    "save_solution(ode_problem.u0, 0.0, results_path, 0)\n",
    "sol = solve(ode_problem, Tsit5(), adaptive=false,\n",
    "    dt=dt, save_everystep=false, \n",
    "    callback=save_callback(results_path, ceil(Int, T/(dt*n_s))))\n",
    "save_solution(last(sol.u), last(sol.t), results_path, \"final\")\n",
    "print_timer()"
   ]
  },
  {
   "cell_type": "markdown",
   "metadata": {},
   "source": [
    "Visualize the solution"
   ]
  },
  {
   "cell_type": "code",
   "execution_count": null,
   "metadata": {
    "scrolled": false
   },
   "outputs": [],
   "source": [
    "visualize(initial_data, plotter, \"exact.pdf\", u_range=[-1.0,1.0], contours=25,\n",
    "    label=\"U(\\\\mathbf{x},t)\")"
   ]
  },
  {
   "cell_type": "code",
   "execution_count": null,
   "metadata": {},
   "outputs": [],
   "source": [
    "visualize(last(sol.u),plotter, \"approx.pdf\", contours=25, u_range=[-1.0,1.0],\n",
    "    label=\"U^h(\\\\mathbf{x},t)\")"
   ]
  },
  {
   "cell_type": "markdown",
   "metadata": {},
   "source": [
    "Calculate the integral L<sup>2</sup> error norm and conservation/energy error"
   ]
  },
  {
   "cell_type": "code",
   "execution_count": null,
   "metadata": {
    "scrolled": true
   },
   "outputs": [],
   "source": [
    "println(\"L2 error:\\n\", analyze(error_analysis, last(sol.u), initial_data))\n",
    "println(\"Conservation (initial/final/diff):\\n\", analyze(conservation_analysis)...)\n",
    "println(\"Energy (initial/final/diff):\\n\",analyze(energy_analysis)...)"
   ]
  },
  {
   "cell_type": "code",
   "execution_count": null,
   "metadata": {},
   "outputs": [],
   "source": [
    "linear_results = analyze(linear_analysis)\n",
    "plot_spectrum(linear_analysis, linear_results.λ, unit_circle=false, label=\"\\\\lambda\", numbering=false)"
   ]
  }
 ],
 "metadata": {
  "interpreter": {
   "hash": "8a4c5cff9d1eb01f6f91880bd866b35b24d8468d7e92aa7ef6f6962744ecb1db"
  },
  "kernelspec": {
   "display_name": "Julia 1.7.3",
   "language": "julia",
   "name": "julia-1.7"
  },
  "language_info": {
   "file_extension": ".jl",
   "mimetype": "application/julia",
   "name": "julia",
   "version": "1.7.3"
  }
 },
 "nbformat": 4,
 "nbformat_minor": 2
}
