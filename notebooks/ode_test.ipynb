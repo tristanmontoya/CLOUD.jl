{
 "cells": [
  {
   "cell_type": "code",
   "execution_count": 22,
   "id": "240bf134",
   "metadata": {},
   "outputs": [
    {
     "ename": "LoadError",
     "evalue": "MethodError: no method matching Tuple(::Matrix{Float64}, ::Matrix{Float64})\n\u001b[0mClosest candidates are:\n\u001b[0m  (::Type{T})(::Any) where T<:Tuple at tuple.jl:303",
     "output_type": "error",
     "traceback": [
      "MethodError: no method matching Tuple(::Matrix{Float64}, ::Matrix{Float64})\n\u001b[0mClosest candidates are:\n\u001b[0m  (::Type{T})(::Any) where T<:Tuple at tuple.jl:303",
      "",
      "Stacktrace:",
      " [1] top-level scope",
      "   @ In[22]:3",
      " [2] eval",
      "   @ ./boot.jl:360 [inlined]",
      " [3] include_string(mapexpr::typeof(REPL.softscope), mod::Module, code::String, filename::String)",
      "   @ Base ./loading.jl:1116"
     ]
    }
   ],
   "source": [
    "using OrdinaryDiffEq\n",
    "f(u,p,t) = 1.01*u\n",
    "u0 = Tuple(fill(0.5,4,4), fill(0.1,4,4))\n",
    "tspan = (0.0,1.0)\n",
    "prob = ODEProblem(f,u0,tspan)"
   ]
  },
  {
   "cell_type": "code",
   "execution_count": 20,
   "id": "7095ac6e",
   "metadata": {},
   "outputs": [
    {
     "data": {
      "text/plain": [
       "retcode: Success\n",
       "Interpolation: specialized 4th order \"free\" interpolation\n",
       "t: 17-element Vector{Float64}:\n",
       " 0.0\n",
       " 0.012407826196308189\n",
       " 0.04250125658161484\n",
       " 0.08178046092620397\n",
       " 0.12887379439591745\n",
       " 0.18409790041494495\n",
       " 0.24627449404376492\n",
       " 0.3147928829168652\n",
       " 0.38859624030646006\n",
       " 0.46686165530000767\n",
       " 0.5487159959104151\n",
       " 0.6334345501790717\n",
       " 0.7203628343994752\n",
       " 0.8089578125953629\n",
       " 0.8987653123338385\n",
       " 0.9894159840028138\n",
       " 1.0\n",
       "u: 17-element Vector{Float64}:\n",
       " 0.5\n",
       " 0.5063053789114713\n",
       " 0.5219304636285521\n",
       " 0.5430526974619144\n",
       " 0.5695067474049924\n",
       " 0.6021743238204087\n",
       " 0.6412025113764279\n",
       " 0.687147458356146\n",
       " 0.7403257567387032\n",
       " 0.8012222468290549\n",
       " 0.8702767411264873\n",
       " 0.9480213225441934\n",
       " 1.0350184806191094\n",
       " 1.131902913018661\n",
       " 1.239373221095387\n",
       " 1.3582036259485553\n",
       " 1.3728005076225749"
      ]
     },
     "execution_count": 20,
     "metadata": {},
     "output_type": "execute_result"
    }
   ],
   "source": [
    "sol = solve(prob, Tsit5(), reltol=1e-8, abstol=1e-8)"
   ]
  },
  {
   "cell_type": "code",
   "execution_count": 7,
   "id": "afcde443",
   "metadata": {},
   "outputs": [
    {
     "data": {
      "text/plain": [
       "ODESolution{Float64, 1, Vector{Float64}, Nothing, Nothing, Vector{Float64}, Vector{Vector{Float64}}, ODEProblem{Float64, Tuple{Float64, Float64}, false, SciMLBase.NullParameters, ODEFunction{false, typeof(f), LinearAlgebra.UniformScaling{Bool}, Nothing, Nothing, Nothing, Nothing, Nothing, Nothing, Nothing, Nothing, Nothing, Nothing, Nothing, Nothing, typeof(SciMLBase.DEFAULT_OBSERVED), Nothing}, Base.Iterators.Pairs{Union{}, Union{}, Tuple{}, NamedTuple{(), Tuple{}}}, SciMLBase.StandardODEProblem}, Tsit5{typeof(OrdinaryDiffEq.trivial_limiter!), typeof(OrdinaryDiffEq.trivial_limiter!), Static.False}, OrdinaryDiffEq.InterpolationData{ODEFunction{false, typeof(f), LinearAlgebra.UniformScaling{Bool}, Nothing, Nothing, Nothing, Nothing, Nothing, Nothing, Nothing, Nothing, Nothing, Nothing, Nothing, Nothing, typeof(SciMLBase.DEFAULT_OBSERVED), Nothing}, Vector{Float64}, Vector{Float64}, Vector{Vector{Float64}}, OrdinaryDiffEq.Tsit5ConstantCache{Float64, Float64}}, DiffEqBase.DEStats}"
      ]
     },
     "execution_count": 7,
     "metadata": {},
     "output_type": "execute_result"
    }
   ],
   "source": [
    "typeof(sol)"
   ]
  },
  {
   "cell_type": "code",
   "execution_count": 14,
   "id": "94983d50",
   "metadata": {},
   "outputs": [
    {
     "data": {
      "text/plain": [
       "4×3×3 Array{Float64, 3}:\n",
       "[:, :, 1] =\n",
       " 0.6  0.6  0.6\n",
       " 0.6  0.6  0.6\n",
       " 0.6  0.6  0.6\n",
       " 0.6  0.6  0.6\n",
       "\n",
       "[:, :, 2] =\n",
       " 0.6  0.6  0.6\n",
       " 0.6  0.6  0.6\n",
       " 0.6  0.6  0.6\n",
       " 0.6  0.6  0.6\n",
       "\n",
       "[:, :, 3] =\n",
       " 0.6  0.6  0.6\n",
       " 0.6  0.6  0.6\n",
       " 0.6  0.6  0.6\n",
       " 0.6  0.6  0.6"
      ]
     },
     "execution_count": 14,
     "metadata": {},
     "output_type": "execute_result"
    }
   ],
   "source": [
    "fill(0.6,4,3,3)"
   ]
  },
  {
   "cell_type": "code",
   "execution_count": null,
   "id": "c973cd2d",
   "metadata": {},
   "outputs": [],
   "source": []
  }
 ],
 "metadata": {
  "kernelspec": {
   "display_name": "Julia 1.6.3",
   "language": "julia",
   "name": "julia-1.6"
  },
  "language_info": {
   "file_extension": ".jl",
   "mimetype": "application/julia",
   "name": "julia",
   "version": "1.6.3"
  }
 },
 "nbformat": 4,
 "nbformat_minor": 5
}
