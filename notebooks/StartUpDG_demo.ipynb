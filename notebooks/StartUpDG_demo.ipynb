{
 "cells": [
  {
   "cell_type": "code",
   "execution_count": 33,
   "source": [
    "using StartUpDG\n",
    "\n",
    "# polynomial degree and mesh size\n",
    "p = 3\n",
    "N_el1d = 4\n",
    "\n",
    "# init ref element and mesh\n",
    "elem_data = RefElemData(Tri(), p)\n",
    "VXY, EToV = uniform_mesh(Tri(), N_el1d)\n",
    "mesh_data = MeshData(VXY, EToV, elem_data)\n",
    "\n",
    "# Define a function by interpolation\n",
    "x = mesh_data.xyz\n",
    "u = @. 2 + .5*exp(-2.0*(x[1]^2 + x[2]^2))"
   ],
   "outputs": [
    {
     "data": {
      "text/plain": [
       "10×32 Matrix{Float64}:\n",
       " 2.00916  2.18394  2.04104  2.30327  …  2.30327  2.04104  2.18394  2.00916\n",
       " 2.02563  2.09805  2.08713  2.21311     2.21311  2.08713  2.09805  2.02563\n",
       " 2.09805  2.02563  2.21311  2.08713     2.08713  2.21311  2.02563  2.09805\n",
       " 2.18394  2.00916  2.30327  2.04104     2.04104  2.30327  2.00916  2.18394\n",
       " 2.01532  2.13429  2.05208  2.2919      2.2919   2.05208  2.13429  2.01532\n",
       " 2.05126  2.05126  2.11794  2.1646   …  2.1646   2.11794  2.05126  2.05126\n",
       " 2.13429  2.01532  2.22141  2.06866     2.06866  2.22141  2.01532  2.13429\n",
       " 2.02996  2.06866  2.06513  2.23341     2.23341  2.06513  2.06866  2.02996\n",
       " 2.06866  2.02996  2.1132   2.13429     2.13429  2.1132   2.02996  2.06866\n",
       " 2.04104  2.04104  2.06767  2.18394     2.18394  2.06767  2.04104  2.04104"
      ]
     },
     "metadata": {},
     "output_type": "display_data"
    }
   ],
   "metadata": {}
  },
  {
   "cell_type": "code",
   "execution_count": 31,
   "source": [
    "typeof(mesh_data.xyz)"
   ],
   "outputs": [
    {
     "data": {
      "text/plain": [
       "Tuple{Matrix{Float64}, Matrix{Float64}}"
      ]
     },
     "metadata": {},
     "output_type": "display_data"
    }
   ],
   "metadata": {}
  },
  {
   "cell_type": "code",
   "execution_count": null,
   "source": [],
   "outputs": [],
   "metadata": {}
  }
 ],
 "metadata": {
  "orig_nbformat": 4,
  "language_info": {
   "name": "julia",
   "version": "1.6.3",
   "mimetype": "application/julia",
   "file_extension": ".jl"
  },
  "kernelspec": {
   "display_name": "Julia 1.6.3",
   "language": "julia",
   "name": "julia-1.6"
  }
 },
 "nbformat": 4,
 "nbformat_minor": 2
}