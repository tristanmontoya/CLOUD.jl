{
 "cells": [
  {
   "cell_type": "code",
   "execution_count": 1,
   "id": "f5017449",
   "metadata": {},
   "outputs": [
    {
     "data": {
      "text/plain": [
       "10×128 Matrix{Float64}:\n",
       "  1.77636e-14  -1.77636e-14   1.77636e-14  …   1.77636e-14  -1.77636e-14\n",
       "  7.10543e-15  -7.10543e-15   7.10543e-15      7.10543e-15  -7.10543e-15\n",
       " -2.30926e-14   2.30926e-14  -2.30926e-14     -2.30926e-14   2.30926e-14\n",
       " -8.88178e-15   8.88178e-15  -8.88178e-15     -8.88178e-15   8.88178e-15\n",
       "  7.10543e-15  -7.10543e-15   7.10543e-15      7.10543e-15  -7.10543e-15\n",
       " -1.77636e-15   1.77636e-15  -1.77636e-15  …  -1.77636e-15   1.77636e-15\n",
       " -4.44089e-15   4.44089e-15  -4.44089e-15     -4.44089e-15   4.44089e-15\n",
       "  5.32907e-15  -5.32907e-15   5.32907e-15      5.32907e-15  -5.32907e-15\n",
       " -2.30926e-14   2.30926e-14  -2.30926e-14     -2.30926e-14   2.30926e-14\n",
       "  5.68434e-14  -5.68434e-14   5.68434e-14      5.68434e-14  -5.68434e-14"
      ]
     },
     "execution_count": 1,
     "metadata": {},
     "output_type": "execute_result"
    }
   ],
   "source": [
    "using StartUpDG\n",
    "\n",
    "# polynomial degree and mesh size\n",
    "N = 3\n",
    "K1D = 8\n",
    "\n",
    "# init ref element and mesh\n",
    "rd = RefElemData(Tri(), N)\n",
    "VXY, EToV = uniform_mesh(Tri(), K1D)\n",
    "md = MeshData(VXY, EToV, rd)\n",
    "\n",
    "# Define a function by interpolation\n",
    "@unpack x, y = md\n",
    "u = @. 2 + .5*exp(-100*(x^2 + y^2))\n",
    "\n",
    "# Compute derivatives using geometric mapping + chain rule\n",
    "@unpack Dr, Ds = rd\n",
    "@unpack rxJ, sxJ, J = md\n",
    "dudx = (rxJ .* (Dr*u) + sxJ .* (Ds*u)) ./ J"
   ]
  },
  {
   "cell_type": "code",
   "execution_count": 2,
   "id": "02f917ec",
   "metadata": {},
   "outputs": [
    {
     "data": {
      "text/plain": [
       "2×2 StaticArrays.SMatrix{2, 2, Matrix{Float64}, 4} with indices SOneTo(2)×SOneTo(2):\n",
       " [0.125 -0.125 … 0.125 -0.125; 0.125 -0.125 … 0.125 -0.125; … ; 0.125 -0.125 … 0.125 -0.125; 0.125 -0.125 … 0.125 -0.125]  …  [2.77556e-16 -5.55112e-17 … 5.55112e-17 -2.77556e-16; -1.11022e-16 4.996e-16 … -4.996e-16 1.11022e-16; … ; -1.9984e-15 -1.55431e-15 … 1.55431e-15 1.9984e-15; 3.9968e-15 3.10862e-15 … -3.10862e-15 -3.9968e-15]\n",
       " [-0.125 0.125 … -0.125 0.125; -0.125 0.125 … -0.125 0.125; … ; -0.125 0.125 … -0.125 0.125; -0.125 0.125 … -0.125 0.125]     [0.125 -0.125 … 0.125 -0.125; 0.125 -0.125 … 0.125 -0.125; … ; 0.125 -0.125 … 0.125 -0.125; 0.125 -0.125 … 0.125 -0.125]"
      ]
     },
     "execution_count": 2,
     "metadata": {},
     "output_type": "execute_result"
    }
   ],
   "source": [
    "md.rstxyzJ"
   ]
  },
  {
   "cell_type": "code",
   "execution_count": 3,
   "id": "0110dfde",
   "metadata": {},
   "outputs": [],
   "source": [
    "using StaticArrays"
   ]
  },
  {
   "cell_type": "code",
   "execution_count": 8,
   "id": "3e4ad780",
   "metadata": {},
   "outputs": [
    {
     "ename": "LoadError",
     "evalue": "UndefVarError: diagm not defined",
     "output_type": "error",
     "traceback": [
      "UndefVarError: diagm not defined",
      "",
      "Stacktrace:",
      " [1] top-level scope",
      "   @ In[8]:1",
      " [2] eval",
      "   @ ./boot.jl:360 [inlined]",
      " [3] include_string(mapexpr::typeof(REPL.softscope), mod::Module, code::String, filename::String)",
      "   @ Base ./loading.jl:1116"
     ]
    }
   ],
   "source": [
    "diagm(md.J[:,1])"
   ]
  },
  {
   "cell_type": "code",
   "execution_count": null,
   "id": "2497d4a5",
   "metadata": {},
   "outputs": [],
   "source": []
  }
 ],
 "metadata": {
  "kernelspec": {
   "display_name": "Julia 1.6.3",
   "language": "julia",
   "name": "julia-1.6"
  },
  "language_info": {
   "file_extension": ".jl",
   "mimetype": "application/julia",
   "name": "julia",
   "version": "1.6.3"
  }
 },
 "nbformat": 4,
 "nbformat_minor": 5
}
