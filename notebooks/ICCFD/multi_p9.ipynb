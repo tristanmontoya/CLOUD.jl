{
 "cells": [
  {
   "cell_type": "code",
   "execution_count": null,
   "id": "a8e43392",
   "metadata": {},
   "outputs": [],
   "source": [
    "using CLOUD\n",
    "using LinearAlgebra\n",
    "using Markdown\n",
    "sequence_path = [\"../../results/run_2/advection_DGMulti_p9M2l1_20220616_171005/\", \"../../results/run_2/advection_DGMulti_p9M2l0_20220616_171007/\"]\n",
    "n = length(sequence_path)\n",
    "analysis_path = [new_path(string(sequence_path[i],\"refinement_analysis/\")) \n",
    "    for i in 1:n]\n",
    "(conservation_law, spatial_discretization, \n",
    "    initial_data, form, tspan, strategy) = load_project(\n",
    "        string(sequence_path[1],\"grid_1/\"));"
   ]
  },
  {
   "cell_type": "code",
   "execution_count": null,
   "id": "2866e9a2",
   "metadata": {
    "scrolled": false
   },
   "outputs": [],
   "source": [
    "refinement_analysis = [RefinementAnalysis(initial_data, sequence_path[i], analysis_path[i]) for i in 1:n]\n",
    "refinement_results = [analyze(refinement_analysis[i], 4) for i in 1:n]\n",
    "plot_analysis(refinement_analysis[1], refinement_results[1])"
   ]
  },
  {
   "cell_type": "code",
   "execution_count": null,
   "id": "71a859a3",
   "metadata": {},
   "outputs": [],
   "source": [
    "plot_analysis(refinement_analysis[2], refinement_results[2])"
   ]
  },
  {
   "cell_type": "code",
   "execution_count": null,
   "id": "ec2ed82b",
   "metadata": {},
   "outputs": [],
   "source": [
    "tabulate_analysis_for_paper((refinement_results[1],refinement_results[2]))"
   ]
  }
 ],
 "metadata": {
  "kernelspec": {
   "display_name": "Julia 1.7.3",
   "language": "julia",
   "name": "julia-1.7"
  },
  "language_info": {
   "file_extension": ".jl",
   "mimetype": "application/julia",
   "name": "julia",
   "version": "1.7.3"
  }
 },
 "nbformat": 4,
 "nbformat_minor": 5
}
