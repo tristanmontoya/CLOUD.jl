{
 "cells": [
  {
   "cell_type": "markdown",
   "metadata": {},
   "source": [
    "# `CLOUD.jl` - 2D linear advection"
   ]
  },
  {
   "cell_type": "code",
   "execution_count": 1,
   "metadata": {},
   "outputs": [
    {
     "name": "stderr",
     "output_type": "stream",
     "text": [
      "┌ Info: Precompiling CLOUD [fb992021-99c7-4c2d-a14b-5e48ac4045b2]\n",
      "└ @ Base loading.jl:1342\n"
     ]
    }
   ],
   "source": [
    "using CLOUD\n",
    "using Plots\n",
    "using OrdinaryDiffEq\n",
    "plots_path = \"../plots/advection2d_demo/\"\n",
    "results_path = \"../results/advection2d_demo/\";"
   ]
  },
  {
   "cell_type": "markdown",
   "metadata": {},
   "source": [
    "Define the physical problem"
   ]
  },
  {
   "cell_type": "code",
   "execution_count": 2,
   "metadata": {},
   "outputs": [],
   "source": [
    "a = (1.0,1.0)  # advection velocity\n",
    "A = 1.0  # amplitude\n",
    "L = 1.0  # domain length\n",
    "k = (2*π/L, 2*π/L)  # wave number\n",
    "T = sqrt(2)*L  # end time\n",
    "initial_data = InitialDataSine(A,k)\n",
    "conservation_law = linear_advection_equation(a,λ=1.0)\n",
    "u_exact = initial_condition(initial_data, conservation_law);"
   ]
  },
  {
   "cell_type": "markdown",
   "metadata": {},
   "source": [
    "Set up a strong-form DGSEM-LGL scheme of degree `p` with `M` elements"
   ]
  },
  {
   "cell_type": "code",
   "execution_count": 3,
   "metadata": {
    "scrolled": true
   },
   "outputs": [
    {
     "ename": "LoadError",
     "evalue": "MethodError: no method matching basis(::Tri, ::Int64, ::Tuple{Vector{Float64}, Vector{Float64}})\n\u001b[0mClosest candidates are:\n\u001b[0m  basis(::Tri, ::Any, ::Any, \u001b[91m::Any\u001b[39m) at /Users/tristanmontoya/.julia/packages/NodesAndModes/lJvs5/src/tri_element.jl:127\n\u001b[0m  basis(\u001b[91m::Line\u001b[39m, ::Any, ::Any) at /Users/tristanmontoya/.julia/packages/NodesAndModes/lJvs5/src/line_element.jl:7\n\u001b[0m  basis(\u001b[91m::Quad\u001b[39m, ::Any, ::Any, \u001b[91m::Any\u001b[39m) at /Users/tristanmontoya/.julia/packages/NodesAndModes/lJvs5/src/quad_element.jl:2\n\u001b[0m  ...",
     "output_type": "error",
     "traceback": [
      "MethodError: no method matching basis(::Tri, ::Int64, ::Tuple{Vector{Float64}, Vector{Float64}})\n\u001b[0mClosest candidates are:\n\u001b[0m  basis(::Tri, ::Any, ::Any, \u001b[91m::Any\u001b[39m) at /Users/tristanmontoya/.julia/packages/NodesAndModes/lJvs5/src/tri_element.jl:127\n\u001b[0m  basis(\u001b[91m::Line\u001b[39m, ::Any, ::Any) at /Users/tristanmontoya/.julia/packages/NodesAndModes/lJvs5/src/line_element.jl:7\n\u001b[0m  basis(\u001b[91m::Quad\u001b[39m, ::Any, ::Any, \u001b[91m::Any\u001b[39m) at /Users/tristanmontoya/.julia/packages/NodesAndModes/lJvs5/src/quad_element.jl:2\n\u001b[0m  ...",
      "",
      "Stacktrace:",
      " [1] ReferenceApproximation(approx_type::DGMulti, elem_type::Tri, mapping_degree::Int64)",
      "   @ CLOUD.SpatialDiscretizations ~/Research/CLOUD.jl/src/SpatialDiscretizations/dgmulti.jl:39",
      " [2] ReferenceApproximation(approx_type::DGMulti, elem_type::Tri)",
      "   @ CLOUD.SpatialDiscretizations ~/Research/CLOUD.jl/src/SpatialDiscretizations/dgmulti.jl:12",
      " [3] top-level scope",
      "   @ In[3]:3",
      " [4] eval",
      "   @ ./boot.jl:360 [inlined]",
      " [5] include_string(mapexpr::typeof(REPL.softscope), mod::Module, code::String, filename::String)",
      "   @ Base ./loading.jl:1116"
     ]
    }
   ],
   "source": [
    "M = 8  # number of elements\n",
    "p = 3  # degree of discretization\n",
    "reference_approximation=ReferenceApproximation(\n",
    "    DGMulti(p), Tri())\n",
    "spatial_discretization = SpatialDiscretization(uniform_periodic_mesh(\n",
    "    reference_approximation.reference_element, \n",
    "    (0.0,L), M), reference_approximation)\n",
    "results_path = save_project(conservation_law,\n",
    "     spatial_discretization, initial_data, StrongConservationForm(), \n",
    "     (0.0, T), Eager(), results_path, overwrite=true, clear=true);"
   ]
  },
  {
   "cell_type": "markdown",
   "metadata": {},
   "source": [
    "Run the `OrdinaryDiffEq` solver with RK4, taking `n_s` snapshots"
   ]
  },
  {
   "cell_type": "code",
   "execution_count": 4,
   "metadata": {},
   "outputs": [
    {
     "ename": "LoadError",
     "evalue": "MethodError: no method matching *(::Tuple{Float64, Float64}, ::Int64)\n\u001b[0mClosest candidates are:\n\u001b[0m  *(::Any, ::Any, \u001b[91m::Any\u001b[39m, \u001b[91m::Any...\u001b[39m) at operators.jl:560\n\u001b[0m  *(\u001b[91m::T\u001b[39m, ::T) where T<:Union{Int128, Int16, Int32, Int64, Int8, UInt128, UInt16, UInt32, UInt64, UInt8} at int.jl:88\n\u001b[0m  *(\u001b[91m::StridedArray{P, N} where N\u001b[39m, ::Real) where P<:Dates.Period at /Users/julia/buildbot/worker/package_macos64/build/usr/share/julia/stdlib/v1.6/Dates/src/deprecated.jl:44\n\u001b[0m  ...",
     "output_type": "error",
     "traceback": [
      "MethodError: no method matching *(::Tuple{Float64, Float64}, ::Int64)\n\u001b[0mClosest candidates are:\n\u001b[0m  *(::Any, ::Any, \u001b[91m::Any\u001b[39m, \u001b[91m::Any...\u001b[39m) at operators.jl:560\n\u001b[0m  *(\u001b[91m::T\u001b[39m, ::T) where T<:Union{Int128, Int16, Int32, Int64, Int8, UInt128, UInt16, UInt32, UInt64, UInt8} at int.jl:88\n\u001b[0m  *(\u001b[91m::StridedArray{P, N} where N\u001b[39m, ::Real) where P<:Dates.Period at /Users/julia/buildbot/worker/package_macos64/build/usr/share/julia/stdlib/v1.6/Dates/src/deprecated.jl:44\n\u001b[0m  ...",
      "",
      "Stacktrace:",
      " [1] top-level scope",
      "   @ In[4]:3",
      " [2] eval",
      "   @ ./boot.jl:360 [inlined]",
      " [3] include_string(mapexpr::typeof(REPL.softscope), mod::Module, code::String, filename::String)",
      "   @ Base ./loading.jl:1116"
     ]
    }
   ],
   "source": [
    "n_s = 10\n",
    "dt_scale=0.1\n",
    "dt = dt_scale*(L/M)/(a*(2*p+1))\n",
    "ode_problem = semidiscretize(load_project(results_path)...)\n",
    "save_solution(ode_problem.u0, 0.0, results_path, 0)\n",
    "sol = solve(ode_problem, RK4(), adaptive=false, \n",
    "    dt=dt, save_everystep=false,\n",
    "    callback=save_callback(results_path, ceil(Int, T/(dt*n_s))))\n",
    "save_solution(last(sol.u), last(sol.t), results_path, \"final\");"
   ]
  },
  {
   "cell_type": "markdown",
   "metadata": {},
   "source": [
    "Visualize the solution and calculate the integral L<sup>2</sup> error norm"
   ]
  },
  {
   "cell_type": "code",
   "execution_count": 5,
   "metadata": {},
   "outputs": [
    {
     "ename": "LoadError",
     "evalue": "UndefVarError: spatial_discretization not defined",
     "output_type": "error",
     "traceback": [
      "UndefVarError: spatial_discretization not defined",
      "",
      "Stacktrace:",
      " [1] top-level scope",
      "   @ In[5]:1",
      " [2] eval",
      "   @ ./boot.jl:360 [inlined]",
      " [3] include_string(mapexpr::typeof(REPL.softscope), mod::Module, code::String, filename::String)",
      "   @ Base ./loading.jl:1116"
     ]
    }
   ],
   "source": [
    "plotter = Plotter(spatial_discretization, plots_path)\n",
    "error_analysis = ErrorAnalysis(conservation_law, spatial_discretization, results_path)\n",
    "print(\"L2 error: \", analyze(error_analysis, last(sol.u), u_exact)[1])\n",
    "visualize(last(sol.u), plotter,\n",
    "    \"final.pdf\", exact_solution=u_exact,\n",
    "     label=\"U^h(x,t)\", label_exact=\"U(x,t)\")"
   ]
  },
  {
   "cell_type": "markdown",
   "metadata": {},
   "source": [
    "Run a dynamic mode decomposition (truncated to `n_m` modes via POD) on snapshot data"
   ]
  },
  {
   "cell_type": "code",
   "execution_count": 6,
   "metadata": {
    "scrolled": false
   },
   "outputs": [
    {
     "name": "stderr",
     "output_type": "stream",
     "text": [
      "┌ Warning: Opening file with JLD2.MmapIO failed, falling back to IOStream\n",
      "└ @ JLD2 /Users/tristanmontoya/.julia/packages/JLD2/DcnTD/src/JLD2.jl:230\n"
     ]
    },
    {
     "ename": "LoadError",
     "evalue": "SystemError: opening file \"../results/advection2d_demo/time_steps.jld2\": No such file or directory",
     "output_type": "error",
     "traceback": [
      "SystemError: opening file \"../results/advection2d_demo/time_steps.jld2\": No such file or directory",
      "",
      "Stacktrace:",
      "  [1] systemerror(p::String, errno::Int32; extrainfo::Nothing)",
      "    @ Base ./error.jl:168",
      "  [2] #systemerror#62",
      "    @ ./error.jl:167 [inlined]",
      "  [3] systemerror",
      "    @ ./error.jl:167 [inlined]",
      "  [4] open(fname::String; lock::Bool, read::Bool, write::Bool, create::Bool, truncate::Bool, append::Bool)",
      "    @ Base ./iostream.jl:293",
      "  [5] openfile",
      "    @ ~/.julia/packages/JLD2/DcnTD/src/JLD2.jl:220 [inlined]",
      "  [6] openfile(T::Type, fname::String, wr::Bool, create::Bool, truncate::Bool, fallback::Type)",
      "    @ JLD2 ~/.julia/packages/JLD2/DcnTD/src/JLD2.jl:231",
      "  [7] jldopen(fname::String, wr::Bool, create::Bool, truncate::Bool, iotype::Type{JLD2.MmapIO}; fallback::Type{IOStream}, compress::Bool, mmaparrays::Bool)",
      "    @ JLD2 ~/.julia/packages/JLD2/DcnTD/src/JLD2.jl:286",
      "  [8] jldopen(fname::String, wr::Bool, create::Bool, truncate::Bool, iotype::Type{JLD2.MmapIO})",
      "    @ JLD2 ~/.julia/packages/JLD2/DcnTD/src/JLD2.jl:249",
      "  [9] jldopen(fname::String, mode::String; iotype::Type, kwargs::Base.Iterators.Pairs{Union{}, Union{}, Tuple{}, NamedTuple{(), Tuple{}}})",
      "    @ JLD2 ~/.julia/packages/JLD2/DcnTD/src/JLD2.jl:342",
      " [10] jldopen(fname::String, mode::String)",
      "    @ JLD2 ~/.julia/packages/JLD2/DcnTD/src/JLD2.jl:337",
      " [11] jldopen(::JLD2.var\"#45#46\"{String}, ::String, ::Vararg{String, N} where N; kws::Base.Iterators.Pairs{Union{}, Union{}, Tuple{}, NamedTuple{(), Tuple{}}})",
      "    @ JLD2 ~/.julia/packages/JLD2/DcnTD/src/loadsave.jl:2",
      " [12] jldopen",
      "    @ ~/.julia/packages/JLD2/DcnTD/src/loadsave.jl:2 [inlined]",
      " [13] load_object",
      "    @ ~/.julia/packages/JLD2/DcnTD/src/loadsave.jl:209 [inlined]",
      " [14] load_time_steps",
      "    @ ~/Research/CLOUD.jl/src/IO/file.jl:102 [inlined]",
      " [15] DMDAnalysis(results_path::String; num_snapshots::Int64, rank::Int64)",
      "    @ CLOUD.Analysis ~/Research/CLOUD.jl/src/Analysis/dynamics.jl:17",
      " [16] top-level scope",
      "    @ In[6]:2",
      " [17] eval",
      "    @ ./boot.jl:360 [inlined]",
      " [18] include_string(mapexpr::typeof(REPL.softscope), mod::Module, code::String, filename::String)",
      "    @ Base ./loading.jl:1116"
     ]
    }
   ],
   "source": [
    "n_m = 3\n",
    "dmd = DMDAnalysis(results_path,rank=2*n_m)\n",
    "X, Y = load_snapshots(results_path, dmd.time_steps)\n",
    "σ, λ, ϕ = analyze(dmd, X, Y)\n",
    "plot_spectrum(dmd, λ[imag(λ) .> 0]) #only upper half of complex plane due to symmetry"
   ]
  },
  {
   "cell_type": "markdown",
   "metadata": {},
   "source": [
    "Plot the first `n_m` DMD mode shapes"
   ]
  },
  {
   "cell_type": "code",
   "execution_count": 7,
   "metadata": {},
   "outputs": [
    {
     "ename": "LoadError",
     "evalue": "UndefVarError: dmd not defined",
     "output_type": "error",
     "traceback": [
      "UndefVarError: dmd not defined",
      "",
      "Stacktrace:",
      " [1] top-level scope",
      "   @ In[7]:1",
      " [2] eval",
      "   @ ./boot.jl:360 [inlined]",
      " [3] include_string(mapexpr::typeof(REPL.softscope), mod::Module, code::String, filename::String)",
      "   @ Base ./loading.jl:1116"
     ]
    }
   ],
   "source": [
    "mode_plotter = Plotter(spatial_discretization, dmd.path)\n",
    "plot_modes(dmd, mode_plotter, ϕ[:,imag(λ) .> 0], 1)"
   ]
  }
 ],
 "metadata": {
  "kernelspec": {
   "display_name": "Julia 1.6.3",
   "language": "julia",
   "name": "julia-1.6"
  },
  "language_info": {
   "file_extension": ".jl",
   "mimetype": "application/julia",
   "name": "julia",
   "version": "1.6.3"
  }
 },
 "nbformat": 4,
 "nbformat_minor": 2
}
