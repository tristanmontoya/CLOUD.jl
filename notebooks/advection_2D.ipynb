{
 "cells": [
  {
   "cell_type": "markdown",
   "metadata": {},
   "source": [
    "# `CLOUD.jl` - 2D linear advection with dynamic mode decomposition"
   ]
  },
  {
   "cell_type": "code",
   "execution_count": 1,
   "metadata": {},
   "outputs": [],
   "source": [
    "using CLOUD\n",
    "using Plots\n",
    "using OrdinaryDiffEq\n",
    "plots_path = \"../plots/advection1d_demo/\"\n",
    "results_path = \"../results/advection1d_demo/\";"
   ]
  },
  {
   "cell_type": "markdown",
   "metadata": {},
   "source": [
    "Define the physical problem"
   ]
  },
  {
   "cell_type": "code",
   "execution_count": 2,
   "metadata": {},
   "outputs": [
    {
     "ename": "MethodError",
     "evalue": "MethodError: no method matching /(::Float64, ::Tuple{Float64, Float64})\nClosest candidates are:\n  /(::Any, !Matched::ChainRulesCore.AbstractThunk) at /Users/tristanmontoya/.julia/packages/ChainRulesCore/bxKCw/src/tangent_types/thunks.jl:33\n  /(::Union{Float16, Float32, Float64}, !Matched::BigFloat) at mpfr.jl:443\n  /(::Union{Bool, Float16, Float32, Float64, Int16, Int32, Int64, Int8, UInt16, UInt32, UInt64, UInt8, SIMDTypes.Bit}, !Matched::VectorizationBase.VecUnroll{N, W, T, V} where {T, V<:Union{Bool, Float16, Float32, Float64, Int16, Int32, Int64, Int8, UInt16, UInt32, UInt64, UInt8, SIMDTypes.Bit, VectorizationBase.AbstractSIMD{W, T}}}) where {N, W} at /Users/tristanmontoya/.julia/packages/VectorizationBase/xHOp9/src/base_defs.jl:91\n  ...",
     "output_type": "error",
     "traceback": [
      "MethodError: no method matching /(::Float64, ::Tuple{Float64, Float64})\n",
      "Closest candidates are:\n",
      "  /(::Any, !Matched::ChainRulesCore.AbstractThunk) at /Users/tristanmontoya/.julia/packages/ChainRulesCore/bxKCw/src/tangent_types/thunks.jl:33\n",
      "  /(::Union{Float16, Float32, Float64}, !Matched::BigFloat) at mpfr.jl:443\n",
      "  /(::Union{Bool, Float16, Float32, Float64, Int16, Int32, Int64, Int8, UInt16, UInt32, UInt64, UInt8, SIMDTypes.Bit}, !Matched::VectorizationBase.VecUnroll{N, W, T, V} where {T, V<:Union{Bool, Float16, Float32, Float64, Int16, Int32, Int64, Int8, UInt16, UInt32, UInt64, UInt8, SIMDTypes.Bit, VectorizationBase.AbstractSIMD{W, T}}}) where {N, W} at /Users/tristanmontoya/.julia/packages/VectorizationBase/xHOp9/src/base_defs.jl:91\n",
      "  ...\n",
      "\n",
      "Stacktrace:\n",
      "  [1] top-level scope\n",
      "    @ ~/Research/CLOUD.jl/notebooks/advection_2D.ipynb:5\n",
      "  [2] eval\n",
      "    @ ./boot.jl:360 [inlined]\n",
      "  [3] include_string(mapexpr::typeof(REPL.softscope), mod::Module, code::String, filename::String)\n",
      "    @ Base ./loading.jl:1116\n",
      "  [4] #invokelatest#2\n",
      "    @ ./essentials.jl:708 [inlined]\n",
      "  [5] invokelatest\n",
      "    @ ./essentials.jl:706 [inlined]\n",
      "  [6] (::VSCodeServer.var\"#146#147\"{VSCodeServer.NotebookRunCellArguments, String})()\n",
      "    @ VSCodeServer ~/.vscode/extensions/julialang.language-julia-1.5.6/scripts/packages/VSCodeServer/src/serve_notebook.jl:18\n",
      "  [7] withpath(f::VSCodeServer.var\"#146#147\"{VSCodeServer.NotebookRunCellArguments, String}, path::String)\n",
      "    @ VSCodeServer ~/.vscode/extensions/julialang.language-julia-1.5.6/scripts/packages/VSCodeServer/src/repl.jl:185\n",
      "  [8] notebook_runcell_request(conn::VSCodeServer.JSONRPC.JSONRPCEndpoint{Base.PipeEndpoint, Base.PipeEndpoint}, params::VSCodeServer.NotebookRunCellArguments)\n",
      "    @ VSCodeServer ~/.vscode/extensions/julialang.language-julia-1.5.6/scripts/packages/VSCodeServer/src/serve_notebook.jl:14\n",
      "  [9] dispatch_msg(x::VSCodeServer.JSONRPC.JSONRPCEndpoint{Base.PipeEndpoint, Base.PipeEndpoint}, dispatcher::VSCodeServer.JSONRPC.MsgDispatcher, msg::Dict{String, Any})\n",
      "    @ VSCodeServer.JSONRPC ~/.vscode/extensions/julialang.language-julia-1.5.6/scripts/packages/JSONRPC/src/typed.jl:67\n",
      " [10] serve_notebook(pipename::String; crashreporting_pipename::String)\n",
      "    @ VSCodeServer ~/.vscode/extensions/julialang.language-julia-1.5.6/scripts/packages/VSCodeServer/src/serve_notebook.jl:94\n",
      " [11] top-level scope\n",
      "    @ ~/.vscode/extensions/julialang.language-julia-1.5.6/scripts/notebook/notebook.jl:12\n",
      " [12] include(mod::Module, _path::String)\n",
      "    @ Base ./Base.jl:386\n",
      " [13] exec_options(opts::Base.JLOptions)\n",
      "    @ Base ./client.jl:285\n",
      " [14] _start()\n",
      "    @ Base ./client.jl:485"
     ]
    }
   ],
   "source": [
    "a = (1.0,1.0)  # advection velocity\n",
    "A = 1.0  # amplitude\n",
    "L = 1.0  # domain length\n",
    "k = 2*π/L  # wave number\n",
    "T = sqrt(2)*L/a  # end time\n",
    "initial_data = InitialDataSine(A,k)\n",
    "conservation_law = linear_advection_equation(a,λ=1.0)\n",
    "u_exact = initial_condition(initial_data, conservation_law);"
   ]
  },
  {
   "cell_type": "markdown",
   "metadata": {},
   "source": [
    "Set up a strong-form DGSEM-LGL scheme of degree `p` with `M` elements"
   ]
  },
  {
   "cell_type": "code",
   "execution_count": 3,
   "metadata": {
    "scrolled": true
   },
   "outputs": [
    {
     "ename": "UndefVarError",
     "evalue": "UndefVarError: T not defined",
     "output_type": "error",
     "traceback": [
      "UndefVarError: T not defined\n",
      "\n",
      "Stacktrace:\n",
      "  [1] top-level scope\n",
      "    @ ~/Research/CLOUD.jl/notebooks/advection_2D.ipynb:8\n",
      "  [2] eval\n",
      "    @ ./boot.jl:360 [inlined]\n",
      "  [3] include_string(mapexpr::typeof(REPL.softscope), mod::Module, code::String, filename::String)\n",
      "    @ Base ./loading.jl:1116\n",
      "  [4] #invokelatest#2\n",
      "    @ ./essentials.jl:708 [inlined]\n",
      "  [5] invokelatest\n",
      "    @ ./essentials.jl:706 [inlined]\n",
      "  [6] (::VSCodeServer.var\"#146#147\"{VSCodeServer.NotebookRunCellArguments, String})()\n",
      "    @ VSCodeServer ~/.vscode/extensions/julialang.language-julia-1.5.6/scripts/packages/VSCodeServer/src/serve_notebook.jl:18\n",
      "  [7] withpath(f::VSCodeServer.var\"#146#147\"{VSCodeServer.NotebookRunCellArguments, String}, path::String)\n",
      "    @ VSCodeServer ~/.vscode/extensions/julialang.language-julia-1.5.6/scripts/packages/VSCodeServer/src/repl.jl:185\n",
      "  [8] notebook_runcell_request(conn::VSCodeServer.JSONRPC.JSONRPCEndpoint{Base.PipeEndpoint, Base.PipeEndpoint}, params::VSCodeServer.NotebookRunCellArguments)\n",
      "    @ VSCodeServer ~/.vscode/extensions/julialang.language-julia-1.5.6/scripts/packages/VSCodeServer/src/serve_notebook.jl:14\n",
      "  [9] dispatch_msg(x::VSCodeServer.JSONRPC.JSONRPCEndpoint{Base.PipeEndpoint, Base.PipeEndpoint}, dispatcher::VSCodeServer.JSONRPC.MsgDispatcher, msg::Dict{String, Any})\n",
      "    @ VSCodeServer.JSONRPC ~/.vscode/extensions/julialang.language-julia-1.5.6/scripts/packages/JSONRPC/src/typed.jl:67\n",
      " [10] serve_notebook(pipename::String; crashreporting_pipename::String)\n",
      "    @ VSCodeServer ~/.vscode/extensions/julialang.language-julia-1.5.6/scripts/packages/VSCodeServer/src/serve_notebook.jl:94\n",
      " [11] top-level scope\n",
      "    @ ~/.vscode/extensions/julialang.language-julia-1.5.6/scripts/notebook/notebook.jl:12\n",
      " [12] include(mod::Module, _path::String)\n",
      "    @ Base ./Base.jl:386\n",
      " [13] exec_options(opts::Base.JLOptions)\n",
      "    @ Base ./client.jl:285\n",
      " [14] _start()\n",
      "    @ Base ./client.jl:485"
     ]
    }
   ],
   "source": [
    "M = 8  # number of elements\n",
    "p = 3  # degree of discretization\n",
    "reference_approximation=ReferenceApproximation(\n",
    "    DGSEM(p), Line(), LGLQuadrature())\n",
    "spatial_discretization = SpatialDiscretization(uniform_periodic_mesh(\n",
    "    reference_approximation.reference_element, \n",
    "    (0.0,L), M), reference_approximation)\n",
    "results_path = save_project(conservation_law,\n",
    "     spatial_discretization, initial_data, StrongConservationForm(), \n",
    "     (0.0, T), Eager(), results_path, overwrite=true, clear=true);"
   ]
  },
  {
   "cell_type": "markdown",
   "metadata": {},
   "source": [
    "Run the `OrdinaryDiffEq` solver with RK4, taking `n_s` snapshots"
   ]
  },
  {
   "cell_type": "code",
   "execution_count": 4,
   "metadata": {},
   "outputs": [
    {
     "ename": "UndefVarError",
     "evalue": "UndefVarError: dt_scale not defined",
     "output_type": "error",
     "traceback": [
      "UndefVarError: dt_scale not defined\n",
      "\n",
      "Stacktrace:\n",
      "  [1] top-level scope\n",
      "    @ ~/Research/CLOUD.jl/notebooks/advection_2D.ipynb:2\n",
      "  [2] eval\n",
      "    @ ./boot.jl:360 [inlined]\n",
      "  [3] include_string(mapexpr::typeof(REPL.softscope), mod::Module, code::String, filename::String)\n",
      "    @ Base ./loading.jl:1116\n",
      "  [4] #invokelatest#2\n",
      "    @ ./essentials.jl:708 [inlined]\n",
      "  [5] invokelatest\n",
      "    @ ./essentials.jl:706 [inlined]\n",
      "  [6] (::VSCodeServer.var\"#146#147\"{VSCodeServer.NotebookRunCellArguments, String})()\n",
      "    @ VSCodeServer ~/.vscode/extensions/julialang.language-julia-1.5.6/scripts/packages/VSCodeServer/src/serve_notebook.jl:18\n",
      "  [7] withpath(f::VSCodeServer.var\"#146#147\"{VSCodeServer.NotebookRunCellArguments, String}, path::String)\n",
      "    @ VSCodeServer ~/.vscode/extensions/julialang.language-julia-1.5.6/scripts/packages/VSCodeServer/src/repl.jl:185\n",
      "  [8] notebook_runcell_request(conn::VSCodeServer.JSONRPC.JSONRPCEndpoint{Base.PipeEndpoint, Base.PipeEndpoint}, params::VSCodeServer.NotebookRunCellArguments)\n",
      "    @ VSCodeServer ~/.vscode/extensions/julialang.language-julia-1.5.6/scripts/packages/VSCodeServer/src/serve_notebook.jl:14\n",
      "  [9] dispatch_msg(x::VSCodeServer.JSONRPC.JSONRPCEndpoint{Base.PipeEndpoint, Base.PipeEndpoint}, dispatcher::VSCodeServer.JSONRPC.MsgDispatcher, msg::Dict{String, Any})\n",
      "    @ VSCodeServer.JSONRPC ~/.vscode/extensions/julialang.language-julia-1.5.6/scripts/packages/JSONRPC/src/typed.jl:67\n",
      " [10] serve_notebook(pipename::String; crashreporting_pipename::String)\n",
      "    @ VSCodeServer ~/.vscode/extensions/julialang.language-julia-1.5.6/scripts/packages/VSCodeServer/src/serve_notebook.jl:94\n",
      " [11] top-level scope\n",
      "    @ ~/.vscode/extensions/julialang.language-julia-1.5.6/scripts/notebook/notebook.jl:12\n",
      " [12] include(mod::Module, _path::String)\n",
      "    @ Base ./Base.jl:386\n",
      " [13] exec_options(opts::Base.JLOptions)\n",
      "    @ Base ./client.jl:285\n",
      " [14] _start()\n",
      "    @ Base ./client.jl:485"
     ]
    }
   ],
   "source": [
    "n_s = 10\n",
    "dt = dt_scale*(L/M)/(a*(2*p+1))\n",
    "ode_problem = semidiscretize(load_project(results_path)...)\n",
    "save_solution(ode_problem.u0, 0.0, results_path, 0)\n",
    "sol = solve(ode_problem, RK4(), adaptive=false, \n",
    "    dt=dt, save_everystep=false,\n",
    "    callback=save_callback(results_path, ceil(Int, T/(dt*n_s))))\n",
    "save_solution(last(sol.u), last(sol.t), results_path, \"final\");"
   ]
  },
  {
   "cell_type": "markdown",
   "metadata": {},
   "source": [
    "Visualize the solution and calculate the integral L<sup>2</sup> error norm"
   ]
  },
  {
   "cell_type": "code",
   "execution_count": 5,
   "metadata": {},
   "outputs": [
    {
     "ename": "UndefVarError",
     "evalue": "UndefVarError: conservation_law not defined",
     "output_type": "error",
     "traceback": [
      "UndefVarError: conservation_law not defined\n",
      "\n",
      "Stacktrace:\n",
      "  [1] top-level scope\n",
      "    @ ~/Research/CLOUD.jl/notebooks/advection_2D.ipynb:2\n",
      "  [2] eval\n",
      "    @ ./boot.jl:360 [inlined]\n",
      "  [3] include_string(mapexpr::typeof(REPL.softscope), mod::Module, code::String, filename::String)\n",
      "    @ Base ./loading.jl:1116\n",
      "  [4] #invokelatest#2\n",
      "    @ ./essentials.jl:708 [inlined]\n",
      "  [5] invokelatest\n",
      "    @ ./essentials.jl:706 [inlined]\n",
      "  [6] (::VSCodeServer.var\"#146#147\"{VSCodeServer.NotebookRunCellArguments, String})()\n",
      "    @ VSCodeServer ~/.vscode/extensions/julialang.language-julia-1.5.6/scripts/packages/VSCodeServer/src/serve_notebook.jl:18\n",
      "  [7] withpath(f::VSCodeServer.var\"#146#147\"{VSCodeServer.NotebookRunCellArguments, String}, path::String)\n",
      "    @ VSCodeServer ~/.vscode/extensions/julialang.language-julia-1.5.6/scripts/packages/VSCodeServer/src/repl.jl:185\n",
      "  [8] notebook_runcell_request(conn::VSCodeServer.JSONRPC.JSONRPCEndpoint{Base.PipeEndpoint, Base.PipeEndpoint}, params::VSCodeServer.NotebookRunCellArguments)\n",
      "    @ VSCodeServer ~/.vscode/extensions/julialang.language-julia-1.5.6/scripts/packages/VSCodeServer/src/serve_notebook.jl:14\n",
      "  [9] dispatch_msg(x::VSCodeServer.JSONRPC.JSONRPCEndpoint{Base.PipeEndpoint, Base.PipeEndpoint}, dispatcher::VSCodeServer.JSONRPC.MsgDispatcher, msg::Dict{String, Any})\n",
      "    @ VSCodeServer.JSONRPC ~/.vscode/extensions/julialang.language-julia-1.5.6/scripts/packages/JSONRPC/src/typed.jl:67\n",
      " [10] serve_notebook(pipename::String; crashreporting_pipename::String)\n",
      "    @ VSCodeServer ~/.vscode/extensions/julialang.language-julia-1.5.6/scripts/packages/VSCodeServer/src/serve_notebook.jl:94\n",
      " [11] top-level scope\n",
      "    @ ~/.vscode/extensions/julialang.language-julia-1.5.6/scripts/notebook/notebook.jl:12\n",
      " [12] include(mod::Module, _path::String)\n",
      "    @ Base ./Base.jl:386\n",
      " [13] exec_options(opts::Base.JLOptions)\n",
      "    @ Base ./client.jl:285\n",
      " [14] _start()\n",
      "    @ Base ./client.jl:485"
     ]
    }
   ],
   "source": [
    "plotter = Plotter(spatial_discretization, plots_path)\n",
    "error_analysis = ErrorAnalysis(conservation_law, spatial_discretization, results_path)\n",
    "print(\"L2 error: \", analyze(error_analysis, last(sol.u), u_exact)[1])\n",
    "visualize(last(sol.u), plotter,\n",
    "    \"final.pdf\", exact_solution=u_exact,\n",
    "     label=\"U^h(x,t)\", label_exact=\"U(x,t)\")"
   ]
  },
  {
   "cell_type": "markdown",
   "metadata": {},
   "source": [
    "Run a dynamic mode decomposition (truncated to `n_m` modes via POD) on snapshot data"
   ]
  },
  {
   "cell_type": "code",
   "execution_count": 6,
   "metadata": {
    "scrolled": false
   },
   "outputs": [
    {
     "data": {
      "image/png": "[encoded data removed]",
      "image/svg+xml": "<?xml version=\"1.0\" encoding=\"utf-8\"?>\n<svg xmlns=\"http://www.w3.org/2000/svg\" xmlns:xlink=\"http://www.w3.org/1999/xlink\" width=\"600\" height=\"400\" viewBox=\"0 0 2400 1600\">\n<defs>\n  <clipPath id=\"clip060\">\n    <rect x=\"0\" y=\"0\" width=\"2400\" height=\"1600\"/>\n  </clipPath>\n</defs>\n<path clip-path=\"url(#clip060)\" d=\"\nM0 1600 L2400 1600 L2400 0 L0 0  Z\n  \" fill=\"#ffffff\" fill-rule=\"evenodd\" fill-opacity=\"1\"/>\n<defs>\n  <clipPath id=\"clip061\">\n    <rect x=\"480\" y=\"0\" width=\"1681\" height=\"1600\"/>\n  </clipPath>\n</defs>\n<defs>\n  <clipPath id=\"clip062\">\n    <rect x=\"202\" y=\"47\" width=\"2151\" height=\"1377\"/>\n  </clipPath>\n</defs>\n<path clip-path=\"url(#clip060)\" d=\"\nM202.714 1423.18 L2352.76 1423.18 L2352.76 47.2441 L202.714 47.2441  Z\n  \" fill=\"#ffffff\" fill-rule=\"evenodd\" fill-opacity=\"1\"/>\n<polyline clip-path=\"url(#clip062)\" style=\"stroke:#000000; stroke-linecap:butt; stroke-linejoin:round; stroke-width:2; stroke-opacity:0.1; fill:none\" points=\"\n  275.619,1423.18 275.619,47.2441 \n  \"/>\n<polyline clip-path=\"url(#clip062)\" style=\"stroke:#000000; stroke-linecap:butt; stroke-linejoin:round; stroke-width:2; stroke-opacity:0.1; fill:none\" points=\"\n  678.978,1423.18 678.978,47.2441 \n  \"/>\n<polyline clip-path=\"url(#clip062)\" style=\"stroke:#000000; stroke-linecap:butt; stroke-linejoin:round; stroke-width:2; stroke-opacity:0.1; fill:none\" points=\"\n  1082.34,1423.18 1082.34,47.2441 \n  \"/>\n<polyline clip-path=\"url(#clip062)\" style=\"stroke:#000000; stroke-linecap:butt; stroke-linejoin:round; stroke-width:2; stroke-opacity:0.1; fill:none\" points=\"\n  1485.7,1423.18 1485.7,47.2441 \n  \"/>\n<polyline clip-path=\"url(#clip062)\" style=\"stroke:#000000; stroke-linecap:butt; stroke-linejoin:round; stroke-width:2; stroke-opacity:0.1; fill:none\" points=\"\n  1889.06,1423.18 1889.06,47.2441 \n  \"/>\n<polyline clip-path=\"url(#clip062)\" style=\"stroke:#000000; stroke-linecap:butt; stroke-linejoin:round; stroke-width:2; stroke-opacity:0.1; fill:none\" points=\"\n  2292.41,1423.18 2292.41,47.2441 \n  \"/>\n<polyline clip-path=\"url(#clip060)\" style=\"stroke:#000000; stroke-linecap:butt; stroke-linejoin:round; stroke-width:4; stroke-opacity:1; fill:none\" points=\"\n  202.714,1423.18 2352.76,1423.18 \n  \"/>\n<polyline clip-path=\"url(#clip060)\" style=\"stroke:#000000; stroke-linecap:butt; stroke-linejoin:round; stroke-width:4; stroke-opacity:1; fill:none\" points=\"\n  275.619,1423.18 275.619,1404.28 \n  \"/>\n<polyline clip-path=\"url(#clip060)\" style=\"stroke:#000000; stroke-linecap:butt; stroke-linejoin:round; stroke-width:4; stroke-opacity:1; fill:none\" points=\"\n  678.978,1423.18 678.978,1404.28 \n  \"/>\n<polyline clip-path=\"url(#clip060)\" style=\"stroke:#000000; stroke-linecap:butt; stroke-linejoin:round; stroke-width:4; stroke-opacity:1; fill:none\" points=\"\n  1082.34,1423.18 1082.34,1404.28 \n  \"/>\n<polyline clip-path=\"url(#clip060)\" style=\"stroke:#000000; stroke-linecap:butt; stroke-linejoin:round; stroke-width:4; stroke-opacity:1; fill:none\" points=\"\n  1485.7,1423.18 1485.7,1404.28 \n  \"/>\n<polyline clip-path=\"url(#clip060)\" style=\"stroke:#000000; stroke-linecap:butt; stroke-linejoin:round; stroke-width:4; stroke-opacity:1; fill:none\" points=\"\n  1889.06,1423.18 1889.06,1404.28 \n  \"/>\n<polyline clip-path=\"url(#clip060)\" style=\"stroke:#000000; stroke-linecap:butt; stroke-linejoin:round; stroke-width:4; stroke-opacity:1; fill:none\" points=\"\n  2292.41,1423.18 2292.41,1404.28 \n  \"/>\n<path clip-path=\"url(#clip060)\" d=\"M245.261 1468.75 L274.936 1468.75 L274.936 1472.69 L245.261 1472.69 L245.261 1468.75 Z\" fill=\"#000000\" fill-rule=\"evenodd\" fill-opacity=\"1\" /><path clip-path=\"url(#clip060)\" d=\"M285.075 1451.02 L303.432 1451.02 L303.432 1454.96 L289.358 1454.96 L289.358 1463.43 Q290.376 1463.08 291.395 1462.92 Q292.413 1462.73 293.432 1462.73 Q299.219 1462.73 302.598 1465.9 Q305.978 1469.08 305.978 1474.49 Q305.978 1480.07 302.506 1483.17 Q299.033 1486.25 292.714 1486.25 Q290.538 1486.25 288.27 1485.88 Q286.024 1485.51 283.617 1484.77 L283.617 1480.07 Q285.7 1481.2 287.922 1481.76 Q290.145 1482.32 292.621 1482.32 Q296.626 1482.32 298.964 1480.21 Q301.302 1478.1 301.302 1474.49 Q301.302 1470.88 298.964 1468.77 Q296.626 1466.67 292.621 1466.67 Q290.746 1466.67 288.871 1467.08 Q287.02 1467.5 285.075 1468.38 L285.075 1451.02 Z\" fill=\"#000000\" fill-rule=\"evenodd\" fill-opacity=\"1\" /><path clip-path=\"url(#clip060)\" d=\"M647.879 1468.75 L677.555 1468.75 L677.555 1472.69 L647.879 1472.69 L647.879 1468.75 Z\" fill=\"#000000\" fill-rule=\"evenodd\" fill-opacity=\"1\" /><path clip-path=\"url(#clip060)\" d=\"M700.494 1455.09 L688.689 1473.54 L700.494 1473.54 L700.494 1455.09 M699.268 1451.02 L705.147 1451.02 L705.147 1473.54 L710.078 1473.54 L710.078 1477.43 L705.147 1477.43 L705.147 1485.58 L700.494 1485.58 L700.494 1477.43 L684.893 1477.43 L684.893 1472.92 L699.268 1451.02 Z\" fill=\"#000000\" fill-rule=\"evenodd\" fill-opacity=\"1\" /><path clip-path=\"url(#clip060)\" d=\"M1051.81 1468.75 L1081.48 1468.75 L1081.48 1472.69 L1051.81 1472.69 L1051.81 1468.75 Z\" fill=\"#000000\" fill-rule=\"evenodd\" fill-opacity=\"1\" /><path clip-path=\"url(#clip060)\" d=\"M1105.74 1466.95 Q1109.1 1467.66 1110.97 1469.93 Q1112.87 1472.2 1112.87 1475.53 Q1112.87 1480.65 1109.35 1483.45 Q1105.83 1486.25 1099.35 1486.25 Q1097.18 1486.25 1094.86 1485.81 Q1092.57 1485.39 1090.12 1484.54 L1090.12 1480.02 Q1092.06 1481.16 1094.37 1481.74 Q1096.69 1482.32 1099.21 1482.32 Q1103.61 1482.32 1105.9 1480.58 Q1108.22 1478.84 1108.22 1475.53 Q1108.22 1472.48 1106.06 1470.77 Q1103.93 1469.03 1100.12 1469.03 L1096.09 1469.03 L1096.09 1465.19 L1100.3 1465.19 Q1103.75 1465.19 1105.58 1463.82 Q1107.41 1462.43 1107.41 1459.84 Q1107.41 1457.18 1105.51 1455.77 Q1103.63 1454.33 1100.12 1454.33 Q1098.19 1454.33 1095.99 1454.75 Q1093.8 1455.16 1091.16 1456.04 L1091.16 1451.88 Q1093.82 1451.14 1096.13 1450.77 Q1098.47 1450.39 1100.53 1450.39 Q1105.86 1450.39 1108.96 1452.83 Q1112.06 1455.23 1112.06 1459.35 Q1112.06 1462.22 1110.42 1464.21 Q1108.77 1466.18 1105.74 1466.95 Z\" fill=\"#000000\" fill-rule=\"evenodd\" fill-opacity=\"1\" /><path clip-path=\"url(#clip060)\" d=\"M1455.64 1468.75 L1485.31 1468.75 L1485.31 1472.69 L1455.64 1472.69 L1455.64 1468.75 Z\" fill=\"#000000\" fill-rule=\"evenodd\" fill-opacity=\"1\" /><path clip-path=\"url(#clip060)\" d=\"M1499.43 1481.64 L1515.75 1481.64 L1515.75 1485.58 L1493.81 1485.58 L1493.81 1481.64 Q1496.47 1478.89 1501.06 1474.26 Q1505.66 1469.61 1506.84 1468.27 Q1509.09 1465.74 1509.97 1464.01 Q1510.87 1462.25 1510.87 1460.56 Q1510.87 1457.8 1508.93 1456.07 Q1507 1454.33 1503.9 1454.33 Q1501.7 1454.33 1499.25 1455.09 Q1496.82 1455.86 1494.04 1457.41 L1494.04 1452.69 Q1496.87 1451.55 1499.32 1450.97 Q1501.77 1450.39 1503.81 1450.39 Q1509.18 1450.39 1512.37 1453.08 Q1515.57 1455.77 1515.57 1460.26 Q1515.57 1462.39 1514.76 1464.31 Q1513.97 1466.2 1511.87 1468.8 Q1511.29 1469.47 1508.18 1472.69 Q1505.08 1475.88 1499.43 1481.64 Z\" fill=\"#000000\" fill-rule=\"evenodd\" fill-opacity=\"1\" /><path clip-path=\"url(#clip060)\" d=\"M1858.81 1468.75 L1888.49 1468.75 L1888.49 1472.69 L1858.81 1472.69 L1858.81 1468.75 Z\" fill=\"#000000\" fill-rule=\"evenodd\" fill-opacity=\"1\" /><path clip-path=\"url(#clip060)\" d=\"M1899.39 1481.64 L1907.03 1481.64 L1907.03 1455.28 L1898.72 1456.95 L1898.72 1452.69 L1906.98 1451.02 L1911.66 1451.02 L1911.66 1481.64 L1919.3 1481.64 L1919.3 1485.58 L1899.39 1485.58 L1899.39 1481.64 Z\" fill=\"#000000\" fill-rule=\"evenodd\" fill-opacity=\"1\" /><path clip-path=\"url(#clip060)\" d=\"M2292.41 1454.1 Q2288.8 1454.1 2286.97 1457.66 Q2285.17 1461.2 2285.17 1468.33 Q2285.17 1475.44 2286.97 1479.01 Q2288.8 1482.55 2292.41 1482.55 Q2296.05 1482.55 2297.85 1479.01 Q2299.68 1475.44 2299.68 1468.33 Q2299.68 1461.2 2297.85 1457.66 Q2296.05 1454.1 2292.41 1454.1 M2292.41 1450.39 Q2298.22 1450.39 2301.28 1455 Q2304.36 1459.58 2304.36 1468.33 Q2304.36 1477.06 2301.28 1481.67 Q2298.22 1486.25 2292.41 1486.25 Q2286.6 1486.25 2283.53 1481.67 Q2280.47 1477.06 2280.47 1468.33 Q2280.47 1459.58 2283.53 1455 Q2286.6 1450.39 2292.41 1450.39 Z\" fill=\"#000000\" fill-rule=\"evenodd\" fill-opacity=\"1\" /><path clip-path=\"url(#clip060)\" d=\"M1194.76 1572.5 L1194.76 1570.47 L1196.33 1570.47 Q1199.91 1570.47 1200.71 1569.89 Q1201.55 1569.28 1201.55 1567.35 L1201.55 1532.6 Q1201.55 1530.7 1200.71 1530.12 Q1199.88 1529.5 1196.33 1529.5 L1194.76 1529.5 L1194.76 1527.44 L1215.46 1527.44 Q1222.65 1527.44 1227.64 1530.99 Q1232.66 1534.5 1232.66 1539.33 Q1232.66 1543.03 1229.41 1545.93 Q1226.16 1548.83 1221.13 1550.08 Q1227.67 1552.34 1229.18 1557.72 L1230.02 1563 Q1230.28 1564.9 1230.44 1565.87 Q1230.63 1566.83 1230.92 1568.15 Q1231.21 1569.47 1231.5 1570.12 Q1231.82 1570.73 1232.28 1571.4 Q1232.73 1572.05 1233.31 1572.27 Q1233.92 1572.5 1234.72 1572.5 Q1236.24 1572.5 1237.53 1571.15 Q1238.81 1569.79 1239.07 1566.64 Q1239.2 1565.58 1239.88 1565.58 Q1240.71 1565.58 1240.71 1566.64 Q1240.71 1567.57 1240.46 1568.67 Q1240.2 1569.73 1239.55 1570.99 Q1238.94 1572.24 1237.59 1573.08 Q1236.24 1573.95 1234.47 1573.95 Q1229.31 1573.95 1226.16 1571.18 Q1224.84 1569.99 1224.22 1568.44 Q1223.64 1566.9 1223.55 1565.67 Q1223.45 1564.45 1223.45 1561.74 Q1223.45 1557.91 1223.03 1556.24 Q1222.65 1554.56 1220.94 1552.92 Q1218.62 1550.66 1214.79 1550.66 L1207.22 1550.66 L1207.22 1567.35 Q1207.22 1569.25 1208.02 1569.86 Q1208.86 1570.47 1212.44 1570.47 L1214.02 1570.47 L1214.02 1572.5 Q1211.63 1572.31 1204.39 1572.31 Q1197.14 1572.31 1194.76 1572.5 M1207.22 1549.21 L1214.53 1549.21 Q1218.04 1549.21 1220.39 1548.38 Q1222.78 1547.51 1223.9 1545.96 Q1225.03 1544.42 1225.45 1542.87 Q1225.87 1541.29 1225.87 1539.33 Q1225.87 1537.01 1225.35 1535.27 Q1224.84 1533.53 1223.71 1532.5 Q1222.58 1531.47 1221.45 1530.83 Q1220.33 1530.15 1218.59 1529.89 Q1216.85 1529.63 1215.66 1529.57 Q1214.47 1529.5 1212.57 1529.5 Q1209.35 1529.5 1208.67 1529.63 Q1207.93 1529.7 1207.64 1530.05 Q1207.35 1530.41 1207.28 1530.83 Q1207.22 1531.21 1207.22 1532.15 L1207.22 1549.21 Z\" fill=\"#000000\" fill-rule=\"evenodd\" fill-opacity=\"1\" /><path clip-path=\"url(#clip060)\" d=\"M1243.01 1557.97 Q1243.01 1551.76 1247 1547.35 Q1251 1542.93 1256.73 1542.93 Q1262.52 1542.93 1265.52 1546.7 Q1268.55 1550.47 1268.55 1555.88 Q1268.55 1556.88 1268.29 1557.07 Q1268.03 1557.27 1266.9 1557.27 L1248.48 1557.27 Q1248.48 1564 1250.48 1567.15 Q1253.25 1571.57 1257.92 1571.57 Q1258.56 1571.57 1259.34 1571.44 Q1260.11 1571.31 1261.69 1570.76 Q1263.27 1570.18 1264.65 1568.67 Q1266.04 1567.15 1266.84 1564.77 Q1267.03 1563.84 1267.68 1563.87 Q1268.55 1563.87 1268.55 1564.64 Q1268.55 1565.22 1267.9 1566.54 Q1267.29 1567.83 1266.1 1569.38 Q1264.91 1570.92 1262.59 1572.08 Q1260.3 1573.24 1257.53 1573.24 Q1251.74 1573.24 1247.36 1568.86 Q1243.01 1564.45 1243.01 1557.97 M1248.55 1555.88 L1264.2 1555.88 Q1264.2 1554.5 1263.94 1552.95 Q1263.72 1551.4 1263.01 1549.28 Q1262.33 1547.12 1260.72 1545.77 Q1259.11 1544.42 1256.73 1544.42 Q1255.66 1544.42 1254.51 1544.87 Q1253.38 1545.32 1251.99 1546.41 Q1250.61 1547.51 1249.64 1549.99 Q1248.68 1552.47 1248.55 1555.88 Z\" fill=\"#000000\" fill-rule=\"evenodd\" fill-opacity=\"1\" /><path clip-path=\"url(#clip060)\" d=\"M1272 1556.01 Q1272 1544.87 1276.16 1535.88 Q1277.93 1532.11 1280.41 1528.96 Q1282.89 1525.8 1284.53 1524.42 Q1286.17 1523.03 1286.63 1523.03 Q1287.27 1523.03 1287.3 1523.68 Q1287.3 1524 1286.43 1524.8 Q1275.8 1535.62 1275.84 1556.01 Q1275.84 1576.46 1286.17 1586.86 Q1287.3 1587.99 1287.3 1588.35 Q1287.3 1588.99 1286.63 1588.99 Q1286.17 1588.99 1284.6 1587.67 Q1283.02 1586.35 1280.57 1583.32 Q1278.12 1580.29 1276.35 1576.59 Q1272 1567.6 1272 1556.01 Z\" fill=\"#000000\" fill-rule=\"evenodd\" fill-opacity=\"1\" /><path clip-path=\"url(#clip060)\" d=\"M1329.96 1572.56 Q1329.96 1573.18 1329.25 1573.24 L1327.8 1573.24 Q1326.32 1573.24 1325.67 1573.02 Q1325.03 1572.79 1324.29 1571.76 Q1323.84 1571.11 1322.71 1568.12 Q1321.61 1565.09 1320 1560.52 Q1318.43 1555.95 1317.36 1553.24 L1301.49 1571.98 Q1300.39 1573.37 1299.3 1573.37 Q1298.49 1573.37 1297.91 1572.82 Q1297.33 1572.27 1297.33 1571.44 Q1297.33 1570.83 1297.56 1570.47 Q1297.81 1570.12 1298.49 1569.41 L1316.72 1551.34 L1310.31 1533.4 Q1309.09 1530.08 1308.38 1529.25 Q1307.7 1528.41 1306.03 1528.12 Q1305.41 1527.96 1305.41 1527.44 Q1305.41 1526.74 1306.61 1526.74 Q1312.98 1526.74 1314.66 1531.41 L1328.12 1568.92 Q1328.86 1571.08 1329.63 1571.98 Q1329.96 1572.4 1329.96 1572.56 Z\" fill=\"#000000\" fill-rule=\"evenodd\" fill-opacity=\"1\" /><path clip-path=\"url(#clip060)\" d=\"M1335.39 1588.35 Q1335.39 1588.02 1336.22 1587.22 Q1346.85 1576.4 1346.85 1556.01 Q1346.85 1535.56 1336.64 1525.22 Q1335.39 1524.03 1335.39 1523.68 Q1335.39 1523.03 1336.03 1523.03 Q1336.48 1523.03 1338.06 1524.35 Q1339.67 1525.67 1342.08 1528.7 Q1344.53 1531.73 1346.34 1535.43 Q1350.68 1544.42 1350.68 1556.01 Q1350.68 1567.15 1346.53 1576.14 Q1344.76 1579.91 1342.28 1583.06 Q1339.8 1586.22 1338.16 1587.6 Q1336.51 1588.99 1336.03 1588.99 Q1335.39 1588.99 1335.39 1588.35 Z\" fill=\"#000000\" fill-rule=\"evenodd\" fill-opacity=\"1\" /><polyline clip-path=\"url(#clip062)\" style=\"stroke:#000000; stroke-linecap:butt; stroke-linejoin:round; stroke-width:2; stroke-opacity:0.1; fill:none\" points=\"\n  202.714,1293.4 2352.76,1293.4 \n  \"/>\n<polyline clip-path=\"url(#clip062)\" style=\"stroke:#000000; stroke-linecap:butt; stroke-linejoin:round; stroke-width:2; stroke-opacity:0.1; fill:none\" points=\"\n  202.714,1089.29 2352.76,1089.29 \n  \"/>\n<polyline clip-path=\"url(#clip062)\" style=\"stroke:#000000; stroke-linecap:butt; stroke-linejoin:round; stroke-width:2; stroke-opacity:0.1; fill:none\" points=\"\n  202.714,885.173 2352.76,885.173 \n  \"/>\n<polyline clip-path=\"url(#clip062)\" style=\"stroke:#000000; stroke-linecap:butt; stroke-linejoin:round; stroke-width:2; stroke-opacity:0.1; fill:none\" points=\"\n  202.714,681.06 2352.76,681.06 \n  \"/>\n<polyline clip-path=\"url(#clip062)\" style=\"stroke:#000000; stroke-linecap:butt; stroke-linejoin:round; stroke-width:2; stroke-opacity:0.1; fill:none\" points=\"\n  202.714,476.947 2352.76,476.947 \n  \"/>\n<polyline clip-path=\"url(#clip062)\" style=\"stroke:#000000; stroke-linecap:butt; stroke-linejoin:round; stroke-width:2; stroke-opacity:0.1; fill:none\" points=\"\n  202.714,272.835 2352.76,272.835 \n  \"/>\n<polyline clip-path=\"url(#clip062)\" style=\"stroke:#000000; stroke-linecap:butt; stroke-linejoin:round; stroke-width:2; stroke-opacity:0.1; fill:none\" points=\"\n  202.714,68.7223 2352.76,68.7223 \n  \"/>\n<polyline clip-path=\"url(#clip060)\" style=\"stroke:#000000; stroke-linecap:butt; stroke-linejoin:round; stroke-width:4; stroke-opacity:1; fill:none\" points=\"\n  202.714,1423.18 202.714,47.2441 \n  \"/>\n<polyline clip-path=\"url(#clip060)\" style=\"stroke:#000000; stroke-linecap:butt; stroke-linejoin:round; stroke-width:4; stroke-opacity:1; fill:none\" points=\"\n  202.714,1293.4 221.611,1293.4 \n  \"/>\n<polyline clip-path=\"url(#clip060)\" style=\"stroke:#000000; stroke-linecap:butt; stroke-linejoin:round; stroke-width:4; stroke-opacity:1; fill:none\" points=\"\n  202.714,1089.29 221.611,1089.29 \n  \"/>\n<polyline clip-path=\"url(#clip060)\" style=\"stroke:#000000; stroke-linecap:butt; stroke-linejoin:round; stroke-width:4; stroke-opacity:1; fill:none\" points=\"\n  202.714,885.173 221.611,885.173 \n  \"/>\n<polyline clip-path=\"url(#clip060)\" style=\"stroke:#000000; stroke-linecap:butt; stroke-linejoin:round; stroke-width:4; stroke-opacity:1; fill:none\" points=\"\n  202.714,681.06 221.611,681.06 \n  \"/>\n<polyline clip-path=\"url(#clip060)\" style=\"stroke:#000000; stroke-linecap:butt; stroke-linejoin:round; stroke-width:4; stroke-opacity:1; fill:none\" points=\"\n  202.714,476.947 221.611,476.947 \n  \"/>\n<polyline clip-path=\"url(#clip060)\" style=\"stroke:#000000; stroke-linecap:butt; stroke-linejoin:round; stroke-width:4; stroke-opacity:1; fill:none\" points=\"\n  202.714,272.835 221.611,272.835 \n  \"/>\n<polyline clip-path=\"url(#clip060)\" style=\"stroke:#000000; stroke-linecap:butt; stroke-linejoin:round; stroke-width:4; stroke-opacity:1; fill:none\" points=\"\n  202.714,68.7223 221.611,68.7223 \n  \"/>\n<path clip-path=\"url(#clip060)\" d=\"M116.066 1306.74 L123.705 1306.74 L123.705 1280.38 L115.394 1282.04 L115.394 1277.78 L123.658 1276.12 L128.334 1276.12 L128.334 1306.74 L135.973 1306.74 L135.973 1310.68 L116.066 1310.68 L116.066 1306.74 Z\" fill=\"#000000\" fill-rule=\"evenodd\" fill-opacity=\"1\" /><path clip-path=\"url(#clip060)\" d=\"M159.584 1292.04 Q162.94 1292.76 164.815 1295.03 Q166.714 1297.3 166.714 1300.63 Q166.714 1305.75 163.195 1308.55 Q159.677 1311.35 153.195 1311.35 Q151.019 1311.35 148.704 1310.91 Q146.413 1310.49 143.959 1309.64 L143.959 1305.12 Q145.904 1306.26 148.218 1306.84 Q150.533 1307.41 153.056 1307.41 Q157.454 1307.41 159.746 1305.68 Q162.061 1303.94 162.061 1300.63 Q162.061 1297.58 159.908 1295.86 Q157.778 1294.13 153.959 1294.13 L149.931 1294.13 L149.931 1290.28 L154.144 1290.28 Q157.593 1290.28 159.422 1288.92 Q161.251 1287.53 161.251 1284.94 Q161.251 1282.28 159.353 1280.86 Q157.478 1279.43 153.959 1279.43 Q152.038 1279.43 149.839 1279.84 Q147.64 1280.26 145.001 1281.14 L145.001 1276.97 Q147.663 1276.23 149.978 1275.86 Q152.316 1275.49 154.376 1275.49 Q159.7 1275.49 162.802 1277.92 Q165.903 1280.33 165.903 1284.45 Q165.903 1287.32 164.26 1289.31 Q162.616 1291.28 159.584 1292.04 Z\" fill=\"#000000\" fill-rule=\"evenodd\" fill-opacity=\"1\" /><path clip-path=\"url(#clip060)\" d=\"M114.931 1102.63 L122.57 1102.63 L122.57 1076.26 L114.26 1077.93 L114.26 1073.67 L122.524 1072.01 L127.2 1072.01 L127.2 1102.63 L134.839 1102.63 L134.839 1106.57 L114.931 1106.57 L114.931 1102.63 Z\" fill=\"#000000\" fill-rule=\"evenodd\" fill-opacity=\"1\" /><path clip-path=\"url(#clip060)\" d=\"M157.13 1076.08 L145.325 1094.53 L157.13 1094.53 L157.13 1076.08 M155.903 1072.01 L161.783 1072.01 L161.783 1094.53 L166.714 1094.53 L166.714 1098.42 L161.783 1098.42 L161.783 1106.57 L157.13 1106.57 L157.13 1098.42 L141.529 1098.42 L141.529 1093.9 L155.903 1072.01 Z\" fill=\"#000000\" fill-rule=\"evenodd\" fill-opacity=\"1\" /><path clip-path=\"url(#clip060)\" d=\"M116.413 898.517 L124.052 898.517 L124.052 872.152 L115.742 873.818 L115.742 869.559 L124.005 867.893 L128.681 867.893 L128.681 898.517 L136.32 898.517 L136.32 902.453 L116.413 902.453 L116.413 898.517 Z\" fill=\"#000000\" fill-rule=\"evenodd\" fill-opacity=\"1\" /><path clip-path=\"url(#clip060)\" d=\"M145.811 867.893 L164.167 867.893 L164.167 871.828 L150.093 871.828 L150.093 880.3 Q151.112 879.953 152.13 879.791 Q153.149 879.606 154.167 879.606 Q159.954 879.606 163.334 882.777 Q166.714 885.948 166.714 891.365 Q166.714 896.943 163.241 900.045 Q159.769 903.124 153.45 903.124 Q151.274 903.124 149.005 902.754 Q146.76 902.383 144.353 901.642 L144.353 896.943 Q146.436 898.078 148.658 898.633 Q150.88 899.189 153.357 899.189 Q157.362 899.189 159.7 897.082 Q162.038 894.976 162.038 891.365 Q162.038 887.754 159.7 885.647 Q157.362 883.541 153.357 883.541 Q151.482 883.541 149.607 883.957 Q147.755 884.374 145.811 885.254 L145.811 867.893 Z\" fill=\"#000000\" fill-rule=\"evenodd\" fill-opacity=\"1\" /><path clip-path=\"url(#clip060)\" d=\"M115.256 694.405 L122.894 694.405 L122.894 668.039 L114.584 669.706 L114.584 665.447 L122.848 663.78 L127.524 663.78 L127.524 694.405 L135.163 694.405 L135.163 698.34 L115.256 698.34 L115.256 694.405 Z\" fill=\"#000000\" fill-rule=\"evenodd\" fill-opacity=\"1\" /><path clip-path=\"url(#clip060)\" d=\"M155.186 679.197 Q152.038 679.197 150.186 681.349 Q148.357 683.502 148.357 687.252 Q148.357 690.979 150.186 693.155 Q152.038 695.308 155.186 695.308 Q158.334 695.308 160.163 693.155 Q162.015 690.979 162.015 687.252 Q162.015 683.502 160.163 681.349 Q158.334 679.197 155.186 679.197 M164.468 664.544 L164.468 668.803 Q162.709 667.97 160.903 667.53 Q159.121 667.09 157.362 667.09 Q152.732 667.09 150.278 670.215 Q147.848 673.34 147.501 679.66 Q148.866 677.646 150.927 676.581 Q152.987 675.493 155.464 675.493 Q160.672 675.493 163.681 678.664 Q166.714 681.812 166.714 687.252 Q166.714 692.576 163.565 695.794 Q160.417 699.011 155.186 699.011 Q149.191 699.011 146.019 694.428 Q142.848 689.822 142.848 681.095 Q142.848 672.9 146.737 668.039 Q150.626 663.155 157.177 663.155 Q158.936 663.155 160.718 663.502 Q162.524 663.849 164.468 664.544 Z\" fill=\"#000000\" fill-rule=\"evenodd\" fill-opacity=\"1\" /><path clip-path=\"url(#clip060)\" d=\"M116.32 490.292 L123.959 490.292 L123.959 463.927 L115.649 465.593 L115.649 461.334 L123.913 459.667 L128.589 459.667 L128.589 490.292 L136.228 490.292 L136.228 494.227 L116.32 494.227 L116.32 490.292 Z\" fill=\"#000000\" fill-rule=\"evenodd\" fill-opacity=\"1\" /><path clip-path=\"url(#clip060)\" d=\"M144.491 459.667 L166.714 459.667 L166.714 461.658 L154.167 494.227 L149.283 494.227 L161.089 463.603 L144.491 463.603 L144.491 459.667 Z\" fill=\"#000000\" fill-rule=\"evenodd\" fill-opacity=\"1\" /><path clip-path=\"url(#clip060)\" d=\"M115.51 286.18 L123.149 286.18 L123.149 259.814 L114.839 261.481 L114.839 257.222 L123.103 255.555 L127.779 255.555 L127.779 286.18 L135.417 286.18 L135.417 290.115 L115.51 290.115 L115.51 286.18 Z\" fill=\"#000000\" fill-rule=\"evenodd\" fill-opacity=\"1\" /><path clip-path=\"url(#clip060)\" d=\"M154.862 273.703 Q151.528 273.703 149.607 275.485 Q147.709 277.268 147.709 280.393 Q147.709 283.518 149.607 285.3 Q151.528 287.082 154.862 287.082 Q158.195 287.082 160.116 285.3 Q162.038 283.495 162.038 280.393 Q162.038 277.268 160.116 275.485 Q158.218 273.703 154.862 273.703 M150.186 271.712 Q147.177 270.971 145.487 268.911 Q143.82 266.851 143.82 263.888 Q143.82 259.745 146.76 257.337 Q149.723 254.93 154.862 254.93 Q160.024 254.93 162.964 257.337 Q165.903 259.745 165.903 263.888 Q165.903 266.851 164.214 268.911 Q162.547 270.971 159.561 271.712 Q162.94 272.499 164.815 274.791 Q166.714 277.083 166.714 280.393 Q166.714 285.416 163.635 288.101 Q160.579 290.786 154.862 290.786 Q149.144 290.786 146.066 288.101 Q143.01 285.416 143.01 280.393 Q143.01 277.083 144.908 274.791 Q146.806 272.499 150.186 271.712 M148.473 264.328 Q148.473 267.013 150.14 268.518 Q151.829 270.022 154.862 270.022 Q157.871 270.022 159.561 268.518 Q161.274 267.013 161.274 264.328 Q161.274 261.643 159.561 260.138 Q157.871 258.634 154.862 258.634 Q151.829 258.634 150.14 260.138 Q148.473 261.643 148.473 264.328 Z\" fill=\"#000000\" fill-rule=\"evenodd\" fill-opacity=\"1\" /><path clip-path=\"url(#clip060)\" d=\"M115.603 82.0671 L123.242 82.0671 L123.242 55.7015 L114.931 57.3682 L114.931 53.1089 L123.195 51.4423 L127.871 51.4423 L127.871 82.0671 L135.51 82.0671 L135.51 86.0023 L115.603 86.0023 L115.603 82.0671 Z\" fill=\"#000000\" fill-rule=\"evenodd\" fill-opacity=\"1\" /><path clip-path=\"url(#clip060)\" d=\"M145.093 85.2847 L145.093 81.0254 Q146.853 81.8588 148.658 82.2986 Q150.464 82.7384 152.2 82.7384 Q156.829 82.7384 159.26 79.6366 Q161.714 76.5116 162.061 70.169 Q160.718 72.1597 158.658 73.2246 Q156.598 74.2894 154.098 74.2894 Q148.913 74.2894 145.88 71.1644 Q142.871 68.0162 142.871 62.5765 Q142.871 57.2524 146.019 54.0348 Q149.167 50.8173 154.399 50.8173 Q160.394 50.8173 163.542 55.4237 Q166.714 60.007 166.714 68.757 Q166.714 76.9282 162.825 81.8125 Q158.959 86.6736 152.408 86.6736 Q150.649 86.6736 148.843 86.3263 Q147.038 85.9791 145.093 85.2847 M154.399 70.632 Q157.547 70.632 159.376 68.4792 Q161.227 66.3264 161.227 62.5765 Q161.227 58.8496 159.376 56.6969 Q157.547 54.521 154.399 54.521 Q151.251 54.521 149.399 56.6969 Q147.57 58.8496 147.57 62.5765 Q147.57 66.3264 149.399 68.4792 Q151.251 70.632 154.399 70.632 Z\" fill=\"#000000\" fill-rule=\"evenodd\" fill-opacity=\"1\" /><path clip-path=\"url(#clip060)\" d=\"M68.4601 821.187 L66.4311 821.187 L66.4311 819.448 Q66.4311 815.744 65.8514 814.907 Q65.2395 814.037 63.3072 814.037 L28.557 814.037 Q26.6569 814.037 26.0772 814.907 Q25.4653 815.776 25.4653 819.448 L25.4653 821.187 L23.4041 821.187 Q23.5973 818.868 23.5973 811.074 Q23.5973 803.345 23.4041 801.058 L25.4653 801.058 L25.4653 802.765 Q25.4653 806.469 26.0772 807.338 Q26.6569 808.176 28.557 808.176 L63.3072 808.176 Q65.2073 808.176 65.8192 807.338 Q66.4311 806.469 66.4311 802.765 L66.4311 801.058 L68.4601 801.058 Q68.2669 803.377 68.2669 811.139 Q68.2669 818.868 68.4601 821.187 Z\" fill=\"#000000\" fill-rule=\"evenodd\" fill-opacity=\"1\" /><path clip-path=\"url(#clip060)\" d=\"M68.4601 792.334 L66.4311 792.334 Q66.4311 788.823 66.0124 788.018 Q65.5616 787.213 63.436 787.213 L45.755 787.213 Q43.3073 787.213 42.6954 788.083 Q42.0835 788.92 42.0835 792.334 L40.0223 792.334 L39.3138 783.059 L46.2381 783.059 Q39.3138 779.967 39.3138 773.3 Q39.3138 765.571 45.755 764.508 Q43.2429 763.381 41.2783 761.03 Q39.3138 758.646 39.3138 754.943 Q39.3138 749.983 41.7614 748.019 Q43.4039 746.569 45.2397 746.279 Q47.0754 745.99 51.8419 745.99 L64.4344 745.99 Q65.8192 745.925 66.1413 744.862 Q66.4311 743.8 66.4311 740.837 L68.4601 740.837 Q68.2669 747.568 68.2669 748.212 Q68.2669 748.727 68.4601 755.684 L66.4311 755.684 Q66.4311 752.173 66.0124 751.368 Q65.5616 750.531 63.436 750.531 L48.0738 750.531 Q44.7244 750.531 42.7598 751.561 Q40.7631 752.592 40.7631 755.426 Q40.7631 758.84 43.6294 761.577 Q46.4957 764.315 51.3266 764.315 L63.436 764.315 Q65.5616 764.315 66.0124 763.51 Q66.4311 762.672 66.4311 759.162 L68.4601 759.162 Q68.2669 765.893 68.2669 766.569 Q68.2669 767.084 68.4601 774.009 L66.4311 774.009 Q66.4311 770.498 66.0124 769.693 Q65.5616 768.856 63.436 768.856 L48.0738 768.856 Q44.7244 768.856 42.7598 769.886 Q40.7631 770.917 40.7631 773.751 Q40.7631 777.165 43.6294 779.902 Q46.4957 782.64 51.3266 782.64 L63.436 782.64 Q65.5616 782.64 66.0124 781.835 Q66.4311 780.997 66.4311 777.519 L68.4601 777.519 Q68.2669 784.25 68.2669 784.894 Q68.2669 785.41 68.4601 792.334 Z\" fill=\"#000000\" fill-rule=\"evenodd\" fill-opacity=\"1\" /><path clip-path=\"url(#clip060)\" d=\"M51.9707 737.947 Q40.8275 737.947 31.842 733.792 Q28.0739 732.021 24.9178 729.541 Q21.7616 727.061 20.3767 725.419 Q18.9919 723.776 18.9919 723.325 Q18.9919 722.681 19.636 722.649 Q19.9581 722.649 20.7632 723.519 Q31.5844 734.147 51.9707 734.114 Q72.4214 734.114 82.8239 723.776 Q83.9511 722.649 84.3054 722.649 Q84.9495 722.649 84.9495 723.325 Q84.9495 723.776 83.6291 725.354 Q82.3086 726.932 79.2813 729.38 Q76.2539 731.828 72.5502 733.599 Q63.5648 737.947 51.9707 737.947 Z\" fill=\"#000000\" fill-rule=\"evenodd\" fill-opacity=\"1\" /><path clip-path=\"url(#clip060)\" d=\"M68.5245 679.995 Q69.1364 679.995 69.2008 680.703 L69.2008 682.153 Q69.2008 683.634 68.9754 684.278 Q68.7499 684.922 67.7194 685.663 Q67.0752 686.114 64.0801 687.241 Q61.0527 688.336 56.4795 689.947 Q51.9063 691.525 49.201 692.587 L67.9448 708.465 Q69.3297 709.56 69.3297 710.655 Q69.3297 711.46 68.7822 712.04 Q68.2347 712.619 67.3973 712.619 Q66.7854 712.619 66.4311 712.394 Q66.0769 712.136 65.3683 711.46 L47.3008 693.232 L29.3622 699.64 Q26.045 700.864 25.2076 701.573 Q24.3703 702.249 24.0804 703.924 Q23.9194 704.536 23.4041 704.536 Q22.6956 704.536 22.6956 703.344 Q22.6956 696.967 27.3654 695.293 L64.8852 681.831 Q67.043 681.09 67.9448 680.317 Q68.3635 679.995 68.5245 679.995 Z\" fill=\"#000000\" fill-rule=\"evenodd\" fill-opacity=\"1\" /><path clip-path=\"url(#clip060)\" d=\"M84.3054 674.565 Q83.9833 674.565 83.1782 673.727 Q72.357 663.099 51.9707 663.099 Q31.52 663.099 21.1819 673.309 Q19.9903 674.565 19.636 674.565 Q18.9919 674.565 18.9919 673.92 Q18.9919 673.47 20.3123 671.891 Q21.6328 670.281 24.6601 667.866 Q27.6875 665.418 31.3911 663.615 Q40.3766 659.267 51.9707 659.267 Q63.1139 659.267 72.0994 663.421 Q75.8674 665.193 79.0236 667.673 Q82.1798 670.152 83.5646 671.795 Q84.9495 673.437 84.9495 673.92 Q84.9495 674.565 84.3054 674.565 Z\" fill=\"#000000\" fill-rule=\"evenodd\" fill-opacity=\"1\" /><circle clip-path=\"url(#clip062)\" cx=\"2082.04\" cy=\"86.1857\" r=\"14\" fill=\"#009af9\" fill-rule=\"evenodd\" fill-opacity=\"1\" stroke=\"#000000\" stroke-opacity=\"1\" stroke-width=\"3.2\"/>\n<circle clip-path=\"url(#clip062)\" cx=\"263.564\" cy=\"613.763\" r=\"14\" fill=\"#009af9\" fill-rule=\"evenodd\" fill-opacity=\"1\" stroke=\"#000000\" stroke-opacity=\"1\" stroke-width=\"3.2\"/>\n<circle clip-path=\"url(#clip062)\" cx=\"2291.91\" cy=\"1384.24\" r=\"14\" fill=\"#009af9\" fill-rule=\"evenodd\" fill-opacity=\"1\" stroke=\"#000000\" stroke-opacity=\"1\" stroke-width=\"3.2\"/>\n<path clip-path=\"url(#clip060)\" d=\"M2065.21 61.1551 L2078.58 61.1551 L2078.58 15.0153 L2064.04 17.932 L2064.04 10.4783 L2078.5 7.56167 L2086.68 7.56167 L2086.68 61.1551 L2100.05 61.1551 L2100.05 68.0417 L2065.21 68.0417 L2065.21 61.1551 Z\" fill=\"#000000\" fill-rule=\"evenodd\" fill-opacity=\"1\" /><path clip-path=\"url(#clip060)\" d=\"M254.206 588.733 L282.765 588.733 L282.765 595.619 L244.363 595.619 L244.363 588.733 Q249.021 583.912 257.042 575.81 Q265.103 567.668 267.169 565.319 Q271.099 560.903 272.638 557.865 Q274.218 554.786 274.218 551.829 Q274.218 547.008 270.815 543.97 Q267.453 540.932 262.024 540.932 Q258.176 540.932 253.882 542.269 Q249.629 543.606 244.768 546.32 L244.768 538.056 Q249.71 536.071 254.004 535.058 Q258.298 534.046 261.862 534.046 Q271.261 534.046 276.851 538.745 Q282.441 543.444 282.441 551.302 Q282.441 555.029 281.023 558.392 Q279.646 561.713 275.96 566.25 Q274.947 567.425 269.519 573.056 Q264.09 578.646 254.206 588.733 Z\" fill=\"#000000\" fill-rule=\"evenodd\" fill-opacity=\"1\" /><path clip-path=\"url(#clip060)\" d=\"M2299.34 1333.48 Q2305.21 1334.74 2308.49 1338.71 Q2311.82 1342.68 2311.82 1348.51 Q2311.82 1357.47 2305.66 1362.37 Q2299.5 1367.27 2288.16 1367.27 Q2284.35 1367.27 2280.3 1366.5 Q2276.29 1365.77 2272 1364.27 L2272 1356.37 Q2275.4 1358.36 2279.45 1359.37 Q2283.5 1360.38 2287.92 1360.38 Q2295.61 1360.38 2299.62 1357.34 Q2303.67 1354.31 2303.67 1348.51 Q2303.67 1343.17 2299.91 1340.17 Q2296.18 1337.13 2289.5 1337.13 L2282.45 1337.13 L2282.45 1330.41 L2289.82 1330.41 Q2295.86 1330.41 2299.06 1328.02 Q2302.26 1325.59 2302.26 1321.05 Q2302.26 1316.39 2298.93 1313.92 Q2295.65 1311.41 2289.5 1311.41 Q2286.13 1311.41 2282.28 1312.14 Q2278.44 1312.87 2273.82 1314.4 L2273.82 1307.11 Q2278.48 1305.82 2282.53 1305.17 Q2286.62 1304.52 2290.22 1304.52 Q2299.54 1304.52 2304.97 1308.77 Q2310.4 1312.99 2310.4 1320.2 Q2310.4 1325.22 2307.52 1328.7 Q2304.65 1332.15 2299.34 1333.48 Z\" fill=\"#000000\" fill-rule=\"evenodd\" fill-opacity=\"1\" /></svg>\n",
      "text/html": [
       "<?xml version=\"1.0\" encoding=\"utf-8\"?>\n",
       "<svg xmlns=\"http://www.w3.org/2000/svg\" xmlns:xlink=\"http://www.w3.org/1999/xlink\" width=\"600\" height=\"400\" viewBox=\"0 0 2400 1600\">\n",
       "<defs>\n",
       "  <clipPath id=\"clip110\">\n",
       "    <rect x=\"0\" y=\"0\" width=\"2400\" height=\"1600\"/>\n",
       "  </clipPath>\n",
       "</defs>\n",
       "<path clip-path=\"url(#clip110)\" d=\"\n",
       "M0 1600 L2400 1600 L2400 0 L0 0  Z\n",
       "  \" fill=\"#ffffff\" fill-rule=\"evenodd\" fill-opacity=\"1\"/>\n",
       "<defs>\n",
       "  <clipPath id=\"clip111\">\n",
       "    <rect x=\"480\" y=\"0\" width=\"1681\" height=\"1600\"/>\n",
       "  </clipPath>\n",
       "</defs>\n",
       "<defs>\n",
       "  <clipPath id=\"clip112\">\n",
       "    <rect x=\"202\" y=\"47\" width=\"2151\" height=\"1377\"/>\n",
       "  </clipPath>\n",
       "</defs>\n",
       "<path clip-path=\"url(#clip110)\" d=\"\n",
       "M202.714 1423.18 L2352.76 1423.18 L2352.76 47.2441 L202.714 47.2441  Z\n",
       "  \" fill=\"#ffffff\" fill-rule=\"evenodd\" fill-opacity=\"1\"/>\n",
       "<polyline clip-path=\"url(#clip112)\" style=\"stroke:#000000; stroke-linecap:butt; stroke-linejoin:round; stroke-width:2; stroke-opacity:0.1; fill:none\" points=\"\n",
       "  275.619,1423.18 275.619,47.2441 \n",
       "  \"/>\n",
       "<polyline clip-path=\"url(#clip112)\" style=\"stroke:#000000; stroke-linecap:butt; stroke-linejoin:round; stroke-width:2; stroke-opacity:0.1; fill:none\" points=\"\n",
       "  678.978,1423.18 678.978,47.2441 \n",
       "  \"/>\n",
       "<polyline clip-path=\"url(#clip112)\" style=\"stroke:#000000; stroke-linecap:butt; stroke-linejoin:round; stroke-width:2; stroke-opacity:0.1; fill:none\" points=\"\n",
       "  1082.34,1423.18 1082.34,47.2441 \n",
       "  \"/>\n",
       "<polyline clip-path=\"url(#clip112)\" style=\"stroke:#000000; stroke-linecap:butt; stroke-linejoin:round; stroke-width:2; stroke-opacity:0.1; fill:none\" points=\"\n",
       "  1485.7,1423.18 1485.7,47.2441 \n",
       "  \"/>\n",
       "<polyline clip-path=\"url(#clip112)\" style=\"stroke:#000000; stroke-linecap:butt; stroke-linejoin:round; stroke-width:2; stroke-opacity:0.1; fill:none\" points=\"\n",
       "  1889.06,1423.18 1889.06,47.2441 \n",
       "  \"/>\n",
       "<polyline clip-path=\"url(#clip112)\" style=\"stroke:#000000; stroke-linecap:butt; stroke-linejoin:round; stroke-width:2; stroke-opacity:0.1; fill:none\" points=\"\n",
       "  2292.41,1423.18 2292.41,47.2441 \n",
       "  \"/>\n",
       "<polyline clip-path=\"url(#clip110)\" style=\"stroke:#000000; stroke-linecap:butt; stroke-linejoin:round; stroke-width:4; stroke-opacity:1; fill:none\" points=\"\n",
       "  202.714,1423.18 2352.76,1423.18 \n",
       "  \"/>\n",
       "<polyline clip-path=\"url(#clip110)\" style=\"stroke:#000000; stroke-linecap:butt; stroke-linejoin:round; stroke-width:4; stroke-opacity:1; fill:none\" points=\"\n",
       "  275.619,1423.18 275.619,1404.28 \n",
       "  \"/>\n",
       "<polyline clip-path=\"url(#clip110)\" style=\"stroke:#000000; stroke-linecap:butt; stroke-linejoin:round; stroke-width:4; stroke-opacity:1; fill:none\" points=\"\n",
       "  678.978,1423.18 678.978,1404.28 \n",
       "  \"/>\n",
       "<polyline clip-path=\"url(#clip110)\" style=\"stroke:#000000; stroke-linecap:butt; stroke-linejoin:round; stroke-width:4; stroke-opacity:1; fill:none\" points=\"\n",
       "  1082.34,1423.18 1082.34,1404.28 \n",
       "  \"/>\n",
       "<polyline clip-path=\"url(#clip110)\" style=\"stroke:#000000; stroke-linecap:butt; stroke-linejoin:round; stroke-width:4; stroke-opacity:1; fill:none\" points=\"\n",
       "  1485.7,1423.18 1485.7,1404.28 \n",
       "  \"/>\n",
       "<polyline clip-path=\"url(#clip110)\" style=\"stroke:#000000; stroke-linecap:butt; stroke-linejoin:round; stroke-width:4; stroke-opacity:1; fill:none\" points=\"\n",
       "  1889.06,1423.18 1889.06,1404.28 \n",
       "  \"/>\n",
       "<polyline clip-path=\"url(#clip110)\" style=\"stroke:#000000; stroke-linecap:butt; stroke-linejoin:round; stroke-width:4; stroke-opacity:1; fill:none\" points=\"\n",
       "  2292.41,1423.18 2292.41,1404.28 \n",
       "  \"/>\n",
       "<path clip-path=\"url(#clip110)\" d=\"M245.261 1468.75 L274.936 1468.75 L274.936 1472.69 L245.261 1472.69 L245.261 1468.75 Z\" fill=\"#000000\" fill-rule=\"evenodd\" fill-opacity=\"1\" /><path clip-path=\"url(#clip110)\" d=\"M285.075 1451.02 L303.432 1451.02 L303.432 1454.96 L289.358 1454.96 L289.358 1463.43 Q290.376 1463.08 291.395 1462.92 Q292.413 1462.73 293.432 1462.73 Q299.219 1462.73 302.598 1465.9 Q305.978 1469.08 305.978 1474.49 Q305.978 1480.07 302.506 1483.17 Q299.033 1486.25 292.714 1486.25 Q290.538 1486.25 288.27 1485.88 Q286.024 1485.51 283.617 1484.77 L283.617 1480.07 Q285.7 1481.2 287.922 1481.76 Q290.145 1482.32 292.621 1482.32 Q296.626 1482.32 298.964 1480.21 Q301.302 1478.1 301.302 1474.49 Q301.302 1470.88 298.964 1468.77 Q296.626 1466.67 292.621 1466.67 Q290.746 1466.67 288.871 1467.08 Q287.02 1467.5 285.075 1468.38 L285.075 1451.02 Z\" fill=\"#000000\" fill-rule=\"evenodd\" fill-opacity=\"1\" /><path clip-path=\"url(#clip110)\" d=\"M647.879 1468.75 L677.555 1468.75 L677.555 1472.69 L647.879 1472.69 L647.879 1468.75 Z\" fill=\"#000000\" fill-rule=\"evenodd\" fill-opacity=\"1\" /><path clip-path=\"url(#clip110)\" d=\"M700.494 1455.09 L688.689 1473.54 L700.494 1473.54 L700.494 1455.09 M699.268 1451.02 L705.147 1451.02 L705.147 1473.54 L710.078 1473.54 L710.078 1477.43 L705.147 1477.43 L705.147 1485.58 L700.494 1485.58 L700.494 1477.43 L684.893 1477.43 L684.893 1472.92 L699.268 1451.02 Z\" fill=\"#000000\" fill-rule=\"evenodd\" fill-opacity=\"1\" /><path clip-path=\"url(#clip110)\" d=\"M1051.81 1468.75 L1081.48 1468.75 L1081.48 1472.69 L1051.81 1472.69 L1051.81 1468.75 Z\" fill=\"#000000\" fill-rule=\"evenodd\" fill-opacity=\"1\" /><path clip-path=\"url(#clip110)\" d=\"M1105.74 1466.95 Q1109.1 1467.66 1110.97 1469.93 Q1112.87 1472.2 1112.87 1475.53 Q1112.87 1480.65 1109.35 1483.45 Q1105.83 1486.25 1099.35 1486.25 Q1097.18 1486.25 1094.86 1485.81 Q1092.57 1485.39 1090.12 1484.54 L1090.12 1480.02 Q1092.06 1481.16 1094.37 1481.74 Q1096.69 1482.32 1099.21 1482.32 Q1103.61 1482.32 1105.9 1480.58 Q1108.22 1478.84 1108.22 1475.53 Q1108.22 1472.48 1106.06 1470.77 Q1103.93 1469.03 1100.12 1469.03 L1096.09 1469.03 L1096.09 1465.19 L1100.3 1465.19 Q1103.75 1465.19 1105.58 1463.82 Q1107.41 1462.43 1107.41 1459.84 Q1107.41 1457.18 1105.51 1455.77 Q1103.63 1454.33 1100.12 1454.33 Q1098.19 1454.33 1095.99 1454.75 Q1093.8 1455.16 1091.16 1456.04 L1091.16 1451.88 Q1093.82 1451.14 1096.13 1450.77 Q1098.47 1450.39 1100.53 1450.39 Q1105.86 1450.39 1108.96 1452.83 Q1112.06 1455.23 1112.06 1459.35 Q1112.06 1462.22 1110.42 1464.21 Q1108.77 1466.18 1105.74 1466.95 Z\" fill=\"#000000\" fill-rule=\"evenodd\" fill-opacity=\"1\" /><path clip-path=\"url(#clip110)\" d=\"M1455.64 1468.75 L1485.31 1468.75 L1485.31 1472.69 L1455.64 1472.69 L1455.64 1468.75 Z\" fill=\"#000000\" fill-rule=\"evenodd\" fill-opacity=\"1\" /><path clip-path=\"url(#clip110)\" d=\"M1499.43 1481.64 L1515.75 1481.64 L1515.75 1485.58 L1493.81 1485.58 L1493.81 1481.64 Q1496.47 1478.89 1501.06 1474.26 Q1505.66 1469.61 1506.84 1468.27 Q1509.09 1465.74 1509.97 1464.01 Q1510.87 1462.25 1510.87 1460.56 Q1510.87 1457.8 1508.93 1456.07 Q1507 1454.33 1503.9 1454.33 Q1501.7 1454.33 1499.25 1455.09 Q1496.82 1455.86 1494.04 1457.41 L1494.04 1452.69 Q1496.87 1451.55 1499.32 1450.97 Q1501.77 1450.39 1503.81 1450.39 Q1509.18 1450.39 1512.37 1453.08 Q1515.57 1455.77 1515.57 1460.26 Q1515.57 1462.39 1514.76 1464.31 Q1513.97 1466.2 1511.87 1468.8 Q1511.29 1469.47 1508.18 1472.69 Q1505.08 1475.88 1499.43 1481.64 Z\" fill=\"#000000\" fill-rule=\"evenodd\" fill-opacity=\"1\" /><path clip-path=\"url(#clip110)\" d=\"M1858.81 1468.75 L1888.49 1468.75 L1888.49 1472.69 L1858.81 1472.69 L1858.81 1468.75 Z\" fill=\"#000000\" fill-rule=\"evenodd\" fill-opacity=\"1\" /><path clip-path=\"url(#clip110)\" d=\"M1899.39 1481.64 L1907.03 1481.64 L1907.03 1455.28 L1898.72 1456.95 L1898.72 1452.69 L1906.98 1451.02 L1911.66 1451.02 L1911.66 1481.64 L1919.3 1481.64 L1919.3 1485.58 L1899.39 1485.58 L1899.39 1481.64 Z\" fill=\"#000000\" fill-rule=\"evenodd\" fill-opacity=\"1\" /><path clip-path=\"url(#clip110)\" d=\"M2292.41 1454.1 Q2288.8 1454.1 2286.97 1457.66 Q2285.17 1461.2 2285.17 1468.33 Q2285.17 1475.44 2286.97 1479.01 Q2288.8 1482.55 2292.41 1482.55 Q2296.05 1482.55 2297.85 1479.01 Q2299.68 1475.44 2299.68 1468.33 Q2299.68 1461.2 2297.85 1457.66 Q2296.05 1454.1 2292.41 1454.1 M2292.41 1450.39 Q2298.22 1450.39 2301.28 1455 Q2304.36 1459.58 2304.36 1468.33 Q2304.36 1477.06 2301.28 1481.67 Q2298.22 1486.25 2292.41 1486.25 Q2286.6 1486.25 2283.53 1481.67 Q2280.47 1477.06 2280.47 1468.33 Q2280.47 1459.58 2283.53 1455 Q2286.6 1450.39 2292.41 1450.39 Z\" fill=\"#000000\" fill-rule=\"evenodd\" fill-opacity=\"1\" /><path clip-path=\"url(#clip110)\" d=\"M1194.76 1572.5 L1194.76 1570.47 L1196.33 1570.47 Q1199.91 1570.47 1200.71 1569.89 Q1201.55 1569.28 1201.55 1567.35 L1201.55 1532.6 Q1201.55 1530.7 1200.71 1530.12 Q1199.88 1529.5 1196.33 1529.5 L1194.76 1529.5 L1194.76 1527.44 L1215.46 1527.44 Q1222.65 1527.44 1227.64 1530.99 Q1232.66 1534.5 1232.66 1539.33 Q1232.66 1543.03 1229.41 1545.93 Q1226.16 1548.83 1221.13 1550.08 Q1227.67 1552.34 1229.18 1557.72 L1230.02 1563 Q1230.28 1564.9 1230.44 1565.87 Q1230.63 1566.83 1230.92 1568.15 Q1231.21 1569.47 1231.5 1570.12 Q1231.82 1570.73 1232.28 1571.4 Q1232.73 1572.05 1233.31 1572.27 Q1233.92 1572.5 1234.72 1572.5 Q1236.24 1572.5 1237.53 1571.15 Q1238.81 1569.79 1239.07 1566.64 Q1239.2 1565.58 1239.88 1565.58 Q1240.71 1565.58 1240.71 1566.64 Q1240.71 1567.57 1240.46 1568.67 Q1240.2 1569.73 1239.55 1570.99 Q1238.94 1572.24 1237.59 1573.08 Q1236.24 1573.95 1234.47 1573.95 Q1229.31 1573.95 1226.16 1571.18 Q1224.84 1569.99 1224.22 1568.44 Q1223.64 1566.9 1223.55 1565.67 Q1223.45 1564.45 1223.45 1561.74 Q1223.45 1557.91 1223.03 1556.24 Q1222.65 1554.56 1220.94 1552.92 Q1218.62 1550.66 1214.79 1550.66 L1207.22 1550.66 L1207.22 1567.35 Q1207.22 1569.25 1208.02 1569.86 Q1208.86 1570.47 1212.44 1570.47 L1214.02 1570.47 L1214.02 1572.5 Q1211.63 1572.31 1204.39 1572.31 Q1197.14 1572.31 1194.76 1572.5 M1207.22 1549.21 L1214.53 1549.21 Q1218.04 1549.21 1220.39 1548.38 Q1222.78 1547.51 1223.9 1545.96 Q1225.03 1544.42 1225.45 1542.87 Q1225.87 1541.29 1225.87 1539.33 Q1225.87 1537.01 1225.35 1535.27 Q1224.84 1533.53 1223.71 1532.5 Q1222.58 1531.47 1221.45 1530.83 Q1220.33 1530.15 1218.59 1529.89 Q1216.85 1529.63 1215.66 1529.57 Q1214.47 1529.5 1212.57 1529.5 Q1209.35 1529.5 1208.67 1529.63 Q1207.93 1529.7 1207.64 1530.05 Q1207.35 1530.41 1207.28 1530.83 Q1207.22 1531.21 1207.22 1532.15 L1207.22 1549.21 Z\" fill=\"#000000\" fill-rule=\"evenodd\" fill-opacity=\"1\" /><path clip-path=\"url(#clip110)\" d=\"M1243.01 1557.97 Q1243.01 1551.76 1247 1547.35 Q1251 1542.93 1256.73 1542.93 Q1262.52 1542.93 1265.52 1546.7 Q1268.55 1550.47 1268.55 1555.88 Q1268.55 1556.88 1268.29 1557.07 Q1268.03 1557.27 1266.9 1557.27 L1248.48 1557.27 Q1248.48 1564 1250.48 1567.15 Q1253.25 1571.57 1257.92 1571.57 Q1258.56 1571.57 1259.34 1571.44 Q1260.11 1571.31 1261.69 1570.76 Q1263.27 1570.18 1264.65 1568.67 Q1266.04 1567.15 1266.84 1564.77 Q1267.03 1563.84 1267.68 1563.87 Q1268.55 1563.87 1268.55 1564.64 Q1268.55 1565.22 1267.9 1566.54 Q1267.29 1567.83 1266.1 1569.38 Q1264.91 1570.92 1262.59 1572.08 Q1260.3 1573.24 1257.53 1573.24 Q1251.74 1573.24 1247.36 1568.86 Q1243.01 1564.45 1243.01 1557.97 M1248.55 1555.88 L1264.2 1555.88 Q1264.2 1554.5 1263.94 1552.95 Q1263.72 1551.4 1263.01 1549.28 Q1262.33 1547.12 1260.72 1545.77 Q1259.11 1544.42 1256.73 1544.42 Q1255.66 1544.42 1254.51 1544.87 Q1253.38 1545.32 1251.99 1546.41 Q1250.61 1547.51 1249.64 1549.99 Q1248.68 1552.47 1248.55 1555.88 Z\" fill=\"#000000\" fill-rule=\"evenodd\" fill-opacity=\"1\" /><path clip-path=\"url(#clip110)\" d=\"M1272 1556.01 Q1272 1544.87 1276.16 1535.88 Q1277.93 1532.11 1280.41 1528.96 Q1282.89 1525.8 1284.53 1524.42 Q1286.17 1523.03 1286.63 1523.03 Q1287.27 1523.03 1287.3 1523.68 Q1287.3 1524 1286.43 1524.8 Q1275.8 1535.62 1275.84 1556.01 Q1275.84 1576.46 1286.17 1586.86 Q1287.3 1587.99 1287.3 1588.35 Q1287.3 1588.99 1286.63 1588.99 Q1286.17 1588.99 1284.6 1587.67 Q1283.02 1586.35 1280.57 1583.32 Q1278.12 1580.29 1276.35 1576.59 Q1272 1567.6 1272 1556.01 Z\" fill=\"#000000\" fill-rule=\"evenodd\" fill-opacity=\"1\" /><path clip-path=\"url(#clip110)\" d=\"M1329.96 1572.56 Q1329.96 1573.18 1329.25 1573.24 L1327.8 1573.24 Q1326.32 1573.24 1325.67 1573.02 Q1325.03 1572.79 1324.29 1571.76 Q1323.84 1571.11 1322.71 1568.12 Q1321.61 1565.09 1320 1560.52 Q1318.43 1555.95 1317.36 1553.24 L1301.49 1571.98 Q1300.39 1573.37 1299.3 1573.37 Q1298.49 1573.37 1297.91 1572.82 Q1297.33 1572.27 1297.33 1571.44 Q1297.33 1570.83 1297.56 1570.47 Q1297.81 1570.12 1298.49 1569.41 L1316.72 1551.34 L1310.31 1533.4 Q1309.09 1530.08 1308.38 1529.25 Q1307.7 1528.41 1306.03 1528.12 Q1305.41 1527.96 1305.41 1527.44 Q1305.41 1526.74 1306.61 1526.74 Q1312.98 1526.74 1314.66 1531.41 L1328.12 1568.92 Q1328.86 1571.08 1329.63 1571.98 Q1329.96 1572.4 1329.96 1572.56 Z\" fill=\"#000000\" fill-rule=\"evenodd\" fill-opacity=\"1\" /><path clip-path=\"url(#clip110)\" d=\"M1335.39 1588.35 Q1335.39 1588.02 1336.22 1587.22 Q1346.85 1576.4 1346.85 1556.01 Q1346.85 1535.56 1336.64 1525.22 Q1335.39 1524.03 1335.39 1523.68 Q1335.39 1523.03 1336.03 1523.03 Q1336.48 1523.03 1338.06 1524.35 Q1339.67 1525.67 1342.08 1528.7 Q1344.53 1531.73 1346.34 1535.43 Q1350.68 1544.42 1350.68 1556.01 Q1350.68 1567.15 1346.53 1576.14 Q1344.76 1579.91 1342.28 1583.06 Q1339.8 1586.22 1338.16 1587.6 Q1336.51 1588.99 1336.03 1588.99 Q1335.39 1588.99 1335.39 1588.35 Z\" fill=\"#000000\" fill-rule=\"evenodd\" fill-opacity=\"1\" /><polyline clip-path=\"url(#clip112)\" style=\"stroke:#000000; stroke-linecap:butt; stroke-linejoin:round; stroke-width:2; stroke-opacity:0.1; fill:none\" points=\"\n",
       "  202.714,1293.4 2352.76,1293.4 \n",
       "  \"/>\n",
       "<polyline clip-path=\"url(#clip112)\" style=\"stroke:#000000; stroke-linecap:butt; stroke-linejoin:round; stroke-width:2; stroke-opacity:0.1; fill:none\" points=\"\n",
       "  202.714,1089.29 2352.76,1089.29 \n",
       "  \"/>\n",
       "<polyline clip-path=\"url(#clip112)\" style=\"stroke:#000000; stroke-linecap:butt; stroke-linejoin:round; stroke-width:2; stroke-opacity:0.1; fill:none\" points=\"\n",
       "  202.714,885.173 2352.76,885.173 \n",
       "  \"/>\n",
       "<polyline clip-path=\"url(#clip112)\" style=\"stroke:#000000; stroke-linecap:butt; stroke-linejoin:round; stroke-width:2; stroke-opacity:0.1; fill:none\" points=\"\n",
       "  202.714,681.06 2352.76,681.06 \n",
       "  \"/>\n",
       "<polyline clip-path=\"url(#clip112)\" style=\"stroke:#000000; stroke-linecap:butt; stroke-linejoin:round; stroke-width:2; stroke-opacity:0.1; fill:none\" points=\"\n",
       "  202.714,476.947 2352.76,476.947 \n",
       "  \"/>\n",
       "<polyline clip-path=\"url(#clip112)\" style=\"stroke:#000000; stroke-linecap:butt; stroke-linejoin:round; stroke-width:2; stroke-opacity:0.1; fill:none\" points=\"\n",
       "  202.714,272.835 2352.76,272.835 \n",
       "  \"/>\n",
       "<polyline clip-path=\"url(#clip112)\" style=\"stroke:#000000; stroke-linecap:butt; stroke-linejoin:round; stroke-width:2; stroke-opacity:0.1; fill:none\" points=\"\n",
       "  202.714,68.7223 2352.76,68.7223 \n",
       "  \"/>\n",
       "<polyline clip-path=\"url(#clip110)\" style=\"stroke:#000000; stroke-linecap:butt; stroke-linejoin:round; stroke-width:4; stroke-opacity:1; fill:none\" points=\"\n",
       "  202.714,1423.18 202.714,47.2441 \n",
       "  \"/>\n",
       "<polyline clip-path=\"url(#clip110)\" style=\"stroke:#000000; stroke-linecap:butt; stroke-linejoin:round; stroke-width:4; stroke-opacity:1; fill:none\" points=\"\n",
       "  202.714,1293.4 221.611,1293.4 \n",
       "  \"/>\n",
       "<polyline clip-path=\"url(#clip110)\" style=\"stroke:#000000; stroke-linecap:butt; stroke-linejoin:round; stroke-width:4; stroke-opacity:1; fill:none\" points=\"\n",
       "  202.714,1089.29 221.611,1089.29 \n",
       "  \"/>\n",
       "<polyline clip-path=\"url(#clip110)\" style=\"stroke:#000000; stroke-linecap:butt; stroke-linejoin:round; stroke-width:4; stroke-opacity:1; fill:none\" points=\"\n",
       "  202.714,885.173 221.611,885.173 \n",
       "  \"/>\n",
       "<polyline clip-path=\"url(#clip110)\" style=\"stroke:#000000; stroke-linecap:butt; stroke-linejoin:round; stroke-width:4; stroke-opacity:1; fill:none\" points=\"\n",
       "  202.714,681.06 221.611,681.06 \n",
       "  \"/>\n",
       "<polyline clip-path=\"url(#clip110)\" style=\"stroke:#000000; stroke-linecap:butt; stroke-linejoin:round; stroke-width:4; stroke-opacity:1; fill:none\" points=\"\n",
       "  202.714,476.947 221.611,476.947 \n",
       "  \"/>\n",
       "<polyline clip-path=\"url(#clip110)\" style=\"stroke:#000000; stroke-linecap:butt; stroke-linejoin:round; stroke-width:4; stroke-opacity:1; fill:none\" points=\"\n",
       "  202.714,272.835 221.611,272.835 \n",
       "  \"/>\n",
       "<polyline clip-path=\"url(#clip110)\" style=\"stroke:#000000; stroke-linecap:butt; stroke-linejoin:round; stroke-width:4; stroke-opacity:1; fill:none\" points=\"\n",
       "  202.714,68.7223 221.611,68.7223 \n",
       "  \"/>\n",
       "<path clip-path=\"url(#clip110)\" d=\"M116.066 1306.74 L123.705 1306.74 L123.705 1280.38 L115.394 1282.04 L115.394 1277.78 L123.658 1276.12 L128.334 1276.12 L128.334 1306.74 L135.973 1306.74 L135.973 1310.68 L116.066 1310.68 L116.066 1306.74 Z\" fill=\"#000000\" fill-rule=\"evenodd\" fill-opacity=\"1\" /><path clip-path=\"url(#clip110)\" d=\"M159.584 1292.04 Q162.94 1292.76 164.815 1295.03 Q166.714 1297.3 166.714 1300.63 Q166.714 1305.75 163.195 1308.55 Q159.677 1311.35 153.195 1311.35 Q151.019 1311.35 148.704 1310.91 Q146.413 1310.49 143.959 1309.64 L143.959 1305.12 Q145.904 1306.26 148.218 1306.84 Q150.533 1307.41 153.056 1307.41 Q157.454 1307.41 159.746 1305.68 Q162.061 1303.94 162.061 1300.63 Q162.061 1297.58 159.908 1295.86 Q157.778 1294.13 153.959 1294.13 L149.931 1294.13 L149.931 1290.28 L154.144 1290.28 Q157.593 1290.28 159.422 1288.92 Q161.251 1287.53 161.251 1284.94 Q161.251 1282.28 159.353 1280.86 Q157.478 1279.43 153.959 1279.43 Q152.038 1279.43 149.839 1279.84 Q147.64 1280.26 145.001 1281.14 L145.001 1276.97 Q147.663 1276.23 149.978 1275.86 Q152.316 1275.49 154.376 1275.49 Q159.7 1275.49 162.802 1277.92 Q165.903 1280.33 165.903 1284.45 Q165.903 1287.32 164.26 1289.31 Q162.616 1291.28 159.584 1292.04 Z\" fill=\"#000000\" fill-rule=\"evenodd\" fill-opacity=\"1\" /><path clip-path=\"url(#clip110)\" d=\"M114.931 1102.63 L122.57 1102.63 L122.57 1076.26 L114.26 1077.93 L114.26 1073.67 L122.524 1072.01 L127.2 1072.01 L127.2 1102.63 L134.839 1102.63 L134.839 1106.57 L114.931 1106.57 L114.931 1102.63 Z\" fill=\"#000000\" fill-rule=\"evenodd\" fill-opacity=\"1\" /><path clip-path=\"url(#clip110)\" d=\"M157.13 1076.08 L145.325 1094.53 L157.13 1094.53 L157.13 1076.08 M155.903 1072.01 L161.783 1072.01 L161.783 1094.53 L166.714 1094.53 L166.714 1098.42 L161.783 1098.42 L161.783 1106.57 L157.13 1106.57 L157.13 1098.42 L141.529 1098.42 L141.529 1093.9 L155.903 1072.01 Z\" fill=\"#000000\" fill-rule=\"evenodd\" fill-opacity=\"1\" /><path clip-path=\"url(#clip110)\" d=\"M116.413 898.517 L124.052 898.517 L124.052 872.152 L115.742 873.818 L115.742 869.559 L124.005 867.893 L128.681 867.893 L128.681 898.517 L136.32 898.517 L136.32 902.453 L116.413 902.453 L116.413 898.517 Z\" fill=\"#000000\" fill-rule=\"evenodd\" fill-opacity=\"1\" /><path clip-path=\"url(#clip110)\" d=\"M145.811 867.893 L164.167 867.893 L164.167 871.828 L150.093 871.828 L150.093 880.3 Q151.112 879.953 152.13 879.791 Q153.149 879.606 154.167 879.606 Q159.954 879.606 163.334 882.777 Q166.714 885.948 166.714 891.365 Q166.714 896.943 163.241 900.045 Q159.769 903.124 153.45 903.124 Q151.274 903.124 149.005 902.754 Q146.76 902.383 144.353 901.642 L144.353 896.943 Q146.436 898.078 148.658 898.633 Q150.88 899.189 153.357 899.189 Q157.362 899.189 159.7 897.082 Q162.038 894.976 162.038 891.365 Q162.038 887.754 159.7 885.647 Q157.362 883.541 153.357 883.541 Q151.482 883.541 149.607 883.957 Q147.755 884.374 145.811 885.254 L145.811 867.893 Z\" fill=\"#000000\" fill-rule=\"evenodd\" fill-opacity=\"1\" /><path clip-path=\"url(#clip110)\" d=\"M115.256 694.405 L122.894 694.405 L122.894 668.039 L114.584 669.706 L114.584 665.447 L122.848 663.78 L127.524 663.78 L127.524 694.405 L135.163 694.405 L135.163 698.34 L115.256 698.34 L115.256 694.405 Z\" fill=\"#000000\" fill-rule=\"evenodd\" fill-opacity=\"1\" /><path clip-path=\"url(#clip110)\" d=\"M155.186 679.197 Q152.038 679.197 150.186 681.349 Q148.357 683.502 148.357 687.252 Q148.357 690.979 150.186 693.155 Q152.038 695.308 155.186 695.308 Q158.334 695.308 160.163 693.155 Q162.015 690.979 162.015 687.252 Q162.015 683.502 160.163 681.349 Q158.334 679.197 155.186 679.197 M164.468 664.544 L164.468 668.803 Q162.709 667.97 160.903 667.53 Q159.121 667.09 157.362 667.09 Q152.732 667.09 150.278 670.215 Q147.848 673.34 147.501 679.66 Q148.866 677.646 150.927 676.581 Q152.987 675.493 155.464 675.493 Q160.672 675.493 163.681 678.664 Q166.714 681.812 166.714 687.252 Q166.714 692.576 163.565 695.794 Q160.417 699.011 155.186 699.011 Q149.191 699.011 146.019 694.428 Q142.848 689.822 142.848 681.095 Q142.848 672.9 146.737 668.039 Q150.626 663.155 157.177 663.155 Q158.936 663.155 160.718 663.502 Q162.524 663.849 164.468 664.544 Z\" fill=\"#000000\" fill-rule=\"evenodd\" fill-opacity=\"1\" /><path clip-path=\"url(#clip110)\" d=\"M116.32 490.292 L123.959 490.292 L123.959 463.927 L115.649 465.593 L115.649 461.334 L123.913 459.667 L128.589 459.667 L128.589 490.292 L136.228 490.292 L136.228 494.227 L116.32 494.227 L116.32 490.292 Z\" fill=\"#000000\" fill-rule=\"evenodd\" fill-opacity=\"1\" /><path clip-path=\"url(#clip110)\" d=\"M144.491 459.667 L166.714 459.667 L166.714 461.658 L154.167 494.227 L149.283 494.227 L161.089 463.603 L144.491 463.603 L144.491 459.667 Z\" fill=\"#000000\" fill-rule=\"evenodd\" fill-opacity=\"1\" /><path clip-path=\"url(#clip110)\" d=\"M115.51 286.18 L123.149 286.18 L123.149 259.814 L114.839 261.481 L114.839 257.222 L123.103 255.555 L127.779 255.555 L127.779 286.18 L135.417 286.18 L135.417 290.115 L115.51 290.115 L115.51 286.18 Z\" fill=\"#000000\" fill-rule=\"evenodd\" fill-opacity=\"1\" /><path clip-path=\"url(#clip110)\" d=\"M154.862 273.703 Q151.528 273.703 149.607 275.485 Q147.709 277.268 147.709 280.393 Q147.709 283.518 149.607 285.3 Q151.528 287.082 154.862 287.082 Q158.195 287.082 160.116 285.3 Q162.038 283.495 162.038 280.393 Q162.038 277.268 160.116 275.485 Q158.218 273.703 154.862 273.703 M150.186 271.712 Q147.177 270.971 145.487 268.911 Q143.82 266.851 143.82 263.888 Q143.82 259.745 146.76 257.337 Q149.723 254.93 154.862 254.93 Q160.024 254.93 162.964 257.337 Q165.903 259.745 165.903 263.888 Q165.903 266.851 164.214 268.911 Q162.547 270.971 159.561 271.712 Q162.94 272.499 164.815 274.791 Q166.714 277.083 166.714 280.393 Q166.714 285.416 163.635 288.101 Q160.579 290.786 154.862 290.786 Q149.144 290.786 146.066 288.101 Q143.01 285.416 143.01 280.393 Q143.01 277.083 144.908 274.791 Q146.806 272.499 150.186 271.712 M148.473 264.328 Q148.473 267.013 150.14 268.518 Q151.829 270.022 154.862 270.022 Q157.871 270.022 159.561 268.518 Q161.274 267.013 161.274 264.328 Q161.274 261.643 159.561 260.138 Q157.871 258.634 154.862 258.634 Q151.829 258.634 150.14 260.138 Q148.473 261.643 148.473 264.328 Z\" fill=\"#000000\" fill-rule=\"evenodd\" fill-opacity=\"1\" /><path clip-path=\"url(#clip110)\" d=\"M115.603 82.0671 L123.242 82.0671 L123.242 55.7015 L114.931 57.3682 L114.931 53.1089 L123.195 51.4423 L127.871 51.4423 L127.871 82.0671 L135.51 82.0671 L135.51 86.0023 L115.603 86.0023 L115.603 82.0671 Z\" fill=\"#000000\" fill-rule=\"evenodd\" fill-opacity=\"1\" /><path clip-path=\"url(#clip110)\" d=\"M145.093 85.2847 L145.093 81.0254 Q146.853 81.8588 148.658 82.2986 Q150.464 82.7384 152.2 82.7384 Q156.829 82.7384 159.26 79.6366 Q161.714 76.5116 162.061 70.169 Q160.718 72.1597 158.658 73.2246 Q156.598 74.2894 154.098 74.2894 Q148.913 74.2894 145.88 71.1644 Q142.871 68.0162 142.871 62.5765 Q142.871 57.2524 146.019 54.0348 Q149.167 50.8173 154.399 50.8173 Q160.394 50.8173 163.542 55.4237 Q166.714 60.007 166.714 68.757 Q166.714 76.9282 162.825 81.8125 Q158.959 86.6736 152.408 86.6736 Q150.649 86.6736 148.843 86.3263 Q147.038 85.9791 145.093 85.2847 M154.399 70.632 Q157.547 70.632 159.376 68.4792 Q161.227 66.3264 161.227 62.5765 Q161.227 58.8496 159.376 56.6969 Q157.547 54.521 154.399 54.521 Q151.251 54.521 149.399 56.6969 Q147.57 58.8496 147.57 62.5765 Q147.57 66.3264 149.399 68.4792 Q151.251 70.632 154.399 70.632 Z\" fill=\"#000000\" fill-rule=\"evenodd\" fill-opacity=\"1\" /><path clip-path=\"url(#clip110)\" d=\"M68.4601 821.187 L66.4311 821.187 L66.4311 819.448 Q66.4311 815.744 65.8514 814.907 Q65.2395 814.037 63.3072 814.037 L28.557 814.037 Q26.6569 814.037 26.0772 814.907 Q25.4653 815.776 25.4653 819.448 L25.4653 821.187 L23.4041 821.187 Q23.5973 818.868 23.5973 811.074 Q23.5973 803.345 23.4041 801.058 L25.4653 801.058 L25.4653 802.765 Q25.4653 806.469 26.0772 807.338 Q26.6569 808.176 28.557 808.176 L63.3072 808.176 Q65.2073 808.176 65.8192 807.338 Q66.4311 806.469 66.4311 802.765 L66.4311 801.058 L68.4601 801.058 Q68.2669 803.377 68.2669 811.139 Q68.2669 818.868 68.4601 821.187 Z\" fill=\"#000000\" fill-rule=\"evenodd\" fill-opacity=\"1\" /><path clip-path=\"url(#clip110)\" d=\"M68.4601 792.334 L66.4311 792.334 Q66.4311 788.823 66.0124 788.018 Q65.5616 787.213 63.436 787.213 L45.755 787.213 Q43.3073 787.213 42.6954 788.083 Q42.0835 788.92 42.0835 792.334 L40.0223 792.334 L39.3138 783.059 L46.2381 783.059 Q39.3138 779.967 39.3138 773.3 Q39.3138 765.571 45.755 764.508 Q43.2429 763.381 41.2783 761.03 Q39.3138 758.646 39.3138 754.943 Q39.3138 749.983 41.7614 748.019 Q43.4039 746.569 45.2397 746.279 Q47.0754 745.99 51.8419 745.99 L64.4344 745.99 Q65.8192 745.925 66.1413 744.862 Q66.4311 743.8 66.4311 740.837 L68.4601 740.837 Q68.2669 747.568 68.2669 748.212 Q68.2669 748.727 68.4601 755.684 L66.4311 755.684 Q66.4311 752.173 66.0124 751.368 Q65.5616 750.531 63.436 750.531 L48.0738 750.531 Q44.7244 750.531 42.7598 751.561 Q40.7631 752.592 40.7631 755.426 Q40.7631 758.84 43.6294 761.577 Q46.4957 764.315 51.3266 764.315 L63.436 764.315 Q65.5616 764.315 66.0124 763.51 Q66.4311 762.672 66.4311 759.162 L68.4601 759.162 Q68.2669 765.893 68.2669 766.569 Q68.2669 767.084 68.4601 774.009 L66.4311 774.009 Q66.4311 770.498 66.0124 769.693 Q65.5616 768.856 63.436 768.856 L48.0738 768.856 Q44.7244 768.856 42.7598 769.886 Q40.7631 770.917 40.7631 773.751 Q40.7631 777.165 43.6294 779.902 Q46.4957 782.64 51.3266 782.64 L63.436 782.64 Q65.5616 782.64 66.0124 781.835 Q66.4311 780.997 66.4311 777.519 L68.4601 777.519 Q68.2669 784.25 68.2669 784.894 Q68.2669 785.41 68.4601 792.334 Z\" fill=\"#000000\" fill-rule=\"evenodd\" fill-opacity=\"1\" /><path clip-path=\"url(#clip110)\" d=\"M51.9707 737.947 Q40.8275 737.947 31.842 733.792 Q28.0739 732.021 24.9178 729.541 Q21.7616 727.061 20.3767 725.419 Q18.9919 723.776 18.9919 723.325 Q18.9919 722.681 19.636 722.649 Q19.9581 722.649 20.7632 723.519 Q31.5844 734.147 51.9707 734.114 Q72.4214 734.114 82.8239 723.776 Q83.9511 722.649 84.3054 722.649 Q84.9495 722.649 84.9495 723.325 Q84.9495 723.776 83.6291 725.354 Q82.3086 726.932 79.2813 729.38 Q76.2539 731.828 72.5502 733.599 Q63.5648 737.947 51.9707 737.947 Z\" fill=\"#000000\" fill-rule=\"evenodd\" fill-opacity=\"1\" /><path clip-path=\"url(#clip110)\" d=\"M68.5245 679.995 Q69.1364 679.995 69.2008 680.703 L69.2008 682.153 Q69.2008 683.634 68.9754 684.278 Q68.7499 684.922 67.7194 685.663 Q67.0752 686.114 64.0801 687.241 Q61.0527 688.336 56.4795 689.947 Q51.9063 691.525 49.201 692.587 L67.9448 708.465 Q69.3297 709.56 69.3297 710.655 Q69.3297 711.46 68.7822 712.04 Q68.2347 712.619 67.3973 712.619 Q66.7854 712.619 66.4311 712.394 Q66.0769 712.136 65.3683 711.46 L47.3008 693.232 L29.3622 699.64 Q26.045 700.864 25.2076 701.573 Q24.3703 702.249 24.0804 703.924 Q23.9194 704.536 23.4041 704.536 Q22.6956 704.536 22.6956 703.344 Q22.6956 696.967 27.3654 695.293 L64.8852 681.831 Q67.043 681.09 67.9448 680.317 Q68.3635 679.995 68.5245 679.995 Z\" fill=\"#000000\" fill-rule=\"evenodd\" fill-opacity=\"1\" /><path clip-path=\"url(#clip110)\" d=\"M84.3054 674.565 Q83.9833 674.565 83.1782 673.727 Q72.357 663.099 51.9707 663.099 Q31.52 663.099 21.1819 673.309 Q19.9903 674.565 19.636 674.565 Q18.9919 674.565 18.9919 673.92 Q18.9919 673.47 20.3123 671.891 Q21.6328 670.281 24.6601 667.866 Q27.6875 665.418 31.3911 663.615 Q40.3766 659.267 51.9707 659.267 Q63.1139 659.267 72.0994 663.421 Q75.8674 665.193 79.0236 667.673 Q82.1798 670.152 83.5646 671.795 Q84.9495 673.437 84.9495 673.92 Q84.9495 674.565 84.3054 674.565 Z\" fill=\"#000000\" fill-rule=\"evenodd\" fill-opacity=\"1\" /><circle clip-path=\"url(#clip112)\" cx=\"2082.04\" cy=\"86.1857\" r=\"14\" fill=\"#009af9\" fill-rule=\"evenodd\" fill-opacity=\"1\" stroke=\"#000000\" stroke-opacity=\"1\" stroke-width=\"3.2\"/>\n",
       "<circle clip-path=\"url(#clip112)\" cx=\"263.564\" cy=\"613.763\" r=\"14\" fill=\"#009af9\" fill-rule=\"evenodd\" fill-opacity=\"1\" stroke=\"#000000\" stroke-opacity=\"1\" stroke-width=\"3.2\"/>\n",
       "<circle clip-path=\"url(#clip112)\" cx=\"2291.91\" cy=\"1384.24\" r=\"14\" fill=\"#009af9\" fill-rule=\"evenodd\" fill-opacity=\"1\" stroke=\"#000000\" stroke-opacity=\"1\" stroke-width=\"3.2\"/>\n",
       "<path clip-path=\"url(#clip110)\" d=\"M2065.21 61.1551 L2078.58 61.1551 L2078.58 15.0153 L2064.04 17.932 L2064.04 10.4783 L2078.5 7.56167 L2086.68 7.56167 L2086.68 61.1551 L2100.05 61.1551 L2100.05 68.0417 L2065.21 68.0417 L2065.21 61.1551 Z\" fill=\"#000000\" fill-rule=\"evenodd\" fill-opacity=\"1\" /><path clip-path=\"url(#clip110)\" d=\"M254.206 588.733 L282.765 588.733 L282.765 595.619 L244.363 595.619 L244.363 588.733 Q249.021 583.912 257.042 575.81 Q265.103 567.668 267.169 565.319 Q271.099 560.903 272.638 557.865 Q274.218 554.786 274.218 551.829 Q274.218 547.008 270.815 543.97 Q267.453 540.932 262.024 540.932 Q258.176 540.932 253.882 542.269 Q249.629 543.606 244.768 546.32 L244.768 538.056 Q249.71 536.071 254.004 535.058 Q258.298 534.046 261.862 534.046 Q271.261 534.046 276.851 538.745 Q282.441 543.444 282.441 551.302 Q282.441 555.029 281.023 558.392 Q279.646 561.713 275.96 566.25 Q274.947 567.425 269.519 573.056 Q264.09 578.646 254.206 588.733 Z\" fill=\"#000000\" fill-rule=\"evenodd\" fill-opacity=\"1\" /><path clip-path=\"url(#clip110)\" d=\"M2299.34 1333.48 Q2305.21 1334.74 2308.49 1338.71 Q2311.82 1342.68 2311.82 1348.51 Q2311.82 1357.47 2305.66 1362.37 Q2299.5 1367.27 2288.16 1367.27 Q2284.35 1367.27 2280.3 1366.5 Q2276.29 1365.77 2272 1364.27 L2272 1356.37 Q2275.4 1358.36 2279.45 1359.37 Q2283.5 1360.38 2287.92 1360.38 Q2295.61 1360.38 2299.62 1357.34 Q2303.67 1354.31 2303.67 1348.51 Q2303.67 1343.17 2299.91 1340.17 Q2296.18 1337.13 2289.5 1337.13 L2282.45 1337.13 L2282.45 1330.41 L2289.82 1330.41 Q2295.86 1330.41 2299.06 1328.02 Q2302.26 1325.59 2302.26 1321.05 Q2302.26 1316.39 2298.93 1313.92 Q2295.65 1311.41 2289.5 1311.41 Q2286.13 1311.41 2282.28 1312.14 Q2278.44 1312.87 2273.82 1314.4 L2273.82 1307.11 Q2278.48 1305.82 2282.53 1305.17 Q2286.62 1304.52 2290.22 1304.52 Q2299.54 1304.52 2304.97 1308.77 Q2310.4 1312.99 2310.4 1320.2 Q2310.4 1325.22 2307.52 1328.7 Q2304.65 1332.15 2299.34 1333.48 Z\" fill=\"#000000\" fill-rule=\"evenodd\" fill-opacity=\"1\" /></svg>\n"
      ]
     },
     "metadata": {},
     "output_type": "display_data"
    }
   ],
   "source": [
    "n_m = 3\n",
    "dmd = DMDAnalysis(results_path,rank=2*n_m)\n",
    "X, Y = load_snapshots(results_path, dmd.time_steps)\n",
    "σ, λ, ϕ = analyze(dmd, X, Y)\n",
    "plot_spectrum(dmd, λ[imag(λ) .> 0]) #only upper half of complex plane due to symmetry"
   ]
  },
  {
   "cell_type": "markdown",
   "metadata": {},
   "source": [
    "Plot the first `n_m` DMD mode shapes"
   ]
  },
  {
   "cell_type": "code",
   "execution_count": 7,
   "metadata": {},
   "outputs": [
    {
     "ename": "BoundsError",
     "evalue": "BoundsError: attempt to access 66-element Vector{Float64} at index [1:88]",
     "output_type": "error",
     "traceback": [
      "BoundsError: attempt to access 66-element Vector{Float64} at index [1:88]\n",
      "\n",
      "Stacktrace:\n",
      "  [1] throw_boundserror(A::Vector{Float64}, I::Tuple{UnitRange{Int64}})\n",
      "    @ Base ./abstractarray.jl:651\n",
      "  [2] checkbounds\n",
      "    @ ./abstractarray.jl:616 [inlined]\n",
      "  [3] getindex(A::Vector{Float64}, I::UnitRange{Int64})\n",
      "    @ Base ./array.jl:811\n",
      "  [4] gr_draw_segments(series::Plots.Series, x::Vector{Float64}, y::Vector{Float64}, fillrange::Nothing, clims::Tuple{Float64, Float64})\n",
      "    @ Plots ~/.julia/packages/Plots/PomtQ/src/backends/gr.jl:1920\n",
      "  [5] gr_add_series(sp::Plots.Subplot{Plots.GRBackend}, series::Plots.Series)\n",
      "    @ Plots ~/.julia/packages/Plots/PomtQ/src/backends/gr.jl:1835\n",
      "  [6] gr_display(sp::Plots.Subplot{Plots.GRBackend}, w::Measures.AbsoluteLength, h::Measures.AbsoluteLength, viewport_canvas::Vector{Float64})\n",
      "    @ Plots ~/.julia/packages/Plots/PomtQ/src/backends/gr.jl:1005\n",
      "  [7] gr_display(plt::Plots.Plot{Plots.GRBackend}, fmt::String)\n",
      "    @ Plots ~/.julia/packages/Plots/PomtQ/src/backends/gr.jl:670\n",
      "  [8] _show(io::IOStream, #unused#::MIME{Symbol(\"application/pdf\")}, plt::Plots.Plot{Plots.GRBackend})\n",
      "    @ Plots ~/.julia/packages/Plots/PomtQ/src/backends/gr.jl:2169\n",
      "  [9] show\n",
      "    @ ~/.julia/packages/Plots/PomtQ/src/output.jl:213 [inlined]\n",
      " [10] pdf(plt::Plots.Plot{Plots.GRBackend}, fn::String)\n",
      "    @ Plots ~/.julia/packages/Plots/PomtQ/src/output.jl:23\n",
      " [11] savefig(plt::Plots.Plot{Plots.GRBackend}, fn::String)\n",
      "    @ Plots ~/.julia/packages/Plots/PomtQ/src/output.jl:123\n",
      " [12] plot_modes(analysis::DMDAnalysis, plotter::Plotter{1}, ϕ::Matrix{ComplexF64}, e::Int64)\n",
      "    @ CLOUD.Analysis ~/Research/CLOUD.jl/src/Analysis/dynamics.jl:96\n",
      " [13] top-level scope\n",
      "    @ ~/Research/CLOUD.jl/notebooks/advection_2D.ipynb:2\n",
      " [14] eval\n",
      "    @ ./boot.jl:360 [inlined]\n",
      " [15] include_string(mapexpr::typeof(REPL.softscope), mod::Module, code::String, filename::String)\n",
      "    @ Base ./loading.jl:1116\n",
      " [16] #invokelatest#2\n",
      "    @ ./essentials.jl:708 [inlined]\n",
      " [17] invokelatest\n",
      "    @ ./essentials.jl:706 [inlined]\n",
      " [18] (::VSCodeServer.var\"#146#147\"{VSCodeServer.NotebookRunCellArguments, String})()\n",
      "    @ VSCodeServer ~/.vscode/extensions/julialang.language-julia-1.5.6/scripts/packages/VSCodeServer/src/serve_notebook.jl:18\n",
      " [19] withpath(f::VSCodeServer.var\"#146#147\"{VSCodeServer.NotebookRunCellArguments, String}, path::String)\n",
      "    @ VSCodeServer ~/.vscode/extensions/julialang.language-julia-1.5.6/scripts/packages/VSCodeServer/src/repl.jl:185\n",
      " [20] notebook_runcell_request(conn::VSCodeServer.JSONRPC.JSONRPCEndpoint{Base.PipeEndpoint, Base.PipeEndpoint}, params::VSCodeServer.NotebookRunCellArguments)\n",
      "    @ VSCodeServer ~/.vscode/extensions/julialang.language-julia-1.5.6/scripts/packages/VSCodeServer/src/serve_notebook.jl:14\n",
      " [21] dispatch_msg(x::VSCodeServer.JSONRPC.JSONRPCEndpoint{Base.PipeEndpoint, Base.PipeEndpoint}, dispatcher::VSCodeServer.JSONRPC.MsgDispatcher, msg::Dict{String, Any})\n",
      "    @ VSCodeServer.JSONRPC ~/.vscode/extensions/julialang.language-julia-1.5.6/scripts/packages/JSONRPC/src/typed.jl:67\n",
      " [22] serve_notebook(pipename::String; crashreporting_pipename::String)\n",
      "    @ VSCodeServer ~/.vscode/extensions/julialang.language-julia-1.5.6/scripts/packages/VSCodeServer/src/serve_notebook.jl:94\n",
      " [23] top-level scope\n",
      "    @ ~/.vscode/extensions/julialang.language-julia-1.5.6/scripts/notebook/notebook.jl:12\n",
      " [24] include(mod::Module, _path::String)\n",
      "    @ Base ./Base.jl:386\n",
      " [25] exec_options(opts::Base.JLOptions)\n",
      "    @ Base ./client.jl:285\n",
      " [26] _start()\n",
      "    @ Base ./client.jl:485"
     ]
    }
   ],
   "source": [
    "mode_plotter = Plotter(spatial_discretization, dmd.path)\n",
    "plot_modes(dmd, mode_plotter, ϕ[:,imag(λ) .> 0], 1)"
   ]
  }
 ],
 "metadata": {
  "kernelspec": {
   "display_name": "Julia 1.6.3",
   "language": "julia",
   "name": "julia-1.6"
  },
  "language_info": {
   "file_extension": ".jl",
   "mimetype": "application/julia",
   "name": "julia",
   "version": "1.6.3"
  }
 },
 "nbformat": 4,
 "nbformat_minor": 2
}
