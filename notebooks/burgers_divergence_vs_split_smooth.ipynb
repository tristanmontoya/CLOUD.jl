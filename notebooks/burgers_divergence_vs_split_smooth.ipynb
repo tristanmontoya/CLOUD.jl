{
 "cells": [
  {
   "cell_type": "markdown",
   "id": "5474b5fb",
   "metadata": {},
   "source": [
    "# Comparison of Divergence (Conservation) and Skew-Symmetric (Split) Forms of the Inviscid Burgers' Equation"
   ]
  },
  {
   "cell_type": "code",
   "execution_count": 1,
   "id": "774d3e15",
   "metadata": {},
   "outputs": [
    {
     "name": "stderr",
     "output_type": "stream",
     "text": [
      "┌ Info: Precompiling CLOUD [fb992021-99c7-4c2d-a14b-5e48ac4045b2]\n",
      "└ @ Base loading.jl:1342\n"
     ]
    },
    {
     "data": {
      "text/plain": [
       "\"../results/burgers_divergence_vs_split_smooth_m8/\""
      ]
     },
     "execution_count": 1,
     "metadata": {},
     "output_type": "execute_result"
    }
   ],
   "source": [
    "using CLOUD\n",
    "using OrdinaryDiffEq\n",
    "using LinearAlgebra\n",
    "using TimerOutputs\n",
    "using Plots; pyplot()\n",
    "path = \"../results/burgers_divergence_vs_split_smooth_m8/\""
   ]
  },
  {
   "cell_type": "code",
   "execution_count": 2,
   "id": "60a3c6ce",
   "metadata": {},
   "outputs": [
    {
     "ename": "LoadError",
     "evalue": "MethodError: no method matching InitialDataGassner(::Float64)\n\u001b[0mClosest candidates are:\n\u001b[0m  InitialDataGassner(::Float64, \u001b[91m::Float64\u001b[39m) at /Users/tristanmontoya/Research/CLOUD.jl/src/ParametrizedFunctions/ParametrizedFunctions.jl:40\n\u001b[0m  InitialDataGassner(::Any, \u001b[91m::Any\u001b[39m, \u001b[91m::Any\u001b[39m) at /Users/tristanmontoya/Research/CLOUD.jl/src/ParametrizedFunctions/ParametrizedFunctions.jl:14\n\u001b[0m  InitialDataGassner() at /Users/tristanmontoya/Research/CLOUD.jl/src/ParametrizedFunctions/ParametrizedFunctions.jl:44\n\u001b[0m  ...",
     "output_type": "error",
     "traceback": [
      "MethodError: no method matching InitialDataGassner(::Float64)\n\u001b[0mClosest candidates are:\n\u001b[0m  InitialDataGassner(::Float64, \u001b[91m::Float64\u001b[39m) at /Users/tristanmontoya/Research/CLOUD.jl/src/ParametrizedFunctions/ParametrizedFunctions.jl:40\n\u001b[0m  InitialDataGassner(::Any, \u001b[91m::Any\u001b[39m, \u001b[91m::Any\u001b[39m) at /Users/tristanmontoya/Research/CLOUD.jl/src/ParametrizedFunctions/ParametrizedFunctions.jl:14\n\u001b[0m  InitialDataGassner() at /Users/tristanmontoya/Research/CLOUD.jl/src/ParametrizedFunctions/ParametrizedFunctions.jl:44\n\u001b[0m  ...",
      "",
      "Stacktrace:",
      " [1] top-level scope",
      "   @ In[2]:17",
      " [2] eval",
      "   @ ./boot.jl:360 [inlined]",
      " [3] include_string(mapexpr::typeof(REPL.softscope), mod::Module, code::String, filename::String)",
      "   @ Base ./loading.jl:1116"
     ]
    }
   ],
   "source": [
    "L = 2.0  # domain length\n",
    "T = 0.5  # end time\n",
    "M = 20  # number of elements\n",
    "p = 4  # degree of discretization\n",
    "k = Float64(8*π)\n",
    "\n",
    "# DMD parameters\n",
    "n_s = 100\n",
    "r = 10\n",
    "tol = -1.0\n",
    "\n",
    "ec_flux = EntropyConservativeNumericalFlux{BurgersFlux{1}}()\n",
    "central_flux = LaxFriedrichsNumericalFlux{BurgersFlux{1}}(0.0)\n",
    "lf_flux = LaxFriedrichsNumericalFlux{BurgersFlux{1}}(1.0)\n",
    "\n",
    "\n",
    "initial_data = InitialDataGassner(k)\n",
    "conservation_law = burgers_equation(\n",
    "    source_term=SourceTermGassner(k),\n",
    "    numerical_flux=lf_flux);\n",
    "\n",
    "reference_approximation = ReferenceApproximation(\n",
    "    DGSEM(p), Line(), N_plot=50)\n",
    "spatial_discretization = SpatialDiscretization(uniform_periodic_mesh(\n",
    "    reference_approximation.reference_element, \n",
    "    (0.0,L), M), reference_approximation)\n",
    "strategy = Eager()\n",
    "\n",
    "dt_scale=0.01\n",
    "dt = dt_scale*(L/M)/(2*p+1)\n",
    "n_t = floor(Int, T/dt)\n",
    "u0 = initialize(initial_data, conservation_law, spatial_discretization);"
   ]
  },
  {
   "cell_type": "markdown",
   "id": "fa19a021",
   "metadata": {},
   "source": [
    "Conservation form"
   ]
  },
  {
   "cell_type": "code",
   "execution_count": 3,
   "id": "d5a20a00",
   "metadata": {},
   "outputs": [
    {
     "ename": "LoadError",
     "evalue": "UndefVarError: conservation_law not defined",
     "output_type": "error",
     "traceback": [
      "UndefVarError: conservation_law not defined",
      "",
      "Stacktrace:",
      " [1] top-level scope",
      "   @ In[3]:3",
      " [2] eval",
      "   @ ./boot.jl:360 [inlined]",
      " [3] include_string(mapexpr::typeof(REPL.softscope), mod::Module, code::String, filename::String)",
      "   @ Base ./loading.jl:1116"
     ]
    }
   ],
   "source": [
    "results_path_d = string(path,\"divergence_form/\")\n",
    "form_d = StrongConservationForm()\n",
    "solver_d = Solver(conservation_law, spatial_discretization, form_d, strategy)\n",
    "results_path_d = save_project(conservation_law,\n",
    "     spatial_discretization, initial_data, form_d, \n",
    "     (0.0, T), strategy, results_path_d, overwrite=true, clear=true);"
   ]
  },
  {
   "cell_type": "code",
   "execution_count": 4,
   "id": "fa17dc74",
   "metadata": {},
   "outputs": [
    {
     "ename": "LoadError",
     "evalue": "UndefVarError: conservation_law not defined",
     "output_type": "error",
     "traceback": [
      "UndefVarError: conservation_law not defined",
      "",
      "Stacktrace:",
      " [1] top-level scope",
      "   @ In[4]:1",
      " [2] eval",
      "   @ ./boot.jl:360 [inlined]",
      " [3] include_string(mapexpr::typeof(REPL.softscope), mod::Module, code::String, filename::String)",
      "   @ Base ./loading.jl:1116"
     ]
    }
   ],
   "source": [
    "conservation_analysis_d = PrimaryConservationAnalysis(results_path_d, \n",
    "    conservation_law, spatial_discretization)\n",
    "energy_analysis_d = EnergyConservationAnalysis(results_path_d, \n",
    "    conservation_law, spatial_discretization)\n",
    "dmd_analysis_d = DMDAnalysis(results_path_d, conservation_law, \n",
    "    spatial_discretization, r=r, n_s=n_s, tol=tol);"
   ]
  },
  {
   "cell_type": "code",
   "execution_count": 5,
   "id": "f0135fbe",
   "metadata": {},
   "outputs": [
    {
     "ename": "LoadError",
     "evalue": "UndefVarError: solver_d not defined",
     "output_type": "error",
     "traceback": [
      "UndefVarError: solver_d not defined",
      "",
      "Stacktrace:",
      " [1] top-level scope",
      "   @ In[5]:1",
      " [2] eval",
      "   @ ./boot.jl:360 [inlined]",
      " [3] include_string(mapexpr::typeof(REPL.softscope), mod::Module, code::String, filename::String)",
      "   @ Base ./loading.jl:1116"
     ]
    }
   ],
   "source": [
    "ode_problem_d = semidiscretize(solver_d, u0, (0.0, T))\n",
    "save_solution(u0, 0.0, results_path_d, 0)\n",
    "sol_d = solve(ode_problem_d, Tsit5(), adaptive=false, \n",
    "    dt=T/n_t, save_everystep=false,\n",
    "    callback=save_callback(results_path_d, floor(Int, n_t/(n_s-1))))\n",
    "save_solution(last(sol_d.u), last(sol_d.t), results_path_d, \"final\");"
   ]
  },
  {
   "cell_type": "code",
   "execution_count": 6,
   "id": "f20b057d",
   "metadata": {
    "scrolled": true
   },
   "outputs": [
    {
     "ename": "LoadError",
     "evalue": "UndefVarError: conservation_analysis_d not defined",
     "output_type": "error",
     "traceback": [
      "UndefVarError: conservation_analysis_d not defined",
      "",
      "Stacktrace:",
      " [1] top-level scope",
      "   @ In[6]:1",
      " [2] eval",
      "   @ ./boot.jl:360 [inlined]",
      " [3] include_string(mapexpr::typeof(REPL.softscope), mod::Module, code::String, filename::String)",
      "   @ Base ./loading.jl:1116"
     ]
    }
   ],
   "source": [
    "println(\"Conservation (initial/final/diff):\\n\", analyze(conservation_analysis_d)...)\n",
    "println(\"Energy (initial/final/diff):\\n\",analyze(energy_analysis_d)...)\n",
    "dmd_results_d = analyze(dmd_analysis_d)\n",
    "println(\"Max amplification: \", findmax(abs.(dmd_results_d.σ)))\n",
    "show(plot_analysis(dmd_analysis_d, dmd_results_d, i=1, n=0, xlims=(-15.0, 5.0), ylims=(-75.0,75.0)))"
   ]
  },
  {
   "cell_type": "markdown",
   "id": "0df757ed",
   "metadata": {},
   "source": [
    "Split Form"
   ]
  },
  {
   "cell_type": "code",
   "execution_count": 7,
   "id": "dc9e524d",
   "metadata": {},
   "outputs": [
    {
     "ename": "LoadError",
     "evalue": "UndefVarError: conservation_law not defined",
     "output_type": "error",
     "traceback": [
      "UndefVarError: conservation_law not defined",
      "",
      "Stacktrace:",
      " [1] top-level scope",
      "   @ In[7]:3",
      " [2] eval",
      "   @ ./boot.jl:360 [inlined]",
      " [3] include_string(mapexpr::typeof(REPL.softscope), mod::Module, code::String, filename::String)",
      "   @ Base ./loading.jl:1116"
     ]
    }
   ],
   "source": [
    "results_path_s = string(path,\"split_form/\")\n",
    "form_s = StrongFluxDiffForm()\n",
    "solver_s = Solver(conservation_law, spatial_discretization, form_s, strategy)\n",
    "results_path_s = save_project(conservation_law,\n",
    "     spatial_discretization, initial_data, form_s, \n",
    "     (0.0, T), strategy, results_path_s, overwrite=true, clear=true);"
   ]
  },
  {
   "cell_type": "code",
   "execution_count": 8,
   "id": "992d52d3",
   "metadata": {},
   "outputs": [
    {
     "ename": "LoadError",
     "evalue": "UndefVarError: conservation_law not defined",
     "output_type": "error",
     "traceback": [
      "UndefVarError: conservation_law not defined",
      "",
      "Stacktrace:",
      " [1] top-level scope",
      "   @ In[8]:1",
      " [2] eval",
      "   @ ./boot.jl:360 [inlined]",
      " [3] include_string(mapexpr::typeof(REPL.softscope), mod::Module, code::String, filename::String)",
      "   @ Base ./loading.jl:1116"
     ]
    }
   ],
   "source": [
    "conservation_analysis_s = PrimaryConservationAnalysis(results_path_s, \n",
    "    conservation_law, spatial_discretization)\n",
    "energy_analysis_s = EnergyConservationAnalysis(results_path_s, \n",
    "    conservation_law, spatial_discretization)\n",
    "dmd_analysis_s = DMDAnalysis(results_path_s, conservation_law, \n",
    "    spatial_discretization, r=r, n_s = n_s, tol=tol);"
   ]
  },
  {
   "cell_type": "code",
   "execution_count": 9,
   "id": "7b518221",
   "metadata": {},
   "outputs": [
    {
     "ename": "LoadError",
     "evalue": "UndefVarError: solver_s not defined",
     "output_type": "error",
     "traceback": [
      "UndefVarError: solver_s not defined",
      "",
      "Stacktrace:",
      " [1] top-level scope",
      "   @ In[9]:1",
      " [2] eval",
      "   @ ./boot.jl:360 [inlined]",
      " [3] include_string(mapexpr::typeof(REPL.softscope), mod::Module, code::String, filename::String)",
      "   @ Base ./loading.jl:1116"
     ]
    }
   ],
   "source": [
    "ode_problem_s = semidiscretize(solver_s, u0, (0.0, T))\n",
    "save_solution(u0, 0.0, results_path_s, 0)\n",
    "sol_s = solve(ode_problem_s, Tsit5(), adaptive=false, \n",
    "    dt=T/n_t, save_everystep=false,\n",
    "    callback=save_callback(results_path_s, floor(Int, n_t/(n_s-1))))\n",
    "save_solution(last(sol_s.u), last(sol_s.t), results_path_s, \"final\");"
   ]
  },
  {
   "cell_type": "code",
   "execution_count": 10,
   "id": "eaa486aa",
   "metadata": {
    "scrolled": false
   },
   "outputs": [
    {
     "ename": "LoadError",
     "evalue": "UndefVarError: conservation_analysis_s not defined",
     "output_type": "error",
     "traceback": [
      "UndefVarError: conservation_analysis_s not defined",
      "",
      "Stacktrace:",
      " [1] top-level scope",
      "   @ In[10]:1",
      " [2] eval",
      "   @ ./boot.jl:360 [inlined]",
      " [3] include_string(mapexpr::typeof(REPL.softscope), mod::Module, code::String, filename::String)",
      "   @ Base ./loading.jl:1116"
     ]
    }
   ],
   "source": [
    "println(\"Conservation (initial/final/diff):\\n\", analyze(conservation_analysis_s)...)\n",
    "println(\"Energy (initial/final/diff):\\n\",analyze(energy_analysis_s)...)\n",
    "dmd_results_s = analyze(dmd_analysis_s)\n",
    "println(\"Max amplification:\\n\", findmax(abs.(dmd_results_s.σ)))\n",
    "show(plot_analysis(dmd_analysis_s, dmd_results_s, i=1, n=0))"
   ]
  },
  {
   "cell_type": "code",
   "execution_count": 11,
   "id": "91eaf753",
   "metadata": {},
   "outputs": [
    {
     "ename": "LoadError",
     "evalue": "UndefVarError: spatial_discretization not defined",
     "output_type": "error",
     "traceback": [
      "UndefVarError: spatial_discretization not defined",
      "",
      "Stacktrace:",
      " [1] top-level scope",
      "   @ In[11]:1",
      " [2] eval",
      "   @ ./boot.jl:360 [inlined]",
      " [3] include_string(mapexpr::typeof(REPL.softscope), mod::Module, code::String, filename::String)",
      "   @ Base ./loading.jl:1116"
     ]
    }
   ],
   "source": [
    "plotter = Plotter(spatial_discretization, path)\n",
    "show(visualize([last(sol_d.u), last(sol_s.u)], [\"\\\\mathrm{Divergence}\\\\ \\\\mathrm{form}\", \"\\\\mathrm{Split}\\\\ \\\\mathrm{form}\"],\n",
    "    \"numerical_solutions.pdf\", plotter))"
   ]
  }
 ],
 "metadata": {
  "kernelspec": {
   "display_name": "Julia 1.6.3",
   "language": "julia",
   "name": "julia-1.6"
  },
  "language_info": {
   "file_extension": ".jl",
   "mimetype": "application/julia",
   "name": "julia",
   "version": "1.6.3"
  }
 },
 "nbformat": 4,
 "nbformat_minor": 5
}
