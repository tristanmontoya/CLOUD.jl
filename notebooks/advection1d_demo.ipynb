{
 "cells": [
  {
   "cell_type": "code",
   "execution_count": 4,
   "metadata": {},
   "outputs": [
    {
     "data": {
      "text/plain": [
       "StrongConservationForm()"
      ]
     },
     "execution_count": 4,
     "metadata": {},
     "output_type": "execute_result"
    }
   ],
   "source": [
    "using CLOUD.ConservationLaws\n",
    "using CLOUD.SpatialDiscretizations\n",
    "using CLOUD.Solvers\n",
    "using CLOUD.InitialConditions\n",
    "using CLOUD.Mesh\n",
    "\n",
    "using OrdinaryDiffEq\n",
    "\n",
    "\"Define the physical problem\"\n",
    "a = 1.0  # advection velocity\n",
    "A = 1.0  # amplitude\n",
    "k = 1.0  # wave number\n",
    "L = 1.0  # domain length\n",
    "t_0 = 0.0  # start time \n",
    "t_f = 1.0  # end time\n",
    "\n",
    "# constant-coefficient linear adection equation with sine wave initial condition\n",
    "initial_data = InitialDataSine(A,k)\n",
    "conservation_law = linear_advection_equation(a)\n",
    "\n",
    "\"Set discretization parameters\"\n",
    "M = 5  # number of elements\n",
    "p = 2  # degree of discretization\n",
    "N_q = 4  # number of quadrature points\n",
    "\n",
    "# strong-form DGSEM-LGL\n",
    "elem_type=Line()\n",
    "approximation_type=DGSEM(p)\n",
    "quadrature_rule = LGLQuadrature()\n",
    "form=StrongConservationForm()"
   ]
  },
  {
   "cell_type": "code",
   "execution_count": 5,
   "metadata": {},
   "outputs": [
    {
     "ename": "LoadError",
     "evalue": "MethodError: no method matching *(::Tuple{Float64}, ::Float64)\n\u001b[0mClosest candidates are:\n\u001b[0m  *(::Any, ::Any, \u001b[91m::Any\u001b[39m, \u001b[91m::Any...\u001b[39m) at operators.jl:560\n\u001b[0m  *(\u001b[91m::StridedArray{P, N} where N\u001b[39m, ::Real) where P<:Dates.Period at /Users/julia/buildbot/worker/package_macos64/build/usr/share/julia/stdlib/v1.6/Dates/src/deprecated.jl:44\n\u001b[0m  *(\u001b[91m::Union{SparseArrays.SparseVector{Tv, Ti}, SubArray{Tv, 1, var\"#s814\", Tuple{Base.Slice{Base.OneTo{Int64}}, Int64}, false} where var\"#s814\"<:SparseArrays.AbstractSparseMatrixCSC{Tv, Ti}, SubArray{Tv, 1, var\"#s814\", Tuple{Base.Slice{Base.OneTo{Int64}}}, false} where var\"#s814\"<:SparseArrays.AbstractSparseVector{Tv, Ti}} where {Tv, Ti}\u001b[39m, ::Number) at /Users/julia/buildbot/worker/package_macos64/build/usr/share/julia/stdlib/v1.6/SparseArrays/src/sparsevector.jl:1448\n\u001b[0m  ...",
     "output_type": "error",
     "traceback": [
      "MethodError: no method matching *(::Tuple{Float64}, ::Float64)\n\u001b[0mClosest candidates are:\n\u001b[0m  *(::Any, ::Any, \u001b[91m::Any\u001b[39m, \u001b[91m::Any...\u001b[39m) at operators.jl:560\n\u001b[0m  *(\u001b[91m::StridedArray{P, N} where N\u001b[39m, ::Real) where P<:Dates.Period at /Users/julia/buildbot/worker/package_macos64/build/usr/share/julia/stdlib/v1.6/Dates/src/deprecated.jl:44\n\u001b[0m  *(\u001b[91m::Union{SparseArrays.SparseVector{Tv, Ti}, SubArray{Tv, 1, var\"#s814\", Tuple{Base.Slice{Base.OneTo{Int64}}, Int64}, false} where var\"#s814\"<:SparseArrays.AbstractSparseMatrixCSC{Tv, Ti}, SubArray{Tv, 1, var\"#s814\", Tuple{Base.Slice{Base.OneTo{Int64}}}, false} where var\"#s814\"<:SparseArrays.AbstractSparseVector{Tv, Ti}} where {Tv, Ti}\u001b[39m, ::Number) at /Users/julia/buildbot/worker/package_macos64/build/usr/share/julia/stdlib/v1.6/SparseArrays/src/sparsevector.jl:1448\n\u001b[0m  ...",
      "",
      "Stacktrace:",
      "  [1] (::CLOUD.InitialConditions.var\"#2#4\"{Matrix{Float64}, InitialDataSine{1}})(m::Int64)",
      "    @ CLOUD.InitialConditions ./none:0",
      "  [2] MappingRF",
      "    @ ./reduce.jl:93 [inlined]",
      "  [3] _foldl_impl",
      "    @ ./reduce.jl:58 [inlined]",
      "  [4] foldl_impl(op::Base.MappingRF{CLOUD.InitialConditions.var\"#2#4\"{Matrix{Float64}, InitialDataSine{1}}, Base.BottomRF{typeof(Base.mul_prod)}}, nt::Base._InitialValue, itr::UnitRange{Int64})",
      "    @ Base ./reduce.jl:48",
      "  [5] mapfoldl_impl(f::typeof(identity), op::typeof(Base.mul_prod), nt::Base._InitialValue, itr::Base.Generator{UnitRange{Int64}, CLOUD.InitialConditions.var\"#2#4\"{Matrix{Float64}, InitialDataSine{1}}})",
      "    @ Base ./reduce.jl:44",
      "  [6] mapfoldl(f::Function, op::Function, itr::Base.Generator{UnitRange{Int64}, CLOUD.InitialConditions.var\"#2#4\"{Matrix{Float64}, InitialDataSine{1}}}; init::Base._InitialValue)",
      "    @ Base ./reduce.jl:160",
      "  [7] mapfoldl(f::Function, op::Function, itr::Base.Generator{UnitRange{Int64}, CLOUD.InitialConditions.var\"#2#4\"{Matrix{Float64}, InitialDataSine{1}}})",
      "    @ Base ./reduce.jl:160",
      "  [8] mapreduce(f::Function, op::Function, itr::Base.Generator{UnitRange{Int64}, CLOUD.InitialConditions.var\"#2#4\"{Matrix{Float64}, InitialDataSine{1}}}; kw::Base.Iterators.Pairs{Union{}, Union{}, Tuple{}, NamedTuple{(), Tuple{}}})",
      "    @ Base ./reduce.jl:287",
      "  [9] mapreduce(f::Function, op::Function, itr::Base.Generator{UnitRange{Int64}, CLOUD.InitialConditions.var\"#2#4\"{Matrix{Float64}, InitialDataSine{1}}})",
      "    @ Base ./reduce.jl:287",
      " [10] prod(a::Base.Generator{UnitRange{Int64}, CLOUD.InitialConditions.var\"#2#4\"{Matrix{Float64}, InitialDataSine{1}}}; kw::Base.Iterators.Pairs{Union{}, Union{}, Tuple{}, NamedTuple{(), Tuple{}}})",
      "    @ Base ./reduce.jl:582",
      " [11] prod(a::Base.Generator{UnitRange{Int64}, CLOUD.InitialConditions.var\"#2#4\"{Matrix{Float64}, InitialDataSine{1}}})",
      "    @ Base ./reduce.jl:582",
      " [12] (::CLOUD.InitialConditions.var\"#1#3\"{1, InitialDataSine{1}})(x::Matrix{Float64})",
      "    @ CLOUD.InitialConditions ~/Research/CLOUD.jl/src/InitialConditions/InitialConditions.jl:20",
      " [13] _broadcast_getindex_evalf",
      "    @ ./broadcast.jl:648 [inlined]",
      " [14] _broadcast_getindex",
      "    @ ./broadcast.jl:621 [inlined]",
      " [15] (::Base.Broadcast.var\"#19#20\"{Base.Broadcast.Broadcasted{Base.Broadcast.Style{Tuple}, Nothing, CLOUD.InitialConditions.var\"#1#3\"{1, InitialDataSine{1}}, Tuple{Tuple{Matrix{Float64}}}}})(k::Int64)",
      "    @ Base.Broadcast ./broadcast.jl:1098",
      " [16] ntuple",
      "    @ ./ntuple.jl:48 [inlined]",
      " [17] copy(bc::Base.Broadcast.Broadcasted{Base.Broadcast.Style{Tuple}, Nothing, CLOUD.InitialConditions.var\"#1#3\"{1, InitialDataSine{1}}, Tuple{Tuple{Matrix{Float64}}}})",
      "    @ Base.Broadcast ./broadcast.jl:1098",
      " [18] materialize",
      "    @ ./broadcast.jl:883 [inlined]",
      " [19] l2_projection(spatial_discretization::SpatialDiscretization{1}, u0::Function)",
      "    @ CLOUD.SpatialDiscretizations ~/Research/CLOUD.jl/src/SpatialDiscretizations/SpatialDiscretizations.jl:53",
      " [20] initialize",
      "    @ ~/Research/CLOUD.jl/src/InitialConditions/InitialConditions.jl:29 [inlined]",
      " [21] solver(conservation_law::ConservationLaw, spatial_discretization::SpatialDiscretization{1}, initial_data::InitialDataSine{1}, tspan::Tuple{Float64, Float64})",
      "    @ CLOUD.Solvers ~/Research/CLOUD.jl/src/Solvers/Solvers.jl:23",
      " [22] top-level scope",
      "    @ In[5]:12",
      " [23] eval",
      "    @ ./boot.jl:360 [inlined]",
      " [24] include_string(mapexpr::typeof(REPL.softscope), mod::Module, code::String, filename::String)",
      "    @ Base ./loading.jl:1116"
     ]
    }
   ],
   "source": [
    "\"Generate a uniform periodic mesh - maybe encapsulate this\"\n",
    "ref_el = reference_element(elem_type, quadrature_rule, N_q)\n",
    "mesh = uniform_periodic_mesh(ref_el, (0.0,L), M)\n",
    "\n",
    "\"Construct spatial discretization\"\n",
    "spatial_discretization = SpatialDiscretization(\n",
    "    mesh,\n",
    "    ref_el,\n",
    "    approximation_type,\n",
    "    form)\n",
    "\n",
    "\"Create ODEProblem for use with SciML\"\n",
    "ode = solver(conservation_law, spatial_discretization, initial_data, (t_0, t_f))"
   ]
  },
  {
   "cell_type": "code",
   "execution_count": 3,
   "metadata": {},
   "outputs": [
    {
     "data": {
      "text/plain": [
       "4×5 Matrix{Float64}:\n",
       " -3.14018e-17  0.2       0.4       0.6       0.8\n",
       "  0.0552786    0.255279  0.455279  0.655279  0.855279\n",
       "  0.144721     0.344721  0.544721  0.744721  0.944721\n",
       "  0.2          0.4       0.6       0.8       1.0"
      ]
     },
     "execution_count": 3,
     "metadata": {},
     "output_type": "execute_result"
    }
   ],
   "source": [
    "spatial_discretization.mesh.xyzq[1]"
   ]
  },
  {
   "cell_type": "code",
   "execution_count": null,
   "metadata": {},
   "outputs": [],
   "source": []
  }
 ],
 "metadata": {
  "kernelspec": {
   "display_name": "Julia 1.6.3",
   "language": "julia",
   "name": "julia-1.6"
  },
  "language_info": {
   "file_extension": ".jl",
   "mimetype": "application/julia",
   "name": "julia",
   "version": "1.6.3"
  }
 },
 "nbformat": 4,
 "nbformat_minor": 2
}
