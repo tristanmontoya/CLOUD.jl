{
 "cells": [
  {
   "cell_type": "code",
   "execution_count": 1,
   "metadata": {
    "scrolled": true
   },
   "outputs": [
    {
     "name": "stderr",
     "output_type": "stream",
     "text": [
      "┌ Info: Precompiling CLOUD [fb992021-99c7-4c2d-a14b-5e48ac4045b2]\n",
      "└ @ Base loading.jl:1342\n"
     ]
    }
   ],
   "source": [
    "using CLOUD.ConservationLaws\n",
    "using CLOUD.SpatialDiscretizations\n",
    "using CLOUD.Solvers\n",
    "using CLOUD.InitialConditions\n",
    "using CLOUD.Mesh\n",
    "using CLOUD.IO\n",
    "using OrdinaryDiffEq\n",
    "\n",
    "\"Set up paths\"\n",
    "plots_path = \"../plots/advection1d_demo/\"\n",
    "results_path = \"../results/advection1d_demo/\"\n",
    "\n",
    "\"Define the physical problem\"\n",
    "a = 1.0  # advection velocity\n",
    "A = 1.0  # amplitude\n",
    "L = 1.0  # domain length\n",
    "k = 2*π/L  # wave number\n",
    "t_0 = 0.0  # start time \n",
    "t_f = L/a  # end time\n",
    "\n",
    "# constant-coefficient linear adection equation with sine wave initial condition\n",
    "initial_data = InitialDataSine(A,k)\n",
    "conservation_law = linear_advection_equation(a)\n",
    "u_exact = initial_condition(initial_data, conservation_law)\n",
    "\n",
    "\"Set discretization parameters\"\n",
    "M = 5  # number of elements\n",
    "p = 2  # degree of discretization\n",
    "N_q = 4  # number of quadrature points\n",
    "\n",
    "# strong-form DGSEM-LGL\n",
    "elem_type=Line()\n",
    "approximation_type=DGSEM(p)\n",
    "quadrature_rule = LGLQuadrature()\n",
    "form=StrongConservationForm()\n",
    "\n",
    "\"Generate a uniform periodic mesh - maybe encapsulate this\"\n",
    "ref_el = reference_element(elem_type, quadrature_rule, N_q)\n",
    "mesh = uniform_periodic_mesh(ref_el, (0.0,L), M)\n",
    "\n",
    "\"Construct spatial discretization\"\n",
    "spatial_discretization = SpatialDiscretization(\n",
    "    mesh,\n",
    "    ref_el,\n",
    "    approximation_type,\n",
    "    form)\n",
    "\n",
    "\"Plot the exact solution\"\n",
    "plotter = Plotter(spatial_discretization, plots_path)\n",
    "plot_function(u_exact, plotter, \"u_exact.pdf\")"
   ]
  },
  {
   "cell_type": "code",
   "execution_count": 2,
   "metadata": {},
   "outputs": [
    {
     "data": {
      "text/plain": [
       "\"Set up ODEProblem for SciML\""
      ]
     },
     "execution_count": 2,
     "metadata": {},
     "output_type": "execute_result"
    }
   ],
   "source": [
    "\"Set up ODEProblem for SciML\"\n"
   ]
  }
 ],
 "metadata": {
  "kernelspec": {
   "display_name": "Julia 1.6.3",
   "language": "julia",
   "name": "julia-1.6"
  },
  "language_info": {
   "file_extension": ".jl",
   "mimetype": "application/julia",
   "name": "julia",
   "version": "1.6.3"
  }
 },
 "nbformat": 4,
 "nbformat_minor": 2
}
