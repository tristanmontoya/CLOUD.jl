{
 "cells": [
  {
   "cell_type": "code",
   "execution_count": 19,
   "metadata": {},
   "outputs": [
    {
     "ename": "UndefVarError",
     "evalue": "UndefVarError: CollocatedLG not defined",
     "output_type": "error",
     "traceback": [
      "\n",
      "Stacktrace:\n",
      "  [1] top-level scope\n",
      "    @ ~/Research/CLOUD.jl/notebooks/advection1d_demo.ipynb:23\n",
      "  [2] eval\n",
      "    @ ./boot.jl:360 [inlined]\n",
      "  [3] include_string(mapexpr::typeof(REPL.softscope), mod::Module, code::String, filename::String)\n",
      "    @ Base ./loading.jl:1116\n",
      "  [4] #invokelatest#2\n",
      "    @ ./essentials.jl:708 [inlined]\n",
      "  [5] invokelatest\n",
      "    @ ./essentials.jl:706 [inlined]\n",
      "  [6] (::VSCodeServer.var\"#98#99\"{VSCodeServer.NotebookRunCellArguments, String})()\n",
      "    @ VSCodeServer ~/.vscode/extensions/julialang.language-julia-1.4.3/scripts/packages/VSCodeServer/src/serve_notebook.jl:18\n",
      "  [7] withpath(f::VSCodeServer.var\"#98#99\"{VSCodeServer.NotebookRunCellArguments, String}, path::String)\n",
      "    @ VSCodeServer ~/.vscode/extensions/julialang.language-julia-1.4.3/scripts/packages/VSCodeServer/src/repl.jl:185\n",
      "  [8] notebook_runcell_request(conn::VSCodeServer.JSONRPC.JSONRPCEndpoint{Base.PipeEndpoint, Base.PipeEndpoint}, params::VSCodeServer.NotebookRunCellArguments)\n",
      "    @ VSCodeServer ~/.vscode/extensions/julialang.language-julia-1.4.3/scripts/packages/VSCodeServer/src/serve_notebook.jl:14\n",
      "  [9] dispatch_msg(x::VSCodeServer.JSONRPC.JSONRPCEndpoint{Base.PipeEndpoint, Base.PipeEndpoint}, dispatcher::VSCodeServer.JSONRPC.MsgDispatcher, msg::Dict{String, Any})\n",
      "    @ VSCodeServer.JSONRPC ~/.vscode/extensions/julialang.language-julia-1.4.3/scripts/packages/JSONRPC/src/typed.jl:67\n",
      " [10] serve_notebook(pipename::String; crashreporting_pipename::String)\n",
      "    @ VSCodeServer ~/.vscode/extensions/julialang.language-julia-1.4.3/scripts/packages/VSCodeServer/src/serve_notebook.jl:94\n",
      " [11] top-level scope\n",
      "    @ ~/.vscode/extensions/julialang.language-julia-1.4.3/scripts/notebook/notebook.jl:10\n",
      " [12] include(mod::Module, _path::String)\n",
      "    @ Base ./Base.jl:386\n",
      " [13] exec_options(opts::Base.JLOptions)\n",
      "    @ Base ./client.jl:285\n",
      " [14] _start()\n",
      "    @ Base ./client.jl:485"
     ]
    }
   ],
   "source": [
    "using StartUpDG\n",
    "using CLOUD\n",
    "using OrdinaryDiffEq\n",
    "\n",
    "\n",
    "M = 5  # number of elements\n",
    "a = 1.0  # advection velocity\n",
    "p_map = 1  # degree of mapping\n",
    "n_quad_nodes = 4 # number of quadrature points\n",
    "\n",
    "# define a constant-coefficient linear advection equation\n",
    "conservation_law = ConservationLaws.ConstantLinearAdvectionEquation1D(a)\n",
    "\n",
    "# define reference element for mesh\n",
    "reference_element = RefElemData(Line(), p_map, \n",
    "    quad_rule_vol=gauss_lobatto_quad(0, 0, n_quad_nodes-1))\n",
    "\n",
    "# make a uniform periodic mesh on the domain Ω = (-1,1)\n",
    "mesh = make_periodic(\n",
    "    MeshData(uniform_mesh(Line(), M)..., reference_element))\n",
    "\n",
    "# construct spatial discretization\n",
    "spatial_discretization = SpatialDiscretization1D(conservation_law,\n",
    "    mesh,\n",
    "    reference_element,\n",
    "    CollocatedLG(p),\n",
    "    StrongConservationForm())\n",
    "\n",
    "# make semi-discrete residual for use with SciML\n",
    "#ode = semi_discrete_residual(spatial_discretization, \n",
    "#    t_initial, \n",
    "#    t_final)"
   ]
  }
 ],
 "metadata": {
  "kernelspec": {
   "display_name": "Julia 1.6.3",
   "language": "julia",
   "name": "julia-1.6"
  },
  "language_info": {
   "file_extension": ".jl",
   "mimetype": "application/julia",
   "name": "julia",
   "version": "1.6.3"
  }
 },
 "nbformat": 4,
 "nbformat_minor": 2
}
