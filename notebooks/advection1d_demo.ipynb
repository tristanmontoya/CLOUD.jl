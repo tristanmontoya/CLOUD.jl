{
 "cells": [
  {
   "cell_type": "code",
   "execution_count": 8,
   "metadata": {},
   "outputs": [
    {
     "data": {
      "text/plain": [
       "SpatialDiscretization(ConservationLaw(1, 1, ConstantLinearAdvectionFlux(1.0), nothing), MeshData{1}, RefElemData{N=1,Polynomial(),Line()}., DGSEM(2), StrongConservationForm(), nothing, nothing, 2×2 LinearMaps.UniformScalingMap{Bool} with scaling factor: true, 2×4 LinearMaps.WrappedMap{Float64} of\n",
       "  2×4 Matrix{Float64})"
      ]
     },
     "execution_count": 8,
     "metadata": {},
     "output_type": "execute_result"
    }
   ],
   "source": [
    "using CLOUD.ConservationLaws\n",
    "using CLOUD.SpatialDiscretizations\n",
    "using CLOUD.Solvers\n",
    "using OrdinaryDiffEq\n",
    "\n",
    "\"Define the physical problem\"\n",
    "a = 1.0  # advection velocity\n",
    "t_0 = 0.0  # start time \n",
    "t_f = 1.0  # end time\n",
    "\n",
    "# constant-coefficient linear adection equation with sine wave initial condition\n",
    "initial_condition = InitialConditionSine() \n",
    "conservation_law = linear_advection_equation(a)\n",
    "\n",
    "\"Set discretization parameters\"\n",
    "M = 5  # number of elements\n",
    "p = 2  # degree of discretization\n",
    "N_q = 4  # number of quadrature points\n",
    "\n",
    "# strong-form DGSEM-LGL\n",
    "approximation_type=DGSEM(p)\n",
    "volume_quadrature=gauss_lobatto_quad(0, 0, N_q-1)\n",
    "form=StrongConservationForm()\n",
    "\n",
    "\"Generate a uniform periodic mesh - maybe encapsulate this\"\n",
    "reference_element = RefElemData(Line(), 1, quad_rule_vol=volume_quadrature)\n",
    "mesh = make_periodic(MeshData(uniform_mesh(Line(), M)..., reference_element))\n",
    "\n",
    "\"Construct spatial discretization\"\n",
    "spatial_discretization = SpatialDiscretization(\n",
    "    conservation_law,\n",
    "    mesh,\n",
    "    reference_element,\n",
    "    approximation_type,\n",
    "    form)\n",
    "\n",
    "\"Create ODEProblem for use with SciML\"\n",
    "ode = make_ode_problem(spatial_discretization, initial_condition, (t_0, t_f))"
   ]
  }
 ],
 "metadata": {
  "kernelspec": {
   "display_name": "Julia 1.6.3",
   "language": "julia",
   "name": "julia-1.6"
  },
  "language_info": {
   "file_extension": ".jl",
   "mimetype": "application/julia",
   "name": "julia",
   "version": "1.6.3"
  }
 },
 "nbformat": 4,
 "nbformat_minor": 2
}
