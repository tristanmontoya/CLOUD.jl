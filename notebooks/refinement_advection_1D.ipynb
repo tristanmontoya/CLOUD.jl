{
 "cells": [
  {
   "cell_type": "code",
   "execution_count": 1,
   "metadata": {
    "scrolled": true
   },
   "outputs": [
    {
     "name": "stderr",
     "output_type": "stream",
     "text": [
      "┌ Info: Precompiling CLOUD [fb992021-99c7-4c2d-a14b-5e48ac4045b2]\n",
      "└ @ Base loading.jl:1342\n"
     ]
    }
   ],
   "source": [
    "using CLOUD.ConservationLaws\n",
    "using CLOUD.SpatialDiscretizations\n",
    "using CLOUD.Solvers\n",
    "using CLOUD.InitialConditions\n",
    "using CLOUD.Mesh\n",
    "using CLOUD.IO\n",
    "using CLOUD.RunUtils\n",
    "using OrdinaryDiffEq\n",
    "using TimerOutputs\n",
    "\n",
    "\"Set up paths\"\n",
    "plots_path = \"../plots/advection1d_refinement/\"\n",
    "results_path = \"../results/advection1d_refinement/\"\n",
    "\n",
    "# Define the physical problem\n",
    "a = 1.0  # advection velocity\n",
    "A = 1.0  # amplitude\n",
    "L = 1.0  # domain length\n",
    "k = 2*π/L  # wave number\n",
    "T = 1*L/a  # end time\n",
    "initial_data = InitialDataSine(A,k)\n",
    "conservation_law = linear_advection_equation(a)\n",
    "u_exact = initial_condition(initial_data, conservation_law)\n",
    "\n",
    "# set discretization parameters\n",
    "p = 2  # degree of discretization\n",
    "N_q = 3  # number of quadrature points\n",
    "reference_approximation=ReferenceApproximation(DGSEM(p), \n",
    "    Line(), LGQuadrature())\n",
    "form = StrongConservationForm()\n",
    "strategy=Eager()\n",
    "dt_scale=0.1\n",
    "\n",
    "# run grid refinement study\n",
    "run_refinement(conservation_law, reference_approximation, initial_data, form, strategy, (0.0, T), [4,8,16,32], RK4(), M->uniform_periodic_mesh(reference_approximation.reference_element, (0.0,L), M),\n",
    "    M->dt_scale*(L/M)/(a*(2*p+1)), \n",
    "    results_path, 100)"
   ]
  }
 ],
 "metadata": {
  "kernelspec": {
   "display_name": "Julia 1.6.3",
   "language": "julia",
   "name": "julia-1.6"
  },
  "language_info": {
   "file_extension": ".jl",
   "mimetype": "application/julia",
   "name": "julia",
   "version": "1.6.3"
  }
 },
 "nbformat": 4,
 "nbformat_minor": 2
}
