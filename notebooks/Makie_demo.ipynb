{
 "cells": [
  {
   "cell_type": "code",
   "execution_count": 1,
   "source": [
    "using GLMakie\n",
    "\n",
    "vertices = [\n",
    "    0.0 0.0;\n",
    "    1.0 0.0;\n",
    "    1.0 1.0;\n",
    "    0.0 1.0;\n",
    "]\n",
    "\n",
    "faces = [\n",
    "    1 2 3;\n",
    "    3 4 1;\n",
    "]\n",
    "\n",
    "colors = [:red, :green, :blue, :orange]\n",
    "\n",
    "scene = mesh(vertices, faces, color = colors, shading = false)"
   ],
   "outputs": [
    {
     "output_type": "stream",
     "name": "stdout",
     "text": [
      "┌ Info: Makie/Makie is caching fonts, this may take a while. Needed only on first run!\n",
      "└ @ Makie /Users/tristanmontoya/.julia/packages/Makie/PFSZS/src/utilities/texture_atlas.jl:113\n"
     ]
    }
   ],
   "metadata": {}
  }
 ],
 "metadata": {
  "orig_nbformat": 4,
  "language_info": {
   "name": "julia",
   "version": "1.6.3",
   "mimetype": "application/julia",
   "file_extension": ".jl"
  },
  "kernelspec": {
   "display_name": "Julia 1.6.3",
   "language": "julia",
   "name": "julia-1.6"
  }
 },
 "nbformat": 4,
 "nbformat_minor": 2
}