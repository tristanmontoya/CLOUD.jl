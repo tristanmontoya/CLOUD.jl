{
 "cells": [
  {
   "cell_type": "markdown",
   "metadata": {},
   "source": [
    "# `CLOUD.jl` - 2D linear advection"
   ]
  },
  {
   "cell_type": "code",
   "execution_count": 3,
   "metadata": {},
   "outputs": [
    {
     "name": "stderr",
     "output_type": "stream",
     "text": [
      "┌ Warning: PyPlot is using tkagg backend, which is known to cause crashes on MacOS (#410); use the MPLBACKEND environment variable to request a different backend.\n",
      "└ @ PyPlot /Users/tristanmontoya/.julia/packages/PyPlot/XaELc/src/init.jl:198\n"
     ]
    }
   ],
   "source": [
    "using CLOUD\n",
    "using OrdinaryDiffEq\n",
    "using LinearAlgebra\n",
    "plots_path = \"../plots/advection_dgmulti_2D/\"\n",
    "results_path = \"../results/advection_dgmulti_2D/\";"
   ]
  },
  {
   "cell_type": "markdown",
   "metadata": {},
   "source": [
    "Define the physical problem"
   ]
  },
  {
   "cell_type": "code",
   "execution_count": 4,
   "metadata": {},
   "outputs": [],
   "source": [
    "θ = π/4\n",
    "a = sqrt(2)\n",
    "A = 1.0  # amplitude\n",
    "L = 1.0  # domain length\n",
    "k = (2*π/L, 2*π/L)  # wave number\n",
    "T = 1.0/(a*max(abs(cos(θ)),abs(cos(θ))))  # end time\n",
    "initial_data = InitialDataSine(A,k)\n",
    "conservation_law = linear_advection_equation((a*cos(θ),a*sin(θ)),λ=1.0);"
   ]
  },
  {
   "cell_type": "markdown",
   "metadata": {},
   "source": [
    "Set up a quadrature-based DG scheme of degree `p` with `M` elements"
   ]
  },
  {
   "cell_type": "code",
   "execution_count": 5,
   "metadata": {
    "scrolled": true
   },
   "outputs": [],
   "source": [
    "M = 4  # number of elements\n",
    "p = 3  # degree of discretization\n",
    "reference_approximation=ReferenceApproximation(\n",
    "    DGMulti(p), Tri(), N_plot=ceil(Int,50/M));\n",
    "spatial_discretization = SpatialDiscretization(uniform_periodic_mesh(\n",
    "    reference_approximation.reference_element, \n",
    "    (0.0,L), M), reference_approximation);\n",
    "results_path = save_project(conservation_law,\n",
    "     spatial_discretization, initial_data, StrongConservationForm(), \n",
    "     (0.0, T), Lazy(), results_path, overwrite=true, clear=true)\n",
    "visualize(spatial_discretization, string(plots_path, \"mesh.pdf\"));"
   ]
  },
  {
   "cell_type": "markdown",
   "metadata": {},
   "source": [
    "Run the `OrdinaryDiffEq` solver with RK4, taking `n_s` snapshots"
   ]
  },
  {
   "cell_type": "code",
   "execution_count": 6,
   "metadata": {},
   "outputs": [
    {
     "ename": "LoadError",
     "evalue": "UndefVarError: norm not defined",
     "output_type": "error",
     "traceback": [
      "UndefVarError: norm not defined",
      "",
      "Stacktrace:",
      " [1] top-level scope",
      "   @ In[6]:3",
      " [2] eval",
      "   @ ./boot.jl:360 [inlined]",
      " [3] include_string(mapexpr::typeof(REPL.softscope), mod::Module, code::String, filename::String)",
      "   @ Base ./loading.jl:1116"
     ]
    }
   ],
   "source": [
    "n_s = 10\n",
    "dt_scale=0.1\n",
    "dt = dt_scale*(L/M)/(norm(a)*(2*p+1))\n",
    "ode_problem = semidiscretize(load_project(results_path)...)\n",
    "save_solution(ode_problem.u0, 0.0, results_path, 0)\n",
    "sol = solve(ode_problem, RK4(), adaptive=false,\n",
    "    dt=dt, save_everystep=false,\n",
    "    callback=save_callback(results_path, ceil(Int, T/(dt*n_s))))\n",
    "save_solution(last(sol.u), last(sol.t), results_path, \"final\");"
   ]
  },
  {
   "cell_type": "markdown",
   "metadata": {},
   "source": [
    "Visualize the solution"
   ]
  },
  {
   "cell_type": "code",
   "execution_count": null,
   "metadata": {},
   "outputs": [],
   "source": [
    "plotter = Plotter(spatial_discretization, plots_path)\n",
    "visualize(initial_data, plotter, \"exact.pdf\", u_range=[-1.0,1.0], contours=25,\n",
    "    label=\"U(\\\\mathbf{x},t)\")"
   ]
  },
  {
   "cell_type": "code",
   "execution_count": null,
   "metadata": {
    "scrolled": true
   },
   "outputs": [],
   "source": [
    "visualize(last(sol.u),plotter, \"approx.pdf\", contours=25, \n",
    "    label=\"U^h(\\\\mathbf{x},t)\")"
   ]
  },
  {
   "cell_type": "markdown",
   "metadata": {},
   "source": [
    "Calculate the integral L<sup>2</sup> error norm"
   ]
  },
  {
   "cell_type": "code",
   "execution_count": null,
   "metadata": {},
   "outputs": [],
   "source": [
    "error_analysis = ErrorAnalysis(conservation_law, spatial_discretization, results_path)\n",
    "print(\"L2 error: \", analyze(error_analysis, last(sol.u), initial_data)[1])"
   ]
  }
 ],
 "metadata": {
  "kernelspec": {
   "display_name": "Julia 1.6.3",
   "language": "julia",
   "name": "julia-1.6"
  },
  "language_info": {
   "file_extension": ".jl",
   "mimetype": "application/julia",
   "name": "julia",
   "version": "1.6.3"
  }
 },
 "nbformat": 4,
 "nbformat_minor": 2
}
