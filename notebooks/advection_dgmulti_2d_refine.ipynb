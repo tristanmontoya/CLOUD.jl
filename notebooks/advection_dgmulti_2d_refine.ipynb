{
 "cells": [
  {
   "cell_type": "code",
   "execution_count": 9,
   "id": "a8e43392",
   "metadata": {},
   "outputs": [],
   "source": [
    "using CLOUD\n",
    "using LinearAlgebra\n",
    "sequence_path = \"../results/advection_dgmulti_2D_refine_p3_upwind/\"\n",
    "\n",
    "θ = π/4\n",
    "a = sqrt(2)\n",
    "A = 1.0  # amplitude\n",
    "L = 1.0  # domain length\n",
    "k = (2*π/L, 2*π/L)  # wave number\n",
    "T = 1.0/(a*max(abs(cos(θ)),abs(cos(θ))))  # end time\n",
    "initial_data = InitialDataSine(A,k)\n",
    "conservation_law = linear_advection_equation((a*cos(θ),a*sin(θ)),λ=1.0);"
   ]
  },
  {
   "cell_type": "code",
   "execution_count": 10,
   "id": "7fba95d6",
   "metadata": {},
   "outputs": [],
   "source": [
    "p = 3\n",
    "p_map = 1\n",
    "form = WeakConservationForm(\n",
    "    StandardMapping(),StandardCoupling())\n",
    "\n",
    "reference_approximation =ReferenceApproximation(\n",
    "    DGSEM(p), Quad(),\n",
    "    volume_quadrature_rule=LGLQuadrature(),\n",
    "    facet_quadrature_rule=LGLQuadrature(),\n",
    "    mapping_degree=p_map,\n",
    "    N_plot=10)\n",
    "\n",
    "sequence = [2, 4, 8, 16, 32, 64]\n",
    "\n",
    "mesh_gen_func(M) = warp_mesh(uniform_periodic_mesh(\n",
    "    reference_approximation.reference_element, \n",
    "    ((0.0,L),(0.0,L)), (M,M), collapsed=true), \n",
    "    reference_approximation.reference_element, 0.15)\n",
    "\n",
    "dt_func(M) = 0.05*(L/M)/(a*(2*p+1));"
   ]
  },
  {
   "cell_type": "code",
   "execution_count": 11,
   "id": "2866e9a2",
   "metadata": {},
   "outputs": [
    {
     "data": {
      "text/plain": [
       "\"../results/advection_dgmulti_2D_refine_p3_upwind/\""
      ]
     },
     "execution_count": 11,
     "metadata": {},
     "output_type": "execute_result"
    }
   ],
   "source": [
    "run_refinement(conservation_law, reference_approximation, \n",
    "    initial_data, form, Lazy(), (0.0,T), sequence, \n",
    "    mesh_gen_func, dt_func, sequence_path, n_s=10)"
   ]
  }
 ],
 "metadata": {
  "kernelspec": {
   "display_name": "Julia 1.6.3",
   "language": "julia",
   "name": "julia-1.6"
  },
  "language_info": {
   "file_extension": ".jl",
   "mimetype": "application/julia",
   "name": "julia",
   "version": "1.6.3"
  }
 },
 "nbformat": 4,
 "nbformat_minor": 5
}
