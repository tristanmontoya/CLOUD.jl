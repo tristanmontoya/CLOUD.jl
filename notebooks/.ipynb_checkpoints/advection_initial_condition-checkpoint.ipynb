{
 "cells": [
  {
   "cell_type": "code",
   "execution_count": 1,
   "metadata": {},
   "outputs": [
    {
     "name": "stderr",
     "output_type": "stream",
     "text": [
      "┌ Info: Precompiling CLOUD [fb992021-99c7-4c2d-a14b-5e48ac4045b2]\n",
      "└ @ Base loading.jl:1342\n"
     ]
    },
    {
     "data": {
      "text/plain": [
       "MeshData of dimension 1 with 10 elements"
      ]
     },
     "execution_count": 1,
     "metadata": {},
     "output_type": "execute_result"
    }
   ],
   "source": [
    "using CLOUD.ConservationLaws\n",
    "using CLOUD.SpatialDiscretizations\n",
    "using CLOUD.Solvers\n",
    "using CLOUD.InitialConditions\n",
    "using CLOUD.Mesh\n",
    "using CLOUD.IO\n",
    "using OrdinaryDiffEq\n",
    "\n",
    "\"Set up paths\"\n",
    "plots_path = \"../plots/advection1d_demo/\"\n",
    "results_path = \"../results/advection1d_demo/\"\n",
    "\n",
    "\"Define the physical problem\"\n",
    "a = 1.0  # advection velocity\n",
    "A = 1.0  # amplitude\n",
    "L = 1.0  # domain length\n",
    "k = 2*π/L  # wave number\n",
    "T = L/a  # end time\n",
    "\n",
    "# constant-coefficient linear adection equation with sine wave initial condition\n",
    "initial_data = InitialDataSine(A,k)\n",
    "conservation_law = linear_advection_equation(a, λ=1.0)\n",
    "u_exact = initial_condition(initial_data, conservation_law)\n",
    "\n",
    "\"Set discretization parameters\"\n",
    "M = 10  # number of elements\n",
    "p = 1  # degree of discretization\n",
    "N_q = 4  # number of quadrature points\n",
    "\n",
    "# DGSEM-LGL\n",
    "elem_type=Line()\n",
    "approximation_type=DGSEM(p)\n",
    "quadrature_rule = LGLQuadrature()\n",
    "\n",
    "\"Generate a uniform periodic mesh\"\n",
    "ref_el = reference_element(elem_type, quadrature_rule, N_q)\n",
    "mesh = uniform_periodic_mesh(ref_el, (0.0,L), M)"
   ]
  },
  {
   "cell_type": "code",
   "execution_count": 2,
   "metadata": {
    "scrolled": true
   },
   "outputs": [
    {
     "name": "stdout",
     "output_type": "stream",
     "text": [
      "J[1] = [0.05000000000000002, 0.050000000000000024, 0.05000000000000003, 0.050000000000000024]\n"
     ]
    },
    {
     "ename": "LoadError",
     "evalue": "MethodError: no method matching /(::LinearMaps.WrappedMap{Float64, LinearAlgebra.Adjoint{Float64, Matrix{Float64}}}, ::LinearMaps.CompositeMap{Float64, Tuple{LinearMaps.UniformScalingMap{Bool}, LinearMaps.WrappedMap{Float64, LinearAlgebra.Adjoint{Float64, Matrix{Float64}}}, LinearMaps.UniformScalingMap{Bool}}})\n\u001b[0mClosest candidates are:\n\u001b[0m  /(::Any, \u001b[91m::ChainRulesCore.AbstractThunk\u001b[39m) at /Users/tristanmontoya/.julia/packages/ChainRulesCore/bxKCw/src/tangent_types/thunks.jl:33\n\u001b[0m  /(\u001b[91m::ChainRulesCore.AbstractZero\u001b[39m, ::Any) at /Users/tristanmontoya/.julia/packages/ChainRulesCore/bxKCw/src/tangent_types/abstract_zero.jl:25\n\u001b[0m  /(\u001b[91m::ChainRulesCore.AbstractThunk\u001b[39m, ::Any) at /Users/tristanmontoya/.julia/packages/ChainRulesCore/bxKCw/src/tangent_types/thunks.jl:32\n\u001b[0m  ...",
     "output_type": "error",
     "traceback": [
      "MethodError: no method matching /(::LinearMaps.WrappedMap{Float64, LinearAlgebra.Adjoint{Float64, Matrix{Float64}}}, ::LinearMaps.CompositeMap{Float64, Tuple{LinearMaps.UniformScalingMap{Bool}, LinearMaps.WrappedMap{Float64, LinearAlgebra.Adjoint{Float64, Matrix{Float64}}}, LinearMaps.UniformScalingMap{Bool}}})\n\u001b[0mClosest candidates are:\n\u001b[0m  /(::Any, \u001b[91m::ChainRulesCore.AbstractThunk\u001b[39m) at /Users/tristanmontoya/.julia/packages/ChainRulesCore/bxKCw/src/tangent_types/thunks.jl:33\n\u001b[0m  /(\u001b[91m::ChainRulesCore.AbstractZero\u001b[39m, ::Any) at /Users/tristanmontoya/.julia/packages/ChainRulesCore/bxKCw/src/tangent_types/abstract_zero.jl:25\n\u001b[0m  /(\u001b[91m::ChainRulesCore.AbstractThunk\u001b[39m, ::Any) at /Users/tristanmontoya/.julia/packages/ChainRulesCore/bxKCw/src/tangent_types/thunks.jl:32\n\u001b[0m  ...",
      "",
      "Stacktrace:",
      " [1] \\(x::LinearMaps.CompositeMap{Float64, Tuple{LinearMaps.UniformScalingMap{Bool}, LinearMaps.WrappedMap{Float64, Matrix{Float64}}, LinearMaps.UniformScalingMap{Bool}}}, y::LinearMaps.WrappedMap{Float64, Matrix{Float64}})",
      "   @ Base ./operators.jl:598",
      " [2] element_residual(conservation_law::ConservationLaw{1, 1}, spatial_discretization::SpatialDiscretization{1}, form::StrongConservationForm, operator_storage::CLOUD.Solvers.PhysicalOperatorStorage)",
      "   @ CLOUD.Solvers ~/Research/CLOUD.jl/src/Solvers/strong_conservation_form.jl:24",
      " [3] #solver#1",
      "   @ ~/Research/CLOUD.jl/src/Solvers/Solvers.jl:48 [inlined]",
      " [4] top-level scope",
      "   @ In[2]:11",
      " [5] eval",
      "   @ ./boot.jl:360 [inlined]",
      " [6] include_string(mapexpr::typeof(REPL.softscope), mod::Module, code::String, filename::String)",
      "   @ Base ./loading.jl:1116"
     ]
    }
   ],
   "source": [
    "\"Construct spatial discretization\"\n",
    "spatial_discretization = SpatialDiscretization(\n",
    "    mesh,\n",
    "    ref_el,\n",
    "    approximation_type)\n",
    "\n",
    "\"Plot the exact solution\"\n",
    "plotter = Plotter(spatial_discretization, plots_path)\n",
    "visualize(u_exact, plotter, \"u_exact.pdf\")\n",
    "\n",
    "ode_problem = solver(conservation_law, \n",
    "    spatial_discretization,\n",
    "    initial_data, (0.0, T),\n",
    "    form=StrongConservationForm());\n",
    "    \n",
    "visualize(ode_problem.u0, plotter,\n",
    "    \"initial.pdf\", exact_solution=u_exact,\n",
    "     label=\"U^h(x,0)\", label_exact=\"U(x,0)\")"
   ]
  },
  {
   "cell_type": "code",
   "execution_count": 3,
   "metadata": {},
   "outputs": [
    {
     "data": {
      "text/plain": [
       "4-element Vector{Float64}:\n",
       " 0.050000000000000024\n",
       " 0.050000000000000024\n",
       " 0.05000000000000003\n",
       " 0.050000000000000024"
      ]
     },
     "execution_count": 3,
     "metadata": {},
     "output_type": "execute_result"
    }
   ],
   "source": [
    "ref_el.Vq * ref_el.Drst[1] * mesh.xyz[1][:,1]"
   ]
  },
  {
   "cell_type": "code",
   "execution_count": null,
   "metadata": {},
   "outputs": [],
   "source": []
  }
 ],
 "metadata": {
  "kernelspec": {
   "display_name": "Julia 1.6.3",
   "language": "julia",
   "name": "julia-1.6"
  },
  "language_info": {
   "file_extension": ".jl",
   "mimetype": "application/julia",
   "name": "julia",
   "version": "1.6.3"
  }
 },
 "nbformat": 4,
 "nbformat_minor": 2
}
