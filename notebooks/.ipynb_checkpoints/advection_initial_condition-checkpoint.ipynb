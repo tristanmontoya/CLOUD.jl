{
 "cells": [
  {
   "cell_type": "code",
   "execution_count": 1,
   "metadata": {
    "scrolled": true
   },
   "outputs": [
    {
     "name": "stderr",
     "output_type": "stream",
     "text": [
      "┌ Info: Precompiling CLOUD [fb992021-99c7-4c2d-a14b-5e48ac4045b2]\n",
      "└ @ Base loading.jl:1342\n"
     ]
    },
    {
     "ename": "LoadError",
     "evalue": "MethodError: no method matching vec(::Tuple{Matrix{Float64}})\n\u001b[0mClosest candidates are:\n\u001b[0m  vec(\u001b[91m::FillArrays.Zeros{T, N, Axes} where {N, Axes}\u001b[39m) where T at /Users/tristanmontoya/.julia/packages/FillArrays/Vzxer/src/fillalgebra.jl:4\n\u001b[0m  vec(\u001b[91m::LinearAlgebra.Transpose{T, var\"#s814\"} where {T, var\"#s814\"<:(AbstractVector{T} where T)}\u001b[39m) at /Users/julia/buildbot/worker/package_macos64/build/usr/share/julia/stdlib/v1.6/LinearAlgebra/src/adjtrans.jl:239\n\u001b[0m  vec(\u001b[91m::Distributions.MatrixReshaped\u001b[39m) at /Users/tristanmontoya/.julia/packages/Distributions/1313k/src/matrix/matrixreshaped.jl:75\n\u001b[0m  ...",
     "output_type": "error",
     "traceback": [
      "MethodError: no method matching vec(::Tuple{Matrix{Float64}})\n\u001b[0mClosest candidates are:\n\u001b[0m  vec(\u001b[91m::FillArrays.Zeros{T, N, Axes} where {N, Axes}\u001b[39m) where T at /Users/tristanmontoya/.julia/packages/FillArrays/Vzxer/src/fillalgebra.jl:4\n\u001b[0m  vec(\u001b[91m::LinearAlgebra.Transpose{T, var\"#s814\"} where {T, var\"#s814\"<:(AbstractVector{T} where T)}\u001b[39m) at /Users/julia/buildbot/worker/package_macos64/build/usr/share/julia/stdlib/v1.6/LinearAlgebra/src/adjtrans.jl:239\n\u001b[0m  vec(\u001b[91m::Distributions.MatrixReshaped\u001b[39m) at /Users/tristanmontoya/.julia/packages/Distributions/1313k/src/matrix/matrixreshaped.jl:75\n\u001b[0m  ...",
      "",
      "Stacktrace:",
      " [1] visualize(f::CLOUD.InitialConditions.var\"#1#4\"{1, 1, InitialDataSine{1}}, plotter::Plotter{1}, file_name::String; label::String, e::Int64)",
      "   @ CLOUD.IO ~/Research/CLOUD.jl/src/IO/IO.jl:32",
      " [2] visualize(f::Function, plotter::Plotter{1}, file_name::String)",
      "   @ CLOUD.IO ~/Research/CLOUD.jl/src/IO/IO.jl:32",
      " [3] top-level scope",
      "   @ In[1]:49",
      " [4] eval",
      "   @ ./boot.jl:360 [inlined]",
      " [5] include_string(mapexpr::typeof(REPL.softscope), mod::Module, code::String, filename::String)",
      "   @ Base ./loading.jl:1116"
     ]
    }
   ],
   "source": [
    "using CLOUD.ConservationLaws\n",
    "using CLOUD.SpatialDiscretizations\n",
    "using CLOUD.Solvers\n",
    "using CLOUD.InitialConditions\n",
    "using CLOUD.Mesh\n",
    "using CLOUD.IO\n",
    "using OrdinaryDiffEq\n",
    "\n",
    "\"Set up paths\"\n",
    "plots_path = \"../plots/advection1d_demo/\"\n",
    "results_path = \"../results/advection1d_demo/\"\n",
    "\n",
    "\"Define the physical problem\"\n",
    "a = 1.0  # advection velocity\n",
    "A = 1.0  # amplitude\n",
    "L = 1.0  # domain length\n",
    "k = 2*π/L  # wave number\n",
    "T = L/a  # end time\n",
    "\n",
    "# constant-coefficient linear adection equation with sine wave initial condition\n",
    "initial_data = InitialDataSine(A,k)\n",
    "conservation_law = linear_advection_equation(a)\n",
    "u_exact = initial_condition(initial_data, conservation_law)\n",
    "\n",
    "\"Set discretization parameters\"\n",
    "M = 5  # number of elements\n",
    "p = 1  # degree of discretization\n",
    "N_q = 4  # number of quadrature points\n",
    "\n",
    "# strong-form DGSEM-LGL\n",
    "elem_type=Line()\n",
    "approximation_type=DGSEM(p)\n",
    "quadrature_rule = LGLQuadrature()\n",
    "form=StrongConservationForm()\n",
    "\n",
    "\"Generate a uniform periodic mesh - maybe encapsulate this\"\n",
    "ref_el = reference_element(elem_type, quadrature_rule, N_q)\n",
    "mesh = uniform_periodic_mesh(ref_el, (0.0,L), M)\n",
    "\n",
    "\"Construct spatial discretization\"\n",
    "spatial_discretization = SpatialDiscretization(\n",
    "    mesh,\n",
    "    ref_el,\n",
    "    approximation_type,\n",
    "    form)\n",
    "\n",
    "\"Plot the exact solution\"\n",
    "plotter = Plotter(spatial_discretization, plots_path)\n",
    "visualize(u_exact, plotter, \"u_exact.pdf\")\n",
    "\n",
    "ode_problem = solver(conservation_law, \n",
    "    spatial_discretization, \n",
    "    initial_data, (0.0, T));\n",
    "    \n",
    "visualize(ode_problem.u0, plotter,\n",
    "    \"initial.pdf\", exact_solution=u_exact,\n",
    "     label=\"U^h(x,0)\", label_exact=\"U(x,0)\")"
   ]
  },
  {
   "cell_type": "code",
   "execution_count": null,
   "metadata": {},
   "outputs": [],
   "source": []
  }
 ],
 "metadata": {
  "kernelspec": {
   "display_name": "Julia 1.6.3",
   "language": "julia",
   "name": "julia-1.6"
  },
  "language_info": {
   "file_extension": ".jl",
   "mimetype": "application/julia",
   "name": "julia",
   "version": "1.6.3"
  }
 },
 "nbformat": 4,
 "nbformat_minor": 2
}
