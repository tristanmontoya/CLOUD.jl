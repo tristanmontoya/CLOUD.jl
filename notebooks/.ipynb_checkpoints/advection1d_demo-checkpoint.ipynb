{
 "cells": [
  {
   "cell_type": "code",
   "execution_count": 30,
   "metadata": {},
   "outputs": [
    {
     "data": {
      "text/plain": [
       "MeshData of dimension 1 with 5 elements"
      ]
     },
     "execution_count": 30,
     "metadata": {},
     "output_type": "execute_result"
    }
   ],
   "source": [
    "using StartUpDG\n",
    "using CLOUD\n",
    "using OrdinaryDiffEq\n",
    "\n",
    "\n",
    "M = 5  # number of elements\n",
    "a = 1.0  # advection velocity\n",
    "p_map = 1  # degree of mapping\n",
    "n_quad_nodes = 4 # number of quadrature points\n",
    "\n",
    "# define a constant-coefficient linear advection equation\n",
    "conservation_law = ConservationLaws.ConstantLinearAdvectionEquation1D(a)\n",
    "\n",
    "# define reference element for mesh\n",
    "reference_element = RefElemData(Line(), p_map, \n",
    "    quad_rule_vol=gauss_lobatto_quad(0, 0, n_quad_nodes-1))\n",
    "\n",
    "# make a uniform periodic mesh on the domain Ω = (-1,1)\n",
    "T_h = make_periodic(MeshData(uniform_mesh(Line(), M)..., reference_element))\n",
    "\n",
    "# construct spatial discretization\n",
    "local_discretization = CollocatedDiscontinuous(cl, \n",
    "    reference_element, \n",
    "    p, Polynomial(), \n",
    "    StrongForm())\n",
    "\n",
    "# make semi-discrete formulation\n",
    "#ode = SpatialDiscretization.semi_discrete(T_h, \n",
    "    local_discretization, \n",
    "    t_initial, \n",
    "    t_final)"
   ]
  },
  {
   "cell_type": "code",
   "execution_count": 29,
   "metadata": {},
   "outputs": [
    {
     "data": {
      "text/plain": [
       "4-element Vector{Float64}:\n",
       " -1.0\n",
       " -0.4472135954999579\n",
       "  0.4472135954999579\n",
       "  1.0"
      ]
     },
     "execution_count": 29,
     "metadata": {},
     "output_type": "execute_result"
    }
   ],
   "source": [
    "Ω_ref.rq"
   ]
  },
  {
   "cell_type": "code",
   "execution_count": null,
   "metadata": {},
   "outputs": [],
   "source": []
  }
 ],
 "metadata": {
  "kernelspec": {
   "display_name": "Julia 1.6.3",
   "language": "julia",
   "name": "julia-1.6"
  },
  "language_info": {
   "file_extension": ".jl",
   "mimetype": "application/julia",
   "name": "julia",
   "version": "1.6.3"
  }
 },
 "nbformat": 4,
 "nbformat_minor": 2
}
