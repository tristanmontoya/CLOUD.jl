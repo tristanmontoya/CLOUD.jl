{
 "cells": [
  {
   "cell_type": "code",
   "execution_count": 4,
   "metadata": {},
   "outputs": [
    {
     "ename": "LoadError",
     "evalue": "MethodError: no method matching InitialDataSine(::Float64, ::Tuple{Float64})\n\u001b[0mClosest candidates are:\n\u001b[0m  InitialDataSine(::Float64, \u001b[91m::Float64\u001b[39m) at /Users/tristanmontoya/Research/CLOUD.jl/src/InitialConditions/InitialConditions.jl:15\n\u001b[0m  InitialDataSine(::Float64, \u001b[91m::Tuple{d, Vector{Float64}}\u001b[39m) where d at /Users/tristanmontoya/Research/CLOUD.jl/src/InitialConditions/InitialConditions.jl:11",
     "output_type": "error",
     "traceback": [
      "MethodError: no method matching InitialDataSine(::Float64, ::Tuple{Float64})\n\u001b[0mClosest candidates are:\n\u001b[0m  InitialDataSine(::Float64, \u001b[91m::Float64\u001b[39m) at /Users/tristanmontoya/Research/CLOUD.jl/src/InitialConditions/InitialConditions.jl:15\n\u001b[0m  InitialDataSine(::Float64, \u001b[91m::Tuple{d, Vector{Float64}}\u001b[39m) where d at /Users/tristanmontoya/Research/CLOUD.jl/src/InitialConditions/InitialConditions.jl:11",
      "",
      "Stacktrace:",
      " [1] top-level scope",
      "   @ In[4]:18",
      " [2] eval",
      "   @ ./boot.jl:360 [inlined]",
      " [3] include_string(mapexpr::typeof(REPL.softscope), mod::Module, code::String, filename::String)",
      "   @ Base ./loading.jl:1116"
     ]
    }
   ],
   "source": [
    "using CLOUD.ConservationLaws\n",
    "using CLOUD.SpatialDiscretizations\n",
    "using CLOUD.Solvers\n",
    "using CLOUD.InitialConditions\n",
    "using CLOUD.Mesh\n",
    "\n",
    "using OrdinaryDiffEq\n",
    "\n",
    "\"Define the physical problem\"\n",
    "a = 1.0  # advection velocity\n",
    "A = 1.0  # amplitude\n",
    "k = 1.0  # wave number\n",
    "L = 1.0  # domain length\n",
    "t_0 = 0.0  # start time \n",
    "t_f = 1.0  # end time\n",
    "\n",
    "# constant-coefficient linear adection equation with sine wave initial condition\n",
    "initial_data = InitialDataSine(A,k)\n",
    "conservation_law = linear_advection_equation(a)\n",
    "\n",
    "\"Set discretization parameters\"\n",
    "M = 5  # number of elements\n",
    "p = 2  # degree of discretization\n",
    "N_q = 4  # number of quadrature points\n",
    "\n",
    "# strong-form DGSEM-LGL\n",
    "elem_type=Line()\n",
    "approximation_type=DGSEM(p)\n",
    "quadrature_rule = LGLQuadrature()\n",
    "form=StrongConservationForm()"
   ]
  },
  {
   "cell_type": "code",
   "execution_count": 2,
   "metadata": {},
   "outputs": [
    {
     "ename": "LoadError",
     "evalue": "UndefVarError: elem_type not defined",
     "output_type": "error",
     "traceback": [
      "UndefVarError: elem_type not defined",
      "",
      "Stacktrace:",
      " [1] top-level scope",
      "   @ In[2]:1",
      " [2] eval",
      "   @ ./boot.jl:360 [inlined]",
      " [3] include_string(mapexpr::typeof(REPL.softscope), mod::Module, code::String, filename::String)",
      "   @ Base ./loading.jl:1116"
     ]
    }
   ],
   "source": [
    "\"Generate a uniform periodic mesh - maybe encapsulate this\"\n",
    "ref_el = reference_element(elem_type, quadrature_rule, N_q)\n",
    "mesh = uniform_periodic_mesh(ref_el, (0.0,L), M)\n",
    "\n",
    "\"Construct spatial discretization\"\n",
    "spatial_discretization = SpatialDiscretization(\n",
    "    mesh,\n",
    "    ref_el,\n",
    "    approximation_type,\n",
    "    form)\n",
    "\n",
    "\"Create ODEProblem for use with SciML\"\n",
    "ode = solver(conservation_law, spatial_discretization, initial_data, (t_0, t_f))"
   ]
  },
  {
   "cell_type": "code",
   "execution_count": 3,
   "metadata": {},
   "outputs": [
    {
     "ename": "LoadError",
     "evalue": "UndefVarError: spatial_discretization not defined",
     "output_type": "error",
     "traceback": [
      "UndefVarError: spatial_discretization not defined",
      "",
      "Stacktrace:",
      " [1] top-level scope",
      "   @ In[3]:1",
      " [2] eval",
      "   @ ./boot.jl:360 [inlined]",
      " [3] include_string(mapexpr::typeof(REPL.softscope), mod::Module, code::String, filename::String)",
      "   @ Base ./loading.jl:1116"
     ]
    }
   ],
   "source": [
    "spatial_discretization.mesh.xyzq[1]"
   ]
  },
  {
   "cell_type": "code",
   "execution_count": null,
   "metadata": {},
   "outputs": [],
   "source": []
  }
 ],
 "metadata": {
  "kernelspec": {
   "display_name": "Julia 1.6.3",
   "language": "julia",
   "name": "julia-1.6"
  },
  "language_info": {
   "file_extension": ".jl",
   "mimetype": "application/julia",
   "name": "julia",
   "version": "1.6.3"
  }
 },
 "nbformat": 4,
 "nbformat_minor": 2
}
