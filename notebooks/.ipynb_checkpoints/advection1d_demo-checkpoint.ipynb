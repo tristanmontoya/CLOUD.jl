{
 "cells": [
  {
   "cell_type": "code",
   "execution_count": 1,
   "metadata": {},
   "outputs": [
    {
     "name": "stderr",
     "output_type": "stream",
     "text": [
      "┌ Info: Precompiling CLOUD [fb992021-99c7-4c2d-a14b-5e48ac4045b2]\n",
      "└ @ Base loading.jl:1342\n"
     ]
    },
    {
     "data": {
      "text/plain": [
       "StrongConservationForm()"
      ]
     },
     "execution_count": 1,
     "metadata": {},
     "output_type": "execute_result"
    }
   ],
   "source": [
    "using CLOUD.ConservationLaws\n",
    "using CLOUD.SpatialDiscretizations\n",
    "using CLOUD.Solvers\n",
    "using CLOUD.InitialConditions\n",
    "using CLOUD.Mesh\n",
    "\n",
    "using OrdinaryDiffEq\n",
    "\n",
    "\"Define the physical problem\"\n",
    "a = 1.0  # advection velocity\n",
    "k = 1.0  # wave number\n",
    "L = 1.0  # domain length\n",
    "t_0 = 0.0  # start time \n",
    "t_f = 1.0  # end time\n",
    "\n",
    "# constant-coefficient linear adection equation with sine wave initial condition\n",
    "initial_condition = InitialConditionSine(k) \n",
    "conservation_law = linear_advection_equation(a)\n",
    "\n",
    "\"Set discretization parameters\"\n",
    "M = 5  # number of elements\n",
    "p = 2  # degree of discretization\n",
    "N_q = 4  # number of quadrature points\n",
    "\n",
    "# strong-form DGSEM-LGL\n",
    "elem_type=Line()\n",
    "approximation_type=DGSEM(p)\n",
    "quadrature_rule = LGLQuadrature()\n",
    "form=StrongConservationForm()"
   ]
  },
  {
   "cell_type": "code",
   "execution_count": 2,
   "metadata": {},
   "outputs": [
    {
     "data": {
      "text/plain": [
       "ode"
      ]
     },
     "execution_count": 2,
     "metadata": {},
     "output_type": "execute_result"
    }
   ],
   "source": [
    "\"Generate a uniform periodic mesh - maybe encapsulate this\"\n",
    "ref_el = reference_element(elem_type, quadrature_rule, N_q)\n",
    "mesh = uniform_periodic_mesh(ref_el, (0.0,L), M)\n",
    "\n",
    "\"Construct spatial discretization\"\n",
    "spatial_discretization = SpatialDiscretization(\n",
    "    mesh,\n",
    "    ref_el,\n",
    "    approximation_type,\n",
    "    form)\n",
    "\n",
    "\"Create ODEProblem for use with SciML\"\n",
    "ode = solver(conservation_law, spatial_discretization, initial_condition, (t_0, t_f))"
   ]
  },
  {
   "cell_type": "code",
   "execution_count": 3,
   "metadata": {},
   "outputs": [
    {
     "data": {
      "text/plain": [
       "\u001b[36mODEProblem\u001b[0m with uType \u001b[36mNothing\u001b[0m and tType \u001b[36mFloat64\u001b[0m. In-place: \u001b[36mfalse\u001b[0m\n",
       "timespan: (0.0, 1.0)\n",
       "u0: nothing"
      ]
     },
     "execution_count": 3,
     "metadata": {},
     "output_type": "execute_result"
    }
   ],
   "source": [
    "ode"
   ]
  },
  {
   "cell_type": "code",
   "execution_count": null,
   "metadata": {},
   "outputs": [],
   "source": []
  }
 ],
 "metadata": {
  "kernelspec": {
   "display_name": "Julia 1.6.3",
   "language": "julia",
   "name": "julia-1.6"
  },
  "language_info": {
   "file_extension": ".jl",
   "mimetype": "application/julia",
   "name": "julia",
   "version": "1.6.3"
  }
 },
 "nbformat": 4,
 "nbformat_minor": 2
}
