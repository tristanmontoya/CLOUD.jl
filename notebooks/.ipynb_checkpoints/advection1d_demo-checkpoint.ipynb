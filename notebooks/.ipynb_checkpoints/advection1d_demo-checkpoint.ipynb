{
 "cells": [
  {
   "cell_type": "code",
   "execution_count": 1,
   "metadata": {},
   "outputs": [
    {
     "name": "stderr",
     "output_type": "stream",
     "text": [
      "┌ Info: Precompiling CLOUD [fb992021-99c7-4c2d-a14b-5e48ac4045b2]\n",
      "└ @ Base loading.jl:1342\n"
     ]
    },
    {
     "ename": "LoadError",
     "evalue": "UndefVarError: PolynomialCollocation not defined",
     "output_type": "error",
     "traceback": [
      "UndefVarError: PolynomialCollocation not defined",
      "",
      "Stacktrace:",
      " [1] top-level scope",
      "   @ In[1]:11",
      " [2] eval",
      "   @ ./boot.jl:360 [inlined]",
      " [3] include_string(mapexpr::typeof(REPL.softscope), mod::Module, code::String, filename::String)",
      "   @ Base ./loading.jl:1116"
     ]
    }
   ],
   "source": [
    "using StartUpDG\n",
    "using CLOUD.ConservationLaws\n",
    "using CLOUD.SpatialDiscretizations\n",
    "using OrdinaryDiffEq\n",
    "\n",
    "M = 5  # number of elements\n",
    "a = 1.0  # advection velocity\n",
    "p = 2 # degree of discretization\n",
    "N_q = 4 # number of quadrature points\n",
    "\n",
    "approximation_type=DGSEM(p)\n",
    "volume_quadrature=gauss_lobatto_quad(0, 0, N_q-1)\n",
    "form=StrongConservationForm\n",
    "\n",
    "# define a constant-coefficient linear adection equation\n",
    "conservation_law = linear_advection_equation(a)\n",
    "\n",
    "# make a uniform periodic mesh on the domain Ω = (-1,1)\n",
    "reference_element = RefElemData(Line(), 1, volume_quadrature)\n",
    "mesh = make_periodic(MeshData(uniform_mesh(Line(), M)..., reference_element))\n",
    "\n",
    "# construct spatial discretization\n",
    "spatial_discretization = SpatialDiscretization(\n",
    "    conservation_law,\n",
    "    mesh,\n",
    "    reference_element,\n",
    "    approximation_type,\n",
    "    form)\n",
    "\n",
    "# make semi-discrete residual for use with SciML\n",
    "#ode = semi_discrete_residual(spatial_discretization, \n",
    "#    t_initial, \n",
    "#    t_final)"
   ]
  },
  {
   "cell_type": "code",
   "execution_count": 2,
   "metadata": {},
   "outputs": [
    {
     "ename": "LoadError",
     "evalue": "UndefVarError: spatial_discretization not defined",
     "output_type": "error",
     "traceback": [
      "UndefVarError: spatial_discretization not defined",
      "",
      "Stacktrace:",
      " [1] top-level scope",
      "   @ In[2]:1",
      " [2] eval",
      "   @ ./boot.jl:360 [inlined]",
      " [3] include_string(mapexpr::typeof(REPL.softscope), mod::Module, code::String, filename::String)",
      "   @ Base ./loading.jl:1116"
     ]
    }
   ],
   "source": [
    "spatial_discretization.conservation_law"
   ]
  },
  {
   "cell_type": "code",
   "execution_count": 3,
   "metadata": {},
   "outputs": [
    {
     "ename": "LoadError",
     "evalue": "UndefVarError: spatial_discretization not defined",
     "output_type": "error",
     "traceback": [
      "UndefVarError: spatial_discretization not defined",
      "",
      "Stacktrace:",
      " [1] top-level scope",
      "   @ In[3]:1",
      " [2] eval",
      "   @ ./boot.jl:360 [inlined]",
      " [3] include_string(mapexpr::typeof(REPL.softscope), mod::Module, code::String, filename::String)",
      "   @ Base ./loading.jl:1116"
     ]
    }
   ],
   "source": [
    "spatial_discretization.solution_to_volume_nodes"
   ]
  },
  {
   "cell_type": "code",
   "execution_count": null,
   "metadata": {},
   "outputs": [],
   "source": []
  }
 ],
 "metadata": {
  "kernelspec": {
   "display_name": "Julia 1.6.3",
   "language": "julia",
   "name": "julia-1.6"
  },
  "language_info": {
   "file_extension": ".jl",
   "mimetype": "application/julia",
   "name": "julia",
   "version": "1.6.3"
  }
 },
 "nbformat": 4,
 "nbformat_minor": 2
}
