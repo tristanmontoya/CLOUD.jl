{
 "cells": [
  {
   "cell_type": "code",
   "execution_count": 1,
   "metadata": {},
   "outputs": [
    {
     "name": "stderr",
     "output_type": "stream",
     "text": [
      "┌ Info: Precompiling CLOUD [fb992021-99c7-4c2d-a14b-5e48ac4045b2]\n",
      "└ @ Base loading.jl:1342\n"
     ]
    },
    {
     "data": {
      "text/plain": [
       "StrongConservationForm()"
      ]
     },
     "execution_count": 1,
     "metadata": {},
     "output_type": "execute_result"
    }
   ],
   "source": [
    "using CLOUD.ConservationLaws\n",
    "using CLOUD.SpatialDiscretizations\n",
    "using CLOUD.Solvers\n",
    "using CLOUD.InitialConditions\n",
    "using CLOUD.Mesh\n",
    "\n",
    "using OrdinaryDiffEq\n",
    "\n",
    "\"Define the physical problem\"\n",
    "a = 1.0  # advection velocity\n",
    "A = 1.0  # amplitude\n",
    "k = 1.0  # wave number\n",
    "L = 1.0  # domain length\n",
    "t_0 = 0.0  # start time \n",
    "t_f = 1.0  # end time\n",
    "\n",
    "# constant-coefficient linear adection equation with sine wave initial condition\n",
    "initial_data = InitialDataSine(A,k) \n",
    "conservation_law = linear_advection_equation(a)\n",
    "\n",
    "\"Set discretization parameters\"\n",
    "M = 5  # number of elements\n",
    "p = 2  # degree of discretization\n",
    "N_q = 4  # number of quadrature points\n",
    "\n",
    "# strong-form DGSEM-LGL\n",
    "elem_type=Line()\n",
    "approximation_type=DGSEM(p)\n",
    "quadrature_rule = LGLQuadrature()\n",
    "form=StrongConservationForm()"
   ]
  },
  {
   "cell_type": "code",
   "execution_count": 2,
   "metadata": {},
   "outputs": [
    {
     "ename": "LoadError",
     "evalue": "UndefVarError: l2_projection not defined",
     "output_type": "error",
     "traceback": [
      "UndefVarError: l2_projection not defined",
      "",
      "Stacktrace:",
      " [1] evaluate_initial_condition(initial_condition::InitialConditionSine, conservation_law::ConservationLaw, spatial_discretization::SpatialDiscretization)",
      "   @ CLOUD.InitialConditions ~/Research/CLOUD.jl/src/InitialConditions/InitialConditions.jl:34",
      " [2] solver(conservation_law::ConservationLaw, spatial_discretization::SpatialDiscretization, initial_condition::InitialConditionSine, tspan::Tuple{Float64, Float64})",
      "   @ CLOUD.Solvers ~/Research/CLOUD.jl/src/Solvers/Solvers.jl:23",
      " [3] top-level scope",
      "   @ In[2]:12",
      " [4] eval",
      "   @ ./boot.jl:360 [inlined]",
      " [5] include_string(mapexpr::typeof(REPL.softscope), mod::Module, code::String, filename::String)",
      "   @ Base ./loading.jl:1116"
     ]
    }
   ],
   "source": [
    "\"Generate a uniform periodic mesh - maybe encapsulate this\"\n",
    "ref_el = reference_element(elem_type, quadrature_rule, N_q)\n",
    "mesh = uniform_periodic_mesh(ref_el, (0.0,L), M)\n",
    "\n",
    "\"Construct spatial discretization\"\n",
    "spatial_discretization = SpatialDiscretization(\n",
    "    mesh,\n",
    "    ref_el,\n",
    "    approximation_type,\n",
    "    form)\n",
    "\n",
    "\"Create ODEProblem for use with SciML\"\n",
    "ode = solver(conservation_law, spatial_discretization, initial_data, (t_0, t_f))"
   ]
  },
  {
   "cell_type": "code",
   "execution_count": null,
   "metadata": {},
   "outputs": [],
   "source": [
    "spatial_discretization.mesh.xq"
   ]
  }
 ],
 "metadata": {
  "kernelspec": {
   "display_name": "Julia 1.6.3",
   "language": "julia",
   "name": "julia-1.6"
  },
  "language_info": {
   "file_extension": ".jl",
   "mimetype": "application/julia",
   "name": "julia",
   "version": "1.6.3"
  }
 },
 "nbformat": 4,
 "nbformat_minor": 2
}
